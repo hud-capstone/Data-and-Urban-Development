{
 "cells": [
  {
   "cell_type": "code",
   "execution_count": 1,
   "metadata": {},
   "outputs": [
    {
     "name": "stderr",
     "output_type": "stream",
     "text": [
      "\n",
      "Bad key \"text.kerning_factor\" on line 4 in\n",
      "/usr/local/anaconda3/lib/python3.7/site-packages/matplotlib/mpl-data/stylelib/_classic_test_patch.mplstyle.\n",
      "You probably need to get an updated matplotlibrc file from\n",
      "https://github.com/matplotlib/matplotlib/blob/v3.1.3/matplotlibrc.template\n",
      "or from the matplotlib source distribution\n"
     ]
    }
   ],
   "source": [
    "import numpy as np\n",
    "import pandas as pd\n",
    "import os\n",
    "\n",
    "import seaborn as sns\n",
    "import matplotlib.pyplot as plt\n",
    "\n",
    "import itertools\n",
    "\n",
    "from wrangle import wrangle_hud\n",
    "import preprocessing as pr"
   ]
  },
  {
   "cell_type": "code",
   "execution_count": 2,
   "metadata": {},
   "outputs": [],
   "source": [
    "pd.set_option('display.float_format', lambda x: '%.2f' % x)"
   ]
  },
  {
   "cell_type": "markdown",
   "metadata": {},
   "source": [
    "# Acquire\n",
    "All functions are called in `wrangle.py` file.\n",
    "## Functions\n",
    "- `acquire_fha_data.py` - This function takes fha data from hud website (url, sheet_name) turns it into pandas df.\n",
    "    - url = https://www.hud.gov/sites/dfiles/Housing/documents/Initi_Endores_Firm%20Comm_DB_FY06_FY20_Q2.xlsx\n",
    "    - sheet_name = \"Firm Cmtmts, Iss'd and Reiss'd\"\n",
    "    - The dataset can be physically found at https://www.hud.gov/program_offices/housing/mfh/mfdata/mfproduction"
   ]
  },
  {
   "cell_type": "markdown",
   "metadata": {},
   "source": [
    "# Prepare\n",
    "All functions are called in `wrangle.py` file\n",
    "\n",
    "\n",
    "## Functions\n",
    "\n",
    "- `drop_multiple_fha_numbers` - Drops repeat entries by taking the most recent option\n",
    "- `snake_case_column_names` - makes column names snake case\n",
    "- `change_to_bool` - changes columns with [0, Y] values to bool (Y= True)\n",
    "- `changing_data_types` - changes dtypes for datetime and turn fha_number into an object\n",
    "- `make_activity_construction_bool` - makes boolean columns for is_refinance and is_new_construction\n",
    "- `wrangle_hud` - mother function that also removes lower outlier and does some minor cell changes"
   ]
  },
  {
   "cell_type": "code",
   "execution_count": 3,
   "metadata": {},
   "outputs": [],
   "source": [
    "df = wrangle_hud()"
   ]
  },
  {
   "cell_type": "markdown",
   "metadata": {},
   "source": [
    "## Data Summary"
   ]
  },
  {
   "cell_type": "code",
   "execution_count": 4,
   "metadata": {},
   "outputs": [
    {
     "name": "stdout",
     "output_type": "stream",
     "text": [
      "This data frame is 20409 rows and 31 columns.\n",
      "Currently, each observation is one mortgage, which will change for modelling\n",
      "\n",
      "\n",
      "<class 'pandas.core.frame.DataFrame'>\n",
      "Int64Index: 20409 entries, 0 to 20514\n",
      "Data columns (total 31 columns):\n",
      " #   Column                                                                Non-Null Count  Dtype         \n",
      "---  ------                                                                --------------  -----         \n",
      " 0   fha_number                                                            20409 non-null  object        \n",
      " 1   project_name                                                          20409 non-null  object        \n",
      " 2   project_city                                                          20409 non-null  object        \n",
      " 3   project_state                                                         20409 non-null  object        \n",
      " 4   basic_fha_risk_share_or_other                                         20409 non-null  object        \n",
      " 5   program_category                                                      20409 non-null  object        \n",
      " 6   activity_description                                                  20409 non-null  object        \n",
      " 7   activity_group                                                        20409 non-null  object        \n",
      " 8   facility_type                                                         20409 non-null  object        \n",
      " 9   program_designation                                                   20409 non-null  object        \n",
      " 10  firm_commitment_activity                                              20409 non-null  object        \n",
      " 11  lender_at_firm_commitment_activity                                    20409 non-null  object        \n",
      " 12  mortgage_at_time_of_firm_commitment_issuance_amendment_or_reissuance  20409 non-null  int64         \n",
      " 13  unit_or_bed_count                                                     20409 non-null  int64         \n",
      " 14  date_of_firm_commitment_activity                                      20409 non-null  datetime64[ns]\n",
      " 15  fiscal_year_of_firm_commitment_activity                               20409 non-null  int64         \n",
      " 16  mortgage_at_firm_commitment_issuance                                  20409 non-null  int64         \n",
      " 17  date_of_firm_issue                                                    20409 non-null  datetime64[ns]\n",
      " 18  fiscal_year_of_firm_commitment                                        20409 non-null  int64         \n",
      " 19  map_or_tap                                                            20409 non-null  object        \n",
      " 20  lihtc_designation                                                     20409 non-null  bool          \n",
      " 21  tax_exempt_bond_designation                                           20409 non-null  bool          \n",
      " 22  home_designation                                                      20409 non-null  bool          \n",
      " 23  cdbg_designation                                                      20409 non-null  bool          \n",
      " 24  section_202_refi_designation                                          20409 non-null  bool          \n",
      " 25  irp_decoupling_designation                                            20409 non-null  bool          \n",
      " 26  hope_vi_designation                                                   20409 non-null  bool          \n",
      " 27  current_status                                                        20409 non-null  object        \n",
      " 28  final_mortgage_amount                                                 20409 non-null  int64         \n",
      " 29  is_refinance                                                          20409 non-null  bool          \n",
      " 30  is_new_construction                                                   20409 non-null  bool          \n",
      "dtypes: bool(9), datetime64[ns](2), int64(6), object(14)\n",
      "memory usage: 3.8+ MB\n"
     ]
    }
   ],
   "source": [
    "print (f'This data frame is {df.shape[0]} rows and {df.shape[1]} columns.')\n",
    "print ('Currently, each observation is one mortgage, which will change for modelling')\n",
    "print()\n",
    "print()\n",
    "df.info()"
   ]
  },
  {
   "cell_type": "code",
   "execution_count": 5,
   "metadata": {},
   "outputs": [
    {
     "data": {
      "text/html": [
       "<div>\n",
       "<style scoped>\n",
       "    .dataframe tbody tr th:only-of-type {\n",
       "        vertical-align: middle;\n",
       "    }\n",
       "\n",
       "    .dataframe tbody tr th {\n",
       "        vertical-align: top;\n",
       "    }\n",
       "\n",
       "    .dataframe thead th {\n",
       "        text-align: right;\n",
       "    }\n",
       "</style>\n",
       "<table border=\"1\" class=\"dataframe\">\n",
       "  <thead>\n",
       "    <tr style=\"text-align: right;\">\n",
       "      <th></th>\n",
       "      <th>fha_number</th>\n",
       "      <th>project_name</th>\n",
       "      <th>project_city</th>\n",
       "      <th>project_state</th>\n",
       "      <th>basic_fha_risk_share_or_other</th>\n",
       "      <th>program_category</th>\n",
       "      <th>activity_description</th>\n",
       "      <th>activity_group</th>\n",
       "      <th>facility_type</th>\n",
       "      <th>program_designation</th>\n",
       "      <th>...</th>\n",
       "      <th>tax_exempt_bond_designation</th>\n",
       "      <th>home_designation</th>\n",
       "      <th>cdbg_designation</th>\n",
       "      <th>section_202_refi_designation</th>\n",
       "      <th>irp_decoupling_designation</th>\n",
       "      <th>hope_vi_designation</th>\n",
       "      <th>current_status</th>\n",
       "      <th>final_mortgage_amount</th>\n",
       "      <th>is_refinance</th>\n",
       "      <th>is_new_construction</th>\n",
       "    </tr>\n",
       "  </thead>\n",
       "  <tbody>\n",
       "    <tr>\n",
       "      <th>0</th>\n",
       "      <td>11345004</td>\n",
       "      <td>Western Heights Apartments</td>\n",
       "      <td>Olney</td>\n",
       "      <td>TX</td>\n",
       "      <td>Basic FHA</td>\n",
       "      <td>223a7 Refi Apts</td>\n",
       "      <td>Refinance</td>\n",
       "      <td>Refi/ Pchse</td>\n",
       "      <td>Apts</td>\n",
       "      <td>a7/236</td>\n",
       "      <td>...</td>\n",
       "      <td>False</td>\n",
       "      <td>False</td>\n",
       "      <td>False</td>\n",
       "      <td>False</td>\n",
       "      <td>False</td>\n",
       "      <td>False</td>\n",
       "      <td>Firm Comit then Owner Withdrew</td>\n",
       "      <td>271700</td>\n",
       "      <td>True</td>\n",
       "      <td>False</td>\n",
       "    </tr>\n",
       "    <tr>\n",
       "      <th>1</th>\n",
       "      <td>11345005</td>\n",
       "      <td>Woodlands Village Apts</td>\n",
       "      <td>Breckenridge</td>\n",
       "      <td>TX</td>\n",
       "      <td>Basic FHA</td>\n",
       "      <td>223a7 Refi Apts</td>\n",
       "      <td>Refinance</td>\n",
       "      <td>Refi/ Pchse</td>\n",
       "      <td>Apts</td>\n",
       "      <td>a7/236</td>\n",
       "      <td>...</td>\n",
       "      <td>False</td>\n",
       "      <td>False</td>\n",
       "      <td>False</td>\n",
       "      <td>False</td>\n",
       "      <td>False</td>\n",
       "      <td>False</td>\n",
       "      <td>Finally Endorsed</td>\n",
       "      <td>168300</td>\n",
       "      <td>True</td>\n",
       "      <td>False</td>\n",
       "    </tr>\n",
       "  </tbody>\n",
       "</table>\n",
       "<p>2 rows × 31 columns</p>\n",
       "</div>"
      ],
      "text/plain": [
       "  fha_number                project_name  project_city project_state  \\\n",
       "0   11345004  Western Heights Apartments         Olney            TX   \n",
       "1   11345005      Woodlands Village Apts  Breckenridge            TX   \n",
       "\n",
       "  basic_fha_risk_share_or_other program_category activity_description  \\\n",
       "0                     Basic FHA  223a7 Refi Apts            Refinance   \n",
       "1                     Basic FHA  223a7 Refi Apts            Refinance   \n",
       "\n",
       "  activity_group facility_type program_designation  ...  \\\n",
       "0    Refi/ Pchse          Apts              a7/236  ...   \n",
       "1    Refi/ Pchse          Apts              a7/236  ...   \n",
       "\n",
       "  tax_exempt_bond_designation home_designation  cdbg_designation  \\\n",
       "0                       False            False             False   \n",
       "1                       False            False             False   \n",
       "\n",
       "   section_202_refi_designation irp_decoupling_designation  \\\n",
       "0                         False                      False   \n",
       "1                         False                      False   \n",
       "\n",
       "   hope_vi_designation                  current_status final_mortgage_amount  \\\n",
       "0                False  Firm Comit then Owner Withdrew                271700   \n",
       "1                False                Finally Endorsed                168300   \n",
       "\n",
       "   is_refinance is_new_construction  \n",
       "0          True               False  \n",
       "1          True               False  \n",
       "\n",
       "[2 rows x 31 columns]"
      ]
     },
     "execution_count": 5,
     "metadata": {},
     "output_type": "execute_result"
    }
   ],
   "source": [
    "df.head(2)"
   ]
  },
  {
   "cell_type": "code",
   "execution_count": 6,
   "metadata": {},
   "outputs": [
    {
     "data": {
      "text/plain": [
       "Text(0.5, 1.0, 'Histogram of Mortgages by Year')"
      ]
     },
     "execution_count": 6,
     "metadata": {},
     "output_type": "execute_result"
    },
    {
     "data": {
      "image/png": "[encoded data removed]",
      "text/plain": [
       "<Figure size 432x288 with 1 Axes>"
      ]
     },
     "metadata": {
      "needs_background": "light"
     },
     "output_type": "display_data"
    }
   ],
   "source": [
    "df.fiscal_year_of_firm_commitment_activity.hist(color='green', bins=15)\n",
    "plt.title('Histogram of Mortgages by Year')"
   ]
  },
  {
   "cell_type": "code",
   "execution_count": 7,
   "metadata": {},
   "outputs": [
    {
     "data": {
      "text/plain": [
       "Text(0, 0.5, '')"
      ]
     },
     "execution_count": 7,
     "metadata": {},
     "output_type": "execute_result"
    },
    {
     "data": {
      "image/png": "[encoded data removed]",
      "text/plain": [
       "<Figure size 432x288 with 1 Axes>"
      ]
     },
     "metadata": {
      "needs_background": "light"
     },
     "output_type": "display_data"
    }
   ],
   "source": [
    "df.groupby('project_city').final_mortgage_amount.count().nlargest(20).plot.barh(color='magenta')\n",
    "plt.title('Number of Mortgages by City')\n",
    "plt.ylabel(\"\")"
   ]
  },
  {
   "cell_type": "code",
   "execution_count": 8,
   "metadata": {
    "scrolled": true
   },
   "outputs": [
    {
     "data": {
      "text/plain": [
       "Text(0.5, 1.0, 'Outliers Skewing Mortgage amount Data')"
      ]
     },
     "execution_count": 8,
     "metadata": {},
     "output_type": "execute_result"
    },
    {
     "data": {
      "image/png": "[encoded data removed]",
      "text/plain": [
       "<Figure size 432x288 with 1 Axes>"
      ]
     },
     "metadata": {
      "needs_background": "light"
     },
     "output_type": "display_data"
    }
   ],
   "source": [
    "sns.boxplot(df.final_mortgage_amount)\n",
    "plt.title(\"Outliers Skewing Mortgage amount Data\")"
   ]
  },
  {
   "cell_type": "code",
   "execution_count": 9,
   "metadata": {},
   "outputs": [
    {
     "name": "stdout",
     "output_type": "stream",
     "text": [
      "The difference between the mean and the median is 4063026\n"
     ]
    },
    {
     "data": {
      "text/plain": [
       "count       20409.00\n",
       "mean     10785326.03\n",
       "std      15642874.34\n",
       "min         70100.00\n",
       "25%       3420500.00\n",
       "50%       6722300.00\n",
       "75%      13295800.00\n",
       "max     755874500.00\n",
       "Name: final_mortgage_amount, dtype: float64"
      ]
     },
     "execution_count": 9,
     "metadata": {},
     "output_type": "execute_result"
    }
   ],
   "source": [
    "mean_diff = df.final_mortgage_amount.mean()-df.final_mortgage_amount.median()\n",
    "print(f'The difference between the mean and the median is {round(mean_diff)}')\n",
    "\n",
    "df.final_mortgage_amount.describe()"
   ]
  },
  {
   "cell_type": "markdown",
   "metadata": {},
   "source": [
    "# Exploration"
   ]
  },
  {
   "cell_type": "code",
   "execution_count": null,
   "metadata": {},
   "outputs": [],
   "source": []
  },
  {
   "cell_type": "markdown",
   "metadata": {},
   "source": [
    "# Preprocessing\n",
    "\n",
    "In order to get our data into a useable format for modeling we decided to group the data by city and state for each fiscal year to get unique observations. Below is a brief summary of the functions found in the `preprocessing.py` script which help to restructure our data into a useable format:\n",
    "\n",
    "- `get_model_df`: This function wrangles the original data, groups the data using the city, state, and fiscal year features, and aggregates the mortgage data appropriately.\n",
    "- `calculate_city_state_vol_delta`: This function creates the growth rate for each unique city + state + year observation using total mortgage volume.\n",
    "- `calculate_city_state_qty_delta`: This function creates the growth rate for each unique city + state + year observation using the quantity of mortgages.\n",
    "- `calculate_evolution_index`: This function calculates the evolution index using the market volume delta feature created within using the market volume feature. The evolution index is a measure which expresses the growth of a unique city + state + year observation relative to the the overall market growth rate for the whole year.\n",
    "- `add_new_features`: This function calls `calculate_city_state_vol_delta`, `calculate_city_state_qty_delta`, and `calculate_evolution_index` to add new features to the modeling DataFrame.\n",
    "- `train_validate_test_data`: This function slipts our data into train, validate, and test for modeling.\n",
    "- `prep_data_for_modeling`: "
   ]
  },
  {
   "cell_type": "code",
   "execution_count": 10,
   "metadata": {},
   "outputs": [
    {
     "name": "stdout",
     "output_type": "stream",
     "text": [
      "Our modeling DataFrame contains 13,507 observations & 12 features\n"
     ]
    },
    {
     "data": {
      "text/html": [
       "<div>\n",
       "<style scoped>\n",
       "    .dataframe tbody tr th:only-of-type {\n",
       "        vertical-align: middle;\n",
       "    }\n",
       "\n",
       "    .dataframe tbody tr th {\n",
       "        vertical-align: top;\n",
       "    }\n",
       "\n",
       "    .dataframe thead th {\n",
       "        text-align: right;\n",
       "    }\n",
       "</style>\n",
       "<table border=\"1\" class=\"dataframe\">\n",
       "  <thead>\n",
       "    <tr style=\"text-align: right;\">\n",
       "      <th></th>\n",
       "      <th>city</th>\n",
       "      <th>state</th>\n",
       "      <th>year</th>\n",
       "      <th>quantity_of_mortgages_pop</th>\n",
       "      <th>total_mortgage_volume_pop</th>\n",
       "      <th>average_mortgage_volume_pop</th>\n",
       "      <th>median_mortgage_amount_pop</th>\n",
       "      <th>quantity_of_mortgages_nc</th>\n",
       "      <th>total_mortgage_volume_nc</th>\n",
       "      <th>average_mortgage_volume_nc</th>\n",
       "      <th>median_mortgage_amount_nc</th>\n",
       "      <th>label</th>\n",
       "    </tr>\n",
       "  </thead>\n",
       "  <tbody>\n",
       "    <tr>\n",
       "      <th>0</th>\n",
       "      <td>Bronx</td>\n",
       "      <td>NY</td>\n",
       "      <td>2013</td>\n",
       "      <td>8</td>\n",
       "      <td>822430600</td>\n",
       "      <td>102803825.00</td>\n",
       "      <td>24774500.00</td>\n",
       "      <td>nan</td>\n",
       "      <td>nan</td>\n",
       "      <td>nan</td>\n",
       "      <td>nan</td>\n",
       "      <td>False</td>\n",
       "    </tr>\n",
       "    <tr>\n",
       "      <th>1</th>\n",
       "      <td>Trenton</td>\n",
       "      <td>NJ</td>\n",
       "      <td>2009</td>\n",
       "      <td>3</td>\n",
       "      <td>760934400</td>\n",
       "      <td>253644800.00</td>\n",
       "      <td>4100000.00</td>\n",
       "      <td>1.00</td>\n",
       "      <td>755874500.00</td>\n",
       "      <td>755874500.00</td>\n",
       "      <td>755874500.00</td>\n",
       "      <td>False</td>\n",
       "    </tr>\n",
       "    <tr>\n",
       "      <th>2</th>\n",
       "      <td>New York</td>\n",
       "      <td>NY</td>\n",
       "      <td>2013</td>\n",
       "      <td>6</td>\n",
       "      <td>616362504</td>\n",
       "      <td>102727084.00</td>\n",
       "      <td>18382352.00</td>\n",
       "      <td>1.00</td>\n",
       "      <td>9364704.00</td>\n",
       "      <td>9364704.00</td>\n",
       "      <td>9364704.00</td>\n",
       "      <td>False</td>\n",
       "    </tr>\n",
       "    <tr>\n",
       "      <th>3</th>\n",
       "      <td>Chicago</td>\n",
       "      <td>IL</td>\n",
       "      <td>2012</td>\n",
       "      <td>44</td>\n",
       "      <td>510069300</td>\n",
       "      <td>11592484.09</td>\n",
       "      <td>7710000.00</td>\n",
       "      <td>nan</td>\n",
       "      <td>nan</td>\n",
       "      <td>nan</td>\n",
       "      <td>nan</td>\n",
       "      <td>False</td>\n",
       "    </tr>\n",
       "    <tr>\n",
       "      <th>4</th>\n",
       "      <td>Chicago</td>\n",
       "      <td>IL</td>\n",
       "      <td>2011</td>\n",
       "      <td>41</td>\n",
       "      <td>462365300</td>\n",
       "      <td>11277202.44</td>\n",
       "      <td>8677500.00</td>\n",
       "      <td>1.00</td>\n",
       "      <td>5387000.00</td>\n",
       "      <td>5387000.00</td>\n",
       "      <td>5387000.00</td>\n",
       "      <td>False</td>\n",
       "    </tr>\n",
       "  </tbody>\n",
       "</table>\n",
       "</div>"
      ],
      "text/plain": [
       "       city state  year  quantity_of_mortgages_pop  total_mortgage_volume_pop  \\\n",
       "0     Bronx    NY  2013                          8                  822430600   \n",
       "1   Trenton    NJ  2009                          3                  760934400   \n",
       "2  New York    NY  2013                          6                  616362504   \n",
       "3   Chicago    IL  2012                         44                  510069300   \n",
       "4   Chicago    IL  2011                         41                  462365300   \n",
       "\n",
       "   average_mortgage_volume_pop  median_mortgage_amount_pop  \\\n",
       "0                 102803825.00                 24774500.00   \n",
       "1                 253644800.00                  4100000.00   \n",
       "2                 102727084.00                 18382352.00   \n",
       "3                  11592484.09                  7710000.00   \n",
       "4                  11277202.44                  8677500.00   \n",
       "\n",
       "   quantity_of_mortgages_nc  total_mortgage_volume_nc  \\\n",
       "0                       nan                       nan   \n",
       "1                      1.00              755874500.00   \n",
       "2                      1.00                9364704.00   \n",
       "3                       nan                       nan   \n",
       "4                      1.00                5387000.00   \n",
       "\n",
       "   average_mortgage_volume_nc  median_mortgage_amount_nc  label  \n",
       "0                         nan                        nan  False  \n",
       "1                755874500.00               755874500.00  False  \n",
       "2                  9364704.00                 9364704.00  False  \n",
       "3                         nan                        nan  False  \n",
       "4                  5387000.00                 5387000.00  False  "
      ]
     },
     "execution_count": 10,
     "metadata": {},
     "output_type": "execute_result"
    }
   ],
   "source": [
    "model_df = pr.get_model_df()\n",
    "print(f\"\"\"Our modeling DataFrame contains {model_df.shape[0]:,} observations & {model_df.shape[1]} features\"\"\")\n",
    "model_df.head()"
   ]
  },
  {
   "cell_type": "code",
   "execution_count": 11,
   "metadata": {},
   "outputs": [
    {
     "name": "stdout",
     "output_type": "stream",
     "text": [
      "Our modeling DataFrame now contains 13,507 observations & 19 features\n"
     ]
    },
    {
     "data": {
      "text/html": [
       "<div>\n",
       "<style scoped>\n",
       "    .dataframe tbody tr th:only-of-type {\n",
       "        vertical-align: middle;\n",
       "    }\n",
       "\n",
       "    .dataframe tbody tr th {\n",
       "        vertical-align: top;\n",
       "    }\n",
       "\n",
       "    .dataframe thead th {\n",
       "        text-align: right;\n",
       "    }\n",
       "</style>\n",
       "<table border=\"1\" class=\"dataframe\">\n",
       "  <thead>\n",
       "    <tr style=\"text-align: right;\">\n",
       "      <th></th>\n",
       "      <th>city</th>\n",
       "      <th>state</th>\n",
       "      <th>year</th>\n",
       "      <th>quantity_of_mortgages_pop</th>\n",
       "      <th>total_mortgage_volume_pop</th>\n",
       "      <th>average_mortgage_volume_pop</th>\n",
       "      <th>median_mortgage_amount_pop</th>\n",
       "      <th>quantity_of_mortgages_nc</th>\n",
       "      <th>total_mortgage_volume_nc</th>\n",
       "      <th>average_mortgage_volume_nc</th>\n",
       "      <th>median_mortgage_amount_nc</th>\n",
       "      <th>label</th>\n",
       "      <th>city_state_vol_delta_pop</th>\n",
       "      <th>city_state_vol_delta_nc</th>\n",
       "      <th>city_state_qty_delta_pop</th>\n",
       "      <th>city_state_qty_delta_nc</th>\n",
       "      <th>market_volume</th>\n",
       "      <th>market_volume_delta</th>\n",
       "      <th>ei</th>\n",
       "    </tr>\n",
       "  </thead>\n",
       "  <tbody>\n",
       "    <tr>\n",
       "      <th>7735</th>\n",
       "      <td>Abbeville</td>\n",
       "      <td>LA</td>\n",
       "      <td>2013</td>\n",
       "      <td>1</td>\n",
       "      <td>6500000</td>\n",
       "      <td>6500000.00</td>\n",
       "      <td>6500000.00</td>\n",
       "      <td>nan</td>\n",
       "      <td>nan</td>\n",
       "      <td>nan</td>\n",
       "      <td>nan</td>\n",
       "      <td>False</td>\n",
       "      <td>nan</td>\n",
       "      <td>nan</td>\n",
       "      <td>nan</td>\n",
       "      <td>nan</td>\n",
       "      <td>24940177380</td>\n",
       "      <td>nan</td>\n",
       "      <td>nan</td>\n",
       "    </tr>\n",
       "    <tr>\n",
       "      <th>12512</th>\n",
       "      <td>Abbeville</td>\n",
       "      <td>SC</td>\n",
       "      <td>2008</td>\n",
       "      <td>1</td>\n",
       "      <td>1552900</td>\n",
       "      <td>1552900.00</td>\n",
       "      <td>1552900.00</td>\n",
       "      <td>nan</td>\n",
       "      <td>nan</td>\n",
       "      <td>nan</td>\n",
       "      <td>nan</td>\n",
       "      <td>False</td>\n",
       "      <td>nan</td>\n",
       "      <td>nan</td>\n",
       "      <td>nan</td>\n",
       "      <td>nan</td>\n",
       "      <td>4444102426</td>\n",
       "      <td>-0.82</td>\n",
       "      <td>nan</td>\n",
       "    </tr>\n",
       "    <tr>\n",
       "      <th>7500</th>\n",
       "      <td>Aberdeen</td>\n",
       "      <td>MD</td>\n",
       "      <td>2006</td>\n",
       "      <td>2</td>\n",
       "      <td>6828000</td>\n",
       "      <td>3414000.00</td>\n",
       "      <td>3414000.00</td>\n",
       "      <td>nan</td>\n",
       "      <td>nan</td>\n",
       "      <td>nan</td>\n",
       "      <td>nan</td>\n",
       "      <td>False</td>\n",
       "      <td>nan</td>\n",
       "      <td>nan</td>\n",
       "      <td>nan</td>\n",
       "      <td>nan</td>\n",
       "      <td>6774129256</td>\n",
       "      <td>nan</td>\n",
       "      <td>nan</td>\n",
       "    </tr>\n",
       "    <tr>\n",
       "      <th>1410</th>\n",
       "      <td>Aberdeen</td>\n",
       "      <td>MD</td>\n",
       "      <td>2013</td>\n",
       "      <td>3</td>\n",
       "      <td>34075100</td>\n",
       "      <td>11358366.67</td>\n",
       "      <td>4639800.00</td>\n",
       "      <td>1.00</td>\n",
       "      <td>27247100.00</td>\n",
       "      <td>27247100.00</td>\n",
       "      <td>27247100.00</td>\n",
       "      <td>False</td>\n",
       "      <td>3.99</td>\n",
       "      <td>nan</td>\n",
       "      <td>0.50</td>\n",
       "      <td>nan</td>\n",
       "      <td>24940177380</td>\n",
       "      <td>2.68</td>\n",
       "      <td>1.36</td>\n",
       "    </tr>\n",
       "    <tr>\n",
       "      <th>7710</th>\n",
       "      <td>Aberdeen</td>\n",
       "      <td>MD</td>\n",
       "      <td>2015</td>\n",
       "      <td>1</td>\n",
       "      <td>6525000</td>\n",
       "      <td>6525000.00</td>\n",
       "      <td>6525000.00</td>\n",
       "      <td>nan</td>\n",
       "      <td>nan</td>\n",
       "      <td>nan</td>\n",
       "      <td>nan</td>\n",
       "      <td>False</td>\n",
       "      <td>-0.81</td>\n",
       "      <td>0.00</td>\n",
       "      <td>-0.67</td>\n",
       "      <td>0.00</td>\n",
       "      <td>13569931547</td>\n",
       "      <td>-0.46</td>\n",
       "      <td>0.35</td>\n",
       "    </tr>\n",
       "  </tbody>\n",
       "</table>\n",
       "</div>"
      ],
      "text/plain": [
       "            city state  year  quantity_of_mortgages_pop  \\\n",
       "7735   Abbeville    LA  2013                          1   \n",
       "12512  Abbeville    SC  2008                          1   \n",
       "7500    Aberdeen    MD  2006                          2   \n",
       "1410    Aberdeen    MD  2013                          3   \n",
       "7710    Aberdeen    MD  2015                          1   \n",
       "\n",
       "       total_mortgage_volume_pop  average_mortgage_volume_pop  \\\n",
       "7735                     6500000                   6500000.00   \n",
       "12512                    1552900                   1552900.00   \n",
       "7500                     6828000                   3414000.00   \n",
       "1410                    34075100                  11358366.67   \n",
       "7710                     6525000                   6525000.00   \n",
       "\n",
       "       median_mortgage_amount_pop  quantity_of_mortgages_nc  \\\n",
       "7735                   6500000.00                       nan   \n",
       "12512                  1552900.00                       nan   \n",
       "7500                   3414000.00                       nan   \n",
       "1410                   4639800.00                      1.00   \n",
       "7710                   6525000.00                       nan   \n",
       "\n",
       "       total_mortgage_volume_nc  average_mortgage_volume_nc  \\\n",
       "7735                        nan                         nan   \n",
       "12512                       nan                         nan   \n",
       "7500                        nan                         nan   \n",
       "1410                27247100.00                 27247100.00   \n",
       "7710                        nan                         nan   \n",
       "\n",
       "       median_mortgage_amount_nc  label  city_state_vol_delta_pop  \\\n",
       "7735                         nan  False                       nan   \n",
       "12512                        nan  False                       nan   \n",
       "7500                         nan  False                       nan   \n",
       "1410                 27247100.00  False                      3.99   \n",
       "7710                         nan  False                     -0.81   \n",
       "\n",
       "       city_state_vol_delta_nc  city_state_qty_delta_pop  \\\n",
       "7735                       nan                       nan   \n",
       "12512                      nan                       nan   \n",
       "7500                       nan                       nan   \n",
       "1410                       nan                      0.50   \n",
       "7710                      0.00                     -0.67   \n",
       "\n",
       "       city_state_qty_delta_nc  market_volume  market_volume_delta   ei  \n",
       "7735                       nan    24940177380                  nan  nan  \n",
       "12512                      nan     4444102426                -0.82  nan  \n",
       "7500                       nan     6774129256                  nan  nan  \n",
       "1410                       nan    24940177380                 2.68 1.36  \n",
       "7710                      0.00    13569931547                -0.46 0.35  "
      ]
     },
     "execution_count": 11,
     "metadata": {},
     "output_type": "execute_result"
    }
   ],
   "source": [
    "model_df = pr.add_new_features(model_df)\n",
    "print(f\"\"\"Our modeling DataFrame now contains {model_df.shape[0]:,} observations & {model_df.shape[1]} features\"\"\")\n",
    "model_df.head()"
   ]
  },
  {
   "cell_type": "code",
   "execution_count": null,
   "metadata": {},
   "outputs": [],
   "source": []
  }
 ],
 "metadata": {
  "kernelspec": {
   "display_name": "Python 3",
   "language": "python",
   "name": "python3"
  },
  "language_info": {
   "codemirror_mode": {
    "name": "ipython",
    "version": 3
   },
   "file_extension": ".py",
   "mimetype": "text/x-python",
   "name": "python",
   "nbconvert_exporter": "python",
   "pygments_lexer": "ipython3",
   "version": "3.7.7"
  }
 },
 "nbformat": 4,
 "nbformat_minor": 2
}
