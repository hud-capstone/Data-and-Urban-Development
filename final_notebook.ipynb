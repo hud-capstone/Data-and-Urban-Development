{
 "cells": [
  {
   "cell_type": "markdown",
   "metadata": {},
   "source": [
    "# Please follow this [link](https://github.com/hud-capstone/capstone/blob/master/final_project/final_notebook.ipynb) to view our final report!\n",
    "\n",
    "## Copy the URL at the link above and paste into this [tool](https://nbviewer.jupyter.org/) for an optimal viewing experience."
   ]
  }
 ],
 "metadata": {
  "kernelspec": {
   "display_name": "Python 3",
   "language": "python",
   "name": "python3"
  },
  "language_info": {
   "codemirror_mode": {
    "name": "ipython",
    "version": 3
   },
   "file_extension": ".py",
   "mimetype": "text/x-python",
   "name": "python",
   "nbconvert_exporter": "python",
   "pygments_lexer": "ipython3",
   "version": "3.7.7"
  }
 },
 "nbformat": 4,
 "nbformat_minor": 4
}
