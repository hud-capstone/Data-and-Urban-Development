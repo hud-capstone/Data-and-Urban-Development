{
 "cells": [
  {
   "cell_type": "markdown",
   "metadata": {},
   "source": [
    "# Wrangle: [testfit.io](https://blog.testfit.io/)"
   ]
  },
  {
   "cell_type": "code",
   "execution_count": 4,
   "metadata": {},
   "outputs": [],
   "source": [
    "import numpy as np\n",
    "import pandas as pd\n",
    "\n",
    "%matplotlib inline\n",
    "import matplotlib.pyplot as plt\n",
    "import seaborn as sns\n",
    "\n",
    "import wrangle\n",
    "\n",
    "import itertools\n",
    "\n",
    "import preprocessing\n"
   ]
  },
  {
   "cell_type": "code",
   "execution_count": 5,
   "metadata": {},
   "outputs": [],
   "source": [
    "pd.set_option(\"display.max_columns\", None)\n",
    "plt.rc(\"figure\", figsize=(16, 8))"
   ]
  },
  {
   "cell_type": "code",
   "execution_count": 6,
   "metadata": {},
   "outputs": [],
   "source": [
    "df = wrangle.wrangle_hud()"
   ]
  },
  {
   "cell_type": "code",
   "execution_count": 7,
   "metadata": {},
   "outputs": [],
   "source": [
    "city_mask = df.project_city.value_counts().nlargest(35)"
   ]
  },
  {
   "cell_type": "code",
   "execution_count": 8,
   "metadata": {},
   "outputs": [],
   "source": [
    "def in_city_mask(x):\n",
    "    return x in city_mask"
   ]
  },
  {
   "cell_type": "code",
   "execution_count": 9,
   "metadata": {},
   "outputs": [],
   "source": [
    "pre_df = df[df.project_city.apply(in_city_mask)]"
   ]
  },
  {
   "cell_type": "code",
   "execution_count": 10,
   "metadata": {},
   "outputs": [],
   "source": [
    "def preprocessing_for_modeling(df):\n",
    "    \"\"\"function to manipulate df into df usable for modeling\"\"\"\n",
    "    \n",
    "    # city mask identifies 35 cities with most hud loans\n",
    "    city_mask = df.project_city.value_counts().nlargest(35)\n",
    "    \n",
    "    \n",
    "    # apply city mask to shrink the df\n",
    "    def in_city_mask(x):\n",
    "        return x in city_mask\n",
    "    df = df[df.project_city.apply(in_city_mask)]\n",
    "    \n",
    "    #create a df for modelling that groups-by year and city aggregating mortgage amount by count, median, mean, and sum\n",
    "    df_for_model = (df.groupby(['fiscal_year_of_firm_commitment_activity', 'project_city'])\n",
    "         .final_mortgage_amount.agg(['count', 'median', 'mean', 'sum']).reset_index())\n",
    "    \n",
    "    df_for_model = df_for_model.rename(columns={'fiscal_year_of_firm_commitment_activity': 'year', 'project_city': 'city'})\n",
    "    \n",
    "    return df_for_model\n",
    "    "
   ]
  },
  {
   "cell_type": "code",
   "execution_count": 11,
   "metadata": {},
   "outputs": [],
   "source": [
    "df = preprocessing_for_modeling(df)"
   ]
  },
  {
   "cell_type": "code",
   "execution_count": 12,
   "metadata": {},
   "outputs": [],
   "source": [
    "df['city_year'] = df.city + \"_\" + df.year.astype(str)"
   ]
  },
  {
   "cell_type": "code",
   "execution_count": 13,
   "metadata": {},
   "outputs": [],
   "source": [
    "chicago =  df[df.city == \"Chicago\"]"
   ]
  },
  {
   "cell_type": "code",
   "execution_count": 14,
   "metadata": {},
   "outputs": [
    {
     "name": "stderr",
     "output_type": "stream",
     "text": [
      "/usr/local/anaconda3/lib/python3.7/site-packages/ipykernel_launcher.py:1: SettingWithCopyWarning: \n",
      "A value is trying to be set on a copy of a slice from a DataFrame.\n",
      "Try using .loc[row_indexer,col_indexer] = value instead\n",
      "\n",
      "See the caveats in the documentation: http://pandas.pydata.org/pandas-docs/stable/user_guide/indexing.html#returning-a-view-versus-a-copy\n",
      "  \"\"\"Entry point for launching an IPython kernel.\n"
     ]
    }
   ],
   "source": [
    "chicago['y/y'] = (chicago['count'].diff(1) / chicago['count'])"
   ]
  },
  {
   "cell_type": "code",
   "execution_count": 15,
   "metadata": {},
   "outputs": [
    {
     "data": {
      "text/html": [
       "<div>\n",
       "<style scoped>\n",
       "    .dataframe tbody tr th:only-of-type {\n",
       "        vertical-align: middle;\n",
       "    }\n",
       "\n",
       "    .dataframe tbody tr th {\n",
       "        vertical-align: top;\n",
       "    }\n",
       "\n",
       "    .dataframe thead th {\n",
       "        text-align: right;\n",
       "    }\n",
       "</style>\n",
       "<table border=\"1\" class=\"dataframe\">\n",
       "  <thead>\n",
       "    <tr style=\"text-align: right;\">\n",
       "      <th></th>\n",
       "      <th>year</th>\n",
       "      <th>city</th>\n",
       "      <th>count</th>\n",
       "      <th>median</th>\n",
       "      <th>mean</th>\n",
       "      <th>sum</th>\n",
       "      <th>city_year</th>\n",
       "      <th>y/y</th>\n",
       "    </tr>\n",
       "  </thead>\n",
       "  <tbody>\n",
       "    <tr>\n",
       "      <th>7</th>\n",
       "      <td>2006</td>\n",
       "      <td>Chicago</td>\n",
       "      <td>17</td>\n",
       "      <td>6812900.0</td>\n",
       "      <td>8.535829e+06</td>\n",
       "      <td>145109100</td>\n",
       "      <td>Chicago_2006</td>\n",
       "      <td>NaN</td>\n",
       "    </tr>\n",
       "    <tr>\n",
       "      <th>41</th>\n",
       "      <td>2007</td>\n",
       "      <td>Chicago</td>\n",
       "      <td>23</td>\n",
       "      <td>3160700.0</td>\n",
       "      <td>4.273548e+06</td>\n",
       "      <td>98291600</td>\n",
       "      <td>Chicago_2007</td>\n",
       "      <td>0.260870</td>\n",
       "    </tr>\n",
       "    <tr>\n",
       "      <th>72</th>\n",
       "      <td>2008</td>\n",
       "      <td>Chicago</td>\n",
       "      <td>8</td>\n",
       "      <td>10061200.0</td>\n",
       "      <td>9.693712e+06</td>\n",
       "      <td>77549700</td>\n",
       "      <td>Chicago_2008</td>\n",
       "      <td>-1.875000</td>\n",
       "    </tr>\n",
       "    <tr>\n",
       "      <th>104</th>\n",
       "      <td>2009</td>\n",
       "      <td>Chicago</td>\n",
       "      <td>17</td>\n",
       "      <td>11868600.0</td>\n",
       "      <td>1.183984e+07</td>\n",
       "      <td>201277300</td>\n",
       "      <td>Chicago_2009</td>\n",
       "      <td>0.529412</td>\n",
       "    </tr>\n",
       "    <tr>\n",
       "      <th>136</th>\n",
       "      <td>2010</td>\n",
       "      <td>Chicago</td>\n",
       "      <td>23</td>\n",
       "      <td>7250000.0</td>\n",
       "      <td>9.042609e+06</td>\n",
       "      <td>207980000</td>\n",
       "      <td>Chicago_2010</td>\n",
       "      <td>0.260870</td>\n",
       "    </tr>\n",
       "    <tr>\n",
       "      <th>171</th>\n",
       "      <td>2011</td>\n",
       "      <td>Chicago</td>\n",
       "      <td>41</td>\n",
       "      <td>8677500.0</td>\n",
       "      <td>1.127720e+07</td>\n",
       "      <td>462365300</td>\n",
       "      <td>Chicago_2011</td>\n",
       "      <td>0.439024</td>\n",
       "    </tr>\n",
       "    <tr>\n",
       "      <th>206</th>\n",
       "      <td>2012</td>\n",
       "      <td>Chicago</td>\n",
       "      <td>44</td>\n",
       "      <td>7710000.0</td>\n",
       "      <td>1.159248e+07</td>\n",
       "      <td>510069300</td>\n",
       "      <td>Chicago_2012</td>\n",
       "      <td>0.068182</td>\n",
       "    </tr>\n",
       "    <tr>\n",
       "      <th>241</th>\n",
       "      <td>2013</td>\n",
       "      <td>Chicago</td>\n",
       "      <td>40</td>\n",
       "      <td>8926350.0</td>\n",
       "      <td>1.059739e+07</td>\n",
       "      <td>423895600</td>\n",
       "      <td>Chicago_2013</td>\n",
       "      <td>-0.100000</td>\n",
       "    </tr>\n",
       "    <tr>\n",
       "      <th>276</th>\n",
       "      <td>2014</td>\n",
       "      <td>Chicago</td>\n",
       "      <td>20</td>\n",
       "      <td>3556100.0</td>\n",
       "      <td>1.074232e+07</td>\n",
       "      <td>214846300</td>\n",
       "      <td>Chicago_2014</td>\n",
       "      <td>-1.000000</td>\n",
       "    </tr>\n",
       "    <tr>\n",
       "      <th>311</th>\n",
       "      <td>2015</td>\n",
       "      <td>Chicago</td>\n",
       "      <td>20</td>\n",
       "      <td>6769000.0</td>\n",
       "      <td>1.044247e+07</td>\n",
       "      <td>208849400</td>\n",
       "      <td>Chicago_2015</td>\n",
       "      <td>0.000000</td>\n",
       "    </tr>\n",
       "    <tr>\n",
       "      <th>346</th>\n",
       "      <td>2016</td>\n",
       "      <td>Chicago</td>\n",
       "      <td>9</td>\n",
       "      <td>10420000.0</td>\n",
       "      <td>1.685549e+07</td>\n",
       "      <td>151699395</td>\n",
       "      <td>Chicago_2016</td>\n",
       "      <td>-1.222222</td>\n",
       "    </tr>\n",
       "    <tr>\n",
       "      <th>381</th>\n",
       "      <td>2017</td>\n",
       "      <td>Chicago</td>\n",
       "      <td>17</td>\n",
       "      <td>8869900.0</td>\n",
       "      <td>1.358567e+07</td>\n",
       "      <td>230956395</td>\n",
       "      <td>Chicago_2017</td>\n",
       "      <td>0.470588</td>\n",
       "    </tr>\n",
       "    <tr>\n",
       "      <th>415</th>\n",
       "      <td>2018</td>\n",
       "      <td>Chicago</td>\n",
       "      <td>19</td>\n",
       "      <td>11940000.0</td>\n",
       "      <td>1.580623e+07</td>\n",
       "      <td>300318400</td>\n",
       "      <td>Chicago_2018</td>\n",
       "      <td>0.105263</td>\n",
       "    </tr>\n",
       "    <tr>\n",
       "      <th>450</th>\n",
       "      <td>2019</td>\n",
       "      <td>Chicago</td>\n",
       "      <td>13</td>\n",
       "      <td>10250000.0</td>\n",
       "      <td>1.805615e+07</td>\n",
       "      <td>234729923</td>\n",
       "      <td>Chicago_2019</td>\n",
       "      <td>-0.461538</td>\n",
       "    </tr>\n",
       "    <tr>\n",
       "      <th>484</th>\n",
       "      <td>2020</td>\n",
       "      <td>Chicago</td>\n",
       "      <td>9</td>\n",
       "      <td>13770200.0</td>\n",
       "      <td>1.792666e+07</td>\n",
       "      <td>161339900</td>\n",
       "      <td>Chicago_2020</td>\n",
       "      <td>-0.444444</td>\n",
       "    </tr>\n",
       "  </tbody>\n",
       "</table>\n",
       "</div>"
      ],
      "text/plain": [
       "     year     city  count      median          mean        sum     city_year  \\\n",
       "7    2006  Chicago     17   6812900.0  8.535829e+06  145109100  Chicago_2006   \n",
       "41   2007  Chicago     23   3160700.0  4.273548e+06   98291600  Chicago_2007   \n",
       "72   2008  Chicago      8  10061200.0  9.693712e+06   77549700  Chicago_2008   \n",
       "104  2009  Chicago     17  11868600.0  1.183984e+07  201277300  Chicago_2009   \n",
       "136  2010  Chicago     23   7250000.0  9.042609e+06  207980000  Chicago_2010   \n",
       "171  2011  Chicago     41   8677500.0  1.127720e+07  462365300  Chicago_2011   \n",
       "206  2012  Chicago     44   7710000.0  1.159248e+07  510069300  Chicago_2012   \n",
       "241  2013  Chicago     40   8926350.0  1.059739e+07  423895600  Chicago_2013   \n",
       "276  2014  Chicago     20   3556100.0  1.074232e+07  214846300  Chicago_2014   \n",
       "311  2015  Chicago     20   6769000.0  1.044247e+07  208849400  Chicago_2015   \n",
       "346  2016  Chicago      9  10420000.0  1.685549e+07  151699395  Chicago_2016   \n",
       "381  2017  Chicago     17   8869900.0  1.358567e+07  230956395  Chicago_2017   \n",
       "415  2018  Chicago     19  11940000.0  1.580623e+07  300318400  Chicago_2018   \n",
       "450  2019  Chicago     13  10250000.0  1.805615e+07  234729923  Chicago_2019   \n",
       "484  2020  Chicago      9  13770200.0  1.792666e+07  161339900  Chicago_2020   \n",
       "\n",
       "          y/y  \n",
       "7         NaN  \n",
       "41   0.260870  \n",
       "72  -1.875000  \n",
       "104  0.529412  \n",
       "136  0.260870  \n",
       "171  0.439024  \n",
       "206  0.068182  \n",
       "241 -0.100000  \n",
       "276 -1.000000  \n",
       "311  0.000000  \n",
       "346 -1.222222  \n",
       "381  0.470588  \n",
       "415  0.105263  \n",
       "450 -0.461538  \n",
       "484 -0.444444  "
      ]
     },
     "execution_count": 15,
     "metadata": {},
     "output_type": "execute_result"
    }
   ],
   "source": [
    "chicago"
   ]
  },
  {
   "cell_type": "code",
   "execution_count": null,
   "metadata": {},
   "outputs": [],
   "source": []
  },
  {
   "cell_type": "code",
   "execution_count": null,
   "metadata": {},
   "outputs": [],
   "source": []
  },
  {
   "cell_type": "code",
   "execution_count": 16,
   "metadata": {},
   "outputs": [
    {
     "ename": "AttributeError",
     "evalue": "'DataFrame' object has no attribute 'activity_description_Refinance'",
     "output_type": "error",
     "traceback": [
      "\u001b[0;31m---------------------------------------------------------------------------\u001b[0m",
      "\u001b[0;31mAttributeError\u001b[0m                            Traceback (most recent call last)",
      "\u001b[0;32m<ipython-input-16-c9e48cf7229f>\u001b[0m in \u001b[0;36m<module>\u001b[0;34m\u001b[0m\n\u001b[0;32m----> 1\u001b[0;31m \u001b[0mrefinance_mask\u001b[0m \u001b[0;34m=\u001b[0m \u001b[0mdf\u001b[0m\u001b[0;34m.\u001b[0m\u001b[0mactivity_description_Refinance\u001b[0m \u001b[0;34m==\u001b[0m \u001b[0;36m1\u001b[0m\u001b[0;34m\u001b[0m\u001b[0;34m\u001b[0m\u001b[0m\n\u001b[0m",
      "\u001b[0;32m/usr/local/anaconda3/lib/python3.7/site-packages/pandas/core/generic.py\u001b[0m in \u001b[0;36m__getattr__\u001b[0;34m(self, name)\u001b[0m\n\u001b[1;32m   5177\u001b[0m             \u001b[0;32mif\u001b[0m \u001b[0mself\u001b[0m\u001b[0;34m.\u001b[0m\u001b[0m_info_axis\u001b[0m\u001b[0;34m.\u001b[0m\u001b[0m_can_hold_identifiers_and_holds_name\u001b[0m\u001b[0;34m(\u001b[0m\u001b[0mname\u001b[0m\u001b[0;34m)\u001b[0m\u001b[0;34m:\u001b[0m\u001b[0;34m\u001b[0m\u001b[0;34m\u001b[0m\u001b[0m\n\u001b[1;32m   5178\u001b[0m                 \u001b[0;32mreturn\u001b[0m \u001b[0mself\u001b[0m\u001b[0;34m[\u001b[0m\u001b[0mname\u001b[0m\u001b[0;34m]\u001b[0m\u001b[0;34m\u001b[0m\u001b[0;34m\u001b[0m\u001b[0m\n\u001b[0;32m-> 5179\u001b[0;31m             \u001b[0;32mreturn\u001b[0m \u001b[0mobject\u001b[0m\u001b[0;34m.\u001b[0m\u001b[0m__getattribute__\u001b[0m\u001b[0;34m(\u001b[0m\u001b[0mself\u001b[0m\u001b[0;34m,\u001b[0m \u001b[0mname\u001b[0m\u001b[0;34m)\u001b[0m\u001b[0;34m\u001b[0m\u001b[0;34m\u001b[0m\u001b[0m\n\u001b[0m\u001b[1;32m   5180\u001b[0m \u001b[0;34m\u001b[0m\u001b[0m\n\u001b[1;32m   5181\u001b[0m     \u001b[0;32mdef\u001b[0m \u001b[0m__setattr__\u001b[0m\u001b[0;34m(\u001b[0m\u001b[0mself\u001b[0m\u001b[0;34m,\u001b[0m \u001b[0mname\u001b[0m\u001b[0;34m,\u001b[0m \u001b[0mvalue\u001b[0m\u001b[0;34m)\u001b[0m\u001b[0;34m:\u001b[0m\u001b[0;34m\u001b[0m\u001b[0;34m\u001b[0m\u001b[0m\n",
      "\u001b[0;31mAttributeError\u001b[0m: 'DataFrame' object has no attribute 'activity_description_Refinance'"
     ]
    }
   ],
   "source": [
    "refinance_mask = df.activity_description_Refinance == 1"
   ]
  },
  {
   "cell_type": "code",
   "execution_count": null,
   "metadata": {},
   "outputs": [],
   "source": [
    "(df[refinance_mask].groupby(['fiscal_year_of_firm_commitment_activity', 'project_city'])\n",
    "         .final_mortgage_amount.agg(['count', 'median', 'mean', 'sum']).reset_index())"
   ]
  },
  {
   "cell_type": "markdown",
   "metadata": {},
   "source": [
    "# Explore Object Columns"
   ]
  },
  {
   "cell_type": "code",
   "execution_count": null,
   "metadata": {},
   "outputs": [],
   "source": [
    "object_columns = []\n",
    "for col in df.columns:\n",
    "    if df[col].dtype == 'object':\n",
    "        object_columns.append(col)\n",
    "object_columns"
   ]
  },
  {
   "cell_type": "code",
   "execution_count": null,
   "metadata": {},
   "outputs": [],
   "source": [
    "#fha_number\n",
    "repeat_numbers = df.shape[0] - len(df.fha_number.unique())\n",
    "repeat_numbers"
   ]
  },
  {
   "cell_type": "code",
   "execution_count": null,
   "metadata": {},
   "outputs": [],
   "source": [
    "df_repeat.firm_commitment_activity.value_counts()"
   ]
  },
  {
   "cell_type": "code",
   "execution_count": null,
   "metadata": {},
   "outputs": [],
   "source": [
    "#project_name\n",
    "repeat_name = df.shape[0] - len(df.project_name.unique())\n",
    "repeat_name"
   ]
  },
  {
   "cell_type": "code",
   "execution_count": null,
   "metadata": {},
   "outputs": [],
   "source": [
    "fha_numbers_max = df_repeat.groupby('fha_number').date_of_firm_commitment_activity.idxmax()"
   ]
  },
  {
   "cell_type": "markdown",
   "metadata": {},
   "source": [
    "- take dataframe and find multiple fha_numbers\n",
    "- get the most recent row of the repeat fha_numbers\n",
    "\n",
    "    - make df of only uniques\n",
    "    - make df of max from repeat fha_numbers\n",
    "    - concat two dfs"
   ]
  },
  {
   "cell_type": "code",
   "execution_count": null,
   "metadata": {},
   "outputs": [],
   "source": []
  },
  {
   "cell_type": "code",
   "execution_count": null,
   "metadata": {},
   "outputs": [],
   "source": [
    "fha_value_counts = df.fha_number.value_counts()\n",
    "repeat_list = list(fha_value_counts[fha_value_counts != 1].index)"
   ]
  },
  {
   "cell_type": "code",
   "execution_count": null,
   "metadata": {},
   "outputs": [],
   "source": [
    "# list of unique fha numbers\n",
    "unique_fha_numbers = list(df.fha_number.value_counts()[df.fha_number.value_counts() == 1]"
   ]
  },
  {
   "cell_type": "code",
   "execution_count": null,
   "metadata": {},
   "outputs": [],
   "source": [
    "df.groupby('fha_number').date_of_firm_commitment_activity.max()"
   ]
  },
  {
   "cell_type": "code",
   "execution_count": null,
   "metadata": {},
   "outputs": [],
   "source": [
    "df_repeat.groupby('fha_number').date_of_firm_commitment_activity.max()"
   ]
  },
  {
   "cell_type": "code",
   "execution_count": null,
   "metadata": {},
   "outputs": [],
   "source": [
    "repeat_fha_numbers"
   ]
  },
  {
   "cell_type": "code",
   "execution_count": null,
   "metadata": {},
   "outputs": [],
   "source": [
    "len(all_unique_fha_numbers)"
   ]
  },
  {
   "cell_type": "code",
   "execution_count": null,
   "metadata": {},
   "outputs": [],
   "source": [
    "df.columns"
   ]
  },
  {
   "cell_type": "code",
   "execution_count": null,
   "metadata": {},
   "outputs": [],
   "source": [
    "len(all_unique_fha_numbers)"
   ]
  },
  {
   "cell_type": "code",
   "execution_count": null,
   "metadata": {},
   "outputs": [],
   "source": [
    "def in_unique_list(x):\n",
    "    return x in all_unique_fha_numbers"
   ]
  },
  {
   "cell_type": "code",
   "execution_count": null,
   "metadata": {},
   "outputs": [],
   "source": [
    "df.fha_number.apply(in_unique_list).mean()"
   ]
  },
  {
   "cell_type": "code",
   "execution_count": null,
   "metadata": {},
   "outputs": [],
   "source": []
  },
  {
   "cell_type": "code",
   "execution_count": null,
   "metadata": {},
   "outputs": [],
   "source": [
    "len(df_repeat.final_mortgage_amount.unique())"
   ]
  },
  {
   "cell_type": "markdown",
   "metadata": {},
   "source": [
    "for fha_number drop if not max date"
   ]
  },
  {
   "cell_type": "code",
   "execution_count": null,
   "metadata": {},
   "outputs": [],
   "source": [
    "df.basic_fha_risk_share_or_other.value_counts()"
   ]
  },
  {
   "cell_type": "code",
   "execution_count": null,
   "metadata": {},
   "outputs": [],
   "source": [
    "df.groupby('basic_fha_risk_share_or_other').final_mortgage_amount.mean().plot.bar()"
   ]
  },
  {
   "cell_type": "code",
   "execution_count": null,
   "metadata": {},
   "outputs": [],
   "source": [
    "for col in object_columns:\n",
    "    print(col)\n",
    "    print(df[col].value_counts())\n",
    "    print()"
   ]
  },
  {
   "cell_type": "code",
   "execution_count": null,
   "metadata": {},
   "outputs": [],
   "source": [
    "df[df.project_state == 'TX'].project_city.value_counts()"
   ]
  },
  {
   "cell_type": "code",
   "execution_count": null,
   "metadata": {},
   "outputs": [],
   "source": [
    "df.activity_description.value_counts().plot.barh()"
   ]
  },
  {
   "cell_type": "code",
   "execution_count": null,
   "metadata": {},
   "outputs": [],
   "source": [
    "df.current_status.value_counts()"
   ]
  },
  {
   "cell_type": "code",
   "execution_count": null,
   "metadata": {},
   "outputs": [],
   "source": [
    "df.activity_description.value_counts()"
   ]
  },
  {
   "cell_type": "code",
   "execution_count": null,
   "metadata": {},
   "outputs": [],
   "source": [
    "df.groupby('map_or_tap').final_mortgage_amount.count()"
   ]
  },
  {
   "cell_type": "code",
   "execution_count": null,
   "metadata": {},
   "outputs": [],
   "source": [
    "df.groupby('facility_type').final_mortgage_amount.count()"
   ]
  },
  {
   "cell_type": "code",
   "execution_count": null,
   "metadata": {},
   "outputs": [],
   "source": [
    "df.head()"
   ]
  },
  {
   "cell_type": "code",
   "execution_count": null,
   "metadata": {},
   "outputs": [],
   "source": [
    "\n",
    "df[.groupby('project_city').final_mortgage_amount.mean()"
   ]
  },
  {
   "cell_type": "code",
   "execution_count": null,
   "metadata": {},
   "outputs": [],
   "source": [
    "city_mask = df.project_city.value_counts().nlargest(50).index"
   ]
  },
  {
   "cell_type": "code",
   "execution_count": null,
   "metadata": {},
   "outputs": [],
   "source": [
    "city_mask"
   ]
  },
  {
   "cell_type": "code",
   "execution_count": null,
   "metadata": {},
   "outputs": [],
   "source": [
    "df_model = preprocessing.get_model_df()"
   ]
  },
  {
   "cell_type": "code",
   "execution_count": null,
   "metadata": {},
   "outputs": [],
   "source": [
    "df_model"
   ]
  },
  {
   "cell_type": "code",
   "execution_count": null,
   "metadata": {},
   "outputs": [],
   "source": [
    "df"
   ]
  },
  {
   "cell_type": "code",
   "execution_count": null,
   "metadata": {},
   "outputs": [],
   "source": [
    "city_mask = df.project_city.value_counts().nlargest(35)"
   ]
  },
  {
   "cell_type": "code",
   "execution_count": null,
   "metadata": {},
   "outputs": [],
   "source": []
  },
  {
   "cell_type": "code",
   "execution_count": null,
   "metadata": {},
   "outputs": [],
   "source": [
    "def in_city_mask(x):\n",
    "        return x in city_mask\n",
    "df = df[df.project_city.apply(in_city_mask)]"
   ]
  },
  {
   "cell_type": "code",
   "execution_count": null,
   "metadata": {},
   "outputs": [],
   "source": [
    "df.project_city.value_counts()"
   ]
  },
  {
   "cell_type": "code",
   "execution_count": null,
   "metadata": {},
   "outputs": [],
   "source": [
    "def preprocessing_for_modeling(df):\n",
    "    \"\"\"function to manipulate df into df usable for modeling\"\"\"\n",
    "    \n",
    "    # city mask identifies 35 cities with most hud loans\n",
    "    city_mask = df.project_city.value_counts().nlargest(35)\n",
    "    \n",
    "    \n",
    "    # apply city mask to shrink the df\n",
    "    def in_city_mask(x):\n",
    "        return x in city_mask\n",
    "    df = df[df.project_city.apply(in_city_mask)]\n",
    "    \n",
    "    #create a df for modelling that groups-by year and city aggregating mortgage amount by count, median, mean, and sum\n",
    "    df_for_model = (df.groupby(['fiscal_year_of_firm_commitment_activity', 'project_city'])\n",
    "         .final_mortgage_amount.agg(['count', 'median', 'mean', 'sum']).reset_index())\n",
    "    \n",
    "    #  only take cities that have an observation for every year\n",
    "    observations_mask =  df_for_model.project_city.value_counts()[df_for_model.project_city.value_counts() == 15]\n",
    "    \n",
    "     # apply city mask to shrink the df\n",
    "    def in_observations_mask(x):\n",
    "        return x in observations_mask\n",
    "    df_for_model = df_for_model[df_for_model.project_city.apply(in_observations_mask)]\n",
    "    \n",
    "    \n",
    "    \n",
    "    df_for_model = df_for_model.rename(columns={'fiscal_year_of_firm_commitment_activity': 'year', 'project_city': 'city'})\n",
    "    \n",
    "    return df_for_model"
   ]
  },
  {
   "cell_type": "code",
   "execution_count": null,
   "metadata": {},
   "outputs": [],
   "source": [
    "df_prep = preprocessing_for_modeling(df)"
   ]
  },
  {
   "cell_type": "code",
   "execution_count": null,
   "metadata": {
    "scrolled": true
   },
   "outputs": [],
   "source": [
    "df_prep[df_prep.should_enter]"
   ]
  },
  {
   "cell_type": "code",
   "execution_count": null,
   "metadata": {},
   "outputs": [],
   "source": []
  },
  {
   "cell_type": "code",
   "execution_count": null,
   "metadata": {},
   "outputs": [],
   "source": [
    "city_mask = df.project_city.value_counts().nlargest(35)"
   ]
  },
  {
   "cell_type": "code",
   "execution_count": null,
   "metadata": {},
   "outputs": [],
   "source": [
    "city_mask"
   ]
  },
  {
   "cell_type": "code",
   "execution_count": null,
   "metadata": {},
   "outputs": [],
   "source": [
    "def in_city_mask(x):\n",
    "    return x in city_mask\n",
    "df2 = df[df.project_city.apply(in_city_mask)]"
   ]
  },
  {
   "cell_type": "code",
   "execution_count": null,
   "metadata": {},
   "outputs": [],
   "source": [
    "df2"
   ]
  },
  {
   "cell_type": "code",
   "execution_count": null,
   "metadata": {},
   "outputs": [],
   "source": [
    "df2.project_city.value_counts()"
   ]
  },
  {
   "cell_type": "code",
   "execution_count": null,
   "metadata": {},
   "outputs": [],
   "source": [
    "observations_mask"
   ]
  },
  {
   "cell_type": "code",
   "execution_count": null,
   "metadata": {},
   "outputs": [],
   "source": []
  }
 ],
 "metadata": {
  "kernelspec": {
   "display_name": "Python 3",
   "language": "python",
   "name": "python3"
  },
  "language_info": {
   "codemirror_mode": {
    "name": "ipython",
    "version": 3
   },
   "file_extension": ".py",
   "mimetype": "text/x-python",
   "name": "python",
   "nbconvert_exporter": "python",
   "pygments_lexer": "ipython3",
   "version": "3.7.4"
  }
 },
 "nbformat": 4,
 "nbformat_minor": 2
}
