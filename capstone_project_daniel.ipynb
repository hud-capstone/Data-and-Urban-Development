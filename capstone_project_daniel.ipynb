{
 "cells": [
  {
   "cell_type": "markdown",
   "metadata": {},
   "source": [
    "# HUD Capstone Project"
   ]
  },
  {
   "cell_type": "markdown",
   "metadata": {},
   "source": [
    "### Project: HUB\n",
    "\n",
    "* TestFit (name of the company)\n",
    "\t* what is the relationship to Alec (Clifton Harness (CEO))\n",
    "\t* Software company for architecture, engineering and construction\n",
    "\t* Generative design software: Making models of stuff for later physical assembly. \n",
    "\t* How does the system operate? One time purchase? Subscription\n",
    "* Research Question\n",
    "    * How many apartments units are being built in the US everyday\n",
    "        * Why?\n",
    "        * So that Clifton can target the most valuable markets at the appropriate time\n",
    "        * Distillate:\n",
    "        * How many high-density, multifamily (MF) structures are being built in the US everyday. \n",
    "* Data\n",
    "    * U.S Department of Housing and Urban Development, Federal Housing Administration (2006 - 2020)\n",
    "* Deliverables\n",
    "    * Deliver actionable insights on the drivers and patterns leading to an increase of high-density in the form of a Jupiter notebook\n",
    "    * Develop a Time Series Regression + Classification model that predicts which markets are worth targeting and when. \n",
    "        * Historical examples to be used in establishment of threshold\n",
    "            * Houston in 2009\n",
    "            * Seattle in 2010\n",
    "            * Dallas in 2012\n",
    "        * Findings and model to present to potential employers\n",
    "* Questions:\n",
    "    * How much can we present about TestFit? Permission for public publication\n",
    "    * How does the regression / classification apply\n",
    "    * How granular are we talking, in terms of markets\n",
    "    * Can we talk to Clifton? Questions about his market and business model\n",
    "* Biggest concern at the moment:\n",
    "    * What is our question - how is the data going to help us answer it? How is the question going to help our stakeholder?\n",
    "    * What does the MVP look like? What are additional features that can lend to more features. \n",
    "* Questions for the team:\n",
    "    * What areas do you enjoy / do best?\n",
    "    * What tasks do you not like / feel you can’t do?\n",
    "    * How do you like to work? Prefer quiet time? Prefer collaborative? "
   ]
  },
  {
   "cell_type": "markdown",
   "metadata": {},
   "source": [
    "### MVP:\n",
    "* Time Series / Regression + Classification Model\n",
    "    * Input: \n",
    "    * Output: Prediction of which markets, and at what time period, for business development\n",
    "* Where is he going to deploy labor / marketing resources?\n",
    "* Can we narrow it to the top 100 cities in the states?\n",
    "* Focus on market value\n",
    "\n",
    "\n",
    "--------\n",
    "\n",
    "\n",
    "Recommendation of what cities to deploy to (based on \"total morgage given\"). We will focus on top 25 cities in the US."
   ]
  },
  {
   "cell_type": "markdown",
   "metadata": {},
   "source": [
    "### Notes from the data:\n",
    "* Looking at commitment that has been approved (why commitment’s vs endorsements)\n",
    "* "
   ]
  },
  {
   "cell_type": "markdown",
   "metadata": {},
   "source": [
    "### Timeline:\n",
    "\n",
    "* Thursday, July 9: Data Scientist Day (Remote)\n",
    "* Tuesday, July 7: Recordings Completed (in order to have time for video editing)\n",
    "* Monday, July 6: Recordings\n",
    "* Thursday, July 2: Review Panel 3 (with staff)\n",
    "* Wednesday, July 1: Review Panel 2 (with another active cohort)\n",
    "* Tuesday, June 30: Review Panel 1 (with staff)\n",
    "* June 29: Polish presentation, code freeze (except if changing visualization titles, axes, etc.)\n",
    "* June 26: complete project including presentation\n",
    "* June 24: Not starting anything new, only finishing existing stuff\n",
    "* MVP: EOD Tuesday\n",
    "* Friday: acquire\n",
    "* Wednesday, Thursday: plan"
   ]
  },
  {
   "cell_type": "markdown",
   "metadata": {},
   "source": [
    "# Acquire"
   ]
  },
  {
   "cell_type": "code",
   "execution_count": 142,
   "metadata": {},
   "outputs": [],
   "source": [
    "import pandas as pd\n",
    "import numpy as np\n",
    "import seaborn as sns\n",
    "import matplotlib.pyplot as plt\n",
    "\n",
    "import wrangle"
   ]
  },
  {
   "cell_type": "code",
   "execution_count": 2,
   "metadata": {},
   "outputs": [
    {
     "name": "stdout",
     "output_type": "stream",
     "text": [
      "(20918, 29)\n"
     ]
    }
   ],
   "source": [
    "# commitments\n",
    "df  = pd.read_excel(\"Initi_Endores_Firm Comm_DB_FY06_FY20_Q2.xlsx\", sheet_name=\"Firm Cmtmts, Iss'd and Reiss'd\", header=6)\n",
    "print(df.shape)"
   ]
  },
  {
   "cell_type": "code",
   "execution_count": 3,
   "metadata": {},
   "outputs": [],
   "source": [
    "df.to_csv(\"hud_commitments.csv\")"
   ]
  },
  {
   "cell_type": "code",
   "execution_count": 4,
   "metadata": {},
   "outputs": [],
   "source": [
    "df.rename(columns={\"Activity Group\": \"activity_group\"}, inplace=True)"
   ]
  },
  {
   "cell_type": "code",
   "execution_count": 5,
   "metadata": {},
   "outputs": [
    {
     "data": {
      "text/html": [
       "<div>\n",
       "<style scoped>\n",
       "    .dataframe tbody tr th:only-of-type {\n",
       "        vertical-align: middle;\n",
       "    }\n",
       "\n",
       "    .dataframe tbody tr th {\n",
       "        vertical-align: top;\n",
       "    }\n",
       "\n",
       "    .dataframe thead th {\n",
       "        text-align: right;\n",
       "    }\n",
       "</style>\n",
       "<table border=\"1\" class=\"dataframe\">\n",
       "  <thead>\n",
       "    <tr style=\"text-align: right;\">\n",
       "      <th></th>\n",
       "      <th>FHA Number</th>\n",
       "      <th>Project Name</th>\n",
       "      <th>Project City</th>\n",
       "      <th>Project State</th>\n",
       "      <th>Basic FHA, Risk Share or Other</th>\n",
       "      <th>Program Category</th>\n",
       "      <th>Activity Description</th>\n",
       "      <th>activity_group</th>\n",
       "      <th>Facility Type</th>\n",
       "      <th>Program Designation</th>\n",
       "      <th>...</th>\n",
       "      <th>MAP or TAP</th>\n",
       "      <th>LIHTC Designation</th>\n",
       "      <th>Tax Exempt Bond Designation</th>\n",
       "      <th>HOME Designation</th>\n",
       "      <th>CDBG Designation</th>\n",
       "      <th>Section 202 Refi Designation</th>\n",
       "      <th>IRP Decoupling Designation</th>\n",
       "      <th>HOPE VI Designation</th>\n",
       "      <th>Current Status</th>\n",
       "      <th>Final Mortgage Amount</th>\n",
       "    </tr>\n",
       "  </thead>\n",
       "  <tbody>\n",
       "    <tr>\n",
       "      <th>0</th>\n",
       "      <td>11345004</td>\n",
       "      <td>Western Heights Apartments</td>\n",
       "      <td>Olney</td>\n",
       "      <td>TX</td>\n",
       "      <td>Basic FHA</td>\n",
       "      <td>223a7 Refi Apts</td>\n",
       "      <td>Refinance</td>\n",
       "      <td>Refi/ Pchse</td>\n",
       "      <td>Apts</td>\n",
       "      <td>a7/236</td>\n",
       "      <td>...</td>\n",
       "      <td>TAP</td>\n",
       "      <td>0</td>\n",
       "      <td>0</td>\n",
       "      <td>0</td>\n",
       "      <td>0</td>\n",
       "      <td>0</td>\n",
       "      <td>0</td>\n",
       "      <td>0</td>\n",
       "      <td>Firm Comit then Owner Withdrew</td>\n",
       "      <td>271700</td>\n",
       "    </tr>\n",
       "    <tr>\n",
       "      <th>1</th>\n",
       "      <td>11345005</td>\n",
       "      <td>Woodlands Village Apts</td>\n",
       "      <td>Breckenridge</td>\n",
       "      <td>TX</td>\n",
       "      <td>Basic FHA</td>\n",
       "      <td>223a7 Refi Apts</td>\n",
       "      <td>Refinance</td>\n",
       "      <td>Refi/ Pchse</td>\n",
       "      <td>Apts</td>\n",
       "      <td>a7/236</td>\n",
       "      <td>...</td>\n",
       "      <td>TAP</td>\n",
       "      <td>0</td>\n",
       "      <td>0</td>\n",
       "      <td>0</td>\n",
       "      <td>0</td>\n",
       "      <td>0</td>\n",
       "      <td>0</td>\n",
       "      <td>0</td>\n",
       "      <td>Finally Endorsed</td>\n",
       "      <td>168300</td>\n",
       "    </tr>\n",
       "    <tr>\n",
       "      <th>2</th>\n",
       "      <td>4235583</td>\n",
       "      <td>Harbor Court Apartments</td>\n",
       "      <td>Rocky River</td>\n",
       "      <td>OH</td>\n",
       "      <td>Basic FHA</td>\n",
       "      <td>223a7 Refi Apts</td>\n",
       "      <td>Refinance</td>\n",
       "      <td>Refi/ Pchse</td>\n",
       "      <td>Apts</td>\n",
       "      <td>a7/221d4</td>\n",
       "      <td>...</td>\n",
       "      <td>TAP</td>\n",
       "      <td>0</td>\n",
       "      <td>0</td>\n",
       "      <td>0</td>\n",
       "      <td>0</td>\n",
       "      <td>0</td>\n",
       "      <td>0</td>\n",
       "      <td>0</td>\n",
       "      <td>Finally Endorsed</td>\n",
       "      <td>3886800</td>\n",
       "    </tr>\n",
       "    <tr>\n",
       "      <th>3</th>\n",
       "      <td>3297260</td>\n",
       "      <td>Compton Towne Apartments</td>\n",
       "      <td>Wilmington</td>\n",
       "      <td>DE</td>\n",
       "      <td>Risk Sharing</td>\n",
       "      <td>QPE Risk Sharing</td>\n",
       "      <td>Refinance</td>\n",
       "      <td>Refi/ Pchse</td>\n",
       "      <td>Coop/Apts/Mobile Home Pk/ALF</td>\n",
       "      <td>QPE Risk Shg Existing</td>\n",
       "      <td>...</td>\n",
       "      <td>TAP</td>\n",
       "      <td>Y</td>\n",
       "      <td>0</td>\n",
       "      <td>0</td>\n",
       "      <td>0</td>\n",
       "      <td>0</td>\n",
       "      <td>0</td>\n",
       "      <td>0</td>\n",
       "      <td>Finally Endorsed</td>\n",
       "      <td>4000000</td>\n",
       "    </tr>\n",
       "    <tr>\n",
       "      <th>4</th>\n",
       "      <td>7135779</td>\n",
       "      <td>Evergreen Terrace I</td>\n",
       "      <td>Joliet</td>\n",
       "      <td>IL</td>\n",
       "      <td>Basic FHA</td>\n",
       "      <td>223a7 Refi Apts</td>\n",
       "      <td>Refinance</td>\n",
       "      <td>Refi/ Pchse</td>\n",
       "      <td>Apts</td>\n",
       "      <td>a7/221d4</td>\n",
       "      <td>...</td>\n",
       "      <td>TAP</td>\n",
       "      <td>0</td>\n",
       "      <td>0</td>\n",
       "      <td>0</td>\n",
       "      <td>0</td>\n",
       "      <td>0</td>\n",
       "      <td>0</td>\n",
       "      <td>0</td>\n",
       "      <td>Firm Expired</td>\n",
       "      <td>5247700</td>\n",
       "    </tr>\n",
       "  </tbody>\n",
       "</table>\n",
       "<p>5 rows × 29 columns</p>\n",
       "</div>"
      ],
      "text/plain": [
       "   FHA Number                Project Name  Project City Project State  \\\n",
       "0    11345004  Western Heights Apartments         Olney            TX   \n",
       "1    11345005      Woodlands Village Apts  Breckenridge            TX   \n",
       "2     4235583     Harbor Court Apartments   Rocky River            OH   \n",
       "3     3297260    Compton Towne Apartments    Wilmington            DE   \n",
       "4     7135779         Evergreen Terrace I        Joliet            IL   \n",
       "\n",
       "  Basic FHA, Risk Share or Other  Program Category Activity Description  \\\n",
       "0                      Basic FHA   223a7 Refi Apts            Refinance   \n",
       "1                      Basic FHA   223a7 Refi Apts            Refinance   \n",
       "2                      Basic FHA   223a7 Refi Apts            Refinance   \n",
       "3                   Risk Sharing  QPE Risk Sharing            Refinance   \n",
       "4                      Basic FHA   223a7 Refi Apts            Refinance   \n",
       "\n",
       "  activity_group                 Facility Type    Program Designation  ...  \\\n",
       "0    Refi/ Pchse                          Apts                 a7/236  ...   \n",
       "1    Refi/ Pchse                          Apts                 a7/236  ...   \n",
       "2    Refi/ Pchse                          Apts               a7/221d4  ...   \n",
       "3    Refi/ Pchse  Coop/Apts/Mobile Home Pk/ALF  QPE Risk Shg Existing  ...   \n",
       "4    Refi/ Pchse                          Apts               a7/221d4  ...   \n",
       "\n",
       "  MAP or TAP LIHTC Designation  Tax Exempt Bond Designation  HOME Designation  \\\n",
       "0        TAP                 0                            0                 0   \n",
       "1        TAP                 0                            0                 0   \n",
       "2        TAP                 0                            0                 0   \n",
       "3        TAP                 Y                            0                 0   \n",
       "4        TAP                 0                            0                 0   \n",
       "\n",
       "  CDBG Designation  Section 202 Refi Designation  IRP Decoupling Designation  \\\n",
       "0                0                             0                           0   \n",
       "1                0                             0                           0   \n",
       "2                0                             0                           0   \n",
       "3                0                             0                           0   \n",
       "4                0                             0                           0   \n",
       "\n",
       "  HOPE VI Designation                  Current Status Final Mortgage Amount  \n",
       "0                   0  Firm Comit then Owner Withdrew                271700  \n",
       "1                   0                Finally Endorsed                168300  \n",
       "2                   0                Finally Endorsed               3886800  \n",
       "3                   0                Finally Endorsed               4000000  \n",
       "4                   0                    Firm Expired               5247700  \n",
       "\n",
       "[5 rows x 29 columns]"
      ]
     },
     "execution_count": 5,
     "metadata": {},
     "output_type": "execute_result"
    }
   ],
   "source": [
    "df.head()"
   ]
  },
  {
   "cell_type": "code",
   "execution_count": 6,
   "metadata": {},
   "outputs": [
    {
     "name": "stdout",
     "output_type": "stream",
     "text": [
      "<class 'pandas.core.frame.DataFrame'>\n",
      "RangeIndex: 20918 entries, 0 to 20917\n",
      "Data columns (total 29 columns):\n",
      "FHA Number                                                               20918 non-null int64\n",
      "Project Name                                                             20918 non-null object\n",
      "Project City                                                             20918 non-null object\n",
      "Project State                                                            20918 non-null object\n",
      "Basic FHA, Risk Share or Other                                           20918 non-null object\n",
      "Program Category                                                         20918 non-null object\n",
      "Activity Description                                                     20918 non-null object\n",
      "activity_group                                                           20918 non-null object\n",
      "Facility Type                                                            20918 non-null object\n",
      "Program Designation                                                      20918 non-null object\n",
      "Firm Commitment Activity                                                 20918 non-null object\n",
      "Lender at Firm Commitment Activity                                       20918 non-null object\n",
      "Mortgage at time of Firm Commitment Issuance, Amendment or Reissuance    20918 non-null int64\n",
      "Unit or Bed Count                                                        20918 non-null int64\n",
      "Date of Firm Commitment Activity                                         20918 non-null datetime64[ns]\n",
      "Fiscal Year of Firm Commitment Activity                                  20918 non-null int64\n",
      "Mortgage at Firm Commitment Issuance                                     20918 non-null int64\n",
      "Date of Firm Issue                                                       20918 non-null datetime64[ns]\n",
      "Fiscal Year of Firm Commitment                                           20918 non-null int64\n",
      "MAP or TAP                                                               20918 non-null object\n",
      "LIHTC Designation                                                        20918 non-null object\n",
      "Tax Exempt Bond Designation                                              20918 non-null object\n",
      "HOME Designation                                                         20918 non-null object\n",
      "CDBG Designation                                                         20918 non-null object\n",
      "Section 202 Refi Designation                                             20918 non-null object\n",
      "IRP Decoupling Designation                                               20918 non-null object\n",
      "HOPE VI Designation                                                      20918 non-null object\n",
      "Current Status                                                           20918 non-null object\n",
      "Final Mortgage Amount                                                    20918 non-null int64\n",
      "dtypes: datetime64[ns](2), int64(7), object(20)\n",
      "memory usage: 4.6+ MB\n"
     ]
    }
   ],
   "source": [
    "df.info()"
   ]
  },
  {
   "cell_type": "code",
   "execution_count": 7,
   "metadata": {
    "scrolled": true
   },
   "outputs": [
    {
     "data": {
      "text/plain": [
       "Project State\n",
       "TX    1746\n",
       "CA    1315\n",
       "OH    1266\n",
       "IL    1125\n",
       "IN     993\n",
       "MI     897\n",
       "FL     890\n",
       "MA     869\n",
       "NC     771\n",
       "NY     771\n",
       "Name: Project City, dtype: int64"
      ]
     },
     "execution_count": 7,
     "metadata": {},
     "output_type": "execute_result"
    }
   ],
   "source": [
    "# States based on the city counts\n",
    "\n",
    "df.groupby(\"Project State\")[\"Project City\"].count().nlargest(10)"
   ]
  },
  {
   "cell_type": "code",
   "execution_count": 8,
   "metadata": {
    "scrolled": true
   },
   "outputs": [
    {
     "data": {
      "text/plain": [
       "Project State\n",
       "TX    22295900613\n",
       "NY    16332545528\n",
       "CA    15524648763\n",
       "FL    11823762796\n",
       "MA    11687665817\n",
       "IL    11315865347\n",
       "MD     9704006855\n",
       "VA     8658373269\n",
       "OH     7990538151\n",
       "NC     7910398709\n",
       "Name: Mortgage at Firm Commitment Issuance, dtype: int64"
      ]
     },
     "execution_count": 8,
     "metadata": {},
     "output_type": "execute_result"
    }
   ],
   "source": [
    "df.groupby(\"Project State\")[\"Mortgage at Firm Commitment Issuance\"].sum().nlargest(10)"
   ]
  },
  {
   "cell_type": "code",
   "execution_count": 9,
   "metadata": {},
   "outputs": [
    {
     "data": {
      "text/plain": [
       "2929    Trenton\n",
       "Name: Project City, dtype: object"
      ]
     },
     "execution_count": 9,
     "metadata": {},
     "output_type": "execute_result"
    }
   ],
   "source": [
    "df.nlargest(1, columns=\"Mortgage at Firm Commitment Issuance\")[\"Project City\"]"
   ]
  },
  {
   "cell_type": "code",
   "execution_count": 10,
   "metadata": {
    "scrolled": true
   },
   "outputs": [
    {
     "name": "stdout",
     "output_type": "stream",
     "text": [
      "\n",
      "      \n",
      "Morgages Max:\n",
      "The year is [2009]      \n",
      "The max is $777,641,700\n",
      "The city: ['Trenton'], ['NJ']\n",
      "\n",
      "Morgages Min:\n",
      "The year is [2010]      \n",
      "The max is $1\n",
      "The city: ['roxbury'], ['MA']\n",
      "\n",
      "\n",
      "    \n",
      "    \n",
      "\n"
     ]
    }
   ],
   "source": [
    "print(\n",
    "    \n",
    "f'''\n",
    "      \n",
    "Morgages Max:\n",
    "The year is {df.nlargest(1, columns=\"Mortgage at Firm Commitment Issuance\")[\"Fiscal Year of Firm Commitment\"].values}      \n",
    "The max is ${df[\"Mortgage at Firm Commitment Issuance\"].max():,}\n",
    "The city: {df.nlargest(1, columns=\"Mortgage at Firm Commitment Issuance\")[\"Project City\"].values}, {df.nlargest(1, columns=\"Mortgage at Firm Commitment Issuance\")[\"Project State\"].values}\n",
    "\n",
    "Morgages Min:\n",
    "The year is {df.nsmallest(1, columns=\"Mortgage at Firm Commitment Issuance\")[\"Fiscal Year of Firm Commitment\"].values}      \n",
    "The max is ${df[\"Mortgage at Firm Commitment Issuance\"].min():,}\n",
    "The city: {df.nsmallest(1, columns=\"Mortgage at Firm Commitment Issuance\")[\"Project City\"].values}, {df.nsmallest(1, columns=\"Mortgage at Firm Commitment Issuance\")[\"Project State\"].values}\n",
    "\n",
    "\n",
    "    \n",
    "    \n",
    "''')"
   ]
  },
  {
   "cell_type": "code",
   "execution_count": 141,
   "metadata": {},
   "outputs": [
    {
     "data": {
      "text/plain": [
       "<matplotlib.axes._subplots.AxesSubplot at 0x11a01d890>"
      ]
     },
     "execution_count": 141,
     "metadata": {},
     "output_type": "execute_result"
    },
    {
     "data": {
      "image/png": "[encoded data removed]",
      "text/plain": [
       "<Figure size 1080x576 with 1 Axes>"
      ]
     },
     "metadata": {
      "needs_background": "light"
     },
     "output_type": "display_data"
    }
   ],
   "source": [
    "plt.figure(figsize=(15, 8))\n",
    "sns.distplot(df[\"final_mortgage_amount\"])"
   ]
  },
  {
   "cell_type": "code",
   "execution_count": 11,
   "metadata": {
    "scrolled": true
   },
   "outputs": [
    {
     "data": {
      "text/html": [
       "<div>\n",
       "<style scoped>\n",
       "    .dataframe tbody tr th:only-of-type {\n",
       "        vertical-align: middle;\n",
       "    }\n",
       "\n",
       "    .dataframe tbody tr th {\n",
       "        vertical-align: top;\n",
       "    }\n",
       "\n",
       "    .dataframe thead th {\n",
       "        text-align: right;\n",
       "    }\n",
       "</style>\n",
       "<table border=\"1\" class=\"dataframe\">\n",
       "  <thead>\n",
       "    <tr style=\"text-align: right;\">\n",
       "      <th></th>\n",
       "      <th>FHA Number</th>\n",
       "      <th>Project Name</th>\n",
       "      <th>Project City</th>\n",
       "      <th>Project State</th>\n",
       "      <th>Basic FHA, Risk Share or Other</th>\n",
       "      <th>Program Category</th>\n",
       "      <th>Activity Description</th>\n",
       "      <th>activity_group</th>\n",
       "      <th>Facility Type</th>\n",
       "      <th>Program Designation</th>\n",
       "      <th>...</th>\n",
       "      <th>MAP or TAP</th>\n",
       "      <th>LIHTC Designation</th>\n",
       "      <th>Tax Exempt Bond Designation</th>\n",
       "      <th>HOME Designation</th>\n",
       "      <th>CDBG Designation</th>\n",
       "      <th>Section 202 Refi Designation</th>\n",
       "      <th>IRP Decoupling Designation</th>\n",
       "      <th>HOPE VI Designation</th>\n",
       "      <th>Current Status</th>\n",
       "      <th>Final Mortgage Amount</th>\n",
       "    </tr>\n",
       "  </thead>\n",
       "  <tbody>\n",
       "    <tr>\n",
       "      <th>4296</th>\n",
       "      <td>2398188</td>\n",
       "      <td>Franklin Park Apartments</td>\n",
       "      <td>roxbury</td>\n",
       "      <td>MA</td>\n",
       "      <td>Risk Sharing</td>\n",
       "      <td>HFA Risk Sharing</td>\n",
       "      <td>SubRehab</td>\n",
       "      <td>NC/SR</td>\n",
       "      <td>Coop/Apts/Mobile Home Pk/ALF</td>\n",
       "      <td>HFA Risk Shg NC/SR</td>\n",
       "      <td>...</td>\n",
       "      <td>TAP</td>\n",
       "      <td>Y</td>\n",
       "      <td>Y</td>\n",
       "      <td>0</td>\n",
       "      <td>0</td>\n",
       "      <td>0</td>\n",
       "      <td>0</td>\n",
       "      <td>0</td>\n",
       "      <td>Finally Endorsed</td>\n",
       "      <td>1</td>\n",
       "    </tr>\n",
       "  </tbody>\n",
       "</table>\n",
       "<p>1 rows × 29 columns</p>\n",
       "</div>"
      ],
      "text/plain": [
       "      FHA Number              Project Name Project City Project State  \\\n",
       "4296     2398188  Franklin Park Apartments      roxbury            MA   \n",
       "\n",
       "     Basic FHA, Risk Share or Other  Program Category Activity Description  \\\n",
       "4296                   Risk Sharing  HFA Risk Sharing             SubRehab   \n",
       "\n",
       "     activity_group                 Facility Type Program Designation  ...  \\\n",
       "4296          NC/SR  Coop/Apts/Mobile Home Pk/ALF  HFA Risk Shg NC/SR  ...   \n",
       "\n",
       "     MAP or TAP LIHTC Designation  Tax Exempt Bond Designation  \\\n",
       "4296        TAP                 Y                            Y   \n",
       "\n",
       "      HOME Designation CDBG Designation  Section 202 Refi Designation  \\\n",
       "4296                 0                0                             0   \n",
       "\n",
       "      IRP Decoupling Designation HOPE VI Designation    Current Status  \\\n",
       "4296                           0                   0  Finally Endorsed   \n",
       "\n",
       "     Final Mortgage Amount  \n",
       "4296                     1  \n",
       "\n",
       "[1 rows x 29 columns]"
      ]
     },
     "execution_count": 11,
     "metadata": {},
     "output_type": "execute_result"
    }
   ],
   "source": [
    "# How many mortgages are below $1,000?\n",
    "\n",
    "df[df['Mortgage at Firm Commitment Issuance'] < 10000]"
   ]
  },
  {
   "cell_type": "code",
   "execution_count": 12,
   "metadata": {},
   "outputs": [
    {
     "data": {
      "text/plain": [
       "4296        1\n",
       "1580    70100\n",
       "Name: Mortgage at Firm Commitment Issuance, dtype: int64"
      ]
     },
     "execution_count": 12,
     "metadata": {},
     "output_type": "execute_result"
    }
   ],
   "source": [
    "df[\"Mortgage at Firm Commitment Issuance\"].nsmallest(2)"
   ]
  },
  {
   "cell_type": "markdown",
   "metadata": {},
   "source": [
    "The instance above is clearly an anomaly, and I recommend it is removed. It seems really strange that there would be a morgage approved for the total value of $1, especially because the next closest minimal loan approved is for 70,000. "
   ]
  },
  {
   "cell_type": "code",
   "execution_count": 138,
   "metadata": {},
   "outputs": [
    {
     "data": {
      "text/plain": [
       "6700000.0"
      ]
     },
     "execution_count": 138,
     "metadata": {},
     "output_type": "execute_result"
    }
   ],
   "source": [
    "# what are the other projects in roxbury?\n",
    "\n",
    "df[df[\"activity_description\"] == \"SubRehab\"][\"final_mortgage_amount\"].median()"
   ]
  },
  {
   "cell_type": "code",
   "execution_count": 24,
   "metadata": {
    "scrolled": true
   },
   "outputs": [
    {
     "name": "stdout",
     "output_type": "stream",
     "text": [
      "The mean mortgage is: $10,688,043\n"
     ]
    }
   ],
   "source": [
    "# What is the mean?\n",
    "\n",
    "print(f'The mean mortgage is: ${round(df[\"Mortgage at Firm Commitment Issuance\"].mean()):,}')"
   ]
  },
  {
   "cell_type": "code",
   "execution_count": 33,
   "metadata": {
    "scrolled": false
   },
   "outputs": [
    {
     "data": {
      "text/plain": [
       "Project State\n",
       "TX    816\n",
       "CA    434\n",
       "FL    416\n",
       "MA    384\n",
       "NY    380\n",
       "IL    367\n",
       "VA    290\n",
       "MD    284\n",
       "NC    252\n",
       "OH    216\n",
       "MN    201\n",
       "IN    196\n",
       "MI    193\n",
       "CO    187\n",
       "TN    163\n",
       "NJ    162\n",
       "GA    156\n",
       "WA    133\n",
       "LA    130\n",
       "AZ    124\n",
       "MO    107\n",
       "PA    105\n",
       "UT     99\n",
       "AL     98\n",
       "SC     91\n",
       "OR     79\n",
       "WI     75\n",
       "NV     70\n",
       "CT     66\n",
       "DC     59\n",
       "OK     51\n",
       "MS     46\n",
       "RI     38\n",
       "NE     33\n",
       "NH     33\n",
       "AR     32\n",
       "KY     32\n",
       "KS     26\n",
       "NM     26\n",
       "WV     23\n",
       "IA     22\n",
       "ID     21\n",
       "DE     19\n",
       "MT     17\n",
       "HI     14\n",
       "WY     10\n",
       "ME      8\n",
       "SD      7\n",
       "ND      6\n",
       "VT      4\n",
       "PR      1\n",
       "VI      1\n",
       "AK      1\n",
       "Name: Mortgage at Firm Commitment Issuance, dtype: int64"
      ]
     },
     "execution_count": 33,
     "metadata": {},
     "output_type": "execute_result"
    }
   ],
   "source": [
    "# What is the upper limit looking at?\n",
    "\n",
    "df[df[\"Mortgage at Firm Commitment Issuance\"] > df[\"Mortgage at Firm Commitment Issuance\"].mean()].groupby(\"Project State\")[\"Mortgage at Firm Commitment Issuance\"].count().sort_values(ascending=False)"
   ]
  },
  {
   "cell_type": "code",
   "execution_count": 84,
   "metadata": {},
   "outputs": [],
   "source": [
    "\n",
    "df = wrangle.wrangle_hud()"
   ]
  },
  {
   "cell_type": "code",
   "execution_count": 99,
   "metadata": {},
   "outputs": [],
   "source": [
    "cities = df[\"project_city\"].value_counts()"
   ]
  },
  {
   "cell_type": "code",
   "execution_count": 102,
   "metadata": {
    "scrolled": true
   },
   "outputs": [
    {
     "data": {
      "text/plain": [
       "55435    1\n",
       "Name: project_city, dtype: int64"
      ]
     },
     "execution_count": 102,
     "metadata": {},
     "output_type": "execute_result"
    }
   ],
   "source": [
    "cities[cities.index.str.isdigit()]"
   ]
  },
  {
   "cell_type": "code",
   "execution_count": 109,
   "metadata": {
    "scrolled": false
   },
   "outputs": [
    {
     "data": {
      "text/html": [
       "<div>\n",
       "<style scoped>\n",
       "    .dataframe tbody tr th:only-of-type {\n",
       "        vertical-align: middle;\n",
       "    }\n",
       "\n",
       "    .dataframe tbody tr th {\n",
       "        vertical-align: top;\n",
       "    }\n",
       "\n",
       "    .dataframe thead th {\n",
       "        text-align: right;\n",
       "    }\n",
       "</style>\n",
       "<table border=\"1\" class=\"dataframe\">\n",
       "  <thead>\n",
       "    <tr style=\"text-align: right;\">\n",
       "      <th></th>\n",
       "      <th>fha_number</th>\n",
       "      <th>project_name</th>\n",
       "      <th>project_city</th>\n",
       "      <th>project_state</th>\n",
       "      <th>basic_fha,_risk_share_or_other</th>\n",
       "      <th>program_category</th>\n",
       "      <th>activity_description</th>\n",
       "      <th>activity_group</th>\n",
       "      <th>facility_type</th>\n",
       "      <th>program_designation</th>\n",
       "      <th>...</th>\n",
       "      <th>map_or_tap</th>\n",
       "      <th>lihtc_designation</th>\n",
       "      <th>tax_exempt_bond_designation</th>\n",
       "      <th>home_designation</th>\n",
       "      <th>cdbg_designation</th>\n",
       "      <th>section_202_refi_designation</th>\n",
       "      <th>irp_decoupling_designation</th>\n",
       "      <th>hope_vi_designation</th>\n",
       "      <th>current_status</th>\n",
       "      <th>final_mortgage_amount</th>\n",
       "    </tr>\n",
       "  </thead>\n",
       "  <tbody>\n",
       "    <tr>\n",
       "      <th>18098</th>\n",
       "      <td>9235817</td>\n",
       "      <td>Aria</td>\n",
       "      <td>55435</td>\n",
       "      <td>MN</td>\n",
       "      <td>Basic FHA</td>\n",
       "      <td>FHA NC/SR Apts</td>\n",
       "      <td>New Construction</td>\n",
       "      <td>NC/SR</td>\n",
       "      <td>Apts</td>\n",
       "      <td>221d4</td>\n",
       "      <td>...</td>\n",
       "      <td>MAP</td>\n",
       "      <td>False</td>\n",
       "      <td>False</td>\n",
       "      <td>False</td>\n",
       "      <td>False</td>\n",
       "      <td>False</td>\n",
       "      <td>False</td>\n",
       "      <td>False</td>\n",
       "      <td>Finally Endorsed</td>\n",
       "      <td>45885700</td>\n",
       "    </tr>\n",
       "  </tbody>\n",
       "</table>\n",
       "<p>1 rows × 29 columns</p>\n",
       "</div>"
      ],
      "text/plain": [
       "      fha_number project_name project_city project_state  \\\n",
       "18098    9235817         Aria        55435            MN   \n",
       "\n",
       "      basic_fha,_risk_share_or_other program_category activity_description  \\\n",
       "18098                      Basic FHA   FHA NC/SR Apts     New Construction   \n",
       "\n",
       "      activity_group facility_type program_designation  ... map_or_tap  \\\n",
       "18098          NC/SR          Apts               221d4  ...        MAP   \n",
       "\n",
       "      lihtc_designation  tax_exempt_bond_designation  home_designation  \\\n",
       "18098             False                        False             False   \n",
       "\n",
       "      cdbg_designation  section_202_refi_designation  \\\n",
       "18098            False                         False   \n",
       "\n",
       "       irp_decoupling_designation hope_vi_designation    current_status  \\\n",
       "18098                       False               False  Finally Endorsed   \n",
       "\n",
       "      final_mortgage_amount  \n",
       "18098              45885700  \n",
       "\n",
       "[1 rows x 29 columns]"
      ]
     },
     "execution_count": 109,
     "metadata": {},
     "output_type": "execute_result"
    }
   ],
   "source": [
    "# There is a city that is only numbers... this might be a typo?\n",
    "\n",
    "df[df[\"project_city\"] == \"55435\"]"
   ]
  },
  {
   "cell_type": "code",
   "execution_count": 133,
   "metadata": {},
   "outputs": [
    {
     "data": {
      "text/html": [
       "<div>\n",
       "<style scoped>\n",
       "    .dataframe tbody tr th:only-of-type {\n",
       "        vertical-align: middle;\n",
       "    }\n",
       "\n",
       "    .dataframe tbody tr th {\n",
       "        vertical-align: top;\n",
       "    }\n",
       "\n",
       "    .dataframe thead th {\n",
       "        text-align: right;\n",
       "    }\n",
       "</style>\n",
       "<table border=\"1\" class=\"dataframe\">\n",
       "  <thead>\n",
       "    <tr style=\"text-align: right;\">\n",
       "      <th></th>\n",
       "      <th>fha_number</th>\n",
       "      <th>project_name</th>\n",
       "      <th>project_city</th>\n",
       "      <th>project_state</th>\n",
       "      <th>basic_fha,_risk_share_or_other</th>\n",
       "      <th>program_category</th>\n",
       "      <th>activity_description</th>\n",
       "      <th>activity_group</th>\n",
       "      <th>facility_type</th>\n",
       "      <th>program_designation</th>\n",
       "      <th>...</th>\n",
       "      <th>map_or_tap</th>\n",
       "      <th>lihtc_designation</th>\n",
       "      <th>tax_exempt_bond_designation</th>\n",
       "      <th>home_designation</th>\n",
       "      <th>cdbg_designation</th>\n",
       "      <th>section_202_refi_designation</th>\n",
       "      <th>irp_decoupling_designation</th>\n",
       "      <th>hope_vi_designation</th>\n",
       "      <th>current_status</th>\n",
       "      <th>final_mortgage_amount</th>\n",
       "    </tr>\n",
       "  </thead>\n",
       "  <tbody>\n",
       "    <tr>\n",
       "      <th>18098</th>\n",
       "      <td>9235817</td>\n",
       "      <td>Aria</td>\n",
       "      <td>55435</td>\n",
       "      <td>MN</td>\n",
       "      <td>Basic FHA</td>\n",
       "      <td>FHA NC/SR Apts</td>\n",
       "      <td>New Construction</td>\n",
       "      <td>NC/SR</td>\n",
       "      <td>Apts</td>\n",
       "      <td>221d4</td>\n",
       "      <td>...</td>\n",
       "      <td>MAP</td>\n",
       "      <td>False</td>\n",
       "      <td>False</td>\n",
       "      <td>False</td>\n",
       "      <td>False</td>\n",
       "      <td>False</td>\n",
       "      <td>False</td>\n",
       "      <td>False</td>\n",
       "      <td>Finally Endorsed</td>\n",
       "      <td>45885700</td>\n",
       "    </tr>\n",
       "  </tbody>\n",
       "</table>\n",
       "<p>1 rows × 29 columns</p>\n",
       "</div>"
      ],
      "text/plain": [
       "      fha_number project_name project_city project_state  \\\n",
       "18098    9235817         Aria        55435            MN   \n",
       "\n",
       "      basic_fha,_risk_share_or_other program_category activity_description  \\\n",
       "18098                      Basic FHA   FHA NC/SR Apts     New Construction   \n",
       "\n",
       "      activity_group facility_type program_designation  ... map_or_tap  \\\n",
       "18098          NC/SR          Apts               221d4  ...        MAP   \n",
       "\n",
       "      lihtc_designation  tax_exempt_bond_designation  home_designation  \\\n",
       "18098             False                        False             False   \n",
       "\n",
       "      cdbg_designation  section_202_refi_designation  \\\n",
       "18098            False                         False   \n",
       "\n",
       "       irp_decoupling_designation hope_vi_designation    current_status  \\\n",
       "18098                       False               False  Finally Endorsed   \n",
       "\n",
       "      final_mortgage_amount  \n",
       "18098              45885700  \n",
       "\n",
       "[1 rows x 29 columns]"
      ]
     },
     "execution_count": 133,
     "metadata": {},
     "output_type": "execute_result"
    }
   ],
   "source": [
    "# Are there other project names that we could use to accurately label this data point?\n",
    "\n",
    "df[df[\"project_name\"] == \"Aria\"]"
   ]
  },
  {
   "cell_type": "code",
   "execution_count": 132,
   "metadata": {
    "scrolled": false
   },
   "outputs": [
    {
     "data": {
      "text/html": [
       "<div>\n",
       "<style scoped>\n",
       "    .dataframe tbody tr th:only-of-type {\n",
       "        vertical-align: middle;\n",
       "    }\n",
       "\n",
       "    .dataframe tbody tr th {\n",
       "        vertical-align: top;\n",
       "    }\n",
       "\n",
       "    .dataframe thead th {\n",
       "        text-align: right;\n",
       "    }\n",
       "</style>\n",
       "<table border=\"1\" class=\"dataframe\">\n",
       "  <thead>\n",
       "    <tr style=\"text-align: right;\">\n",
       "      <th></th>\n",
       "      <th>final_mortgage_amount</th>\n",
       "    </tr>\n",
       "    <tr>\n",
       "      <th>project_city</th>\n",
       "      <th></th>\n",
       "    </tr>\n",
       "  </thead>\n",
       "  <tbody>\n",
       "    <tr>\n",
       "      <th>Mora</th>\n",
       "      <td>623000.0</td>\n",
       "    </tr>\n",
       "    <tr>\n",
       "      <th>Twin Valley</th>\n",
       "      <td>636900.0</td>\n",
       "    </tr>\n",
       "    <tr>\n",
       "      <th>Perham</th>\n",
       "      <td>650000.0</td>\n",
       "    </tr>\n",
       "    <tr>\n",
       "      <th>Mound</th>\n",
       "      <td>721000.0</td>\n",
       "    </tr>\n",
       "    <tr>\n",
       "      <th>Browns Valley</th>\n",
       "      <td>754500.0</td>\n",
       "    </tr>\n",
       "    <tr>\n",
       "      <th>...</th>\n",
       "      <td>...</td>\n",
       "    </tr>\n",
       "    <tr>\n",
       "      <th>Chanhassen</th>\n",
       "      <td>24780400.0</td>\n",
       "    </tr>\n",
       "    <tr>\n",
       "      <th>Virginia</th>\n",
       "      <td>26618800.0</td>\n",
       "    </tr>\n",
       "    <tr>\n",
       "      <th>55435</th>\n",
       "      <td>45885700.0</td>\n",
       "    </tr>\n",
       "    <tr>\n",
       "      <th>WOODBURY</th>\n",
       "      <td>53489800.0</td>\n",
       "    </tr>\n",
       "    <tr>\n",
       "      <th>Saint Louis Park</th>\n",
       "      <td>109280000.0</td>\n",
       "    </tr>\n",
       "  </tbody>\n",
       "</table>\n",
       "<p>177 rows × 1 columns</p>\n",
       "</div>"
      ],
      "text/plain": [
       "                  final_mortgage_amount\n",
       "project_city                           \n",
       "Mora                           623000.0\n",
       "Twin Valley                    636900.0\n",
       "Perham                         650000.0\n",
       "Mound                          721000.0\n",
       "Browns Valley                  754500.0\n",
       "...                                 ...\n",
       "Chanhassen                   24780400.0\n",
       "Virginia                     26618800.0\n",
       "55435                        45885700.0\n",
       "WOODBURY                     53489800.0\n",
       "Saint Louis Park            109280000.0\n",
       "\n",
       "[177 rows x 1 columns]"
      ]
     },
     "execution_count": 132,
     "metadata": {},
     "output_type": "execute_result"
    }
   ],
   "source": [
    "# Is there a similarity on the other cities that we could say this is group with them?\n",
    "\n",
    "df[df[\"project_state\"] == \"MN\"].groupby(\"project_city\")[\"project_name\", \"final_mortgage_amount\"].mean().sort_values(by=\"final_mortgage_amount\")"
   ]
  },
  {
   "cell_type": "markdown",
   "metadata": {},
   "source": [
    "After some research - it is most likely that this is actually a zipcode. \n",
    "\n",
    "Based on this assumption: **Postal code in the Hennepin County, Minnesota**"
   ]
  },
  {
   "cell_type": "markdown",
   "metadata": {},
   "source": [
    "## Things to discuss with everyone:\n",
    "\n",
    "1. Added new list to Trello. This is a bit different, but the idea is that we add new cards as we open different Git Documents. This is to reduce the risk of a merge conflict.\n",
    "1. Divide exploration:\n",
    "    * Is there a difference in mortgages by year by type for whole data set?\n",
    "    * Is there a significant difference, by city, in the number of loans given per year?\n",
    "    * Is there a significant difference, by city, in the dollar amount of loans approved, by year?\n",
    "    * What are the characteristics of loan practices in Houston (2009), Seattle (2010),  and Dallas (2012)?\n",
    "    * Are there any trends or seasonality over time that we see in terms of number of loans approved / quantity?\n",
    "    * Show the yearly mortgages by type for whole data set?\n",
    "    "
   ]
  }
 ],
 "metadata": {
  "kernelspec": {
   "display_name": "Python 3",
   "language": "python",
   "name": "python3"
  },
  "language_info": {
   "codemirror_mode": {
    "name": "ipython",
    "version": 3
   },
   "file_extension": ".py",
   "mimetype": "text/x-python",
   "name": "python",
   "nbconvert_exporter": "python",
   "pygments_lexer": "ipython3",
   "version": "3.7.4"
  }
 },
 "nbformat": 4,
 "nbformat_minor": 2
}
