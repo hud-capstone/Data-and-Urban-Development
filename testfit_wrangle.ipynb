{
 "cells": [
  {
   "cell_type": "markdown",
   "metadata": {},
   "source": [
    "# Wrangle: [testfit.io](https://blog.testfit.io/)"
   ]
  },
  {
   "cell_type": "code",
   "execution_count": 1,
   "metadata": {},
   "outputs": [
    {
     "name": "stderr",
     "output_type": "stream",
     "text": [
      "\n",
      "Bad key \"text.kerning_factor\" on line 4 in\n",
      "/usr/local/anaconda3/lib/python3.7/site-packages/matplotlib/mpl-data/stylelib/_classic_test_patch.mplstyle.\n",
      "You probably need to get an updated matplotlibrc file from\n",
      "https://github.com/matplotlib/matplotlib/blob/v3.1.3/matplotlibrc.template\n",
      "or from the matplotlib source distribution\n"
     ]
    }
   ],
   "source": [
    "import numpy as np\n",
    "import pandas as pd\n",
    "\n",
    "%matplotlib inline\n",
    "import matplotlib.pyplot as plt\n",
    "import seaborn as sns"
   ]
  },
  {
   "cell_type": "code",
   "execution_count": 2,
   "metadata": {},
   "outputs": [],
   "source": [
    "pd.set_option(\"display.max_columns\", None)\n",
    "plt.rc(\"figure\", figsize=(16, 8))"
   ]
  },
  {
   "cell_type": "markdown",
   "metadata": {},
   "source": [
    "## Stakeholder Notes\n",
    "- Work with Commitments\n",
    "- Activity Descriptions == New Construction, SubRehab, Additions, and Improvements\n",
    "- Loan amount >= $1M:\n",
    "    - Mortgage at time of Firm Commitment Issuance, Amendment or Reissuance?\n",
    "    - Mortgage at Firm Commitment Issuance?\n",
    "    - Final Mortgage Amount? **Probably this one...**\n",
    "- Market == Large urban centers; meaning **cities** not just states; not rural one-off projects\n",
    "- Types of FHA loan is irrelevant"
   ]
  },
  {
   "cell_type": "code",
   "execution_count": 3,
   "metadata": {},
   "outputs": [
    {
     "name": "stdout",
     "output_type": "stream",
     "text": [
      "(20918, 29)\n"
     ]
    },
    {
     "data": {
      "text/html": [
       "<div>\n",
       "<style scoped>\n",
       "    .dataframe tbody tr th:only-of-type {\n",
       "        vertical-align: middle;\n",
       "    }\n",
       "\n",
       "    .dataframe tbody tr th {\n",
       "        vertical-align: top;\n",
       "    }\n",
       "\n",
       "    .dataframe thead th {\n",
       "        text-align: right;\n",
       "    }\n",
       "</style>\n",
       "<table border=\"1\" class=\"dataframe\">\n",
       "  <thead>\n",
       "    <tr style=\"text-align: right;\">\n",
       "      <th></th>\n",
       "      <th>FHA Number</th>\n",
       "      <th>Project Name</th>\n",
       "      <th>Project City</th>\n",
       "      <th>Project State</th>\n",
       "      <th>Basic FHA, Risk Share or Other</th>\n",
       "      <th>Program Category</th>\n",
       "      <th>Activity Description</th>\n",
       "      <th>Activity Group</th>\n",
       "      <th>Facility Type</th>\n",
       "      <th>Program Designation</th>\n",
       "      <th>Firm Commitment Activity</th>\n",
       "      <th>Lender at Firm Commitment Activity</th>\n",
       "      <th>Mortgage at time of Firm Commitment Issuance, Amendment or Reissuance</th>\n",
       "      <th>Unit or Bed Count</th>\n",
       "      <th>Date of Firm Commitment Activity</th>\n",
       "      <th>Fiscal Year of Firm Commitment Activity</th>\n",
       "      <th>Mortgage at Firm Commitment Issuance</th>\n",
       "      <th>Date of Firm Issue</th>\n",
       "      <th>Fiscal Year of Firm Commitment</th>\n",
       "      <th>MAP or TAP</th>\n",
       "      <th>LIHTC Designation</th>\n",
       "      <th>Tax Exempt Bond Designation</th>\n",
       "      <th>HOME Designation</th>\n",
       "      <th>CDBG Designation</th>\n",
       "      <th>Section 202 Refi Designation</th>\n",
       "      <th>IRP Decoupling Designation</th>\n",
       "      <th>HOPE VI Designation</th>\n",
       "      <th>Current Status</th>\n",
       "      <th>Final Mortgage Amount</th>\n",
       "    </tr>\n",
       "  </thead>\n",
       "  <tbody>\n",
       "    <tr>\n",
       "      <th>0</th>\n",
       "      <td>11345004</td>\n",
       "      <td>Western Heights Apartments</td>\n",
       "      <td>Olney</td>\n",
       "      <td>TX</td>\n",
       "      <td>Basic FHA</td>\n",
       "      <td>223a7 Refi Apts</td>\n",
       "      <td>Refinance</td>\n",
       "      <td>Refi/ Pchse</td>\n",
       "      <td>Apts</td>\n",
       "      <td>a7/236</td>\n",
       "      <td>Firm Issued</td>\n",
       "      <td>GREYSTONE SERVICING COMPANY LLC</td>\n",
       "      <td>277600</td>\n",
       "      <td>48</td>\n",
       "      <td>2005-10-01</td>\n",
       "      <td>2006</td>\n",
       "      <td>277600</td>\n",
       "      <td>2005-10-01</td>\n",
       "      <td>2006</td>\n",
       "      <td>TAP</td>\n",
       "      <td>0</td>\n",
       "      <td>0</td>\n",
       "      <td>0</td>\n",
       "      <td>0</td>\n",
       "      <td>0</td>\n",
       "      <td>0</td>\n",
       "      <td>0</td>\n",
       "      <td>Firm Comit then Owner Withdrew</td>\n",
       "      <td>271700</td>\n",
       "    </tr>\n",
       "    <tr>\n",
       "      <th>1</th>\n",
       "      <td>11345005</td>\n",
       "      <td>Woodlands Village Apts</td>\n",
       "      <td>Breckenridge</td>\n",
       "      <td>TX</td>\n",
       "      <td>Basic FHA</td>\n",
       "      <td>223a7 Refi Apts</td>\n",
       "      <td>Refinance</td>\n",
       "      <td>Refi/ Pchse</td>\n",
       "      <td>Apts</td>\n",
       "      <td>a7/236</td>\n",
       "      <td>Firm Issued</td>\n",
       "      <td>GREYSTONE SERVICING COMPANY LLC</td>\n",
       "      <td>173000</td>\n",
       "      <td>88</td>\n",
       "      <td>2005-10-01</td>\n",
       "      <td>2006</td>\n",
       "      <td>173000</td>\n",
       "      <td>2005-10-01</td>\n",
       "      <td>2006</td>\n",
       "      <td>TAP</td>\n",
       "      <td>0</td>\n",
       "      <td>0</td>\n",
       "      <td>0</td>\n",
       "      <td>0</td>\n",
       "      <td>0</td>\n",
       "      <td>0</td>\n",
       "      <td>0</td>\n",
       "      <td>Finally Endorsed</td>\n",
       "      <td>168300</td>\n",
       "    </tr>\n",
       "    <tr>\n",
       "      <th>2</th>\n",
       "      <td>4235583</td>\n",
       "      <td>Harbor Court Apartments</td>\n",
       "      <td>Rocky River</td>\n",
       "      <td>OH</td>\n",
       "      <td>Basic FHA</td>\n",
       "      <td>223a7 Refi Apts</td>\n",
       "      <td>Refinance</td>\n",
       "      <td>Refi/ Pchse</td>\n",
       "      <td>Apts</td>\n",
       "      <td>a7/221d4</td>\n",
       "      <td>Firm Issued</td>\n",
       "      <td>GREYSTONE SERVICING COMPANY LLC</td>\n",
       "      <td>3886800</td>\n",
       "      <td>120</td>\n",
       "      <td>2005-10-03</td>\n",
       "      <td>2006</td>\n",
       "      <td>3886800</td>\n",
       "      <td>2005-10-03</td>\n",
       "      <td>2006</td>\n",
       "      <td>TAP</td>\n",
       "      <td>0</td>\n",
       "      <td>0</td>\n",
       "      <td>0</td>\n",
       "      <td>0</td>\n",
       "      <td>0</td>\n",
       "      <td>0</td>\n",
       "      <td>0</td>\n",
       "      <td>Finally Endorsed</td>\n",
       "      <td>3886800</td>\n",
       "    </tr>\n",
       "    <tr>\n",
       "      <th>3</th>\n",
       "      <td>3297260</td>\n",
       "      <td>Compton Towne Apartments</td>\n",
       "      <td>Wilmington</td>\n",
       "      <td>DE</td>\n",
       "      <td>Risk Sharing</td>\n",
       "      <td>QPE Risk Sharing</td>\n",
       "      <td>Refinance</td>\n",
       "      <td>Refi/ Pchse</td>\n",
       "      <td>Coop/Apts/Mobile Home Pk/ALF</td>\n",
       "      <td>QPE Risk Shg Existing</td>\n",
       "      <td>Firm Issued</td>\n",
       "      <td>FEDERAL NATIONAL MORTGAGE</td>\n",
       "      <td>4000000</td>\n",
       "      <td>76</td>\n",
       "      <td>2005-10-03</td>\n",
       "      <td>2006</td>\n",
       "      <td>4000000</td>\n",
       "      <td>2005-10-03</td>\n",
       "      <td>2006</td>\n",
       "      <td>TAP</td>\n",
       "      <td>Y</td>\n",
       "      <td>0</td>\n",
       "      <td>0</td>\n",
       "      <td>0</td>\n",
       "      <td>0</td>\n",
       "      <td>0</td>\n",
       "      <td>0</td>\n",
       "      <td>Finally Endorsed</td>\n",
       "      <td>4000000</td>\n",
       "    </tr>\n",
       "    <tr>\n",
       "      <th>4</th>\n",
       "      <td>7135779</td>\n",
       "      <td>Evergreen Terrace I</td>\n",
       "      <td>Joliet</td>\n",
       "      <td>IL</td>\n",
       "      <td>Basic FHA</td>\n",
       "      <td>223a7 Refi Apts</td>\n",
       "      <td>Refinance</td>\n",
       "      <td>Refi/ Pchse</td>\n",
       "      <td>Apts</td>\n",
       "      <td>a7/221d4</td>\n",
       "      <td>Firm Issued</td>\n",
       "      <td>REILLY MORTGAGE GRP</td>\n",
       "      <td>5129000</td>\n",
       "      <td>241</td>\n",
       "      <td>2005-10-04</td>\n",
       "      <td>2006</td>\n",
       "      <td>5129000</td>\n",
       "      <td>2005-10-04</td>\n",
       "      <td>2006</td>\n",
       "      <td>TAP</td>\n",
       "      <td>0</td>\n",
       "      <td>0</td>\n",
       "      <td>0</td>\n",
       "      <td>0</td>\n",
       "      <td>0</td>\n",
       "      <td>0</td>\n",
       "      <td>0</td>\n",
       "      <td>Firm Expired</td>\n",
       "      <td>5247700</td>\n",
       "    </tr>\n",
       "  </tbody>\n",
       "</table>\n",
       "</div>"
      ],
      "text/plain": [
       "   FHA Number                Project Name  Project City Project State  \\\n",
       "0    11345004  Western Heights Apartments         Olney            TX   \n",
       "1    11345005      Woodlands Village Apts  Breckenridge            TX   \n",
       "2     4235583     Harbor Court Apartments   Rocky River            OH   \n",
       "3     3297260    Compton Towne Apartments    Wilmington            DE   \n",
       "4     7135779         Evergreen Terrace I        Joliet            IL   \n",
       "\n",
       "  Basic FHA, Risk Share or Other  Program Category Activity Description  \\\n",
       "0                      Basic FHA   223a7 Refi Apts            Refinance   \n",
       "1                      Basic FHA   223a7 Refi Apts            Refinance   \n",
       "2                      Basic FHA   223a7 Refi Apts            Refinance   \n",
       "3                   Risk Sharing  QPE Risk Sharing            Refinance   \n",
       "4                      Basic FHA   223a7 Refi Apts            Refinance   \n",
       "\n",
       "  Activity Group                 Facility Type    Program Designation  \\\n",
       "0    Refi/ Pchse                          Apts                 a7/236   \n",
       "1    Refi/ Pchse                          Apts                 a7/236   \n",
       "2    Refi/ Pchse                          Apts               a7/221d4   \n",
       "3    Refi/ Pchse  Coop/Apts/Mobile Home Pk/ALF  QPE Risk Shg Existing   \n",
       "4    Refi/ Pchse                          Apts               a7/221d4   \n",
       "\n",
       "  Firm Commitment Activity Lender at Firm Commitment Activity  \\\n",
       "0              Firm Issued    GREYSTONE SERVICING COMPANY LLC   \n",
       "1              Firm Issued    GREYSTONE SERVICING COMPANY LLC   \n",
       "2              Firm Issued    GREYSTONE SERVICING COMPANY LLC   \n",
       "3              Firm Issued          FEDERAL NATIONAL MORTGAGE   \n",
       "4              Firm Issued                REILLY MORTGAGE GRP   \n",
       "\n",
       "   Mortgage at time of Firm Commitment Issuance, Amendment or Reissuance  \\\n",
       "0                                             277600                       \n",
       "1                                             173000                       \n",
       "2                                            3886800                       \n",
       "3                                            4000000                       \n",
       "4                                            5129000                       \n",
       "\n",
       "   Unit or Bed Count Date of Firm Commitment Activity  \\\n",
       "0                 48                       2005-10-01   \n",
       "1                 88                       2005-10-01   \n",
       "2                120                       2005-10-03   \n",
       "3                 76                       2005-10-03   \n",
       "4                241                       2005-10-04   \n",
       "\n",
       "   Fiscal Year of Firm Commitment Activity  \\\n",
       "0                                     2006   \n",
       "1                                     2006   \n",
       "2                                     2006   \n",
       "3                                     2006   \n",
       "4                                     2006   \n",
       "\n",
       "   Mortgage at Firm Commitment Issuance Date of Firm Issue  \\\n",
       "0                                277600         2005-10-01   \n",
       "1                                173000         2005-10-01   \n",
       "2                               3886800         2005-10-03   \n",
       "3                               4000000         2005-10-03   \n",
       "4                               5129000         2005-10-04   \n",
       "\n",
       "   Fiscal Year of Firm Commitment MAP or TAP LIHTC Designation  \\\n",
       "0                            2006        TAP                 0   \n",
       "1                            2006        TAP                 0   \n",
       "2                            2006        TAP                 0   \n",
       "3                            2006        TAP                 Y   \n",
       "4                            2006        TAP                 0   \n",
       "\n",
       "  Tax Exempt Bond Designation HOME Designation CDBG Designation  \\\n",
       "0                           0                0                0   \n",
       "1                           0                0                0   \n",
       "2                           0                0                0   \n",
       "3                           0                0                0   \n",
       "4                           0                0                0   \n",
       "\n",
       "  Section 202 Refi Designation IRP Decoupling Designation HOPE VI Designation  \\\n",
       "0                            0                          0                   0   \n",
       "1                            0                          0                   0   \n",
       "2                            0                          0                   0   \n",
       "3                            0                          0                   0   \n",
       "4                            0                          0                   0   \n",
       "\n",
       "                   Current Status  Final Mortgage Amount  \n",
       "0  Firm Comit then Owner Withdrew                 271700  \n",
       "1                Finally Endorsed                 168300  \n",
       "2                Finally Endorsed                3886800  \n",
       "3                Finally Endorsed                4000000  \n",
       "4                    Firm Expired                5247700  "
      ]
     },
     "execution_count": 3,
     "metadata": {},
     "output_type": "execute_result"
    }
   ],
   "source": [
    "# commitments\n",
    "df  = pd.read_excel(\"Initi_Endores_Firm Comm_DB_FY06_FY20_Q2.xlsx\", sheet_name=\"Firm Cmtmts, Iss'd and Reiss'd\", header=6)\n",
    "print(df.shape)\n",
    "df.head()"
   ]
  },
  {
   "cell_type": "code",
   "execution_count": 4,
   "metadata": {},
   "outputs": [
    {
     "data": {
      "text/plain": [
       "Refinance           16129\n",
       "New Construction     2479\n",
       "SubRehab             1430\n",
       "Purchase              599\n",
       "Additions             149\n",
       "Improvements          119\n",
       "Operating Loss         13\n",
       "Name: Activity Description, dtype: int64"
      ]
     },
     "execution_count": 4,
     "metadata": {},
     "output_type": "execute_result"
    }
   ],
   "source": [
    "df[\"Activity Description\"].value_counts()"
   ]
  },
  {
   "cell_type": "code",
   "execution_count": 5,
   "metadata": {},
   "outputs": [],
   "source": [
    "df.to_csv(\"hud_commitments.csv\")"
   ]
  },
  {
   "cell_type": "code",
   "execution_count": 6,
   "metadata": {},
   "outputs": [],
   "source": [
    "df.rename(columns={\"Activity Group\": \"activity_group\"}, inplace=True)"
   ]
  },
  {
   "cell_type": "code",
   "execution_count": 7,
   "metadata": {},
   "outputs": [],
   "source": [
    "# activity_groups\n",
    "# df = df[(df.activity_group == \"NC/SR\") | (df.activity_group == \"Imp/Adds\")]"
   ]
  },
  {
   "cell_type": "code",
   "execution_count": 8,
   "metadata": {},
   "outputs": [],
   "source": [
    "# df = df[df[\"Final Mortgage Amount\"] >= 1000000]\n",
    "# df.head()"
   ]
  },
  {
   "cell_type": "code",
   "execution_count": 9,
   "metadata": {},
   "outputs": [
    {
     "name": "stdout",
     "output_type": "stream",
     "text": [
      "<class 'pandas.core.frame.DataFrame'>\n",
      "RangeIndex: 20918 entries, 0 to 20917\n",
      "Data columns (total 29 columns):\n",
      " #   Column                                                                 Non-Null Count  Dtype         \n",
      "---  ------                                                                 --------------  -----         \n",
      " 0   FHA Number                                                             20918 non-null  int64         \n",
      " 1   Project Name                                                           20918 non-null  object        \n",
      " 2   Project City                                                           20918 non-null  object        \n",
      " 3   Project State                                                          20918 non-null  object        \n",
      " 4   Basic FHA, Risk Share or Other                                         20918 non-null  object        \n",
      " 5   Program Category                                                       20918 non-null  object        \n",
      " 6   Activity Description                                                   20918 non-null  object        \n",
      " 7   activity_group                                                         20918 non-null  object        \n",
      " 8   Facility Type                                                          20918 non-null  object        \n",
      " 9   Program Designation                                                    20918 non-null  object        \n",
      " 10  Firm Commitment Activity                                               20918 non-null  object        \n",
      " 11  Lender at Firm Commitment Activity                                     20918 non-null  object        \n",
      " 12  Mortgage at time of Firm Commitment Issuance, Amendment or Reissuance  20918 non-null  int64         \n",
      " 13  Unit or Bed Count                                                      20918 non-null  int64         \n",
      " 14  Date of Firm Commitment Activity                                       20918 non-null  datetime64[ns]\n",
      " 15  Fiscal Year of Firm Commitment Activity                                20918 non-null  int64         \n",
      " 16  Mortgage at Firm Commitment Issuance                                   20918 non-null  int64         \n",
      " 17  Date of Firm Issue                                                     20918 non-null  datetime64[ns]\n",
      " 18  Fiscal Year of Firm Commitment                                         20918 non-null  int64         \n",
      " 19  MAP or TAP                                                             20918 non-null  object        \n",
      " 20  LIHTC Designation                                                      20918 non-null  object        \n",
      " 21  Tax Exempt Bond Designation                                            20918 non-null  object        \n",
      " 22  HOME Designation                                                       20918 non-null  object        \n",
      " 23  CDBG Designation                                                       20918 non-null  object        \n",
      " 24  Section 202 Refi Designation                                           20918 non-null  object        \n",
      " 25  IRP Decoupling Designation                                             20918 non-null  object        \n",
      " 26  HOPE VI Designation                                                    20918 non-null  object        \n",
      " 27  Current Status                                                         20918 non-null  object        \n",
      " 28  Final Mortgage Amount                                                  20918 non-null  int64         \n",
      "dtypes: datetime64[ns](2), int64(7), object(20)\n",
      "memory usage: 4.6+ MB\n"
     ]
    }
   ],
   "source": [
    "df.info()"
   ]
  },
  {
   "cell_type": "code",
   "execution_count": 10,
   "metadata": {},
   "outputs": [
    {
     "data": {
      "text/plain": [
       "Refinance           16129\n",
       "New Construction     2479\n",
       "SubRehab             1430\n",
       "Purchase              599\n",
       "Additions             149\n",
       "Improvements          119\n",
       "Operating Loss         13\n",
       "Name: Activity Description, dtype: int64"
      ]
     },
     "execution_count": 10,
     "metadata": {},
     "output_type": "execute_result"
    }
   ],
   "source": [
    "df[\"Activity Description\"].value_counts()"
   ]
  },
  {
   "cell_type": "code",
   "execution_count": 11,
   "metadata": {},
   "outputs": [
    {
     "data": {
      "text/plain": [
       "Refi/ Pchse     16696\n",
       "NC/SR            3934\n",
       "Impv/Adds         275\n",
       "Operatg Loss       13\n",
       "Name: activity_group, dtype: int64"
      ]
     },
     "execution_count": 11,
     "metadata": {},
     "output_type": "execute_result"
    }
   ],
   "source": [
    "df[\"activity_group\"].value_counts()"
   ]
  },
  {
   "cell_type": "code",
   "execution_count": 12,
   "metadata": {},
   "outputs": [],
   "source": [
    "df.rename(columns={\"Facility Type\": \"facility_type\"}, inplace=True)"
   ]
  },
  {
   "cell_type": "code",
   "execution_count": 13,
   "metadata": {},
   "outputs": [
    {
     "data": {
      "text/plain": [
       "Apts/Coops                            7427\n",
       "Apts                                  6353\n",
       "Nursing/ICF                           3811\n",
       "Asst'd Livg                           1692\n",
       "Coop/Apts/Mobile Home Pk/ALF          1231\n",
       "Coop                                   143\n",
       "Board & Care                           114\n",
       "Hospital                               104\n",
       "232 Health Care-NH/ICF, ALF or B&C      35\n",
       "Mobile Home Pk                           5\n",
       "SRO                                      3\n",
       "Name: facility_type, dtype: int64"
      ]
     },
     "execution_count": 13,
     "metadata": {},
     "output_type": "execute_result"
    }
   ],
   "source": [
    "df.facility_type.value_counts()"
   ]
  },
  {
   "cell_type": "code",
   "execution_count": 14,
   "metadata": {},
   "outputs": [],
   "source": [
    "df.rename(columns={\"FHA Number\": \"fha_number\"}, inplace=True)"
   ]
  },
  {
   "cell_type": "code",
   "execution_count": 15,
   "metadata": {},
   "outputs": [
    {
     "data": {
      "image/png": "[encoded data removed]",
      "text/plain": [
       "<Figure size 1152x576 with 1 Axes>"
      ]
     },
     "metadata": {
      "needs_background": "light"
     },
     "output_type": "display_data"
    }
   ],
   "source": [
    "df.groupby([\"Project State\"]).fha_number.count().sort_values().plot.barh()\n",
    "plt.show()"
   ]
  },
  {
   "cell_type": "code",
   "execution_count": 16,
   "metadata": {},
   "outputs": [
    {
     "data": {
      "text/plain": [
       "(20241, 29)"
      ]
     },
     "execution_count": 16,
     "metadata": {},
     "output_type": "execute_result"
    }
   ],
   "source": [
    "df[df[\"Final Mortgage Amount\"] >= 1000000].shape"
   ]
  },
  {
   "cell_type": "code",
   "execution_count": 17,
   "metadata": {},
   "outputs": [],
   "source": [
    "df.rename(columns={\"Final Mortgage Amount\": \"final_mortgage\"}, inplace=True)"
   ]
  },
  {
   "cell_type": "code",
   "execution_count": 18,
   "metadata": {},
   "outputs": [
    {
     "data": {
      "text/plain": [
       "<matplotlib.axes._subplots.AxesSubplot at 0x7f95ba0ef210>"
      ]
     },
     "execution_count": 18,
     "metadata": {},
     "output_type": "execute_result"
    },
    {
     "data": {
      "image/png": "[encoded data removed]",
      "text/plain": [
       "<Figure size 1152x576 with 1 Axes>"
      ]
     },
     "metadata": {
      "needs_background": "light"
     },
     "output_type": "display_data"
    }
   ],
   "source": [
    "df.groupby([\"Project State\"]).final_mortgage.sum().sort_values().plot.barh()"
   ]
  },
  {
   "cell_type": "code",
   "execution_count": 19,
   "metadata": {},
   "outputs": [
    {
     "data": {
      "text/plain": [
       "Chicago         346\n",
       "Indianapolis    259\n",
       "Columbus        173\n",
       "Los Angeles     147\n",
       "Houston         140\n",
       "Boston          131\n",
       "San Antonio     126\n",
       "Baltimore       125\n",
       "Dallas          113\n",
       "Atlanta         113\n",
       "Washington      104\n",
       "New York         96\n",
       "Denver           95\n",
       "Cleveland        90\n",
       "Portland         89\n",
       "St. Louis        88\n",
       "Cincinnati       84\n",
       "Austin           83\n",
       "Minneapolis      81\n",
       "Richmond         78\n",
       "Name: Project City, dtype: int64"
      ]
     },
     "execution_count": 19,
     "metadata": {},
     "output_type": "execute_result"
    }
   ],
   "source": [
    "df[\"Project City\"].value_counts().head(20)"
   ]
  },
  {
   "cell_type": "code",
   "execution_count": 20,
   "metadata": {},
   "outputs": [
    {
     "data": {
      "text/plain": [
       "Project City     Fiscal Year of Firm Commitment\n",
       " Corpus Christi  2012                               1\n",
       "New Square       2013                               1\n",
       "New Ulm          2006                               1\n",
       "                 2008                               1\n",
       "                 2014                               1\n",
       "                                                   ..\n",
       "Indianapolis     2012                              37\n",
       "                 2011                              37\n",
       "Chicago          2011                              43\n",
       "                 2012                              45\n",
       "                 2013                              46\n",
       "Length: 12612, dtype: int64"
      ]
     },
     "execution_count": 20,
     "metadata": {},
     "output_type": "execute_result"
    }
   ],
   "source": [
    "df.groupby([\"Project City\", \"Fiscal Year of Firm Commitment\"]).size().sort_values()"
   ]
  },
  {
   "cell_type": "code",
   "execution_count": 21,
   "metadata": {},
   "outputs": [
    {
     "data": {
      "text/plain": [
       "Project City  Fiscal Year of Firm Commitment\n",
       "roxbury       2010                                      1\n",
       "Aurora        2007                                  70100\n",
       "Wolcottville  2017                                 114000\n",
       "Covington     2006                                 125000\n",
       "Cordele       2008                                 145000\n",
       "                                                  ...    \n",
       "Chicago       2011                              494045600\n",
       "              2012                              520309300\n",
       "New York      2013                              647062504\n",
       "Trenton       2009                              760934400\n",
       "Bronx         2013                              822430600\n",
       "Name: final_mortgage, Length: 12612, dtype: int64"
      ]
     },
     "execution_count": 21,
     "metadata": {},
     "output_type": "execute_result"
    }
   ],
   "source": [
    "df.groupby([\"Project City\", \"Fiscal Year of Firm Commitment\"])[\"final_mortgage\"].sum().sort_values()"
   ]
  },
  {
   "cell_type": "code",
   "execution_count": 22,
   "metadata": {},
   "outputs": [
    {
     "data": {
      "text/plain": [
       "Fiscal Year of Firm Commitment\n",
       "2006     14083843\n",
       "2007     21885300\n",
       "2008      2635000\n",
       "2009     18128300\n",
       "2010     94857100\n",
       "2011     28475900\n",
       "2012     80729000\n",
       "2013    276402300\n",
       "2014    111088600\n",
       "2015     69636500\n",
       "2016     68436400\n",
       "2017    142180000\n",
       "2018    304965500\n",
       "2019     74686900\n",
       "2020    170281700\n",
       "Name: final_mortgage, dtype: int64"
      ]
     },
     "execution_count": 22,
     "metadata": {},
     "output_type": "execute_result"
    }
   ],
   "source": [
    "df[df[\"Project City\"] == \"Austin\"].groupby(\"Fiscal Year of Firm Commitment\")[\"final_mortgage\"].sum()"
   ]
  },
  {
   "cell_type": "code",
   "execution_count": 23,
   "metadata": {},
   "outputs": [
    {
     "data": {
      "text/plain": [
       "Fiscal Year of Firm Commitment\n",
       "2006     14121493\n",
       "2007      4867400\n",
       "2008     20531200\n",
       "2009     22799500\n",
       "2010     65656000\n",
       "2011     89888142\n",
       "2012    109929200\n",
       "2013    120484104\n",
       "2014    109086280\n",
       "2015     72991300\n",
       "2016     64554600\n",
       "2017     86419600\n",
       "2018     62178200\n",
       "2019     36570200\n",
       "Name: final_mortgage, dtype: int64"
      ]
     },
     "execution_count": 23,
     "metadata": {},
     "output_type": "execute_result"
    }
   ],
   "source": [
    "df[df[\"Project City\"] == \"Minneapolis\"].groupby(\"Fiscal Year of Firm Commitment\")[\"final_mortgage\"].sum()"
   ]
  },
  {
   "cell_type": "code",
   "execution_count": 24,
   "metadata": {},
   "outputs": [
    {
     "data": {
      "text/html": [
       "<div>\n",
       "<style scoped>\n",
       "    .dataframe tbody tr th:only-of-type {\n",
       "        vertical-align: middle;\n",
       "    }\n",
       "\n",
       "    .dataframe tbody tr th {\n",
       "        vertical-align: top;\n",
       "    }\n",
       "\n",
       "    .dataframe thead th {\n",
       "        text-align: right;\n",
       "    }\n",
       "</style>\n",
       "<table border=\"1\" class=\"dataframe\">\n",
       "  <thead>\n",
       "    <tr style=\"text-align: right;\">\n",
       "      <th></th>\n",
       "      <th>FHA Number</th>\n",
       "      <th>Project Name</th>\n",
       "      <th>Project City</th>\n",
       "      <th>Project State</th>\n",
       "      <th>Basic FHA, Risk Share or Other</th>\n",
       "      <th>Program Category</th>\n",
       "      <th>Activity Description</th>\n",
       "      <th>Activity Group</th>\n",
       "      <th>Facility Type</th>\n",
       "      <th>Program Designation</th>\n",
       "      <th>Firm Commitment Activity</th>\n",
       "      <th>Lender at Firm Commitment Activity</th>\n",
       "      <th>Mortgage at time of Firm Commitment Issuance, Amendment or Reissuance</th>\n",
       "      <th>Unit or Bed Count</th>\n",
       "      <th>Date of Firm Commitment Activity</th>\n",
       "      <th>Fiscal Year of Firm Commitment Activity</th>\n",
       "      <th>Mortgage at Firm Commitment Issuance</th>\n",
       "      <th>Date of Firm Issue</th>\n",
       "      <th>Fiscal Year of Firm Commitment</th>\n",
       "      <th>MAP or TAP</th>\n",
       "      <th>LIHTC Designation</th>\n",
       "      <th>Tax Exempt Bond Designation</th>\n",
       "      <th>HOME Designation</th>\n",
       "      <th>CDBG Designation</th>\n",
       "      <th>Section 202 Refi Designation</th>\n",
       "      <th>IRP Decoupling Designation</th>\n",
       "      <th>HOPE VI Designation</th>\n",
       "      <th>Current Status</th>\n",
       "      <th>Final Mortgage Amount</th>\n",
       "    </tr>\n",
       "  </thead>\n",
       "  <tbody>\n",
       "    <tr>\n",
       "      <th>0</th>\n",
       "      <td>11345004</td>\n",
       "      <td>Western Heights Apartments</td>\n",
       "      <td>Olney</td>\n",
       "      <td>TX</td>\n",
       "      <td>Basic FHA</td>\n",
       "      <td>223a7 Refi Apts</td>\n",
       "      <td>Refinance</td>\n",
       "      <td>Refi/ Pchse</td>\n",
       "      <td>Apts</td>\n",
       "      <td>a7/236</td>\n",
       "      <td>Firm Issued</td>\n",
       "      <td>GREYSTONE SERVICING COMPANY LLC</td>\n",
       "      <td>277600</td>\n",
       "      <td>48</td>\n",
       "      <td>2005-10-01</td>\n",
       "      <td>2006</td>\n",
       "      <td>277600</td>\n",
       "      <td>2005-10-01</td>\n",
       "      <td>2006</td>\n",
       "      <td>TAP</td>\n",
       "      <td>0</td>\n",
       "      <td>0</td>\n",
       "      <td>0</td>\n",
       "      <td>0</td>\n",
       "      <td>0</td>\n",
       "      <td>0</td>\n",
       "      <td>0</td>\n",
       "      <td>Firm Comit then Owner Withdrew</td>\n",
       "      <td>271700</td>\n",
       "    </tr>\n",
       "    <tr>\n",
       "      <th>1</th>\n",
       "      <td>11345005</td>\n",
       "      <td>Woodlands Village Apts</td>\n",
       "      <td>Breckenridge</td>\n",
       "      <td>TX</td>\n",
       "      <td>Basic FHA</td>\n",
       "      <td>223a7 Refi Apts</td>\n",
       "      <td>Refinance</td>\n",
       "      <td>Refi/ Pchse</td>\n",
       "      <td>Apts</td>\n",
       "      <td>a7/236</td>\n",
       "      <td>Firm Issued</td>\n",
       "      <td>GREYSTONE SERVICING COMPANY LLC</td>\n",
       "      <td>173000</td>\n",
       "      <td>88</td>\n",
       "      <td>2005-10-01</td>\n",
       "      <td>2006</td>\n",
       "      <td>173000</td>\n",
       "      <td>2005-10-01</td>\n",
       "      <td>2006</td>\n",
       "      <td>TAP</td>\n",
       "      <td>0</td>\n",
       "      <td>0</td>\n",
       "      <td>0</td>\n",
       "      <td>0</td>\n",
       "      <td>0</td>\n",
       "      <td>0</td>\n",
       "      <td>0</td>\n",
       "      <td>Finally Endorsed</td>\n",
       "      <td>168300</td>\n",
       "    </tr>\n",
       "    <tr>\n",
       "      <th>2</th>\n",
       "      <td>4235583</td>\n",
       "      <td>Harbor Court Apartments</td>\n",
       "      <td>Rocky River</td>\n",
       "      <td>OH</td>\n",
       "      <td>Basic FHA</td>\n",
       "      <td>223a7 Refi Apts</td>\n",
       "      <td>Refinance</td>\n",
       "      <td>Refi/ Pchse</td>\n",
       "      <td>Apts</td>\n",
       "      <td>a7/221d4</td>\n",
       "      <td>Firm Issued</td>\n",
       "      <td>GREYSTONE SERVICING COMPANY LLC</td>\n",
       "      <td>3886800</td>\n",
       "      <td>120</td>\n",
       "      <td>2005-10-03</td>\n",
       "      <td>2006</td>\n",
       "      <td>3886800</td>\n",
       "      <td>2005-10-03</td>\n",
       "      <td>2006</td>\n",
       "      <td>TAP</td>\n",
       "      <td>0</td>\n",
       "      <td>0</td>\n",
       "      <td>0</td>\n",
       "      <td>0</td>\n",
       "      <td>0</td>\n",
       "      <td>0</td>\n",
       "      <td>0</td>\n",
       "      <td>Finally Endorsed</td>\n",
       "      <td>3886800</td>\n",
       "    </tr>\n",
       "    <tr>\n",
       "      <th>3</th>\n",
       "      <td>3297260</td>\n",
       "      <td>Compton Towne Apartments</td>\n",
       "      <td>Wilmington</td>\n",
       "      <td>DE</td>\n",
       "      <td>Risk Sharing</td>\n",
       "      <td>QPE Risk Sharing</td>\n",
       "      <td>Refinance</td>\n",
       "      <td>Refi/ Pchse</td>\n",
       "      <td>Coop/Apts/Mobile Home Pk/ALF</td>\n",
       "      <td>QPE Risk Shg Existing</td>\n",
       "      <td>Firm Issued</td>\n",
       "      <td>FEDERAL NATIONAL MORTGAGE</td>\n",
       "      <td>4000000</td>\n",
       "      <td>76</td>\n",
       "      <td>2005-10-03</td>\n",
       "      <td>2006</td>\n",
       "      <td>4000000</td>\n",
       "      <td>2005-10-03</td>\n",
       "      <td>2006</td>\n",
       "      <td>TAP</td>\n",
       "      <td>Y</td>\n",
       "      <td>0</td>\n",
       "      <td>0</td>\n",
       "      <td>0</td>\n",
       "      <td>0</td>\n",
       "      <td>0</td>\n",
       "      <td>0</td>\n",
       "      <td>Finally Endorsed</td>\n",
       "      <td>4000000</td>\n",
       "    </tr>\n",
       "    <tr>\n",
       "      <th>4</th>\n",
       "      <td>7135779</td>\n",
       "      <td>Evergreen Terrace I</td>\n",
       "      <td>Joliet</td>\n",
       "      <td>IL</td>\n",
       "      <td>Basic FHA</td>\n",
       "      <td>223a7 Refi Apts</td>\n",
       "      <td>Refinance</td>\n",
       "      <td>Refi/ Pchse</td>\n",
       "      <td>Apts</td>\n",
       "      <td>a7/221d4</td>\n",
       "      <td>Firm Issued</td>\n",
       "      <td>REILLY MORTGAGE GRP</td>\n",
       "      <td>5129000</td>\n",
       "      <td>241</td>\n",
       "      <td>2005-10-04</td>\n",
       "      <td>2006</td>\n",
       "      <td>5129000</td>\n",
       "      <td>2005-10-04</td>\n",
       "      <td>2006</td>\n",
       "      <td>TAP</td>\n",
       "      <td>0</td>\n",
       "      <td>0</td>\n",
       "      <td>0</td>\n",
       "      <td>0</td>\n",
       "      <td>0</td>\n",
       "      <td>0</td>\n",
       "      <td>0</td>\n",
       "      <td>Firm Expired</td>\n",
       "      <td>5247700</td>\n",
       "    </tr>\n",
       "  </tbody>\n",
       "</table>\n",
       "</div>"
      ],
      "text/plain": [
       "   FHA Number                Project Name  Project City Project State  \\\n",
       "0    11345004  Western Heights Apartments         Olney            TX   \n",
       "1    11345005      Woodlands Village Apts  Breckenridge            TX   \n",
       "2     4235583     Harbor Court Apartments   Rocky River            OH   \n",
       "3     3297260    Compton Towne Apartments    Wilmington            DE   \n",
       "4     7135779         Evergreen Terrace I        Joliet            IL   \n",
       "\n",
       "  Basic FHA, Risk Share or Other  Program Category Activity Description  \\\n",
       "0                      Basic FHA   223a7 Refi Apts            Refinance   \n",
       "1                      Basic FHA   223a7 Refi Apts            Refinance   \n",
       "2                      Basic FHA   223a7 Refi Apts            Refinance   \n",
       "3                   Risk Sharing  QPE Risk Sharing            Refinance   \n",
       "4                      Basic FHA   223a7 Refi Apts            Refinance   \n",
       "\n",
       "  Activity Group                 Facility Type    Program Designation  \\\n",
       "0    Refi/ Pchse                          Apts                 a7/236   \n",
       "1    Refi/ Pchse                          Apts                 a7/236   \n",
       "2    Refi/ Pchse                          Apts               a7/221d4   \n",
       "3    Refi/ Pchse  Coop/Apts/Mobile Home Pk/ALF  QPE Risk Shg Existing   \n",
       "4    Refi/ Pchse                          Apts               a7/221d4   \n",
       "\n",
       "  Firm Commitment Activity Lender at Firm Commitment Activity  \\\n",
       "0              Firm Issued    GREYSTONE SERVICING COMPANY LLC   \n",
       "1              Firm Issued    GREYSTONE SERVICING COMPANY LLC   \n",
       "2              Firm Issued    GREYSTONE SERVICING COMPANY LLC   \n",
       "3              Firm Issued          FEDERAL NATIONAL MORTGAGE   \n",
       "4              Firm Issued                REILLY MORTGAGE GRP   \n",
       "\n",
       "   Mortgage at time of Firm Commitment Issuance, Amendment or Reissuance  \\\n",
       "0                                             277600                       \n",
       "1                                             173000                       \n",
       "2                                            3886800                       \n",
       "3                                            4000000                       \n",
       "4                                            5129000                       \n",
       "\n",
       "   Unit or Bed Count Date of Firm Commitment Activity  \\\n",
       "0                 48                       2005-10-01   \n",
       "1                 88                       2005-10-01   \n",
       "2                120                       2005-10-03   \n",
       "3                 76                       2005-10-03   \n",
       "4                241                       2005-10-04   \n",
       "\n",
       "   Fiscal Year of Firm Commitment Activity  \\\n",
       "0                                     2006   \n",
       "1                                     2006   \n",
       "2                                     2006   \n",
       "3                                     2006   \n",
       "4                                     2006   \n",
       "\n",
       "   Mortgage at Firm Commitment Issuance Date of Firm Issue  \\\n",
       "0                                277600         2005-10-01   \n",
       "1                                173000         2005-10-01   \n",
       "2                               3886800         2005-10-03   \n",
       "3                               4000000         2005-10-03   \n",
       "4                               5129000         2005-10-04   \n",
       "\n",
       "   Fiscal Year of Firm Commitment MAP or TAP LIHTC Designation  \\\n",
       "0                            2006        TAP                 0   \n",
       "1                            2006        TAP                 0   \n",
       "2                            2006        TAP                 0   \n",
       "3                            2006        TAP                 Y   \n",
       "4                            2006        TAP                 0   \n",
       "\n",
       "  Tax Exempt Bond Designation HOME Designation CDBG Designation  \\\n",
       "0                           0                0                0   \n",
       "1                           0                0                0   \n",
       "2                           0                0                0   \n",
       "3                           0                0                0   \n",
       "4                           0                0                0   \n",
       "\n",
       "  Section 202 Refi Designation IRP Decoupling Designation HOPE VI Designation  \\\n",
       "0                            0                          0                   0   \n",
       "1                            0                          0                   0   \n",
       "2                            0                          0                   0   \n",
       "3                            0                          0                   0   \n",
       "4                            0                          0                   0   \n",
       "\n",
       "                   Current Status  Final Mortgage Amount  \n",
       "0  Firm Comit then Owner Withdrew                 271700  \n",
       "1                Finally Endorsed                 168300  \n",
       "2                Finally Endorsed                3886800  \n",
       "3                Finally Endorsed                4000000  \n",
       "4                    Firm Expired                5247700  "
      ]
     },
     "execution_count": 24,
     "metadata": {},
     "output_type": "execute_result"
    }
   ],
   "source": [
    "# csv works and can be read\n",
    "df = pd.read_csv(\"hud_commitments.csv\", index_col=0)\n",
    "df.head()"
   ]
  },
  {
   "cell_type": "code",
   "execution_count": 25,
   "metadata": {},
   "outputs": [
    {
     "data": {
      "text/plain": [
       "Fiscal Year of Firm Commitment\n",
       "2006     14083843\n",
       "2007     21885300\n",
       "2008      2635000\n",
       "2009     18128300\n",
       "2010     94857100\n",
       "2011     28475900\n",
       "2012     80729000\n",
       "2013    276402300\n",
       "2014    111088600\n",
       "2015     69636500\n",
       "2016     68436400\n",
       "2017    142180000\n",
       "2018    304965500\n",
       "2019     74686900\n",
       "2020    170281700\n",
       "Name: Final Mortgage Amount, dtype: int64"
      ]
     },
     "execution_count": 25,
     "metadata": {},
     "output_type": "execute_result"
    }
   ],
   "source": [
    "df[df[\"Project City\"] == \"Austin\"].groupby(\"Fiscal Year of Firm Commitment\")[\"Final Mortgage Amount\"].sum()"
   ]
  },
  {
   "cell_type": "code",
   "execution_count": 26,
   "metadata": {},
   "outputs": [
    {
     "data": {
      "text/plain": [
       "Fiscal Year of Firm Commitment\n",
       "2006     1\n",
       "2007     2\n",
       "2008     1\n",
       "2009     1\n",
       "2010     8\n",
       "2011     3\n",
       "2012     8\n",
       "2013    17\n",
       "2014     6\n",
       "2015     5\n",
       "2016     5\n",
       "2017     8\n",
       "2018    10\n",
       "2019     4\n",
       "2020     4\n",
       "Name: Final Mortgage Amount, dtype: int64"
      ]
     },
     "execution_count": 26,
     "metadata": {},
     "output_type": "execute_result"
    }
   ],
   "source": [
    "df[df[\"Project City\"] == \"Austin\"].groupby(\"Fiscal Year of Firm Commitment\")[\"Final Mortgage Amount\"].count()"
   ]
  },
  {
   "cell_type": "code",
   "execution_count": 27,
   "metadata": {},
   "outputs": [
    {
     "data": {
      "text/plain": [
       "Fiscal Year of Firm Commitment\n",
       "2006     1\n",
       "2007     2\n",
       "2008     1\n",
       "2009     1\n",
       "2010     8\n",
       "2011     3\n",
       "2012     8\n",
       "2013    17\n",
       "2014     6\n",
       "2015     5\n",
       "2016     5\n",
       "2017     8\n",
       "2018    10\n",
       "2019     4\n",
       "2020     4\n",
       "Name: Final Mortgage Amount, dtype: int64"
      ]
     },
     "execution_count": 27,
     "metadata": {},
     "output_type": "execute_result"
    }
   ],
   "source": [
    "df[df[\"Project City\"] == \"Austin\"].groupby(\"Fiscal Year of Firm Commitment\")[\"Final Mortgage Amount\"].size()"
   ]
  },
  {
   "cell_type": "code",
   "execution_count": 28,
   "metadata": {},
   "outputs": [
    {
     "data": {
      "text/plain": [
       "(20918, 29)"
      ]
     },
     "execution_count": 28,
     "metadata": {},
     "output_type": "execute_result"
    }
   ],
   "source": [
    "df.shape"
   ]
  },
  {
   "cell_type": "code",
   "execution_count": null,
   "metadata": {},
   "outputs": [],
   "source": []
  }
 ],
 "metadata": {
  "kernelspec": {
   "display_name": "Python 3",
   "language": "python",
   "name": "python3"
  },
  "language_info": {
   "codemirror_mode": {
    "name": "ipython",
    "version": 3
   },
   "file_extension": ".py",
   "mimetype": "text/x-python",
   "name": "python",
   "nbconvert_exporter": "python",
   "pygments_lexer": "ipython3",
   "version": "3.7.4"
  }
 },
 "nbformat": 4,
 "nbformat_minor": 2
}
