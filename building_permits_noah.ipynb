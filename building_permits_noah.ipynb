{
 "cells": [
  {
   "cell_type": "code",
   "execution_count": null,
   "metadata": {},
   "outputs": [],
   "source": [
    "import numpy as np\n",
    "import pandas as pd\n",
    "\n",
    "import re\n",
    "\n",
    "import os.path\n",
    "from os import path\n",
    "\n",
    "from datetime import datetime\n",
    "\n",
    "%matplotlib inline\n",
    "import matplotlib.pyplot as plt\n",
    "import seaborn as sns\n",
    "\n",
    "from scipy import stats\n",
    "\n",
    "from sklearn.preprocessing import MinMaxScaler, StandardScaler, PowerTransformer\n",
    "from sklearn.cluster import KMeans\n",
    "\n",
    "import wrangle as wr\n",
    "import preprocessing as pr\n",
    "import explore as ex\n",
    "import model as mo\n",
    "\n",
    "import warnings\n",
    "warnings.filterwarnings(\"ignore\")"
   ]
  },
  {
   "cell_type": "code",
   "execution_count": null,
   "metadata": {},
   "outputs": [],
   "source": [
    "def acquire_building_permits():\n",
    "    \"\"\"\n",
    "    Docstring\n",
    "    \"\"\"\n",
    "    \n",
    "    # conditional\n",
    "    if path.exists(\"building_permits.csv\"):\n",
    "        \n",
    "        # read csv\n",
    "        df = pd.read_csv(\"building_permits.csv\", index_col=0)\n",
    "        \n",
    "    else:\n",
    "    \n",
    "        # create original df with 2019 data\n",
    "        df = pd.read_csv(\"https://www2.census.gov/econ/bps/Metro/ma2019a.txt\", sep=\",\", header=1)\n",
    "\n",
    "        # rename columns\n",
    "        rename_columns(df)\n",
    "\n",
    "        for i in range(1980, 2019):\n",
    "\n",
    "            # read the txt file at url where i is the year in range\n",
    "            year_df = pd.read_csv(\n",
    "                f\"https://www2.census.gov/econ/bps/Metro/ma{i}a.txt\",\n",
    "                sep=\",\",\n",
    "                header=1,\n",
    "                names=df.columns.tolist(),\n",
    "            )\n",
    "            \n",
    "            # append data to global df variable\n",
    "            df = df.append(year_df, ignore_index=True)\n",
    "\n",
    "        # make moncov into bool so that the null observations of this feature are not considered in the dropna below\n",
    "        df[\"moncov\"] = np.where(df.moncov == \"C\", 1, 0)\n",
    "\n",
    "        # dropna inplace\n",
    "        df.dropna(inplace=True)\n",
    "        \n",
    "        # chop off the succeding two digits after the year for survey_date\n",
    "        df[\"survey_date\"] = df.survey_date.astype(str).apply(lambda x: re.sub(r\"\\d\\d$\", \"\", x))\n",
    "        \n",
    "        # add a preceding \"19\" to any years where the length of the observation is 2 (e.i., \"80\"-\"97\")\n",
    "        df[\"survey_date\"] = df.survey_date.apply(lambda x: \"19\" + x if len(x) == 2 else x)\n",
    "        \n",
    "        # turn survey_date back into an int\n",
    "        df[\"survey_date\"] = df.survey_date.astype(int)\n",
    "        \n",
    "        # turn moncov back into a bool\n",
    "        df[\"moncov\"] = df.moncov.astype(bool)\n",
    "        \n",
    "        # sort values by survey_date\n",
    "        df.sort_values(by=[\"survey_date\"], ascending=False, inplace=True)\n",
    "\n",
    "        # reset index inplace\n",
    "        df.reset_index(inplace=True)\n",
    "\n",
    "        # drop former index inplace\n",
    "        df.drop(columns=[\"index\"], inplace=True)\n",
    "        \n",
    "        # write df to disk as csv\n",
    "        df.to_csv(\"building_permits.csv\")\n",
    "    \n",
    "    return df"
   ]
  },
  {
   "cell_type": "code",
   "execution_count": null,
   "metadata": {},
   "outputs": [],
   "source": [
    "def rename_columns(df):\n",
    "    \"\"\"\n",
    "    Docstring\n",
    "    \"\"\"\n",
    "    \n",
    "    # rename columns inplace\n",
    "    df.rename(\n",
    "        columns={\n",
    "            \"Date\": \"survey_date\",\n",
    "            \"Code\": \"csa_code\",\n",
    "            \"Code.1\": \"cbsa_code\",\n",
    "            \"Unnamed: 3\": \"moncov\",\n",
    "            \"Name\": \"cbsa_name\",\n",
    "            \"Bldgs\": \"one_unit_bldgs_est\",\n",
    "            \"Units\": \"one_unit_units_est\",\n",
    "            \"Value\": \"one_unit_value_est\",\n",
    "            \"Bldgs.1\": \"two_units_bldgs_est\",\n",
    "            \"Units.1\": \"two_units_units_est\",\n",
    "            \"Value.1\": \"two_units_value_est\",\n",
    "            \"Bldgs.2\": \"three_to_four_units_bldgs_est\",\n",
    "            \"Units.2\": \"three_to_four_units_units_est\",\n",
    "            \"Value.2\": \"three_to_four_units_value_est\",\n",
    "            \"Bldgs.3\": \"five_or_more_units_bldgs_est\",\n",
    "            \"Units.3\": \"five_or_more_units_units_est\",\n",
    "            \"Value.3\": \"five_or_more_units_value_est\",\n",
    "            \"Bldgs.4\": \"one_unit_bldgs_rep\",\n",
    "            \"Units.4\": \"one_unit_units_rep\",\n",
    "            \"Value.4\": \"one_unit_value_rep\",\n",
    "            \"Bldgs.5\": \"two_units_bldgs_rep\",\n",
    "            \"Units.5\": \"two_units_units_rep\",\n",
    "            \"Value.5\": \"two_units_value_rep\",\n",
    "            \"      Bldgs\": \"three_to_four_units_bldgs_rep\",\n",
    "            \"Units.6\": \"three_to_four_units_units_rep\",\n",
    "            \"Value.6\": \"three_to_four_units_value_rep\",\n",
    "            \"Bldgs.6\": \"five_or_more_units_bldgs_rep\",\n",
    "            \"Units.7\": \"five_or_more_units_units_rep\",\n",
    "            \"Value.7\": \"five_or_more_units_value_rep\",\n",
    "        },\n",
    "        inplace=True,\n",
    "        )\n",
    "    \n",
    "    return df\n"
   ]
  },
  {
   "cell_type": "code",
   "execution_count": 4,
   "metadata": {},
   "outputs": [],
   "source": [
    "df = acquire_building_permits()"
   ]
  },
  {
   "cell_type": "code",
   "execution_count": 5,
   "metadata": {},
   "outputs": [
    {
     "data": {
      "text/plain": [
       "(14149, 29)"
      ]
     },
     "execution_count": 5,
     "metadata": {},
     "output_type": "execute_result"
    }
   ],
   "source": [
    "df.shape"
   ]
  },
  {
   "cell_type": "code",
   "execution_count": 6,
   "metadata": {},
   "outputs": [],
   "source": [
    "def prep_building_permits(df_model):\n",
    "    df_model[\"city\"] = df_model.cbsa_name.str.split(\"  \", 1, expand = True)[0]\n",
    "    df_model[\"state\"] = df_model.cbsa_name.str.split(\"  \", 1, expand = True)[1]\n",
    "    df_model[\"major_city\"] = df_model.city.str.split(\"-\", 1, expand=True)[0]\n",
    "    df_model[\"major_state\"] = df_model.state.str.split(\"-\", 1, expand=True)[0]\n",
    "    df_model[\"metropolitan_area\"] = df_model.state.str.split(\"-\", 1, expand=True)[1]\n",
    "    df_model[\"metropolitan_area\"] = df_model.major_state.str.split(\" \", 1, expand=True)[1]\n",
    "    df_model[\"major_state\"] = df_model.major_state.str.split(\" \", 1, expand=True)[0]\n",
    "    df_model = df_model.groupby([\"major_city\",\"major_state\", \"survey_date\"]).sum().reset_index()\n",
    "    return df_model"
   ]
  },
  {
   "cell_type": "code",
   "execution_count": 9,
   "metadata": {},
   "outputs": [],
   "source": [
    "df_model = prep_building_permits(df)"
   ]
  },
  {
   "cell_type": "code",
   "execution_count": 10,
   "metadata": {},
   "outputs": [
    {
     "data": {
      "text/plain": [
       "23    236\n",
       "6      67\n",
       "17     62\n",
       "46     11\n",
       "11      7\n",
       "40      6\n",
       "10      4\n",
       "13      3\n",
       "2       2\n",
       "1       2\n",
       "22      2\n",
       "29      2\n",
       "21      1\n",
       "69      1\n",
       "16      1\n",
       "15      1\n",
       "12      1\n",
       "34      1\n",
       "7       1\n",
       "52      1\n",
       "63      1\n",
       "86      1\n",
       "Name: major_city, dtype: int64"
      ]
     },
     "execution_count": 10,
     "metadata": {},
     "output_type": "execute_result"
    }
   ],
   "source": [
    "df_model.major_city.value_counts().value_counts()"
   ]
  },
  {
   "cell_type": "code",
   "execution_count": 11,
   "metadata": {},
   "outputs": [
    {
     "data": {
      "text/plain": [
       "1997"
      ]
     },
     "execution_count": 11,
     "metadata": {},
     "output_type": "execute_result"
    }
   ],
   "source": [
    "df_model.survey_date.min()"
   ]
  },
  {
   "cell_type": "code",
   "execution_count": 12,
   "metadata": {},
   "outputs": [
    {
     "data": {
      "text/plain": [
       "2019"
      ]
     },
     "execution_count": 12,
     "metadata": {},
     "output_type": "execute_result"
    }
   ],
   "source": [
    "df_model.survey_date.max()"
   ]
  },
  {
   "cell_type": "code",
   "execution_count": 13,
   "metadata": {},
   "outputs": [],
   "source": [
    "# pd.set_option('display.max_rows', None)"
   ]
  },
  {
   "cell_type": "code",
   "execution_count": 14,
   "metadata": {},
   "outputs": [
    {
     "data": {
      "text/plain": [
       "0       Abilene\n",
       "1       Abilene\n",
       "2       Abilene\n",
       "3       Abilene\n",
       "4       Abilene\n",
       "         ...   \n",
       "8264       Yuma\n",
       "8265       Yuma\n",
       "8266       Yuma\n",
       "8267       Yuma\n",
       "8268       Yuma\n",
       "Name: major_city, Length: 8269, dtype: object"
      ]
     },
     "execution_count": 14,
     "metadata": {},
     "output_type": "execute_result"
    }
   ],
   "source": [
    "df_model.major_city"
   ]
  },
  {
   "cell_type": "code",
   "execution_count": 15,
   "metadata": {},
   "outputs": [],
   "source": [
    "mask = ((df_model.major_city.value_counts() == 23) | (df_model.major_city.value_counts() == 46))\n",
    "not_mask = df_model.major_city.value_counts() != 23"
   ]
  },
  {
   "cell_type": "code",
   "execution_count": 16,
   "metadata": {},
   "outputs": [
    {
     "data": {
      "text/plain": [
       "247"
      ]
     },
     "execution_count": 16,
     "metadata": {},
     "output_type": "execute_result"
    }
   ],
   "source": [
    "len(df_model.major_city.value_counts()[mask])"
   ]
  },
  {
   "cell_type": "code",
   "execution_count": 17,
   "metadata": {},
   "outputs": [
    {
     "data": {
      "text/plain": [
       "Abilene        23\n",
       "Akron          23\n",
       "Albuquerque    23\n",
       "Alexandria     23\n",
       "Allentown      23\n",
       "               ..\n",
       "Yakima         23\n",
       "York           23\n",
       "Youngstown     23\n",
       "Yuba City      23\n",
       "Yuma           23\n",
       "Name: major_city, Length: 247, dtype: int64"
      ]
     },
     "execution_count": 17,
     "metadata": {},
     "output_type": "execute_result"
    }
   ],
   "source": [
    "df_model.major_city.value_counts()[mask].sort_index()"
   ]
  },
  {
   "cell_type": "code",
   "execution_count": 21,
   "metadata": {},
   "outputs": [],
   "source": [
    "# city_mask = df_model.groupby(['major_city', 'major_state']).survey_date.agg('count')  == 23"
   ]
  },
  {
   "cell_type": "code",
   "execution_count": 33,
   "metadata": {},
   "outputs": [],
   "source": [
    "# mask_df = df_model.groupby(['major_city', 'major_state']).survey_date.agg('count')[city_mask].reset_index()"
   ]
  },
  {
   "cell_type": "code",
   "execution_count": 41,
   "metadata": {},
   "outputs": [],
   "source": [
    "# mask_df = mask_df[['major_city' , 'major_state']]"
   ]
  },
  {
   "cell_type": "code",
   "execution_count": 42,
   "metadata": {},
   "outputs": [],
   "source": []
  },
  {
   "cell_type": "code",
   "execution_count": 48,
   "metadata": {},
   "outputs": [],
   "source": [
    "df_model['city_state'] = df_model.major_city + '_' + df_model.major_state\n",
    "city_mask = df_model.city_state.value_counts()[df_model.city_state.value_counts() == 23].index.to_list()"
   ]
  },
  {
   "cell_type": "code",
   "execution_count": 134,
   "metadata": {},
   "outputs": [],
   "source": [
    "def filter_top_cities_building_permits(df):\n",
    "    \"\"\"\n",
    "    This function masks df in two ways:\n",
    "    city_mask returns cities with only continuously reported data\n",
    "    threshold_mask returns cities where they had at least one \"5 or more unit\" building permit for every year\n",
    "    Returns 130 cities for modeling\n",
    "    \"\"\"\n",
    "    df[\"city_state\"] = df[\"major_city\"] + \"_\" + df[\"major_state\"]\n",
    "\n",
    "    city_mask = df.groupby(\"city_state\").survey_date.count()\n",
    "\n",
    "    city_mask = city_mask[city_mask == 23]\n",
    "\n",
    "    # apply city mask to shrink the df\n",
    "    def in_city_mask(x):\n",
    "        return x in city_mask\n",
    "    df = df[df.city_state.apply(in_city_mask)]\n",
    "    \n",
    "    threshold_mask = df_model.groupby('city_state').five_or_more_units_bldgs_est.agg(lambda x: (x == 0).sum())\n",
    "\n",
    "    threshold_mask = threshold_mask[threshold_mask < 1].index.tolist()\n",
    "    \n",
    "    # apply threshold mask to shrink the df \n",
    "    def in_threshold_mask(x):\n",
    "        return x in threshold_mask\n",
    "    df = df[df.city_state.apply(in_threshold_mask)]\n",
    "\n",
    "    df = df.sort_values([\"major_city\", \"major_state\", \"survey_date\"])\n",
    "    \n",
    "    return df"
   ]
  },
  {
   "cell_type": "code",
   "execution_count": 132,
   "metadata": {},
   "outputs": [],
   "source": [
    "df_model = filter_top_cities_building_permits(df_model)"
   ]
  },
  {
   "cell_type": "code",
   "execution_count": 135,
   "metadata": {},
   "outputs": [
    {
     "data": {
      "text/plain": [
       "0.525418060200669"
      ]
     },
     "execution_count": 135,
     "metadata": {},
     "output_type": "execute_result"
    }
   ],
   "source": [
    "(df_model['five_or_more_units_bldgs_rep'] == df_model['five_or_more_units_bldgs_est']).mean()"
   ]
  },
  {
   "cell_type": "code",
   "execution_count": 107,
   "metadata": {},
   "outputs": [
    {
     "data": {
      "text/html": [
       "<div>\n",
       "<style scoped>\n",
       "    .dataframe tbody tr th:only-of-type {\n",
       "        vertical-align: middle;\n",
       "    }\n",
       "\n",
       "    .dataframe tbody tr th {\n",
       "        vertical-align: top;\n",
       "    }\n",
       "\n",
       "    .dataframe thead th {\n",
       "        text-align: right;\n",
       "    }\n",
       "</style>\n",
       "<table border=\"1\" class=\"dataframe\">\n",
       "  <thead>\n",
       "    <tr style=\"text-align: right;\">\n",
       "      <th></th>\n",
       "      <th>five_or_more_units_bldgs_est</th>\n",
       "      <th>five_or_more_units_units_est</th>\n",
       "      <th>five_or_more_units_value_est</th>\n",
       "    </tr>\n",
       "    <tr>\n",
       "      <th>city_state</th>\n",
       "      <th></th>\n",
       "      <th></th>\n",
       "      <th></th>\n",
       "    </tr>\n",
       "  </thead>\n",
       "  <tbody>\n",
       "    <tr>\n",
       "      <th>Abilene_TX</th>\n",
       "      <td>0.0</td>\n",
       "      <td>0.0</td>\n",
       "      <td>0.0</td>\n",
       "    </tr>\n",
       "    <tr>\n",
       "      <th>Abilene_TX</th>\n",
       "      <td>0.0</td>\n",
       "      <td>0.0</td>\n",
       "      <td>0.0</td>\n",
       "    </tr>\n",
       "    <tr>\n",
       "      <th>Abilene_TX</th>\n",
       "      <td>0.0</td>\n",
       "      <td>0.0</td>\n",
       "      <td>0.0</td>\n",
       "    </tr>\n",
       "    <tr>\n",
       "      <th>Abilene_TX</th>\n",
       "      <td>15.0</td>\n",
       "      <td>192.0</td>\n",
       "      <td>10200.0</td>\n",
       "    </tr>\n",
       "    <tr>\n",
       "      <th>Abilene_TX</th>\n",
       "      <td>13.0</td>\n",
       "      <td>192.0</td>\n",
       "      <td>6333.0</td>\n",
       "    </tr>\n",
       "    <tr>\n",
       "      <th>...</th>\n",
       "      <td>...</td>\n",
       "      <td>...</td>\n",
       "      <td>...</td>\n",
       "    </tr>\n",
       "    <tr>\n",
       "      <th>Yuma_AZ</th>\n",
       "      <td>0.0</td>\n",
       "      <td>0.0</td>\n",
       "      <td>0.0</td>\n",
       "    </tr>\n",
       "    <tr>\n",
       "      <th>Yuma_AZ</th>\n",
       "      <td>0.0</td>\n",
       "      <td>0.0</td>\n",
       "      <td>0.0</td>\n",
       "    </tr>\n",
       "    <tr>\n",
       "      <th>Yuma_AZ</th>\n",
       "      <td>8.0</td>\n",
       "      <td>68.0</td>\n",
       "      <td>8986.0</td>\n",
       "    </tr>\n",
       "    <tr>\n",
       "      <th>Yuma_AZ</th>\n",
       "      <td>0.0</td>\n",
       "      <td>0.0</td>\n",
       "      <td>0.0</td>\n",
       "    </tr>\n",
       "    <tr>\n",
       "      <th>Yuma_AZ</th>\n",
       "      <td>0.0</td>\n",
       "      <td>0.0</td>\n",
       "      <td>0.0</td>\n",
       "    </tr>\n",
       "  </tbody>\n",
       "</table>\n",
       "<p>6302 rows × 3 columns</p>\n",
       "</div>"
      ],
      "text/plain": [
       "            five_or_more_units_bldgs_est  five_or_more_units_units_est  \\\n",
       "city_state                                                               \n",
       "Abilene_TX                           0.0                           0.0   \n",
       "Abilene_TX                           0.0                           0.0   \n",
       "Abilene_TX                           0.0                           0.0   \n",
       "Abilene_TX                          15.0                         192.0   \n",
       "Abilene_TX                          13.0                         192.0   \n",
       "...                                  ...                           ...   \n",
       "Yuma_AZ                              0.0                           0.0   \n",
       "Yuma_AZ                              0.0                           0.0   \n",
       "Yuma_AZ                              8.0                          68.0   \n",
       "Yuma_AZ                              0.0                           0.0   \n",
       "Yuma_AZ                              0.0                           0.0   \n",
       "\n",
       "            five_or_more_units_value_est  \n",
       "city_state                                \n",
       "Abilene_TX                           0.0  \n",
       "Abilene_TX                           0.0  \n",
       "Abilene_TX                           0.0  \n",
       "Abilene_TX                       10200.0  \n",
       "Abilene_TX                        6333.0  \n",
       "...                                  ...  \n",
       "Yuma_AZ                              0.0  \n",
       "Yuma_AZ                              0.0  \n",
       "Yuma_AZ                           8986.0  \n",
       "Yuma_AZ                              0.0  \n",
       "Yuma_AZ                              0.0  \n",
       "\n",
       "[6302 rows x 3 columns]"
      ]
     },
     "execution_count": 107,
     "metadata": {},
     "output_type": "execute_result"
    }
   ],
   "source": [
    "explore_df = df_model[['city_state','five_or_more_units_bldgs_est', 'five_or_more_units_units_est',\n",
    "       'five_or_more_units_value_est']].set_index('city_state')\n",
    "\n",
    "explore_df"
   ]
  },
  {
   "cell_type": "code",
   "execution_count": 115,
   "metadata": {},
   "outputs": [
    {
     "data": {
      "text/html": [
       "<div>\n",
       "<style scoped>\n",
       "    .dataframe tbody tr th:only-of-type {\n",
       "        vertical-align: middle;\n",
       "    }\n",
       "\n",
       "    .dataframe tbody tr th {\n",
       "        vertical-align: top;\n",
       "    }\n",
       "\n",
       "    .dataframe thead th {\n",
       "        text-align: right;\n",
       "    }\n",
       "</style>\n",
       "<table border=\"1\" class=\"dataframe\">\n",
       "  <thead>\n",
       "    <tr style=\"text-align: right;\">\n",
       "      <th></th>\n",
       "      <th>mean</th>\n",
       "      <th>sum</th>\n",
       "      <th>&lt;lambda_0&gt;</th>\n",
       "      <th>&lt;lambda_1&gt;</th>\n",
       "    </tr>\n",
       "    <tr>\n",
       "      <th>city_state</th>\n",
       "      <th></th>\n",
       "      <th></th>\n",
       "      <th></th>\n",
       "      <th></th>\n",
       "    </tr>\n",
       "  </thead>\n",
       "  <tbody>\n",
       "    <tr>\n",
       "      <th>Abilene_TX</th>\n",
       "      <td>3.217391</td>\n",
       "      <td>74.0</td>\n",
       "      <td>0.0</td>\n",
       "      <td>16.0</td>\n",
       "    </tr>\n",
       "    <tr>\n",
       "      <th>Akron_OH</th>\n",
       "      <td>19.000000</td>\n",
       "      <td>437.0</td>\n",
       "      <td>1.0</td>\n",
       "      <td>2.0</td>\n",
       "    </tr>\n",
       "    <tr>\n",
       "      <th>Albany_GA</th>\n",
       "      <td>4.521739</td>\n",
       "      <td>104.0</td>\n",
       "      <td>1.0</td>\n",
       "      <td>3.0</td>\n",
       "    </tr>\n",
       "    <tr>\n",
       "      <th>Albany_NY</th>\n",
       "      <td>56.173913</td>\n",
       "      <td>1292.0</td>\n",
       "      <td>48.0</td>\n",
       "      <td>0.0</td>\n",
       "    </tr>\n",
       "    <tr>\n",
       "      <th>Albuquerque_NM</th>\n",
       "      <td>27.043478</td>\n",
       "      <td>622.0</td>\n",
       "      <td>16.0</td>\n",
       "      <td>0.0</td>\n",
       "    </tr>\n",
       "    <tr>\n",
       "      <th>...</th>\n",
       "      <td>...</td>\n",
       "      <td>...</td>\n",
       "      <td>...</td>\n",
       "      <td>...</td>\n",
       "    </tr>\n",
       "    <tr>\n",
       "      <th>Yakima_WA</th>\n",
       "      <td>6.652174</td>\n",
       "      <td>153.0</td>\n",
       "      <td>0.0</td>\n",
       "      <td>4.0</td>\n",
       "    </tr>\n",
       "    <tr>\n",
       "      <th>York_PA</th>\n",
       "      <td>13.260870</td>\n",
       "      <td>305.0</td>\n",
       "      <td>9.0</td>\n",
       "      <td>0.0</td>\n",
       "    </tr>\n",
       "    <tr>\n",
       "      <th>Youngstown_OH</th>\n",
       "      <td>5.217391</td>\n",
       "      <td>120.0</td>\n",
       "      <td>0.0</td>\n",
       "      <td>6.0</td>\n",
       "    </tr>\n",
       "    <tr>\n",
       "      <th>Yuba City_CA</th>\n",
       "      <td>3.565217</td>\n",
       "      <td>82.0</td>\n",
       "      <td>0.0</td>\n",
       "      <td>10.0</td>\n",
       "    </tr>\n",
       "    <tr>\n",
       "      <th>Yuma_AZ</th>\n",
       "      <td>4.695652</td>\n",
       "      <td>108.0</td>\n",
       "      <td>0.0</td>\n",
       "      <td>10.0</td>\n",
       "    </tr>\n",
       "  </tbody>\n",
       "</table>\n",
       "<p>274 rows × 4 columns</p>\n",
       "</div>"
      ],
      "text/plain": [
       "                     mean     sum  <lambda_0>  <lambda_1>\n",
       "city_state                                               \n",
       "Abilene_TX       3.217391    74.0         0.0        16.0\n",
       "Akron_OH        19.000000   437.0         1.0         2.0\n",
       "Albany_GA        4.521739   104.0         1.0         3.0\n",
       "Albany_NY       56.173913  1292.0        48.0         0.0\n",
       "Albuquerque_NM  27.043478   622.0        16.0         0.0\n",
       "...                   ...     ...         ...         ...\n",
       "Yakima_WA        6.652174   153.0         0.0         4.0\n",
       "York_PA         13.260870   305.0         9.0         0.0\n",
       "Youngstown_OH    5.217391   120.0         0.0         6.0\n",
       "Yuba City_CA     3.565217    82.0         0.0        10.0\n",
       "Yuma_AZ          4.695652   108.0         0.0        10.0\n",
       "\n",
       "[274 rows x 4 columns]"
      ]
     },
     "execution_count": 115,
     "metadata": {},
     "output_type": "execute_result"
    }
   ],
   "source": [
    "mode = lambda x:x.value_counts().index[0]\n",
    "nu_0 = lambda x: (x == 0).sum()\n",
    "\n",
    "explore_table = df_model.groupby('city_state').five_or_more_units_bldgs_est.agg(['mean', 'sum', mode, nu_0])\n",
    "explore_table"
   ]
  },
  {
   "cell_type": "code",
   "execution_count": 114,
   "metadata": {},
   "outputs": [],
   "source": [
    "threshold_mask = explore_table[explore_table['<lambda_1>'] < 1].index.tolist()"
   ]
  },
  {
   "cell_type": "code",
   "execution_count": 95,
   "metadata": {},
   "outputs": [
    {
     "data": {
      "text/plain": [
       "count      274.000000\n",
       "mean      1310.868613\n",
       "std       2746.072074\n",
       "min         20.000000\n",
       "25%        151.500000\n",
       "50%        386.500000\n",
       "75%        947.750000\n",
       "max      21671.000000\n",
       "Name: sum, dtype: float64"
      ]
     },
     "execution_count": 95,
     "metadata": {},
     "output_type": "execute_result"
    }
   ],
   "source": [
    "explore_table['sum'].describe()"
   ]
  },
  {
   "cell_type": "code",
   "execution_count": 96,
   "metadata": {},
   "outputs": [
    {
     "data": {
      "text/plain": [
       "<matplotlib.axes._subplots.AxesSubplot at 0x12a7cbc50>"
      ]
     },
     "execution_count": 96,
     "metadata": {},
     "output_type": "execute_result"
    },
    {
     "data": {
      "image/png": "[encoded data removed]",
      "text/plain": [
       "<Figure size 432x288 with 1 Axes>"
      ]
     },
     "metadata": {
      "needs_background": "light"
     },
     "output_type": "display_data"
    }
   ],
   "source": [
    "sns.boxplot(explore_table['sum'])"
   ]
  },
  {
   "cell_type": "code",
   "execution_count": 100,
   "metadata": {},
   "outputs": [
    {
     "data": {
      "text/plain": [
       "<matplotlib.axes._subplots.AxesSubplot at 0x12a552c90>"
      ]
     },
     "execution_count": 100,
     "metadata": {},
     "output_type": "execute_result"
    },
    {
     "data": {
      "image/png": "[encoded data removed]",
      "text/plain": [
       "<Figure size 432x288 with 1 Axes>"
      ]
     },
     "metadata": {
      "needs_background": "light"
     },
     "output_type": "display_data"
    }
   ],
   "source": [
    "sns.boxplot(explore_table['<lambda_1>'])"
   ]
  },
  {
   "cell_type": "code",
   "execution_count": null,
   "metadata": {},
   "outputs": [],
   "source": [
    "(df_model['five_or_more_units_bldgs_rep'] == df_model['five_or_more_units_bldgs_est']).mean()"
   ]
  },
  {
   "cell_type": "code",
   "execution_count": 136,
   "metadata": {},
   "outputs": [
    {
     "data": {
      "text/plain": [
       "Index(['survey_date', 'csa_code', 'cbsa_code', 'moncov', 'cbsa_name',\n",
       "       'one_unit_bldgs_est', 'one_unit_units_est', 'one_unit_value_est',\n",
       "       'two_units_bldgs_est', 'two_units_units_est', 'two_units_value_est',\n",
       "       'three_to_four_units_bldgs_est', 'three_to_four_units_units_est',\n",
       "       'three_to_four_units_value_est', 'five_or_more_units_bldgs_est',\n",
       "       'five_or_more_units_units_est', 'five_or_more_units_value_est',\n",
       "       'one_unit_bldgs_rep', 'one_unit_units_rep', 'one_unit_value_rep',\n",
       "       'two_units_bldgs_rep', 'two_units_units_rep', 'two_units_value_rep',\n",
       "       'three_to_four_units_bldgs_rep', 'three_to_four_units_units_rep',\n",
       "       'three_to_four_units_value_rep', 'five_or_more_units_bldgs_rep',\n",
       "       'five_or_more_units_units_rep', 'five_or_more_units_value_rep', 'city',\n",
       "       'state', 'major_city', 'major_state', 'metropolitan_area',\n",
       "       'city_state'],\n",
       "      dtype='object')"
      ]
     },
     "execution_count": 136,
     "metadata": {},
     "output_type": "execute_result"
    }
   ],
   "source": [
    "df.columns"
   ]
  },
  {
   "cell_type": "code",
   "execution_count": 139,
   "metadata": {},
   "outputs": [],
   "source": [
    "# difference in est vs rep\n",
    "\n",
    "rep_est = df_model[['city_state', 'five_or_more_units_bldgs_est',\n",
    "       'five_or_more_units_units_est', 'five_or_more_units_value_est' ,'five_or_more_units_bldgs_rep',\n",
    "       'five_or_more_units_units_rep', 'five_or_more_units_value_rep']]\n"
   ]
  },
  {
   "cell_type": "code",
   "execution_count": 149,
   "metadata": {},
   "outputs": [
    {
     "data": {
      "text/plain": [
       "0.07930700527278597"
      ]
     },
     "execution_count": 149,
     "metadata": {},
     "output_type": "execute_result"
    }
   ],
   "source": [
    "\n",
    "dif = (abs(rep_est.five_or_more_units_bldgs_rep - rep_est.five_or_more_units_bldgs_est).sum())\n",
    "total = rep_est.five_or_more_units_bldgs_est.sum()\n",
    "\n",
    "perc_dif = dif/total\n",
    "\n",
    "perc_dif"
   ]
  },
  {
   "cell_type": "code",
   "execution_count": 151,
   "metadata": {},
   "outputs": [
    {
     "data": {
      "text/plain": [
       "0.035487266652518404"
      ]
     },
     "execution_count": 151,
     "metadata": {},
     "output_type": "execute_result"
    }
   ],
   "source": [
    "dif = (abs(rep_est.five_or_more_units_value_rep - rep_est.five_or_more_units_value_est).sum())\n",
    "total = rep_est.five_or_more_units_value_est.sum()\n",
    "\n",
    "perc_dif = dif/total\n",
    "\n",
    "perc_dif"
   ]
  },
  {
   "cell_type": "code",
   "execution_count": 153,
   "metadata": {},
   "outputs": [
    {
     "data": {
      "text/plain": [
       "0.040841195944314436"
      ]
     },
     "execution_count": 153,
     "metadata": {},
     "output_type": "execute_result"
    }
   ],
   "source": [
    "dif = (abs(rep_est.five_or_more_units_units_rep - rep_est.five_or_more_units_units_est).sum())\n",
    "total = rep_est.five_or_more_units_units_est.sum()\n",
    "\n",
    "perc_dif = dif/total\n",
    "\n",
    "perc_dif"
   ]
  },
  {
   "cell_type": "code",
   "execution_count": 159,
   "metadata": {},
   "outputs": [],
   "source": [
    "df_model = df_model.rename(columns={\n",
    "    'survey_date': 'year',\n",
    "    'major_city': 'city',\n",
    "    'major_state': 'state'\n",
    "})"
   ]
  },
  {
   "cell_type": "code",
   "execution_count": 162,
   "metadata": {},
   "outputs": [],
   "source": [
    "def labeling_future_data(df):\n",
    "    \"\"\"this function takes in a data frame and returns a boolean column that identifies\n",
    "    if a city_state_year is a market that should be entered\"\"\"\n",
    "    \n",
    "    df[\"five_or_more_units_bldgs_est_2y\"] = (df.sort_values([\"year\"])\n",
    "                                  .groupby([\"city\", \"state\"])[[\"five_or_more_units_bldgs_est\"]]\n",
    "                                  .pct_change(2)\n",
    "                                  .shift(-2))\n",
    "    \n",
    "    df[\"five_or_more_units_value_est_2y\"] = (df.sort_values([\"year\"])\n",
    "                                  .groupby([\"city\", \"state\"])[[\"five_or_more_units_value_est\"]]\n",
    "                                  .pct_change(2)\n",
    "                                  .shift(-2))\n",
    "    \n",
    "    Q3 = df.five_or_more_units_bldgs_est_2y.quantile(.75)\n",
    "    Q1 = df.five_or_more_units_bldgs_est_2y.quantile(.25)\n",
    "    upper_fence_quantity = Q3 + ((Q3-Q1)*1.5)\n",
    "    upper_fence_quantity\n",
    "    \n",
    "    Q3 = df.five_or_more_units_value_est_2y.quantile(.75)\n",
    "    Q1 = df.five_or_more_units_value_est_2y.quantile(.25)\n",
    "    upper_fence_volume = Q3 + ((Q3-Q1)*1.5)\n",
    "    upper_fence_volume\n",
    "    \n",
    "    df['should_enter'] = (df.five_or_more_units_value_est_2y > upper_fence_volume) | (df.five_or_more_units_bldgs_est_2y > upper_fence_quantity)\n",
    "    \n",
    "    return df"
   ]
  },
  {
   "cell_type": "code",
   "execution_count": 163,
   "metadata": {},
   "outputs": [],
   "source": [
    "df_model = labeling_future_data(df_model)"
   ]
  },
  {
   "cell_type": "code",
   "execution_count": 164,
   "metadata": {},
   "outputs": [
    {
     "data": {
      "text/plain": [
       "0.10568561872909699"
      ]
     },
     "execution_count": 164,
     "metadata": {},
     "output_type": "execute_result"
    }
   ],
   "source": [
    "df_model.should_enter.mean()"
   ]
  },
  {
   "cell_type": "code",
   "execution_count": 170,
   "metadata": {},
   "outputs": [
    {
     "data": {
      "text/plain": [
       "<matplotlib.axes._subplots.AxesSubplot at 0x12a7e5fd0>"
      ]
     },
     "execution_count": 170,
     "metadata": {},
     "output_type": "execute_result"
    },
    {
     "data": {
      "image/png": "[encoded data removed]",
      "text/plain": [
       "<Figure size 1152x648 with 1 Axes>"
      ]
     },
     "metadata": {
      "needs_background": "light"
     },
     "output_type": "display_data"
    }
   ],
   "source": [
    "plt.figure(figsize=(16,9))\n",
    "sns.scatterplot(x='five_or_more_units_value_est_2y', y='five_or_more_units_bldgs_est_2y', data=df_model, hue='should_enter')"
   ]
  },
  {
   "cell_type": "code",
   "execution_count": 188,
   "metadata": {},
   "outputs": [
    {
     "data": {
      "text/plain": [
       "array(['Albany', 'Albuquerque', 'Anchorage', 'Atlanta', 'Austin',\n",
       "       'Baltimore', 'Birmingham', 'Boston', 'Charleston', 'Charlotte',\n",
       "       'Chicago', 'Cincinnati', 'Colorado Springs', 'Columbia',\n",
       "       'Columbus', 'Denver', 'Des Moines', 'Detroit', 'El Paso', 'Fargo',\n",
       "       'Fayetteville', 'Fort Collins', 'Greeley', 'Greensboro',\n",
       "       'Greenville', 'Harrisburg', 'Hartford', 'Houston', 'Indianapolis',\n",
       "       'Jacksonville', 'Kansas City', 'Lancaster', 'Las Vegas',\n",
       "       'Lexington', 'Los Angeles', 'Louisville', 'Lubbock', 'Madison',\n",
       "       'Memphis', 'Miami', 'Minneapolis', 'Myrtle Beach', 'Naples',\n",
       "       'Nashville', 'New Haven', 'New Orleans', 'New York',\n",
       "       'Oklahoma City', 'Omaha', 'Orlando', 'Philadelphia', 'Phoenix',\n",
       "       'Pittsburgh', 'Portland', 'Raleigh', 'Reno', 'Richmond',\n",
       "       'Riverside', 'Rochester', 'Sacramento', 'Salt Lake City',\n",
       "       'San Antonio', 'San Diego', 'San Francisco', 'San Jose',\n",
       "       'Santa Rosa', 'Seattle', 'Sioux Falls', 'Springfield', 'St. Louis',\n",
       "       'Tallahassee', 'Toledo', 'Tuscaloosa', 'Washington', 'Wilmington'],\n",
       "      dtype=object)"
      ]
     },
     "execution_count": 188,
     "metadata": {},
     "output_type": "execute_result"
    }
   ],
   "source": [
    "(df_model[df_model.should_enter][df_model.five_or_more_units_value_est > df_model.five_or_more_units_value_est.quantile(.50)]).city.unique()"
   ]
  },
  {
   "cell_type": "code",
   "execution_count": 179,
   "metadata": {},
   "outputs": [
    {
     "data": {
      "text/plain": [
       "count    2.990000e+03\n",
       "mean     2.173416e+05\n",
       "std      4.862564e+05\n",
       "min      1.470000e+02\n",
       "25%      1.679425e+04\n",
       "50%      4.822950e+04\n",
       "75%      1.664605e+05\n",
       "max      8.471944e+06\n",
       "Name: five_or_more_units_value_est, dtype: float64"
      ]
     },
     "execution_count": 179,
     "metadata": {},
     "output_type": "execute_result"
    }
   ],
   "source": [
    "df_model.five_or_more_units_value_est.describe()"
   ]
  },
  {
   "cell_type": "code",
   "execution_count": null,
   "metadata": {},
   "outputs": [],
   "source": [
    "potential market value = "
   ]
  }
 ],
 "metadata": {
  "kernelspec": {
   "display_name": "Python 3",
   "language": "python",
   "name": "python3"
  },
  "language_info": {
   "codemirror_mode": {
    "name": "ipython",
    "version": 3
   },
   "file_extension": ".py",
   "mimetype": "text/x-python",
   "name": "python",
   "nbconvert_exporter": "python",
   "pygments_lexer": "ipython3",
   "version": "3.7.4"
  }
 },
 "nbformat": 4,
 "nbformat_minor": 2
}
