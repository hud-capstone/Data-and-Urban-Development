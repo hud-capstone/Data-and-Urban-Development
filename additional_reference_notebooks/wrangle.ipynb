{
 "cells": [
  {
   "cell_type": "code",
   "execution_count": 23,
   "metadata": {},
   "outputs": [],
   "source": [
    "import numpy as np\n",
    "import pandas as pd\n",
    "import os\n",
    "\n",
    "import seaborn as sns\n",
    "import matplotlib.pyplot as plt\n",
    "\n",
    "import itertools\n",
    "\n",
    "from wrangle import wrangle_hud\n",
    "import preprocessing"
   ]
  },
  {
   "cell_type": "code",
   "execution_count": 45,
   "metadata": {},
   "outputs": [],
   "source": [
    "pd.set_option('display.float_format', lambda x: '%.2f' % x)"
   ]
  },
  {
   "cell_type": "markdown",
   "metadata": {},
   "source": [
    "# Acquire\n",
    "All functions are called in `wrangle.py` file.\n",
    "## Functions\n",
    "- `acquire_fha_data.py` - This function takes fha data from hud website (url, sheet_name) turns it into pandas df.\n",
    "    - url = https://www.hud.gov/sites/dfiles/Housing/documents/Initi_Endores_Firm%20Comm_DB_FY06_FY20_Q2.xlsx\n",
    "    - sheet_name = \"Firm Cmtmts, Iss'd and Reiss'd\"\n",
    "    - The dataset can be physically found at https://www.hud.gov/program_offices/housing/mfh/mfdata/mfproduction"
   ]
  },
  {
   "cell_type": "markdown",
   "metadata": {},
   "source": [
    "# Prepare\n",
    "All functions are called in `wrangle.py` file\n",
    "\n",
    "\n",
    "## Functions\n",
    "\n",
    "- `drop_multiple_fha_numbers` - Drops repeat entries by taking the most recent option\n",
    "- `snake_case_column_names` - makes column names snake case\n",
    "- `change_to_bool` - changes columns with [0, Y] values to bool (Y= True)\n",
    "- `changing_data_types` - changes dtypes for datetime and turn fha_number into an object\n",
    "- `make_activity_construction_bool` - makes boolean columns for is_refinance and is_new_construction\n",
    "- `wrangle_hud` - mother function that also removes lower outlier and does some minor cell changes"
   ]
  },
  {
   "cell_type": "code",
   "execution_count": 46,
   "metadata": {},
   "outputs": [],
   "source": [
    "df = wrangle_hud()"
   ]
  },
  {
   "cell_type": "markdown",
   "metadata": {},
   "source": [
    "## Data Summary"
   ]
  },
  {
   "cell_type": "code",
   "execution_count": 47,
   "metadata": {},
   "outputs": [
    {
     "name": "stdout",
     "output_type": "stream",
     "text": [
      "This data frame is 20409 rows and 31 columns.\n",
      "Currently, each observation is one mortgage, which will change for modelling\n",
      "\n",
      "\n",
      "<class 'pandas.core.frame.DataFrame'>\n",
      "Int64Index: 20409 entries, 0 to 20514\n",
      "Data columns (total 31 columns):\n",
      "fha_number                                                              20409 non-null object\n",
      "project_name                                                            20409 non-null object\n",
      "project_city                                                            20409 non-null object\n",
      "project_state                                                           20409 non-null object\n",
      "basic_fha_risk_share_or_other                                           20409 non-null object\n",
      "program_category                                                        20409 non-null object\n",
      "activity_description                                                    20409 non-null object\n",
      "activity_group                                                          20409 non-null object\n",
      "facility_type                                                           20409 non-null object\n",
      "program_designation                                                     20409 non-null object\n",
      "firm_commitment_activity                                                20409 non-null object\n",
      "lender_at_firm_commitment_activity                                      20409 non-null object\n",
      "mortgage_at_time_of_firm_commitment_issuance_amendment_or_reissuance    20409 non-null int64\n",
      "unit_or_bed_count                                                       20409 non-null int64\n",
      "date_of_firm_commitment_activity                                        20409 non-null datetime64[ns]\n",
      "fiscal_year_of_firm_commitment_activity                                 20409 non-null int64\n",
      "mortgage_at_firm_commitment_issuance                                    20409 non-null int64\n",
      "date_of_firm_issue                                                      20409 non-null datetime64[ns]\n",
      "fiscal_year_of_firm_commitment                                          20409 non-null int64\n",
      "map_or_tap                                                              20409 non-null object\n",
      "lihtc_designation                                                       20409 non-null bool\n",
      "tax_exempt_bond_designation                                             20409 non-null bool\n",
      "home_designation                                                        20409 non-null bool\n",
      "cdbg_designation                                                        20409 non-null bool\n",
      "section_202_refi_designation                                            20409 non-null bool\n",
      "irp_decoupling_designation                                              20409 non-null bool\n",
      "hope_vi_designation                                                     20409 non-null bool\n",
      "current_status                                                          20409 non-null object\n",
      "final_mortgage_amount                                                   20409 non-null int64\n",
      "is_refinance                                                            20409 non-null bool\n",
      "is_new_construction                                                     20409 non-null bool\n",
      "dtypes: bool(9), datetime64[ns](2), int64(6), object(14)\n",
      "memory usage: 3.8+ MB\n"
     ]
    }
   ],
   "source": [
    "print (f'This data frame is {df.shape[0]} rows and {df.shape[1]} columns.')\n",
    "print ('Currently, each observation is one mortgage, which will change for modelling')\n",
    "print()\n",
    "print()\n",
    "df.info()"
   ]
  },
  {
   "cell_type": "code",
   "execution_count": 48,
   "metadata": {},
   "outputs": [
    {
     "data": {
      "text/html": [
       "<div>\n",
       "<style scoped>\n",
       "    .dataframe tbody tr th:only-of-type {\n",
       "        vertical-align: middle;\n",
       "    }\n",
       "\n",
       "    .dataframe tbody tr th {\n",
       "        vertical-align: top;\n",
       "    }\n",
       "\n",
       "    .dataframe thead th {\n",
       "        text-align: right;\n",
       "    }\n",
       "</style>\n",
       "<table border=\"1\" class=\"dataframe\">\n",
       "  <thead>\n",
       "    <tr style=\"text-align: right;\">\n",
       "      <th></th>\n",
       "      <th>fha_number</th>\n",
       "      <th>project_name</th>\n",
       "      <th>project_city</th>\n",
       "      <th>project_state</th>\n",
       "      <th>basic_fha_risk_share_or_other</th>\n",
       "      <th>program_category</th>\n",
       "      <th>activity_description</th>\n",
       "      <th>activity_group</th>\n",
       "      <th>facility_type</th>\n",
       "      <th>program_designation</th>\n",
       "      <th>...</th>\n",
       "      <th>tax_exempt_bond_designation</th>\n",
       "      <th>home_designation</th>\n",
       "      <th>cdbg_designation</th>\n",
       "      <th>section_202_refi_designation</th>\n",
       "      <th>irp_decoupling_designation</th>\n",
       "      <th>hope_vi_designation</th>\n",
       "      <th>current_status</th>\n",
       "      <th>final_mortgage_amount</th>\n",
       "      <th>is_refinance</th>\n",
       "      <th>is_new_construction</th>\n",
       "    </tr>\n",
       "  </thead>\n",
       "  <tbody>\n",
       "    <tr>\n",
       "      <th>0</th>\n",
       "      <td>11345004</td>\n",
       "      <td>Western Heights Apartments</td>\n",
       "      <td>Olney</td>\n",
       "      <td>TX</td>\n",
       "      <td>Basic FHA</td>\n",
       "      <td>223a7 Refi Apts</td>\n",
       "      <td>Refinance</td>\n",
       "      <td>Refi/ Pchse</td>\n",
       "      <td>Apts</td>\n",
       "      <td>a7/236</td>\n",
       "      <td>...</td>\n",
       "      <td>False</td>\n",
       "      <td>False</td>\n",
       "      <td>False</td>\n",
       "      <td>False</td>\n",
       "      <td>False</td>\n",
       "      <td>False</td>\n",
       "      <td>Firm Comit then Owner Withdrew</td>\n",
       "      <td>271700</td>\n",
       "      <td>True</td>\n",
       "      <td>False</td>\n",
       "    </tr>\n",
       "    <tr>\n",
       "      <th>1</th>\n",
       "      <td>11345005</td>\n",
       "      <td>Woodlands Village Apts</td>\n",
       "      <td>Breckenridge</td>\n",
       "      <td>TX</td>\n",
       "      <td>Basic FHA</td>\n",
       "      <td>223a7 Refi Apts</td>\n",
       "      <td>Refinance</td>\n",
       "      <td>Refi/ Pchse</td>\n",
       "      <td>Apts</td>\n",
       "      <td>a7/236</td>\n",
       "      <td>...</td>\n",
       "      <td>False</td>\n",
       "      <td>False</td>\n",
       "      <td>False</td>\n",
       "      <td>False</td>\n",
       "      <td>False</td>\n",
       "      <td>False</td>\n",
       "      <td>Finally Endorsed</td>\n",
       "      <td>168300</td>\n",
       "      <td>True</td>\n",
       "      <td>False</td>\n",
       "    </tr>\n",
       "  </tbody>\n",
       "</table>\n",
       "<p>2 rows × 31 columns</p>\n",
       "</div>"
      ],
      "text/plain": [
       "  fha_number                project_name  project_city project_state  \\\n",
       "0   11345004  Western Heights Apartments         Olney            TX   \n",
       "1   11345005      Woodlands Village Apts  Breckenridge            TX   \n",
       "\n",
       "  basic_fha_risk_share_or_other program_category activity_description  \\\n",
       "0                     Basic FHA  223a7 Refi Apts            Refinance   \n",
       "1                     Basic FHA  223a7 Refi Apts            Refinance   \n",
       "\n",
       "  activity_group facility_type program_designation  ...  \\\n",
       "0    Refi/ Pchse          Apts              a7/236  ...   \n",
       "1    Refi/ Pchse          Apts              a7/236  ...   \n",
       "\n",
       "  tax_exempt_bond_designation home_designation  cdbg_designation  \\\n",
       "0                       False            False             False   \n",
       "1                       False            False             False   \n",
       "\n",
       "   section_202_refi_designation irp_decoupling_designation  \\\n",
       "0                         False                      False   \n",
       "1                         False                      False   \n",
       "\n",
       "   hope_vi_designation                  current_status final_mortgage_amount  \\\n",
       "0                False  Firm Comit then Owner Withdrew                271700   \n",
       "1                False                Finally Endorsed                168300   \n",
       "\n",
       "   is_refinance is_new_construction  \n",
       "0          True               False  \n",
       "1          True               False  \n",
       "\n",
       "[2 rows x 31 columns]"
      ]
     },
     "execution_count": 48,
     "metadata": {},
     "output_type": "execute_result"
    }
   ],
   "source": [
    "df.head(2)"
   ]
  },
  {
   "cell_type": "code",
   "execution_count": 49,
   "metadata": {},
   "outputs": [
    {
     "data": {
      "text/plain": [
       "Text(0.5, 1.0, 'Histogram of Mortgages by Year')"
      ]
     },
     "execution_count": 49,
     "metadata": {},
     "output_type": "execute_result"
    },
    {
     "data": {
      "image/png": "[encoded data removed]",
      "text/plain": [
       "<Figure size 432x288 with 1 Axes>"
      ]
     },
     "metadata": {
      "needs_background": "light"
     },
     "output_type": "display_data"
    }
   ],
   "source": [
    "df.fiscal_year_of_firm_commitment_activity.hist(color='green', bins=15)\n",
    "plt.title('Histogram of Mortgages by Year')"
   ]
  },
  {
   "cell_type": "code",
   "execution_count": 50,
   "metadata": {},
   "outputs": [
    {
     "data": {
      "text/plain": [
       "Text(0, 0.5, '')"
      ]
     },
     "execution_count": 50,
     "metadata": {},
     "output_type": "execute_result"
    },
    {
     "data": {
      "image/png": "[encoded data removed]",
      "text/plain": [
       "<Figure size 432x288 with 1 Axes>"
      ]
     },
     "metadata": {
      "needs_background": "light"
     },
     "output_type": "display_data"
    }
   ],
   "source": [
    "df.groupby('project_city').final_mortgage_amount.count().nlargest(20).plot.barh(color='magenta')\n",
    "plt.title('Number of Mortgages by City')\n",
    "plt.ylabel(\"\")"
   ]
  },
  {
   "cell_type": "code",
   "execution_count": 51,
   "metadata": {
    "scrolled": true
   },
   "outputs": [
    {
     "data": {
      "text/plain": [
       "Text(0.5, 1.0, 'Outliers Skewing Mortgage amount Data')"
      ]
     },
     "execution_count": 51,
     "metadata": {},
     "output_type": "execute_result"
    },
    {
     "data": {
      "image/png": "[encoded data removed]",
      "text/plain": [
       "<Figure size 432x288 with 1 Axes>"
      ]
     },
     "metadata": {
      "needs_background": "light"
     },
     "output_type": "display_data"
    }
   ],
   "source": [
    "sns.boxplot(df.final_mortgage_amount)\n",
    "plt.title(\"Outliers Skewing Mortgage amount Data\")"
   ]
  },
  {
   "cell_type": "code",
   "execution_count": 63,
   "metadata": {},
   "outputs": [
    {
     "name": "stdout",
     "output_type": "stream",
     "text": [
      "The difference between the mean and the median is 4063026\n"
     ]
    },
    {
     "data": {
      "text/plain": [
       "count       20409.00\n",
       "mean     10785326.03\n",
       "std      15642874.34\n",
       "min         70100.00\n",
       "25%       3420500.00\n",
       "50%       6722300.00\n",
       "75%      13295800.00\n",
       "max     755874500.00\n",
       "Name: final_mortgage_amount, dtype: float64"
      ]
     },
     "execution_count": 63,
     "metadata": {},
     "output_type": "execute_result"
    }
   ],
   "source": [
    "mean_diff = df.final_mortgage_amount.mean()-df.final_mortgage_amount.median()\n",
    "print(f'The difference between the mean and the median is {round(mean_diff)}')\n",
    "\n",
    "df.final_mortgage_amount.describe()"
   ]
  },
  {
   "cell_type": "markdown",
   "metadata": {},
   "source": [
    "# Exploration"
   ]
  },
  {
   "cell_type": "code",
   "execution_count": null,
   "metadata": {},
   "outputs": [],
   "source": []
  }
 ],
 "metadata": {
  "kernelspec": {
   "display_name": "Python 3",
   "language": "python",
   "name": "python3"
  },
  "language_info": {
   "codemirror_mode": {
    "name": "ipython",
    "version": 3
   },
   "file_extension": ".py",
   "mimetype": "text/x-python",
   "name": "python",
   "nbconvert_exporter": "python",
   "pygments_lexer": "ipython3",
   "version": "3.7.4"
  }
 },
 "nbformat": 4,
 "nbformat_minor": 2
}
