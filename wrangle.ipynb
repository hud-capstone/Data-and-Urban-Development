{
 "cells": [
  {
   "cell_type": "code",
   "execution_count": 7,
   "metadata": {},
   "outputs": [],
   "source": [
    "import numpy as np\n",
    "import pandas as pd\n",
    "import os\n",
    "\n",
    "import itertools\n",
    "\n",
    "from wrangle import wrangle_hud"
   ]
  },
  {
   "cell_type": "markdown",
   "metadata": {},
   "source": [
    "# Acquire\n",
    "All functions are called in `wrangle.py` file.\n",
    "## Functions\n",
    "- `acquire_fha_data.py` - This function takes fha data from hud website (url, sheet_name) turns it into pandas df.\n",
    "    - url = https://www.hud.gov/sites/dfiles/Housing/documents/Initi_Endores_Firm%20Comm_DB_FY06_FY20_Q2.xlsx\n",
    "    - sheet_name = \"Firm Cmtmts, Iss'd and Reiss'd\"\n",
    "    - The dataset can be physically found at https://www.hud.gov/program_offices/housing/mfh/mfdata/mfproduction"
   ]
  },
  {
   "cell_type": "markdown",
   "metadata": {},
   "source": [
    "# Prepare\n",
    "All functions are called in `wrangle.py` file\n",
    "\n",
    "## Functions"
   ]
  },
  {
   "cell_type": "code",
   "execution_count": 56,
   "metadata": {},
   "outputs": [],
   "source": [
    "# there is something wrong with the clean_date.csv\n",
    "\n",
    "# df = wrangle_hud()\n",
    "\n",
    "df = pd.read_csv(\"clean_data.csv\")"
   ]
  },
  {
   "cell_type": "code",
   "execution_count": 62,
   "metadata": {},
   "outputs": [],
   "source": [
    "def set_date_column(df): \n",
    "    \"\"\"function drops all 2020 data and changes feature column\"\"\"\n",
    "    # take this out of the function when I have an internet connection:\n",
    "    df.date_of_firm_commitment_activity = pd.to_datetime(df.date_of_firm_commitment_activity)\n",
    "    #drop 2020 mortgage data\n",
    "    df = df[df.date_of_firm_commitment_activity < '2020-01-01']\n",
    "    pd.to_datetime(df.date_of_firm_commitment_activity)\n",
    "    # change date_of_firm_commitment_activity to Y only\n",
    "    df.date_of_firm_commitment_activity = df.date_of_firm_commitment_activity.apply(lambda x: x.year)\n",
    "    \n",
    "    return df"
   ]
  },
  {
   "cell_type": "code",
   "execution_count": 68,
   "metadata": {},
   "outputs": [
    {
     "name": "stderr",
     "output_type": "stream",
     "text": [
      "/usr/local/anaconda3/lib/python3.7/site-packages/ipykernel_launcher.py:3: SettingWithCopyWarning: \n",
      "A value is trying to be set on a copy of a slice from a DataFrame.\n",
      "Try using .loc[row_indexer,col_indexer] = value instead\n",
      "\n",
      "See the caveats in the documentation: http://pandas.pydata.org/pandas-docs/stable/user_guide/indexing.html#returning-a-view-versus-a-copy\n",
      "  This is separate from the ipykernel package so we can avoid doing imports until\n"
     ]
    }
   ],
   "source": [
    "def make_refinance_bool(df):\n",
    "    \"\"\"makes a boolean column indicating whether the mortgage was for a refinance\"\"\"\n",
    "    \n",
    "    df['is_refinance'] = df.activity_description == 'Refinance'\n",
    "    \n",
    "    return df"
   ]
  },
  {
   "cell_type": "code",
   "execution_count": 93,
   "metadata": {},
   "outputs": [],
   "source": [
    "unique_fha_list = df.fha_number.value_counts()[df.fha_number.value_counts() == 1]\n",
    "def in_unique_list(x):\n",
    "    return x in unique_fha_list\n",
    "df_unique = df[df.fha_number.apply(in_unique_list)]"
   ]
  },
  {
   "cell_type": "code",
   "execution_count": 92,
   "metadata": {},
   "outputs": [],
   "source": [
    "repeat_fha_numbers = df.fha_number.value_counts()[df.fha_number.value_counts() != 1].index\n",
    "def in_repeat_list(x):\n",
    "    return x in repeat_fha_numbers\n",
    "df_repeat = df[df.fha_number.apply(in_repeat_list)]"
   ]
  },
  {
   "cell_type": "code",
   "execution_count": 105,
   "metadata": {},
   "outputs": [],
   "source": [
    "repeat_filter = pd.DataFrame(df_repeat.groupby('fha_number').date_of_firm_issue.max()).reset_index()"
   ]
  },
  {
   "cell_type": "code",
   "execution_count": 107,
   "metadata": {},
   "outputs": [
    {
     "data": {
      "text/html": [
       "<div>\n",
       "<style scoped>\n",
       "    .dataframe tbody tr th:only-of-type {\n",
       "        vertical-align: middle;\n",
       "    }\n",
       "\n",
       "    .dataframe tbody tr th {\n",
       "        vertical-align: top;\n",
       "    }\n",
       "\n",
       "    .dataframe thead th {\n",
       "        text-align: right;\n",
       "    }\n",
       "</style>\n",
       "<table border=\"1\" class=\"dataframe\">\n",
       "  <thead>\n",
       "    <tr style=\"text-align: right;\">\n",
       "      <th></th>\n",
       "      <th>fha_number</th>\n",
       "      <th>date_of_firm_issue</th>\n",
       "    </tr>\n",
       "  </thead>\n",
       "  <tbody>\n",
       "    <tr>\n",
       "      <th>0</th>\n",
       "      <td>35493</td>\n",
       "      <td>2012-07-31</td>\n",
       "    </tr>\n",
       "    <tr>\n",
       "      <th>1</th>\n",
       "      <td>35512</td>\n",
       "      <td>2013-12-04</td>\n",
       "    </tr>\n",
       "  </tbody>\n",
       "</table>\n",
       "</div>"
      ],
      "text/plain": [
       "   fha_number date_of_firm_issue\n",
       "0       35493         2012-07-31\n",
       "1       35512         2013-12-04"
      ]
     },
     "execution_count": 107,
     "metadata": {},
     "output_type": "execute_result"
    }
   ],
   "source": [
    "repeat_filter.head(2)"
   ]
  },
  {
   "cell_type": "code",
   "execution_count": 111,
   "metadata": {},
   "outputs": [
    {
     "ename": "ValueError",
     "evalue": "The truth value of a Series is ambiguous. Use a.empty, a.bool(), a.item(), a.any() or a.all().",
     "output_type": "error",
     "traceback": [
      "\u001b[0;31m---------------------------------------------------------------------------\u001b[0m",
      "\u001b[0;31mValueError\u001b[0m                                Traceback (most recent call last)",
      "\u001b[0;32m<ipython-input-111-45f810f31f1f>\u001b[0m in \u001b[0;36m<module>\u001b[0;34m\u001b[0m\n\u001b[0;32m----> 1\u001b[0;31m \u001b[0;32mif\u001b[0m \u001b[0mdf\u001b[0m\u001b[0;34m.\u001b[0m\u001b[0mfha_number\u001b[0m \u001b[0;34m==\u001b[0m \u001b[0mrepeat_filter\u001b[0m\u001b[0;34m.\u001b[0m\u001b[0mloc\u001b[0m\u001b[0;34m[\u001b[0m\u001b[0;36m0\u001b[0m\u001b[0;34m]\u001b[0m\u001b[0;34m[\u001b[0m\u001b[0;36m0\u001b[0m\u001b[0;34m]\u001b[0m\u001b[0;34m:\u001b[0m\u001b[0;34m\u001b[0m\u001b[0;34m\u001b[0m\u001b[0m\n\u001b[0m\u001b[1;32m      2\u001b[0m     \u001b[0mprint\u001b[0m\u001b[0;34m(\u001b[0m\u001b[0mdf\u001b[0m\u001b[0;34m.\u001b[0m\u001b[0mdate_of_firm_issue\u001b[0m\u001b[0;34m)\u001b[0m\u001b[0;34m\u001b[0m\u001b[0;34m\u001b[0m\u001b[0m\n",
      "\u001b[0;32m/usr/local/anaconda3/lib/python3.7/site-packages/pandas/core/generic.py\u001b[0m in \u001b[0;36m__nonzero__\u001b[0;34m(self)\u001b[0m\n\u001b[1;32m   1553\u001b[0m             \u001b[0;34m\"The truth value of a {0} is ambiguous. \"\u001b[0m\u001b[0;34m\u001b[0m\u001b[0;34m\u001b[0m\u001b[0m\n\u001b[1;32m   1554\u001b[0m             \"Use a.empty, a.bool(), a.item(), a.any() or a.all().\".format(\n\u001b[0;32m-> 1555\u001b[0;31m                 \u001b[0mself\u001b[0m\u001b[0;34m.\u001b[0m\u001b[0m__class__\u001b[0m\u001b[0;34m.\u001b[0m\u001b[0m__name__\u001b[0m\u001b[0;34m\u001b[0m\u001b[0;34m\u001b[0m\u001b[0m\n\u001b[0m\u001b[1;32m   1556\u001b[0m             )\n\u001b[1;32m   1557\u001b[0m         )\n",
      "\u001b[0;31mValueError\u001b[0m: The truth value of a Series is ambiguous. Use a.empty, a.bool(), a.item(), a.any() or a.all()."
     ]
    }
   ],
   "source": [
    "if df.fha_number == repeat_filter.loc[0][0]:\n",
    "    print(df.date_of_firm_issue)"
   ]
  },
  {
   "cell_type": "code",
   "execution_count": 110,
   "metadata": {},
   "outputs": [
    {
     "data": {
      "text/plain": [
       "35493"
      ]
     },
     "execution_count": 110,
     "metadata": {},
     "output_type": "execute_result"
    }
   ],
   "source": [
    "repeat_filter.loc[0][0]"
   ]
  },
  {
   "cell_type": "code",
   "execution_count": null,
   "metadata": {},
   "outputs": [],
   "source": []
  },
  {
   "cell_type": "code",
   "execution_count": null,
   "metadata": {},
   "outputs": [],
   "source": []
  },
  {
   "cell_type": "code",
   "execution_count": null,
   "metadata": {},
   "outputs": [],
   "source": []
  },
  {
   "cell_type": "markdown",
   "metadata": {},
   "source": [
    "## Data Summary"
   ]
  },
  {
   "cell_type": "code",
   "execution_count": 35,
   "metadata": {},
   "outputs": [
    {
     "data": {
      "text/plain": [
       "2013    2708\n",
       "2012    2424\n",
       "2011    1904\n",
       "2014    1695\n",
       "2017    1481\n",
       "2010    1471\n",
       "2015    1319\n",
       "2016    1298\n",
       "2018    1290\n",
       "2006    1220\n",
       "2019    1083\n",
       "2007     895\n",
       "2009     844\n",
       "2008     669\n",
       "2020     322\n",
       "Name: fiscal_year_of_firm_commitment_activity, dtype: int64"
      ]
     },
     "execution_count": 35,
     "metadata": {},
     "output_type": "execute_result"
    }
   ],
   "source": [
    "df.fiscal_year_of_firm_commitment_activity.value_counts()"
   ]
  },
  {
   "cell_type": "code",
   "execution_count": 39,
   "metadata": {},
   "outputs": [
    {
     "data": {
      "text/plain": [
       "fha_number\n",
       "10010      2007-12-21\n",
       "10011      2008-02-28\n",
       "10012      2016-04-20\n",
       "11142      2014-08-08\n",
       "11183      2008-11-25\n",
       "              ...    \n",
       "17622002   2009-05-14\n",
       "17622003   2013-07-09\n",
       "17622004   2015-04-01\n",
       "17635048   2011-01-21\n",
       "17635049   2011-09-30\n",
       "Name: date_of_firm_issue, Length: 20108, dtype: datetime64[ns]"
      ]
     },
     "execution_count": 39,
     "metadata": {},
     "output_type": "execute_result"
    }
   ],
   "source": [
    "df.groupby('fha_number').date_of_firm_issue.max()"
   ]
  },
  {
   "cell_type": "code",
   "execution_count": 38,
   "metadata": {},
   "outputs": [
    {
     "data": {
      "text/plain": [
       "Index(['fha_number', 'project_name', 'project_city', 'project_state',\n",
       "       'basic_fha_risk_share_or_other', 'program_category',\n",
       "       'activity_description', 'activity_group', 'facility_type',\n",
       "       'program_designation', 'firm_commitment_activity',\n",
       "       'lender_at_firm_commitment_activity',\n",
       "       'mortgage_at_time_of_firm_commitment_issuance_amendment_or_reissuance',\n",
       "       'unit_or_bed_count', 'date_of_firm_commitment_activity',\n",
       "       'fiscal_year_of_firm_commitment_activity',\n",
       "       'mortgage_at_firm_commitment_issuance', 'date_of_firm_issue',\n",
       "       'fiscal_year_of_firm_commitment', 'map_or_tap', 'lihtc_designation',\n",
       "       'tax_exempt_bond_designation', 'home_designation', 'cdbg_designation',\n",
       "       'section_202_refi_designation', 'irp_decoupling_designation',\n",
       "       'hope_vi_designation', 'current_status', 'final_mortgage_amount'],\n",
       "      dtype='object')"
      ]
     },
     "execution_count": 38,
     "metadata": {},
     "output_type": "execute_result"
    }
   ],
   "source": [
    "df.columns"
   ]
  },
  {
   "cell_type": "code",
   "execution_count": 3,
   "metadata": {},
   "outputs": [
    {
     "name": "stdout",
     "output_type": "stream",
     "text": [
      "This dataframe is 20918 rows and 29 columns\n"
     ]
    }
   ],
   "source": [
    "print(f'This dataframe is {df.shape[0]} rows and {df.shape[1]} columns')"
   ]
  },
  {
   "cell_type": "code",
   "execution_count": 4,
   "metadata": {},
   "outputs": [
    {
     "name": "stdout",
     "output_type": "stream",
     "text": [
      "<class 'pandas.core.frame.DataFrame'>\n",
      "RangeIndex: 20918 entries, 0 to 20917\n",
      "Data columns (total 29 columns):\n",
      "fha_number                                                              20918 non-null object\n",
      "project_name                                                            20918 non-null object\n",
      "project_city                                                            20918 non-null object\n",
      "project_state                                                           20918 non-null object\n",
      "basic_fha_risk_share_or_other                                           20918 non-null object\n",
      "program_category                                                        20918 non-null object\n",
      "activity_description                                                    20918 non-null object\n",
      "activity_group                                                          20918 non-null object\n",
      "facility_type                                                           20918 non-null object\n",
      "program_designation                                                     20918 non-null object\n",
      "firm_commitment_activity                                                20918 non-null object\n",
      "lender_at_firm_commitment_activity                                      20918 non-null object\n",
      "mortgage_at_time_of_firm_commitment_issuance_amendment_or_reissuance    20918 non-null int64\n",
      "unit_or_bed_count                                                       20918 non-null int64\n",
      "date_of_firm_commitment_activity                                        20918 non-null datetime64[ns]\n",
      "fiscal_year_of_firm_commitment_activity                                 20918 non-null int64\n",
      "mortgage_at_firm_commitment_issuance                                    20918 non-null int64\n",
      "date_of_firm_issue                                                      20918 non-null datetime64[ns]\n",
      "fiscal_year_of_firm_commitment                                          20918 non-null int64\n",
      "map_or_tap                                                              20918 non-null object\n",
      "lihtc_designation                                                       20918 non-null bool\n",
      "tax_exempt_bond_designation                                             20918 non-null bool\n",
      "home_designation                                                        20918 non-null bool\n",
      "cdbg_designation                                                        20918 non-null bool\n",
      "section_202_refi_designation                                            20918 non-null bool\n",
      "irp_decoupling_designation                                              20918 non-null bool\n",
      "hope_vi_designation                                                     20918 non-null bool\n",
      "current_status                                                          20918 non-null object\n",
      "final_mortgage_amount                                                   20918 non-null int64\n",
      "dtypes: bool(7), datetime64[ns](2), int64(6), object(14)\n",
      "memory usage: 3.7+ MB\n"
     ]
    }
   ],
   "source": [
    "df.info()"
   ]
  },
  {
   "cell_type": "code",
   "execution_count": 5,
   "metadata": {},
   "outputs": [
    {
     "data": {
      "text/html": [
       "<div>\n",
       "<style scoped>\n",
       "    .dataframe tbody tr th:only-of-type {\n",
       "        vertical-align: middle;\n",
       "    }\n",
       "\n",
       "    .dataframe tbody tr th {\n",
       "        vertical-align: top;\n",
       "    }\n",
       "\n",
       "    .dataframe thead th {\n",
       "        text-align: right;\n",
       "    }\n",
       "</style>\n",
       "<table border=\"1\" class=\"dataframe\">\n",
       "  <thead>\n",
       "    <tr style=\"text-align: right;\">\n",
       "      <th></th>\n",
       "      <th>fha_number</th>\n",
       "      <th>project_name</th>\n",
       "      <th>project_city</th>\n",
       "      <th>project_state</th>\n",
       "      <th>basic_fha_risk_share_or_other</th>\n",
       "      <th>program_category</th>\n",
       "      <th>activity_description</th>\n",
       "      <th>activity_group</th>\n",
       "      <th>facility_type</th>\n",
       "      <th>program_designation</th>\n",
       "      <th>...</th>\n",
       "      <th>map_or_tap</th>\n",
       "      <th>lihtc_designation</th>\n",
       "      <th>tax_exempt_bond_designation</th>\n",
       "      <th>home_designation</th>\n",
       "      <th>cdbg_designation</th>\n",
       "      <th>section_202_refi_designation</th>\n",
       "      <th>irp_decoupling_designation</th>\n",
       "      <th>hope_vi_designation</th>\n",
       "      <th>current_status</th>\n",
       "      <th>final_mortgage_amount</th>\n",
       "    </tr>\n",
       "  </thead>\n",
       "  <tbody>\n",
       "    <tr>\n",
       "      <th>0</th>\n",
       "      <td>11345004</td>\n",
       "      <td>Western Heights Apartments</td>\n",
       "      <td>Olney</td>\n",
       "      <td>TX</td>\n",
       "      <td>Basic FHA</td>\n",
       "      <td>223a7 Refi Apts</td>\n",
       "      <td>Refinance</td>\n",
       "      <td>Refi/ Pchse</td>\n",
       "      <td>Apts</td>\n",
       "      <td>a7/236</td>\n",
       "      <td>...</td>\n",
       "      <td>TAP</td>\n",
       "      <td>False</td>\n",
       "      <td>False</td>\n",
       "      <td>False</td>\n",
       "      <td>False</td>\n",
       "      <td>False</td>\n",
       "      <td>False</td>\n",
       "      <td>False</td>\n",
       "      <td>Firm Comit then Owner Withdrew</td>\n",
       "      <td>271700</td>\n",
       "    </tr>\n",
       "    <tr>\n",
       "      <th>1</th>\n",
       "      <td>11345005</td>\n",
       "      <td>Woodlands Village Apts</td>\n",
       "      <td>Breckenridge</td>\n",
       "      <td>TX</td>\n",
       "      <td>Basic FHA</td>\n",
       "      <td>223a7 Refi Apts</td>\n",
       "      <td>Refinance</td>\n",
       "      <td>Refi/ Pchse</td>\n",
       "      <td>Apts</td>\n",
       "      <td>a7/236</td>\n",
       "      <td>...</td>\n",
       "      <td>TAP</td>\n",
       "      <td>False</td>\n",
       "      <td>False</td>\n",
       "      <td>False</td>\n",
       "      <td>False</td>\n",
       "      <td>False</td>\n",
       "      <td>False</td>\n",
       "      <td>False</td>\n",
       "      <td>Finally Endorsed</td>\n",
       "      <td>168300</td>\n",
       "    </tr>\n",
       "    <tr>\n",
       "      <th>2</th>\n",
       "      <td>4235583</td>\n",
       "      <td>Harbor Court Apartments</td>\n",
       "      <td>Rocky River</td>\n",
       "      <td>OH</td>\n",
       "      <td>Basic FHA</td>\n",
       "      <td>223a7 Refi Apts</td>\n",
       "      <td>Refinance</td>\n",
       "      <td>Refi/ Pchse</td>\n",
       "      <td>Apts</td>\n",
       "      <td>a7/221d4</td>\n",
       "      <td>...</td>\n",
       "      <td>TAP</td>\n",
       "      <td>False</td>\n",
       "      <td>False</td>\n",
       "      <td>False</td>\n",
       "      <td>False</td>\n",
       "      <td>False</td>\n",
       "      <td>False</td>\n",
       "      <td>False</td>\n",
       "      <td>Finally Endorsed</td>\n",
       "      <td>3886800</td>\n",
       "    </tr>\n",
       "    <tr>\n",
       "      <th>3</th>\n",
       "      <td>3297260</td>\n",
       "      <td>Compton Towne Apartments</td>\n",
       "      <td>Wilmington</td>\n",
       "      <td>DE</td>\n",
       "      <td>Risk Sharing</td>\n",
       "      <td>QPE Risk Sharing</td>\n",
       "      <td>Refinance</td>\n",
       "      <td>Refi/ Pchse</td>\n",
       "      <td>Coop/Apts/Mobile Home Pk/ALF</td>\n",
       "      <td>QPE Risk Shg Existing</td>\n",
       "      <td>...</td>\n",
       "      <td>TAP</td>\n",
       "      <td>True</td>\n",
       "      <td>False</td>\n",
       "      <td>False</td>\n",
       "      <td>False</td>\n",
       "      <td>False</td>\n",
       "      <td>False</td>\n",
       "      <td>False</td>\n",
       "      <td>Finally Endorsed</td>\n",
       "      <td>4000000</td>\n",
       "    </tr>\n",
       "    <tr>\n",
       "      <th>4</th>\n",
       "      <td>7135779</td>\n",
       "      <td>Evergreen Terrace I</td>\n",
       "      <td>Joliet</td>\n",
       "      <td>IL</td>\n",
       "      <td>Basic FHA</td>\n",
       "      <td>223a7 Refi Apts</td>\n",
       "      <td>Refinance</td>\n",
       "      <td>Refi/ Pchse</td>\n",
       "      <td>Apts</td>\n",
       "      <td>a7/221d4</td>\n",
       "      <td>...</td>\n",
       "      <td>TAP</td>\n",
       "      <td>False</td>\n",
       "      <td>False</td>\n",
       "      <td>False</td>\n",
       "      <td>False</td>\n",
       "      <td>False</td>\n",
       "      <td>False</td>\n",
       "      <td>False</td>\n",
       "      <td>Firm Expired</td>\n",
       "      <td>5247700</td>\n",
       "    </tr>\n",
       "    <tr>\n",
       "      <th>...</th>\n",
       "      <td>...</td>\n",
       "      <td>...</td>\n",
       "      <td>...</td>\n",
       "      <td>...</td>\n",
       "      <td>...</td>\n",
       "      <td>...</td>\n",
       "      <td>...</td>\n",
       "      <td>...</td>\n",
       "      <td>...</td>\n",
       "      <td>...</td>\n",
       "      <td>...</td>\n",
       "      <td>...</td>\n",
       "      <td>...</td>\n",
       "      <td>...</td>\n",
       "      <td>...</td>\n",
       "      <td>...</td>\n",
       "      <td>...</td>\n",
       "      <td>...</td>\n",
       "      <td>...</td>\n",
       "      <td>...</td>\n",
       "      <td>...</td>\n",
       "    </tr>\n",
       "    <tr>\n",
       "      <th>20913</th>\n",
       "      <td>12711269</td>\n",
       "      <td>Quail Run Apartments</td>\n",
       "      <td>Vancouver</td>\n",
       "      <td>WA</td>\n",
       "      <td>Basic FHA</td>\n",
       "      <td>223f Refi/Purchase Apts</td>\n",
       "      <td>Refinance</td>\n",
       "      <td>Refi/ Pchse</td>\n",
       "      <td>Apts/Coops</td>\n",
       "      <td>223f Apts</td>\n",
       "      <td>...</td>\n",
       "      <td>MAP</td>\n",
       "      <td>True</td>\n",
       "      <td>False</td>\n",
       "      <td>False</td>\n",
       "      <td>False</td>\n",
       "      <td>False</td>\n",
       "      <td>False</td>\n",
       "      <td>False</td>\n",
       "      <td>Firm Issued</td>\n",
       "      <td>17051600</td>\n",
       "    </tr>\n",
       "    <tr>\n",
       "      <th>20914</th>\n",
       "      <td>2210003</td>\n",
       "      <td>Legacy Memory Care</td>\n",
       "      <td>Falmouth</td>\n",
       "      <td>ME</td>\n",
       "      <td>Basic FHA</td>\n",
       "      <td>232 Health Care</td>\n",
       "      <td>Additions</td>\n",
       "      <td>Impv/Adds</td>\n",
       "      <td>Asst'd Livg</td>\n",
       "      <td>ALF 241a</td>\n",
       "      <td>...</td>\n",
       "      <td>TAP</td>\n",
       "      <td>False</td>\n",
       "      <td>False</td>\n",
       "      <td>False</td>\n",
       "      <td>False</td>\n",
       "      <td>False</td>\n",
       "      <td>False</td>\n",
       "      <td>False</td>\n",
       "      <td>Firm Issued</td>\n",
       "      <td>1189200</td>\n",
       "    </tr>\n",
       "    <tr>\n",
       "      <th>20915</th>\n",
       "      <td>6722256</td>\n",
       "      <td>Consulate Health Care of Kissimmee</td>\n",
       "      <td>Kissimmee</td>\n",
       "      <td>FL</td>\n",
       "      <td>Basic FHA</td>\n",
       "      <td>232 Health Care</td>\n",
       "      <td>Refinance</td>\n",
       "      <td>Refi/ Pchse</td>\n",
       "      <td>Nursing/ICF</td>\n",
       "      <td>Nursing/ ICF 223f</td>\n",
       "      <td>...</td>\n",
       "      <td>TAP</td>\n",
       "      <td>False</td>\n",
       "      <td>False</td>\n",
       "      <td>False</td>\n",
       "      <td>False</td>\n",
       "      <td>False</td>\n",
       "      <td>False</td>\n",
       "      <td>False</td>\n",
       "      <td>Firm Issued</td>\n",
       "      <td>17920000</td>\n",
       "    </tr>\n",
       "    <tr>\n",
       "      <th>20916</th>\n",
       "      <td>11322284</td>\n",
       "      <td>The Villages of Lake Highlands</td>\n",
       "      <td>Dallas</td>\n",
       "      <td>TX</td>\n",
       "      <td>Basic FHA</td>\n",
       "      <td>232 Health Care</td>\n",
       "      <td>Refinance</td>\n",
       "      <td>Refi/ Pchse</td>\n",
       "      <td>Nursing/ICF</td>\n",
       "      <td>Nursing/ ICF 223f</td>\n",
       "      <td>...</td>\n",
       "      <td>TAP</td>\n",
       "      <td>False</td>\n",
       "      <td>False</td>\n",
       "      <td>False</td>\n",
       "      <td>False</td>\n",
       "      <td>False</td>\n",
       "      <td>False</td>\n",
       "      <td>False</td>\n",
       "      <td>Firm Issued</td>\n",
       "      <td>20756500</td>\n",
       "    </tr>\n",
       "    <tr>\n",
       "      <th>20917</th>\n",
       "      <td>11422098</td>\n",
       "      <td>LB Belon - Bradford at Brookside</td>\n",
       "      <td>Livingston</td>\n",
       "      <td>TX</td>\n",
       "      <td>Basic FHA</td>\n",
       "      <td>232 Health Care</td>\n",
       "      <td>Refinance</td>\n",
       "      <td>Refi/ Pchse</td>\n",
       "      <td>Nursing/ICF</td>\n",
       "      <td>Nursing/ ICF 223f</td>\n",
       "      <td>...</td>\n",
       "      <td>TAP</td>\n",
       "      <td>False</td>\n",
       "      <td>False</td>\n",
       "      <td>False</td>\n",
       "      <td>False</td>\n",
       "      <td>False</td>\n",
       "      <td>False</td>\n",
       "      <td>False</td>\n",
       "      <td>Firm Issued</td>\n",
       "      <td>6820100</td>\n",
       "    </tr>\n",
       "  </tbody>\n",
       "</table>\n",
       "<p>20918 rows × 29 columns</p>\n",
       "</div>"
      ],
      "text/plain": [
       "      fha_number                        project_name  project_city  \\\n",
       "0       11345004          Western Heights Apartments         Olney   \n",
       "1       11345005              Woodlands Village Apts  Breckenridge   \n",
       "2        4235583             Harbor Court Apartments   Rocky River   \n",
       "3        3297260            Compton Towne Apartments    Wilmington   \n",
       "4        7135779                 Evergreen Terrace I        Joliet   \n",
       "...          ...                                 ...           ...   \n",
       "20913   12711269                Quail Run Apartments     Vancouver   \n",
       "20914    2210003                  Legacy Memory Care      Falmouth   \n",
       "20915    6722256  Consulate Health Care of Kissimmee     Kissimmee   \n",
       "20916   11322284      The Villages of Lake Highlands        Dallas   \n",
       "20917   11422098    LB Belon - Bradford at Brookside    Livingston   \n",
       "\n",
       "      project_state basic_fha_risk_share_or_other         program_category  \\\n",
       "0                TX                     Basic FHA          223a7 Refi Apts   \n",
       "1                TX                     Basic FHA          223a7 Refi Apts   \n",
       "2                OH                     Basic FHA          223a7 Refi Apts   \n",
       "3                DE                  Risk Sharing         QPE Risk Sharing   \n",
       "4                IL                     Basic FHA          223a7 Refi Apts   \n",
       "...             ...                           ...                      ...   \n",
       "20913            WA                     Basic FHA  223f Refi/Purchase Apts   \n",
       "20914            ME                     Basic FHA          232 Health Care   \n",
       "20915            FL                     Basic FHA          232 Health Care   \n",
       "20916            TX                     Basic FHA          232 Health Care   \n",
       "20917            TX                     Basic FHA          232 Health Care   \n",
       "\n",
       "      activity_description activity_group                 facility_type  \\\n",
       "0                Refinance    Refi/ Pchse                          Apts   \n",
       "1                Refinance    Refi/ Pchse                          Apts   \n",
       "2                Refinance    Refi/ Pchse                          Apts   \n",
       "3                Refinance    Refi/ Pchse  Coop/Apts/Mobile Home Pk/ALF   \n",
       "4                Refinance    Refi/ Pchse                          Apts   \n",
       "...                    ...            ...                           ...   \n",
       "20913            Refinance    Refi/ Pchse                    Apts/Coops   \n",
       "20914            Additions      Impv/Adds                   Asst'd Livg   \n",
       "20915            Refinance    Refi/ Pchse                   Nursing/ICF   \n",
       "20916            Refinance    Refi/ Pchse                   Nursing/ICF   \n",
       "20917            Refinance    Refi/ Pchse                   Nursing/ICF   \n",
       "\n",
       "         program_designation  ... map_or_tap lihtc_designation  \\\n",
       "0                     a7/236  ...        TAP             False   \n",
       "1                     a7/236  ...        TAP             False   \n",
       "2                   a7/221d4  ...        TAP             False   \n",
       "3      QPE Risk Shg Existing  ...        TAP              True   \n",
       "4                   a7/221d4  ...        TAP             False   \n",
       "...                      ...  ...        ...               ...   \n",
       "20913              223f Apts  ...        MAP              True   \n",
       "20914               ALF 241a  ...        TAP             False   \n",
       "20915      Nursing/ ICF 223f  ...        TAP             False   \n",
       "20916      Nursing/ ICF 223f  ...        TAP             False   \n",
       "20917      Nursing/ ICF 223f  ...        TAP             False   \n",
       "\n",
       "       tax_exempt_bond_designation  home_designation cdbg_designation  \\\n",
       "0                            False             False            False   \n",
       "1                            False             False            False   \n",
       "2                            False             False            False   \n",
       "3                            False             False            False   \n",
       "4                            False             False            False   \n",
       "...                            ...               ...              ...   \n",
       "20913                        False             False            False   \n",
       "20914                        False             False            False   \n",
       "20915                        False             False            False   \n",
       "20916                        False             False            False   \n",
       "20917                        False             False            False   \n",
       "\n",
       "       section_202_refi_designation  irp_decoupling_designation  \\\n",
       "0                             False                       False   \n",
       "1                             False                       False   \n",
       "2                             False                       False   \n",
       "3                             False                       False   \n",
       "4                             False                       False   \n",
       "...                             ...                         ...   \n",
       "20913                         False                       False   \n",
       "20914                         False                       False   \n",
       "20915                         False                       False   \n",
       "20916                         False                       False   \n",
       "20917                         False                       False   \n",
       "\n",
       "      hope_vi_designation                  current_status  \\\n",
       "0                   False  Firm Comit then Owner Withdrew   \n",
       "1                   False                Finally Endorsed   \n",
       "2                   False                Finally Endorsed   \n",
       "3                   False                Finally Endorsed   \n",
       "4                   False                    Firm Expired   \n",
       "...                   ...                             ...   \n",
       "20913               False                     Firm Issued   \n",
       "20914               False                     Firm Issued   \n",
       "20915               False                     Firm Issued   \n",
       "20916               False                     Firm Issued   \n",
       "20917               False                     Firm Issued   \n",
       "\n",
       "      final_mortgage_amount  \n",
       "0                    271700  \n",
       "1                    168300  \n",
       "2                   3886800  \n",
       "3                   4000000  \n",
       "4                   5247700  \n",
       "...                     ...  \n",
       "20913              17051600  \n",
       "20914               1189200  \n",
       "20915              17920000  \n",
       "20916              20756500  \n",
       "20917               6820100  \n",
       "\n",
       "[20918 rows x 29 columns]"
      ]
     },
     "execution_count": 5,
     "metadata": {},
     "output_type": "execute_result"
    }
   ],
   "source": [
    "df"
   ]
  },
  {
   "cell_type": "code",
   "execution_count": 6,
   "metadata": {},
   "outputs": [
    {
     "data": {
      "text/plain": [
       "Index(['fha_number', 'project_name', 'project_city', 'project_state',\n",
       "       'basic_fha_risk_share_or_other', 'program_category',\n",
       "       'activity_description', 'activity_group', 'facility_type',\n",
       "       'program_designation', 'firm_commitment_activity',\n",
       "       'lender_at_firm_commitment_activity',\n",
       "       'mortgage_at_time_of_firm_commitment_issuance_amendment_or_reissuance',\n",
       "       'unit_or_bed_count', 'date_of_firm_commitment_activity',\n",
       "       'fiscal_year_of_firm_commitment_activity',\n",
       "       'mortgage_at_firm_commitment_issuance', 'date_of_firm_issue',\n",
       "       'fiscal_year_of_firm_commitment', 'map_or_tap', 'lihtc_designation',\n",
       "       'tax_exempt_bond_designation', 'home_designation', 'cdbg_designation',\n",
       "       'section_202_refi_designation', 'irp_decoupling_designation',\n",
       "       'hope_vi_designation', 'current_status', 'final_mortgage_amount'],\n",
       "      dtype='object')"
      ]
     },
     "execution_count": 6,
     "metadata": {},
     "output_type": "execute_result"
    }
   ],
   "source": [
    "df.columns"
   ]
  },
  {
   "cell_type": "code",
   "execution_count": null,
   "metadata": {},
   "outputs": [],
   "source": []
  }
 ],
 "metadata": {
  "kernelspec": {
   "display_name": "Python 3",
   "language": "python",
   "name": "python3"
  },
  "language_info": {
   "codemirror_mode": {
    "name": "ipython",
    "version": 3
   },
   "file_extension": ".py",
   "mimetype": "text/x-python",
   "name": "python",
   "nbconvert_exporter": "python",
   "pygments_lexer": "ipython3",
   "version": "3.7.4"
  }
 },
 "nbformat": 4,
 "nbformat_minor": 2
}
