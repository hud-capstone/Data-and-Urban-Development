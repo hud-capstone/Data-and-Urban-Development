{
 "cells": [
  {
   "cell_type": "markdown",
   "metadata": {},
   "source": [
    "# Capstone Project: [testfit.io](https://blog.testfit.io/)\n",
    "## Wrangle"
   ]
  },
  {
   "cell_type": "code",
   "execution_count": 1,
   "metadata": {},
   "outputs": [
    {
     "name": "stderr",
     "output_type": "stream",
     "text": [
      "\n",
      "Bad key \"text.kerning_factor\" on line 4 in\n",
      "/usr/local/anaconda3/lib/python3.7/site-packages/matplotlib/mpl-data/stylelib/_classic_test_patch.mplstyle.\n",
      "You probably need to get an updated matplotlibrc file from\n",
      "https://github.com/matplotlib/matplotlib/blob/v3.1.3/matplotlibrc.template\n",
      "or from the matplotlib source distribution\n"
     ]
    }
   ],
   "source": [
    "import numpy as np\n",
    "import pandas as pd\n",
    "\n",
    "from datetime import datetime\n",
    "\n",
    "%matplotlib inline\n",
    "import matplotlib.pyplot as plt\n",
    "import seaborn as sns\n",
    "\n",
    "from scipy import stats\n",
    "\n",
    "import wrangle as wr\n",
    "import preprocessing as pr\n",
    "\n",
    "import warnings\n",
    "warnings.filterwarnings(\"ignore\")"
   ]
  },
  {
   "cell_type": "code",
   "execution_count": 2,
   "metadata": {},
   "outputs": [],
   "source": [
    "pd.set_option(\"display.max_columns\", None)\n",
    "plt.rc(\"figure\", figsize=(16, 8))"
   ]
  },
  {
   "cell_type": "markdown",
   "metadata": {},
   "source": [
    "## Stakeholder Notes\n",
    "- Work with Commitments\n",
    "- Activity Descriptions == New Construction, SubRehab, Additions, and Improvements\n",
    "- Loan amount >= $1M:\n",
    "    - Mortgage at time of Firm Commitment Issuance, Amendment or Reissuance?\n",
    "    - Mortgage at Firm Commitment Issuance?\n",
    "    - Final Mortgage Amount? **Probably this one...**\n",
    "- Market == Large urban centers; meaning **cities** not just states; not rural one-off projects\n",
    "- Types of FHA loan is irrelevant"
   ]
  },
  {
   "cell_type": "code",
   "execution_count": null,
   "metadata": {},
   "outputs": [],
   "source": [
    "# commitments\n",
    "# df  = pd.read_excel(\"Initi_Endores_Firm Comm_DB_FY06_FY20_Q2.xlsx\", sheet_name=\"Firm Cmtmts, Iss'd and Reiss'd\", header=6)\n",
    "# print(df.shape)\n",
    "# df.head()\n",
    "df = pd.read_csv(\"hud_commitments.csv\", index_col=0)\n",
    "print(df.shape)\n",
    "df.head()"
   ]
  },
  {
   "cell_type": "code",
   "execution_count": null,
   "metadata": {},
   "outputs": [],
   "source": [
    "# df[\"Activity Description\"].value_counts()"
   ]
  },
  {
   "cell_type": "code",
   "execution_count": null,
   "metadata": {},
   "outputs": [],
   "source": [
    "# df.to_csv(\"hud_commitments.csv\")"
   ]
  },
  {
   "cell_type": "code",
   "execution_count": null,
   "metadata": {},
   "outputs": [],
   "source": [
    "# df.rename(columns={\"Activity Group\": \"activity_group\"}, inplace=True)"
   ]
  },
  {
   "cell_type": "code",
   "execution_count": null,
   "metadata": {},
   "outputs": [],
   "source": [
    "# activity_groups filtered for groups of interest for clifton\n",
    "# df = df[(df.activity_group == \"NC/SR\") | (df.activity_group == \"Imp/Adds\")]"
   ]
  },
  {
   "cell_type": "code",
   "execution_count": null,
   "metadata": {},
   "outputs": [],
   "source": [
    "# only including loans greater than or equal to $1M\n",
    "# df = df[df[\"Final Mortgage Amount\"] >= 1000000]\n",
    "# df.head()"
   ]
  },
  {
   "cell_type": "code",
   "execution_count": null,
   "metadata": {},
   "outputs": [],
   "source": [
    "df.info()"
   ]
  },
  {
   "cell_type": "code",
   "execution_count": null,
   "metadata": {},
   "outputs": [],
   "source": [
    "# df[\"Activity Description\"].value_counts()"
   ]
  },
  {
   "cell_type": "code",
   "execution_count": null,
   "metadata": {},
   "outputs": [],
   "source": [
    "# df[\"activity_group\"].value_counts()"
   ]
  },
  {
   "cell_type": "code",
   "execution_count": null,
   "metadata": {},
   "outputs": [],
   "source": [
    "df.rename(columns={\"Facility Type\": \"facility_type\"}, inplace=True)"
   ]
  },
  {
   "cell_type": "code",
   "execution_count": null,
   "metadata": {},
   "outputs": [],
   "source": [
    "df.facility_type.value_counts()"
   ]
  },
  {
   "cell_type": "code",
   "execution_count": null,
   "metadata": {},
   "outputs": [],
   "source": [
    "df.rename(columns={\"FHA Number\": \"fha_number\"}, inplace=True)"
   ]
  },
  {
   "cell_type": "code",
   "execution_count": null,
   "metadata": {},
   "outputs": [],
   "source": [
    "df.groupby([\"Project State\"]).fha_number.count().sort_values().plot.barh()\n",
    "plt.show()"
   ]
  },
  {
   "cell_type": "code",
   "execution_count": null,
   "metadata": {},
   "outputs": [],
   "source": [
    "# df[df[\"Final Mortgage Amount\"] >= 1000000].shape"
   ]
  },
  {
   "cell_type": "code",
   "execution_count": null,
   "metadata": {},
   "outputs": [],
   "source": [
    "df.rename(columns={\"Final Mortgage Amount\": \"final_mortgage\"}, inplace=True)"
   ]
  },
  {
   "cell_type": "code",
   "execution_count": null,
   "metadata": {},
   "outputs": [],
   "source": [
    "df.groupby([\"Project State\"]).final_mortgage.sum().sort_values().plot.barh()"
   ]
  },
  {
   "cell_type": "code",
   "execution_count": null,
   "metadata": {},
   "outputs": [],
   "source": [
    "df[\"Project City\"].value_counts().head(20)"
   ]
  },
  {
   "cell_type": "code",
   "execution_count": null,
   "metadata": {},
   "outputs": [],
   "source": [
    "df.groupby([\"Project City\", \"Fiscal Year of Firm Commitment\"]).size().sort_values()"
   ]
  },
  {
   "cell_type": "code",
   "execution_count": null,
   "metadata": {},
   "outputs": [],
   "source": [
    "df.groupby([\"Project City\", \"Fiscal Year of Firm Commitment\"])[\"final_mortgage\"].sum().sort_values()"
   ]
  },
  {
   "cell_type": "code",
   "execution_count": null,
   "metadata": {},
   "outputs": [],
   "source": [
    "df[df[\"Project City\"] == \"Austin\"].groupby(\"Fiscal Year of Firm Commitment\")[\"final_mortgage\"].sum()"
   ]
  },
  {
   "cell_type": "code",
   "execution_count": null,
   "metadata": {},
   "outputs": [],
   "source": [
    "df[df[\"Project City\"] == \"Minneapolis\"].groupby(\"Fiscal Year of Firm Commitment\")[\"final_mortgage\"].sum()"
   ]
  },
  {
   "cell_type": "code",
   "execution_count": null,
   "metadata": {},
   "outputs": [],
   "source": [
    "# csv works and can be read\n",
    "df = pd.read_csv(\"hud_commitments.csv\", index_col=0)\n",
    "df.head()"
   ]
  },
  {
   "cell_type": "code",
   "execution_count": null,
   "metadata": {},
   "outputs": [],
   "source": [
    "df[df[\"Project City\"] == \"Austin\"].groupby(\"Fiscal Year of Firm Commitment\")[\"Final Mortgage Amount\"].sum()"
   ]
  },
  {
   "cell_type": "code",
   "execution_count": null,
   "metadata": {},
   "outputs": [],
   "source": [
    "df[df[\"Project City\"] == \"Austin\"].groupby(\"Fiscal Year of Firm Commitment\")[\"Final Mortgage Amount\"].count()"
   ]
  },
  {
   "cell_type": "code",
   "execution_count": null,
   "metadata": {},
   "outputs": [],
   "source": [
    "df[df[\"Project City\"] == \"Austin\"].groupby(\"Fiscal Year of Firm Commitment\")[\"Final Mortgage Amount\"].size()"
   ]
  },
  {
   "cell_type": "code",
   "execution_count": null,
   "metadata": {},
   "outputs": [],
   "source": [
    "df.shape"
   ]
  },
  {
   "cell_type": "code",
   "execution_count": null,
   "metadata": {
    "scrolled": false
   },
   "outputs": [],
   "source": [
    "# let's see the number of unique values for earch column\n",
    "# for col in df.columns:\n",
    "#     unique = len(df[col].unique())\n",
    "#     if unique > 10:\n",
    "#         print()\n",
    "#         print(f'{col} has {unique} values')\n",
    "#     else:\n",
    "#         print()\n",
    "#         print(f'{col} value count:')\n",
    "#         print(df[col].value_counts())"
   ]
  },
  {
   "cell_type": "markdown",
   "metadata": {},
   "source": [
    "There are hospitals in this data."
   ]
  },
  {
   "cell_type": "code",
   "execution_count": null,
   "metadata": {},
   "outputs": [],
   "source": [
    "df.columns"
   ]
  },
  {
   "cell_type": "code",
   "execution_count": null,
   "metadata": {},
   "outputs": [],
   "source": [
    "df.head()"
   ]
  },
  {
   "cell_type": "code",
   "execution_count": null,
   "metadata": {},
   "outputs": [],
   "source": [
    "df.dtypes"
   ]
  },
  {
   "cell_type": "code",
   "execution_count": null,
   "metadata": {},
   "outputs": [],
   "source": [
    "# df[\"Date of Firm Issue\"] = pd.to_datetime(df[\"Date of Firm Issue\"])\n",
    "# df[\"Date of Firm Issue\"].dt.year"
   ]
  },
  {
   "cell_type": "markdown",
   "metadata": {},
   "source": [
    "---\n",
    "## Wrangle"
   ]
  },
  {
   "cell_type": "code",
   "execution_count": null,
   "metadata": {},
   "outputs": [],
   "source": [
    "df = wr.wrangle_hud()\n",
    "print(df.shape)\n",
    "df.head()"
   ]
  },
  {
   "cell_type": "code",
   "execution_count": null,
   "metadata": {},
   "outputs": [],
   "source": [
    "df.info()"
   ]
  },
  {
   "cell_type": "markdown",
   "metadata": {},
   "source": [
    "---\n",
    "## Explore\n",
    "### What are the characteristics of loan practices in Houston (2009), Seattle (2010), and Dallas (2012)?\n",
    "- Do these markets follow a similar trajectory in the years leading up the boom?"
   ]
  },
  {
   "cell_type": "code",
   "execution_count": null,
   "metadata": {},
   "outputs": [],
   "source": [
    "# fmt-clipboard function from terminal == black formatting\n",
    "# df[df.project_city == \"Houston\"].groupby([\"date_of_firm_commitment_activity\"])[\n",
    "#     \"final_mortgage_amount\"\n",
    "# ].sum().reset_index().sort_values(by=\"date_of_firm_commitment_activity\")"
   ]
  },
  {
   "cell_type": "code",
   "execution_count": null,
   "metadata": {
    "scrolled": false
   },
   "outputs": [],
   "source": [
    "# clifton's time machine markets\n",
    "threshold_cities = [\"Houston\", \"Seattle\", \"Dallas\"]\n",
    "\n",
    "# loop through \n",
    "for city in threshold_cities:\n",
    "    # subset for city\n",
    "    date_index_df = df[df.project_city == city].sort_values(\n",
    "        \"date_of_firm_commitment_activity\"\n",
    "    ).set_index(\"date_of_firm_commitment_activity\")\n",
    "\n",
    "    # sum of the final_mortgage_amount by date_of_firm_commitment_activity\n",
    "    date_index_df = (\n",
    "        date_index_df.groupby([\"date_of_firm_commitment_activity\", \"activity_description\"])[\n",
    "            \"final_mortgage_amount\"\n",
    "        ]\n",
    "        .sum()\n",
    "        .reset_index()\n",
    "    )\n",
    "    \n",
    "    date_index_df.set_index(\"date_of_firm_commitment_activity\", inplace=True)\n",
    "    \n",
    "    # plot\n",
    "    sns.lineplot(data=date_index_df, x=date_index_df.index, y=\"final_mortgage_amount\", hue=\"activity_description\")\n",
    "    plt.title(f\"Final Mortgage Amount Over Time: {city}\")\n",
    "    plt.xlabel(\"Date of Firm Commitment Activity\")\n",
    "    plt.ylabel(\"Final Mortgage Amount\")\n",
    "    plt.show()\n",
    "    \n",
    "    yearly_avg = date_index_df.resample('Y').mean()\n",
    "    sns.lineplot(data=yearly_avg, x=yearly_avg.index, y=\"final_mortgage_amount\")\n",
    "    plt.title(f\"Yearly Average Final Mortgage Amount: {city}\")\n",
    "    plt.xlabel(\"Date of Firm Commitment Activity\")\n",
    "    plt.ylabel(\"Final Mortgage Amount\")\n",
    "    plt.show()\n",
    "    \n",
    "    two_year_avg = date_index_df.resample('2Y').mean()\n",
    "    sns.lineplot(data=two_year_avg, x=two_year_avg.index, y=\"final_mortgage_amount\")\n",
    "    plt.title(f\"Two-Year Average Final Mortgage Amount: {city}\")\n",
    "    plt.xlabel(\"Date of Firm Commitment Activity\")\n",
    "    plt.ylabel(\"Final Mortgage Amount\")\n",
    "    plt.show()"
   ]
  },
  {
   "cell_type": "markdown",
   "metadata": {},
   "source": [
    "**Takeaway**: What I observe in the charts above is that for the years that Clifton would have liked to enter into a market, the total final mortgage production for that city droped to $10M or less. We need to know from Clifton which markets he know's it's too late to target to derive a more general metric for labeling markets."
   ]
  },
  {
   "cell_type": "markdown",
   "metadata": {},
   "source": [
    "### Hypothesis Testing\n",
    "\n",
    "$H_0$: The mean final mortgage amount is the same across all activity descriptions\n",
    "\n",
    "$H_a$: The mean final mortgage amount is different depending on the activity description"
   ]
  },
  {
   "cell_type": "code",
   "execution_count": null,
   "metadata": {},
   "outputs": [],
   "source": [
    "df.activity_description.value_counts()"
   ]
  },
  {
   "cell_type": "code",
   "execution_count": null,
   "metadata": {},
   "outputs": [],
   "source": [
    "# 99% confidence level\n",
    "alpha = .01\n",
    "\n",
    "refi = df[df.activity_description == \"Refinance\"].final_mortgage_amount\n",
    "nc = df[df.activity_description == \"New Construction\"].final_mortgage_amount\n",
    "sr = df[df.activity_description == \"SubRehab\"].final_mortgage_amount\n",
    "purch = df[df.activity_description == \"Purchase\"].final_mortgage_amount\n",
    "add = df[df.activity_description == \"Additions\"].final_mortgage_amount\n",
    "imp = df[df.activity_description == \"Improvements\"].final_mortgage_amount\n",
    "ol = df[df.activity_description == \"Operating Loss\"].final_mortgage_amount\n",
    "\n",
    "stat, pvalue = stats.f_oneway(refi, nc, sr, purch, add, imp, ol)\n",
    "\n",
    "print(f\"statistic = {stat}\")\n",
    "print(f\"  p-value = {pvalue}\")\n",
    "print()\n",
    "if pvalue < alpha:\n",
    "    print(\"Reject null hypothesis\")\n",
    "else:\n",
    "    print(\"Fail to reject null hypothesis\")"
   ]
  },
  {
   "cell_type": "code",
   "execution_count": null,
   "metadata": {
    "scrolled": false
   },
   "outputs": [],
   "source": [
    "plt.figure(figsize=(16, 8))\n",
    "\n",
    "sns.boxplot(data=df, x=\"activity_description\", y=\"final_mortgage_amount\")\n",
    "plt.xlabel(\"Activity Description\")\n",
    "plt.ylabel(\"Final Mortgage Amount\")\n",
    "plt.show()"
   ]
  },
  {
   "cell_type": "markdown",
   "metadata": {},
   "source": [
    "**Takeaways**: Looks like there are a lot of outliers that are skewing the data. However, we can clearly see that the new construction mortgages have the highest mean among the population."
   ]
  },
  {
   "cell_type": "markdown",
   "metadata": {},
   "source": [
    "$H_0$: The mean final mortgage amount is the same across all facility types\n",
    "\n",
    "$H_a$: The mean final mortgage is different depending on the facility type"
   ]
  },
  {
   "cell_type": "markdown",
   "metadata": {},
   "source": [
    "---\n",
    "#### Detour To Standardize `project_city` Names"
   ]
  },
  {
   "cell_type": "code",
   "execution_count": null,
   "metadata": {},
   "outputs": [],
   "source": [
    "pd.DataFrame(df.groupby([\"project_city\", \"fiscal_year_of_firm_commitment\"])[\"final_mortgage_amount\"].sum().sort_values(ascending=False).head(50))"
   ]
  },
  {
   "cell_type": "code",
   "execution_count": null,
   "metadata": {},
   "outputs": [],
   "source": [
    "df.project_city.unique()"
   ]
  },
  {
   "cell_type": "code",
   "execution_count": null,
   "metadata": {},
   "outputs": [],
   "source": [
    "# def standardize_city_name(date):\n",
    "#     return re.sub(r\"(\\d{2})/(\\d{2})/(\\d{2})\", r\"20\\3-\\1-\\2\", date)"
   ]
  },
  {
   "cell_type": "code",
   "execution_count": null,
   "metadata": {},
   "outputs": [],
   "source": [
    "# regex = br\"\"\n",
    "\n",
    "# df[\"project_city\"] = df.project_city.str.replace()"
   ]
  },
  {
   "cell_type": "code",
   "execution_count": null,
   "metadata": {},
   "outputs": [],
   "source": [
    "# (^[a-z]+)(.)([a-z]+)"
   ]
  },
  {
   "cell_type": "code",
   "execution_count": null,
   "metadata": {},
   "outputs": [],
   "source": [
    "# (^[A-Z][a-z]+)(\\s?)([A-Z][a-z]+)"
   ]
  },
  {
   "cell_type": "code",
   "execution_count": null,
   "metadata": {},
   "outputs": [],
   "source": [
    "# df.groupby([\"project_city\", \"fiscal_year_of_firm_commitment\"])[\"final_mortgage_amount\"].sum()"
   ]
  },
  {
   "cell_type": "code",
   "execution_count": null,
   "metadata": {},
   "outputs": [],
   "source": [
    "# number of unique cities before project_city string transformations\n",
    "# len(df.project_city.unique())"
   ]
  },
  {
   "cell_type": "code",
   "execution_count": null,
   "metadata": {},
   "outputs": [],
   "source": [
    "# df[\"project_city\"] = df.project_city.str.strip()"
   ]
  },
  {
   "cell_type": "code",
   "execution_count": null,
   "metadata": {},
   "outputs": [],
   "source": [
    "# df.groupby([\"project_city\", \"fiscal_year_of_firm_commitment\"])[\"final_mortgage_amount\"].sum()"
   ]
  },
  {
   "cell_type": "code",
   "execution_count": null,
   "metadata": {},
   "outputs": [],
   "source": [
    "# number of unique cities after project_city .strip()\n",
    "# len(df.project_city.unique())"
   ]
  },
  {
   "cell_type": "code",
   "execution_count": null,
   "metadata": {},
   "outputs": [],
   "source": [
    "# df[\"project_city\"] = df.project_city.str.title()"
   ]
  },
  {
   "cell_type": "code",
   "execution_count": null,
   "metadata": {},
   "outputs": [],
   "source": [
    "df.groupby([\"project_city\", \"fiscal_year_of_firm_commitment\"])[\"final_mortgage_amount\"].sum()"
   ]
  },
  {
   "cell_type": "code",
   "execution_count": null,
   "metadata": {},
   "outputs": [],
   "source": [
    "# number of unique cities after project_city .title() case\n",
    "len(df.project_city.unique())"
   ]
  },
  {
   "cell_type": "code",
   "execution_count": null,
   "metadata": {},
   "outputs": [],
   "source": [
    "df.groupby([\"project_city\", \"fiscal_year_of_firm_commitment\"])[\n",
    "    \"final_mortgage_amount\"\n",
    "].sum().sort_values(ascending=False).head(50)"
   ]
  },
  {
   "cell_type": "markdown",
   "metadata": {},
   "source": [
    "---\n",
    "### Back on Track with Hypothesis Testing\n",
    "$H_0$ : The mean final mortgage amount is the same across all facility types\n",
    "\n",
    "$H_a$ : The mean final mortgage is different depending on the facility type"
   ]
  },
  {
   "cell_type": "code",
   "execution_count": null,
   "metadata": {},
   "outputs": [],
   "source": [
    "df.facility_type.value_counts()"
   ]
  },
  {
   "cell_type": "code",
   "execution_count": null,
   "metadata": {},
   "outputs": [],
   "source": [
    "# 99% confidence level\n",
    "alpha = .01\n",
    "\n",
    "apts_coops = df[df.facility_type == \"Apts/Coops\"].final_mortgage_amount\n",
    "apts = df[df.facility_type == \"Apts\"].final_mortgage_amount \n",
    "nursing_icf = df[df.facility_type == \"Nursing/ICF\"].final_mortgage_amount # intermediate care facility\n",
    "alf = df[df.facility_type == \"Asst'd Livg\"].final_mortgage_amount # assisted living facility \n",
    "coop_apts_mh_alf = df[df.facility_type == \"Coop/Apts/Mobile Home Pk/ALF\"].final_mortgage_amount\n",
    "coop = df[df.facility_type == \"Coop\"].final_mortgage_amount\n",
    "bc = df[df.facility_type == \"Board & Care\"].final_mortgage_amount\n",
    "hosp = df[df.facility_type == \"Hospital\"].final_mortgage_amount\n",
    "health_care = df[df.facility_type == \"232 Health Care-NH/ICF, ALF or B&C\"].final_mortgage_amount\n",
    "mobile_home = df[df.facility_type == \"Mobile Home Pk\"].final_mortgage_amount\n",
    "sro = df[df.facility_type == \"SRO\"].final_mortgage_amount # single room occupancy \n",
    "\n",
    "stat, pvalue = stats.f_oneway(\n",
    "    apts_coops,\n",
    "    apts,\n",
    "    nursing_icf,\n",
    "    alf,\n",
    "    coop_apts_mh_alf,\n",
    "    coop,\n",
    "    bc,\n",
    "    hosp,\n",
    "    health_care,\n",
    "    mobile_home,\n",
    "    sro\n",
    ")\n",
    "\n",
    "\n",
    "print(f\"statistic = {stat}\")\n",
    "print(f\"  p-value = {pvalue}\")\n",
    "print()\n",
    "if pvalue < alpha:\n",
    "    print(\"Reject null hypothesis\")\n",
    "else:\n",
    "    print(\"Fail to reject null hypothesis\")"
   ]
  },
  {
   "cell_type": "code",
   "execution_count": null,
   "metadata": {},
   "outputs": [],
   "source": [
    "plt.figure(figsize=(16, 8))\n",
    "\n",
    "sns.boxplot(data=df, x=\"facility_type\", y=\"final_mortgage_amount\")\n",
    "plt.xlabel(\"Facility Type\")\n",
    "plt.ylabel(\"Final Mortgage Amount\")\n",
    "plt.show()"
   ]
  },
  {
   "cell_type": "markdown",
   "metadata": {},
   "source": [
    "**Takeaway**: I think we should group some of these facilities together. There seems to be a lot of overlap. Based on the visualization above, Hospitals seem to have the highest variance and mean mortgage amount."
   ]
  },
  {
   "cell_type": "markdown",
   "metadata": {},
   "source": [
    "## Preprocessing\n",
    "Considerations:\n",
    "\n",
    "- Some loans have been reissued. May need to take unique FHA numbers\n",
    "- We will engineer features here by calculating growth rate, mean mortgages over time, and other *benchmark* metrics"
   ]
  },
  {
   "cell_type": "code",
   "execution_count": null,
   "metadata": {},
   "outputs": [],
   "source": [
    "# df = df[(df.activity_group == \"NC/SR\") | (df.activity_group == \"Imp/Adds\")]"
   ]
  },
  {
   "cell_type": "code",
   "execution_count": null,
   "metadata": {},
   "outputs": [],
   "source": [
    "# grouping by city, state, and fiscal year or firm commitment\n",
    "# aggregating final_mortgage_amount \n",
    "# sorting by sum and count in descending order\n",
    "# model_df = df.groupby([\"project_city\", \"project_state\", \"fiscal_year_of_firm_commitment\", \"activity_description\"])[\n",
    "#     \"final_mortgage_amount\"\n",
    "# ].agg([\"count\", \"sum\", \"mean\", \"median\"]).sort_values(\n",
    "#     by=[\"sum\", \"count\"], ascending=False\n",
    "# ).reset_index()"
   ]
  },
  {
   "cell_type": "code",
   "execution_count": null,
   "metadata": {},
   "outputs": [],
   "source": [
    "# print(model_df.shape)\n",
    "# model_df.head(10)"
   ]
  },
  {
   "cell_type": "code",
   "execution_count": null,
   "metadata": {},
   "outputs": [],
   "source": [
    "# model_df.rename(\n",
    "#     columns={\n",
    "#         \"project_city\": \"city\",\n",
    "#         \"project_state\": \"state\",\n",
    "#         \"fiscal_year_of_firm_commitment\": \"year\",\n",
    "#         \"count\": \"quantity_of_mortgages\",\n",
    "#         \"sum\": \"total_mortgage_amount\",\n",
    "#         \"mean\": \"average_mortgage_amount\",\n",
    "#         \"median\": \"median_mortgage_amount\",\n",
    "#     },\n",
    "#     inplace=True,\n",
    "# )\n",
    "\n",
    "# model_df.head()"
   ]
  },
  {
   "cell_type": "code",
   "execution_count": null,
   "metadata": {},
   "outputs": [],
   "source": [
    "# df[\"label\"] = np.where(\n",
    "#     ((df.city == \"Houston\") & (df.state == \"TX\") & (df.year == 2009))\n",
    "#     | ((df.city == \"Seattle\") & (df.state == \"WA\") & (df.year == 2010))\n",
    "#     | ((df.city == \"Dallas\") & (df.state == \"TX\")  & (df.year == 2012)),\n",
    "#     True,\n",
    "#     False,\n",
    "# )\n",
    "# df.head()"
   ]
  },
  {
   "cell_type": "code",
   "execution_count": null,
   "metadata": {
    "scrolled": true
   },
   "outputs": [],
   "source": [
    "# df[df[\"label\"] == True]"
   ]
  },
  {
   "cell_type": "code",
   "execution_count": 3,
   "metadata": {},
   "outputs": [],
   "source": [
    "df = pr.get_model_df()"
   ]
  },
  {
   "cell_type": "code",
   "execution_count": 4,
   "metadata": {},
   "outputs": [
    {
     "name": "stdout",
     "output_type": "stream",
     "text": [
      "(15173, 9)\n"
     ]
    },
    {
     "data": {
      "text/html": [
       "<div>\n",
       "<style scoped>\n",
       "    .dataframe tbody tr th:only-of-type {\n",
       "        vertical-align: middle;\n",
       "    }\n",
       "\n",
       "    .dataframe tbody tr th {\n",
       "        vertical-align: top;\n",
       "    }\n",
       "\n",
       "    .dataframe thead th {\n",
       "        text-align: right;\n",
       "    }\n",
       "</style>\n",
       "<table border=\"1\" class=\"dataframe\">\n",
       "  <thead>\n",
       "    <tr style=\"text-align: right;\">\n",
       "      <th></th>\n",
       "      <th>city</th>\n",
       "      <th>state</th>\n",
       "      <th>year</th>\n",
       "      <th>activity_description</th>\n",
       "      <th>quantity_of_mortgages</th>\n",
       "      <th>total_mortgage_amount</th>\n",
       "      <th>average_mortgage_amount</th>\n",
       "      <th>median_mortgage_amount</th>\n",
       "      <th>label</th>\n",
       "    </tr>\n",
       "  </thead>\n",
       "  <tbody>\n",
       "    <tr>\n",
       "      <th>0</th>\n",
       "      <td>Bronx</td>\n",
       "      <td>NY</td>\n",
       "      <td>2013</td>\n",
       "      <td>Refinance</td>\n",
       "      <td>8</td>\n",
       "      <td>822430600</td>\n",
       "      <td>1.028038e+08</td>\n",
       "      <td>24774500.0</td>\n",
       "      <td>False</td>\n",
       "    </tr>\n",
       "    <tr>\n",
       "      <th>1</th>\n",
       "      <td>Trenton</td>\n",
       "      <td>NJ</td>\n",
       "      <td>2009</td>\n",
       "      <td>New Construction</td>\n",
       "      <td>1</td>\n",
       "      <td>755874500</td>\n",
       "      <td>7.558745e+08</td>\n",
       "      <td>755874500.0</td>\n",
       "      <td>False</td>\n",
       "    </tr>\n",
       "    <tr>\n",
       "      <th>2</th>\n",
       "      <td>New York</td>\n",
       "      <td>NY</td>\n",
       "      <td>2013</td>\n",
       "      <td>Improvements</td>\n",
       "      <td>1</td>\n",
       "      <td>500000000</td>\n",
       "      <td>5.000000e+08</td>\n",
       "      <td>500000000.0</td>\n",
       "      <td>False</td>\n",
       "    </tr>\n",
       "    <tr>\n",
       "      <th>3</th>\n",
       "      <td>Chicago</td>\n",
       "      <td>IL</td>\n",
       "      <td>2012</td>\n",
       "      <td>Refinance</td>\n",
       "      <td>41</td>\n",
       "      <td>476952400</td>\n",
       "      <td>1.163299e+07</td>\n",
       "      <td>8300000.0</td>\n",
       "      <td>False</td>\n",
       "    </tr>\n",
       "    <tr>\n",
       "      <th>4</th>\n",
       "      <td>Chicago</td>\n",
       "      <td>IL</td>\n",
       "      <td>2013</td>\n",
       "      <td>Refinance</td>\n",
       "      <td>43</td>\n",
       "      <td>429142800</td>\n",
       "      <td>9.980065e+06</td>\n",
       "      <td>9485900.0</td>\n",
       "      <td>False</td>\n",
       "    </tr>\n",
       "    <tr>\n",
       "      <th>5</th>\n",
       "      <td>Chicago</td>\n",
       "      <td>IL</td>\n",
       "      <td>2011</td>\n",
       "      <td>Refinance</td>\n",
       "      <td>36</td>\n",
       "      <td>391132600</td>\n",
       "      <td>1.086479e+07</td>\n",
       "      <td>8774600.0</td>\n",
       "      <td>False</td>\n",
       "    </tr>\n",
       "    <tr>\n",
       "      <th>6</th>\n",
       "      <td>Long Island City, Queens</td>\n",
       "      <td>NY</td>\n",
       "      <td>2019</td>\n",
       "      <td>New Construction</td>\n",
       "      <td>2</td>\n",
       "      <td>386525000</td>\n",
       "      <td>1.932625e+08</td>\n",
       "      <td>193262500.0</td>\n",
       "      <td>False</td>\n",
       "    </tr>\n",
       "    <tr>\n",
       "      <th>7</th>\n",
       "      <td>New York</td>\n",
       "      <td>NY</td>\n",
       "      <td>2018</td>\n",
       "      <td>Refinance</td>\n",
       "      <td>9</td>\n",
       "      <td>374764600</td>\n",
       "      <td>4.164051e+07</td>\n",
       "      <td>20000000.0</td>\n",
       "      <td>False</td>\n",
       "    </tr>\n",
       "    <tr>\n",
       "      <th>8</th>\n",
       "      <td>Queens</td>\n",
       "      <td>NY</td>\n",
       "      <td>2020</td>\n",
       "      <td>New Construction</td>\n",
       "      <td>2</td>\n",
       "      <td>361055000</td>\n",
       "      <td>1.805275e+08</td>\n",
       "      <td>180527500.0</td>\n",
       "      <td>False</td>\n",
       "    </tr>\n",
       "    <tr>\n",
       "      <th>9</th>\n",
       "      <td>Cumberland</td>\n",
       "      <td>MD</td>\n",
       "      <td>2006</td>\n",
       "      <td>New Construction</td>\n",
       "      <td>1</td>\n",
       "      <td>337144000</td>\n",
       "      <td>3.371440e+08</td>\n",
       "      <td>337144000.0</td>\n",
       "      <td>False</td>\n",
       "    </tr>\n",
       "  </tbody>\n",
       "</table>\n",
       "</div>"
      ],
      "text/plain": [
       "                       city state  year activity_description  \\\n",
       "0                     Bronx    NY  2013            Refinance   \n",
       "1                   Trenton    NJ  2009     New Construction   \n",
       "2                  New York    NY  2013         Improvements   \n",
       "3                   Chicago    IL  2012            Refinance   \n",
       "4                   Chicago    IL  2013            Refinance   \n",
       "5                   Chicago    IL  2011            Refinance   \n",
       "6  Long Island City, Queens    NY  2019     New Construction   \n",
       "7                  New York    NY  2018            Refinance   \n",
       "8                    Queens    NY  2020     New Construction   \n",
       "9                Cumberland    MD  2006     New Construction   \n",
       "\n",
       "   quantity_of_mortgages  total_mortgage_amount  average_mortgage_amount  \\\n",
       "0                      8              822430600             1.028038e+08   \n",
       "1                      1              755874500             7.558745e+08   \n",
       "2                      1              500000000             5.000000e+08   \n",
       "3                     41              476952400             1.163299e+07   \n",
       "4                     43              429142800             9.980065e+06   \n",
       "5                     36              391132600             1.086479e+07   \n",
       "6                      2              386525000             1.932625e+08   \n",
       "7                      9              374764600             4.164051e+07   \n",
       "8                      2              361055000             1.805275e+08   \n",
       "9                      1              337144000             3.371440e+08   \n",
       "\n",
       "   median_mortgage_amount  label  \n",
       "0              24774500.0  False  \n",
       "1             755874500.0  False  \n",
       "2             500000000.0  False  \n",
       "3               8300000.0  False  \n",
       "4               9485900.0  False  \n",
       "5               8774600.0  False  \n",
       "6             193262500.0  False  \n",
       "7              20000000.0  False  \n",
       "8             180527500.0  False  \n",
       "9             337144000.0  False  "
      ]
     },
     "execution_count": 4,
     "metadata": {},
     "output_type": "execute_result"
    }
   ],
   "source": [
    "print(df.shape)\n",
    "df.head(10)"
   ]
  },
  {
   "cell_type": "code",
   "execution_count": null,
   "metadata": {},
   "outputs": [],
   "source": []
  }
 ],
 "metadata": {
  "kernelspec": {
   "display_name": "Python 3",
   "language": "python",
   "name": "python3"
  },
  "language_info": {
   "codemirror_mode": {
    "name": "ipython",
    "version": 3
   },
   "file_extension": ".py",
   "mimetype": "text/x-python",
   "name": "python",
   "nbconvert_exporter": "python",
   "pygments_lexer": "ipython3",
   "version": "3.7.7"
  }
 },
 "nbformat": 4,
 "nbformat_minor": 2
}
