{
 "cells": [
  {
   "cell_type": "markdown",
   "metadata": {},
   "source": [
    "# Capstone Project: [testfit.io](https://blog.testfit.io/)\n",
    "## Wrangle"
   ]
  },
  {
   "cell_type": "code",
   "execution_count": 2,
   "metadata": {},
   "outputs": [
    {
     "name": "stderr",
     "output_type": "stream",
     "text": [
      "\n",
      "Bad key \"text.kerning_factor\" on line 4 in\n",
      "/usr/local/anaconda3/lib/python3.7/site-packages/matplotlib/mpl-data/stylelib/_classic_test_patch.mplstyle.\n",
      "You probably need to get an updated matplotlibrc file from\n",
      "https://github.com/matplotlib/matplotlib/blob/v3.1.3/matplotlibrc.template\n",
      "or from the matplotlib source distribution\n"
     ]
    }
   ],
   "source": [
    "import numpy as np\n",
    "import pandas as pd\n",
    "\n",
    "import datetime\n",
    "\n",
    "%matplotlib inline\n",
    "import matplotlib.pyplot as plt\n",
    "import seaborn as sns\n",
    "\n",
    "import wrangle as wr"
   ]
  },
  {
   "cell_type": "code",
   "execution_count": null,
   "metadata": {},
   "outputs": [],
   "source": [
    "pd.set_option(\"display.max_columns\", None)\n",
    "plt.rc(\"figure\", figsize=(16, 8))"
   ]
  },
  {
   "cell_type": "markdown",
   "metadata": {},
   "source": [
    "## Stakeholder Notes\n",
    "- Work with Commitments\n",
    "- Activity Descriptions == New Construction, SubRehab, Additions, and Improvements\n",
    "- Loan amount >= $1M:\n",
    "    - Mortgage at time of Firm Commitment Issuance, Amendment or Reissuance?\n",
    "    - Mortgage at Firm Commitment Issuance?\n",
    "    - Final Mortgage Amount? **Probably this one...**\n",
    "- Market == Large urban centers; meaning **cities** not just states; not rural one-off projects\n",
    "- Types of FHA loan is irrelevant"
   ]
  },
  {
   "cell_type": "code",
   "execution_count": null,
   "metadata": {},
   "outputs": [],
   "source": [
    "# commitments\n",
    "# df  = pd.read_excel(\"Initi_Endores_Firm Comm_DB_FY06_FY20_Q2.xlsx\", sheet_name=\"Firm Cmtmts, Iss'd and Reiss'd\", header=6)\n",
    "# print(df.shape)\n",
    "# df.head()\n",
    "df = pd.read_csv(\"hud_commitments.csv\", index_col=0)\n",
    "print(df.shape)\n",
    "df.head()"
   ]
  },
  {
   "cell_type": "code",
   "execution_count": null,
   "metadata": {},
   "outputs": [],
   "source": [
    "# df[\"Activity Description\"].value_counts()"
   ]
  },
  {
   "cell_type": "code",
   "execution_count": null,
   "metadata": {},
   "outputs": [],
   "source": [
    "# df.to_csv(\"hud_commitments.csv\")"
   ]
  },
  {
   "cell_type": "code",
   "execution_count": null,
   "metadata": {},
   "outputs": [],
   "source": [
    "# df.rename(columns={\"Activity Group\": \"activity_group\"}, inplace=True)"
   ]
  },
  {
   "cell_type": "code",
   "execution_count": null,
   "metadata": {},
   "outputs": [],
   "source": [
    "# activity_groups filtered for groups of interest for clifton\n",
    "# df = df[(df.activity_group == \"NC/SR\") | (df.activity_group == \"Imp/Adds\")]"
   ]
  },
  {
   "cell_type": "code",
   "execution_count": null,
   "metadata": {},
   "outputs": [],
   "source": [
    "# only including loans greater than or equal to $1M\n",
    "# df = df[df[\"Final Mortgage Amount\"] >= 1000000]\n",
    "# df.head()"
   ]
  },
  {
   "cell_type": "code",
   "execution_count": null,
   "metadata": {},
   "outputs": [],
   "source": [
    "df.info()"
   ]
  },
  {
   "cell_type": "code",
   "execution_count": null,
   "metadata": {},
   "outputs": [],
   "source": [
    "# df[\"Activity Description\"].value_counts()"
   ]
  },
  {
   "cell_type": "code",
   "execution_count": null,
   "metadata": {},
   "outputs": [],
   "source": [
    "# df[\"activity_group\"].value_counts()"
   ]
  },
  {
   "cell_type": "code",
   "execution_count": null,
   "metadata": {},
   "outputs": [],
   "source": [
    "df.rename(columns={\"Facility Type\": \"facility_type\"}, inplace=True)"
   ]
  },
  {
   "cell_type": "code",
   "execution_count": null,
   "metadata": {},
   "outputs": [],
   "source": [
    "df.facility_type.value_counts()"
   ]
  },
  {
   "cell_type": "code",
   "execution_count": null,
   "metadata": {},
   "outputs": [],
   "source": [
    "df.rename(columns={\"FHA Number\": \"fha_number\"}, inplace=True)"
   ]
  },
  {
   "cell_type": "code",
   "execution_count": null,
   "metadata": {},
   "outputs": [],
   "source": [
    "df.groupby([\"Project State\"]).fha_number.count().sort_values().plot.barh()\n",
    "plt.show()"
   ]
  },
  {
   "cell_type": "code",
   "execution_count": null,
   "metadata": {},
   "outputs": [],
   "source": [
    "# df[df[\"Final Mortgage Amount\"] >= 1000000].shape"
   ]
  },
  {
   "cell_type": "code",
   "execution_count": null,
   "metadata": {},
   "outputs": [],
   "source": [
    "df.rename(columns={\"Final Mortgage Amount\": \"final_mortgage\"}, inplace=True)"
   ]
  },
  {
   "cell_type": "code",
   "execution_count": null,
   "metadata": {},
   "outputs": [],
   "source": [
    "df.groupby([\"Project State\"]).final_mortgage.sum().sort_values().plot.barh()"
   ]
  },
  {
   "cell_type": "code",
   "execution_count": null,
   "metadata": {},
   "outputs": [],
   "source": [
    "df[\"Project City\"].value_counts().head(20)"
   ]
  },
  {
   "cell_type": "code",
   "execution_count": null,
   "metadata": {},
   "outputs": [],
   "source": [
    "df.groupby([\"Project City\", \"Fiscal Year of Firm Commitment\"]).size().sort_values()"
   ]
  },
  {
   "cell_type": "code",
   "execution_count": null,
   "metadata": {},
   "outputs": [],
   "source": [
    "df.groupby([\"Project City\", \"Fiscal Year of Firm Commitment\"])[\"final_mortgage\"].sum().sort_values()"
   ]
  },
  {
   "cell_type": "code",
   "execution_count": null,
   "metadata": {},
   "outputs": [],
   "source": [
    "df[df[\"Project City\"] == \"Austin\"].groupby(\"Fiscal Year of Firm Commitment\")[\"final_mortgage\"].sum()"
   ]
  },
  {
   "cell_type": "code",
   "execution_count": null,
   "metadata": {},
   "outputs": [],
   "source": [
    "df[df[\"Project City\"] == \"Minneapolis\"].groupby(\"Fiscal Year of Firm Commitment\")[\"final_mortgage\"].sum()"
   ]
  },
  {
   "cell_type": "code",
   "execution_count": null,
   "metadata": {},
   "outputs": [],
   "source": [
    "# csv works and can be read\n",
    "df = pd.read_csv(\"hud_commitments.csv\", index_col=0)\n",
    "df.head()"
   ]
  },
  {
   "cell_type": "code",
   "execution_count": null,
   "metadata": {},
   "outputs": [],
   "source": [
    "df[df[\"Project City\"] == \"Austin\"].groupby(\"Fiscal Year of Firm Commitment\")[\"Final Mortgage Amount\"].sum()"
   ]
  },
  {
   "cell_type": "code",
   "execution_count": null,
   "metadata": {},
   "outputs": [],
   "source": [
    "df[df[\"Project City\"] == \"Austin\"].groupby(\"Fiscal Year of Firm Commitment\")[\"Final Mortgage Amount\"].count()"
   ]
  },
  {
   "cell_type": "code",
   "execution_count": null,
   "metadata": {},
   "outputs": [],
   "source": [
    "df[df[\"Project City\"] == \"Austin\"].groupby(\"Fiscal Year of Firm Commitment\")[\"Final Mortgage Amount\"].size()"
   ]
  },
  {
   "cell_type": "code",
   "execution_count": null,
   "metadata": {},
   "outputs": [],
   "source": [
    "df.shape"
   ]
  },
  {
   "cell_type": "code",
   "execution_count": null,
   "metadata": {
    "scrolled": false
   },
   "outputs": [],
   "source": [
    "# let's see the number of unique values for earch column\n",
    "# for col in df.columns:\n",
    "#     unique = len(df[col].unique())\n",
    "#     if unique > 10:\n",
    "#         print()\n",
    "#         print(f'{col} has {unique} values')\n",
    "#     else:\n",
    "#         print()\n",
    "#         print(f'{col} value count:')\n",
    "#         print(df[col].value_counts())"
   ]
  },
  {
   "cell_type": "markdown",
   "metadata": {},
   "source": [
    "There are hospitals in this data."
   ]
  },
  {
   "cell_type": "code",
   "execution_count": null,
   "metadata": {},
   "outputs": [],
   "source": [
    "df.columns"
   ]
  },
  {
   "cell_type": "code",
   "execution_count": null,
   "metadata": {},
   "outputs": [],
   "source": [
    "df.head()"
   ]
  },
  {
   "cell_type": "code",
   "execution_count": null,
   "metadata": {},
   "outputs": [],
   "source": [
    "df.dtypes"
   ]
  },
  {
   "cell_type": "code",
   "execution_count": null,
   "metadata": {},
   "outputs": [],
   "source": [
    "# df[\"Date of Firm Issue\"] = pd.to_datetime(df[\"Date of Firm Issue\"])\n",
    "# df[\"Date of Firm Issue\"].dt.year"
   ]
  },
  {
   "cell_type": "markdown",
   "metadata": {},
   "source": [
    "---\n",
    "## Wrangle"
   ]
  },
  {
   "cell_type": "code",
   "execution_count": null,
   "metadata": {},
   "outputs": [],
   "source": [
    "df = wr.wrangle_hud()\n",
    "print(df.shape)\n",
    "df.head()"
   ]
  },
  {
   "cell_type": "code",
   "execution_count": null,
   "metadata": {},
   "outputs": [],
   "source": [
    "df.info()"
   ]
  },
  {
   "cell_type": "markdown",
   "metadata": {},
   "source": [
    "---\n",
    "## Explore\n",
    "### What are the characteristics of loan practices in Houston (2009), Seattle (2010), and Dallas (2012)?\n",
    "- Do these markets follow a similar trajectory in the years leading up the boom?"
   ]
  },
  {
   "cell_type": "code",
   "execution_count": null,
   "metadata": {},
   "outputs": [],
   "source": [
    "# fmt-clipboard function from terminal == black formatting\n",
    "# df[df.project_city == \"Houston\"].groupby([\"date_of_firm_commitment_activity\"])[\n",
    "#     \"final_mortgage_amount\"\n",
    "# ].sum().reset_index().sort_values(by=\"date_of_firm_commitment_activity\")"
   ]
  },
  {
   "cell_type": "code",
   "execution_count": null,
   "metadata": {
    "scrolled": false
   },
   "outputs": [],
   "source": [
    "# clifton's time machine markets\n",
    "threshold_cities = [\"Houston\", \"Seattle\", \"Dallas\"]\n",
    "\n",
    "# loop through \n",
    "for city in threshold_cities:\n",
    "    # subset for city\n",
    "    date_index_df = df[df.project_city == city].sort_values(\n",
    "        \"date_of_firm_commitment_activity\"\n",
    "    ).set_index(\"date_of_firm_commitment_activity\")\n",
    "\n",
    "    # sum of the final_mortgage_amount by date_of_firm_commitment_activity\n",
    "    date_index_df = (\n",
    "        date_index_df.groupby([\"date_of_firm_commitment_activity\"])[\n",
    "            \"final_mortgage_amount\"\n",
    "        ]\n",
    "        .sum()\n",
    "        .reset_index()\n",
    "    )\n",
    "    \n",
    "    date_index_df.set_index(\"date_of_firm_commitment_activity\", inplace=True)\n",
    "    \n",
    "    # plot\n",
    "    date_index_df.plot()  \n",
    "    plt.title(f\"Final Mortgage Amount Over Time: {city}\")\n",
    "    plt.xlabel(\"Date of Firm Commitment Activity\")\n",
    "    plt.ylabel(\"Final Mortgage Amount\")\n",
    "    plt.show()\n",
    "    \n",
    "    date_index_df.resample('Y').mean().plot()\n",
    "    plt.title(f\"Yearly Average Final Mortgage Amount: {city}\")\n",
    "    plt.xlabel(\"Date of Firm Commitment Activity\")\n",
    "    plt.ylabel(\"Final Mortgage Amount\")\n",
    "    plt.show()\n",
    "    \n",
    "    date_index_df.resample('6M').mean().plot()\n",
    "    plt.title(f\"6 Month Average Final Mortgage Amount: {city}\")\n",
    "    plt.xlabel(\"Date of Firm Commitment Activity\")\n",
    "    plt.ylabel(\"Final Mortgage Amount\")\n",
    "    plt.show()"
   ]
  },
  {
   "cell_type": "markdown",
   "metadata": {},
   "source": [
    "**Takeaway**: What I observe in the charts above is that for the years that Clifton would have liked to enter into a market, the total final mortgage production for that city droped to $1M or less."
   ]
  },
  {
   "cell_type": "code",
   "execution_count": null,
   "metadata": {},
   "outputs": [],
   "source": []
  }
 ],
 "metadata": {
  "kernelspec": {
   "display_name": "Python 3",
   "language": "python",
   "name": "python3"
  },
  "language_info": {
   "codemirror_mode": {
    "name": "ipython",
    "version": 3
   },
   "file_extension": ".py",
   "mimetype": "text/x-python",
   "name": "python",
   "nbconvert_exporter": "python",
   "pygments_lexer": "ipython3",
   "version": "3.7.7"
  }
 },
 "nbformat": 4,
 "nbformat_minor": 2
}
