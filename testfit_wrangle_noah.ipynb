{
 "cells": [
  {
   "cell_type": "markdown",
   "metadata": {},
   "source": [
    "# Wrangle: [testfit.io](https://blog.testfit.io/)"
   ]
  },
  {
   "cell_type": "code",
   "execution_count": null,
   "metadata": {},
   "outputs": [],
   "source": [
    "import numpy as np\n",
    "import pandas as pd\n",
    "\n",
    "%matplotlib inline\n",
    "import matplotlib.pyplot as plt\n",
    "import seaborn as sns\n",
    "\n",
    "import wrangle"
   ]
  },
  {
   "cell_type": "code",
   "execution_count": 2,
   "metadata": {},
   "outputs": [],
   "source": [
    "pd.set_option(\"display.max_columns\", None)\n",
    "plt.rc(\"figure\", figsize=(16, 8))"
   ]
  },
  {
   "cell_type": "markdown",
   "metadata": {},
   "source": [
    "## Stakeholder Notes\n",
    "- Work with Commitments\n",
    "- Activity Descriptions == New Construction, SubRehab, Additions, and Improvements\n",
    "- Loan amount >= $1M:\n",
    "    - Mortgage at time of Firm Commitment Issuance, Amendment or Reissuance?\n",
    "    - Mortgage at Firm Commitment Issuance?\n",
    "    - Final Mortgage Amount? **Probably this one...**\n",
    "- Market == Large urban centers; meaning **cities** not just states; not rural one-off projects\n",
    "- Types of FHA loan is irrelevant"
   ]
  },
  {
   "cell_type": "code",
   "execution_count": 6,
   "metadata": {},
   "outputs": [
    {
     "ename": "AttributeError",
     "evalue": "module 'wrangle' has no attribute 'wrangle_hud'",
     "output_type": "error",
     "traceback": [
      "\u001b[0;31m---------------------------------------------------------------------------\u001b[0m",
      "\u001b[0;31mAttributeError\u001b[0m                            Traceback (most recent call last)",
      "\u001b[0;32m<ipython-input-6-4b86a14ee4ac>\u001b[0m in \u001b[0;36m<module>\u001b[0;34m\u001b[0m\n\u001b[0;32m----> 1\u001b[0;31m \u001b[0mdf\u001b[0m \u001b[0;34m=\u001b[0m \u001b[0mwrangle\u001b[0m\u001b[0;34m.\u001b[0m\u001b[0mwrangle_hud\u001b[0m\u001b[0;34m(\u001b[0m\u001b[0;34m)\u001b[0m\u001b[0;34m\u001b[0m\u001b[0;34m\u001b[0m\u001b[0m\n\u001b[0m",
      "\u001b[0;31mAttributeError\u001b[0m: module 'wrangle' has no attribute 'wrangle_hud'"
     ]
    }
   ],
   "source": [
    "df = wrangle.wrangle_hud()"
   ]
  },
  {
   "cell_type": "code",
   "execution_count": 4,
   "metadata": {},
   "outputs": [
    {
     "name": "stdout",
     "output_type": "stream",
     "text": [
      "(20918, 29)\n"
     ]
    },
    {
     "data": {
      "text/html": [
       "<div>\n",
       "<style scoped>\n",
       "    .dataframe tbody tr th:only-of-type {\n",
       "        vertical-align: middle;\n",
       "    }\n",
       "\n",
       "    .dataframe tbody tr th {\n",
       "        vertical-align: top;\n",
       "    }\n",
       "\n",
       "    .dataframe thead th {\n",
       "        text-align: right;\n",
       "    }\n",
       "</style>\n",
       "<table border=\"1\" class=\"dataframe\">\n",
       "  <thead>\n",
       "    <tr style=\"text-align: right;\">\n",
       "      <th></th>\n",
       "      <th>fha_number</th>\n",
       "      <th>project_name</th>\n",
       "      <th>project_city</th>\n",
       "      <th>project_state</th>\n",
       "      <th>basic_fha,_risk_share_or_other</th>\n",
       "      <th>program_category</th>\n",
       "      <th>activity_description</th>\n",
       "      <th>activity_group</th>\n",
       "      <th>facility_type</th>\n",
       "      <th>program_designation</th>\n",
       "      <th>firm_commitment_activity</th>\n",
       "      <th>lender_at_firm_commitment_activity</th>\n",
       "      <th>mortgage_at_time_of_firm_commitment_issuance,_amendment_or_reissuance</th>\n",
       "      <th>unit_or_bed_count</th>\n",
       "      <th>date_of_firm_commitment_activity</th>\n",
       "      <th>fiscal_year_of_firm_commitment_activity</th>\n",
       "      <th>mortgage_at_firm_commitment_issuance</th>\n",
       "      <th>date_of_firm_issue</th>\n",
       "      <th>fiscal_year_of_firm_commitment</th>\n",
       "      <th>map_or_tap</th>\n",
       "      <th>lihtc_designation</th>\n",
       "      <th>tax_exempt_bond_designation</th>\n",
       "      <th>home_designation</th>\n",
       "      <th>cdbg_designation</th>\n",
       "      <th>section_202_refi_designation</th>\n",
       "      <th>irp_decoupling_designation</th>\n",
       "      <th>hope_vi_designation</th>\n",
       "      <th>current_status</th>\n",
       "      <th>final_mortgage_amount</th>\n",
       "    </tr>\n",
       "  </thead>\n",
       "  <tbody>\n",
       "    <tr>\n",
       "      <th>0</th>\n",
       "      <td>11345004</td>\n",
       "      <td>Western Heights Apartments</td>\n",
       "      <td>Olney</td>\n",
       "      <td>TX</td>\n",
       "      <td>Basic FHA</td>\n",
       "      <td>223a7 Refi Apts</td>\n",
       "      <td>Refinance</td>\n",
       "      <td>Refi/ Pchse</td>\n",
       "      <td>Apts</td>\n",
       "      <td>a7/236</td>\n",
       "      <td>Firm Issued</td>\n",
       "      <td>GREYSTONE SERVICING COMPANY LLC</td>\n",
       "      <td>277600</td>\n",
       "      <td>48</td>\n",
       "      <td>2005-10-01</td>\n",
       "      <td>2006</td>\n",
       "      <td>277600</td>\n",
       "      <td>2005-10-01</td>\n",
       "      <td>2006</td>\n",
       "      <td>TAP</td>\n",
       "      <td>False</td>\n",
       "      <td>False</td>\n",
       "      <td>False</td>\n",
       "      <td>False</td>\n",
       "      <td>False</td>\n",
       "      <td>False</td>\n",
       "      <td>False</td>\n",
       "      <td>Firm Comit then Owner Withdrew</td>\n",
       "      <td>271700</td>\n",
       "    </tr>\n",
       "    <tr>\n",
       "      <th>1</th>\n",
       "      <td>11345005</td>\n",
       "      <td>Woodlands Village Apts</td>\n",
       "      <td>Breckenridge</td>\n",
       "      <td>TX</td>\n",
       "      <td>Basic FHA</td>\n",
       "      <td>223a7 Refi Apts</td>\n",
       "      <td>Refinance</td>\n",
       "      <td>Refi/ Pchse</td>\n",
       "      <td>Apts</td>\n",
       "      <td>a7/236</td>\n",
       "      <td>Firm Issued</td>\n",
       "      <td>GREYSTONE SERVICING COMPANY LLC</td>\n",
       "      <td>173000</td>\n",
       "      <td>88</td>\n",
       "      <td>2005-10-01</td>\n",
       "      <td>2006</td>\n",
       "      <td>173000</td>\n",
       "      <td>2005-10-01</td>\n",
       "      <td>2006</td>\n",
       "      <td>TAP</td>\n",
       "      <td>False</td>\n",
       "      <td>False</td>\n",
       "      <td>False</td>\n",
       "      <td>False</td>\n",
       "      <td>False</td>\n",
       "      <td>False</td>\n",
       "      <td>False</td>\n",
       "      <td>Finally Endorsed</td>\n",
       "      <td>168300</td>\n",
       "    </tr>\n",
       "    <tr>\n",
       "      <th>2</th>\n",
       "      <td>4235583</td>\n",
       "      <td>Harbor Court Apartments</td>\n",
       "      <td>Rocky River</td>\n",
       "      <td>OH</td>\n",
       "      <td>Basic FHA</td>\n",
       "      <td>223a7 Refi Apts</td>\n",
       "      <td>Refinance</td>\n",
       "      <td>Refi/ Pchse</td>\n",
       "      <td>Apts</td>\n",
       "      <td>a7/221d4</td>\n",
       "      <td>Firm Issued</td>\n",
       "      <td>GREYSTONE SERVICING COMPANY LLC</td>\n",
       "      <td>3886800</td>\n",
       "      <td>120</td>\n",
       "      <td>2005-10-03</td>\n",
       "      <td>2006</td>\n",
       "      <td>3886800</td>\n",
       "      <td>2005-10-03</td>\n",
       "      <td>2006</td>\n",
       "      <td>TAP</td>\n",
       "      <td>False</td>\n",
       "      <td>False</td>\n",
       "      <td>False</td>\n",
       "      <td>False</td>\n",
       "      <td>False</td>\n",
       "      <td>False</td>\n",
       "      <td>False</td>\n",
       "      <td>Finally Endorsed</td>\n",
       "      <td>3886800</td>\n",
       "    </tr>\n",
       "    <tr>\n",
       "      <th>3</th>\n",
       "      <td>3297260</td>\n",
       "      <td>Compton Towne Apartments</td>\n",
       "      <td>Wilmington</td>\n",
       "      <td>DE</td>\n",
       "      <td>Risk Sharing</td>\n",
       "      <td>QPE Risk Sharing</td>\n",
       "      <td>Refinance</td>\n",
       "      <td>Refi/ Pchse</td>\n",
       "      <td>Coop/Apts/Mobile Home Pk/ALF</td>\n",
       "      <td>QPE Risk Shg Existing</td>\n",
       "      <td>Firm Issued</td>\n",
       "      <td>FEDERAL NATIONAL MORTGAGE</td>\n",
       "      <td>4000000</td>\n",
       "      <td>76</td>\n",
       "      <td>2005-10-03</td>\n",
       "      <td>2006</td>\n",
       "      <td>4000000</td>\n",
       "      <td>2005-10-03</td>\n",
       "      <td>2006</td>\n",
       "      <td>TAP</td>\n",
       "      <td>True</td>\n",
       "      <td>False</td>\n",
       "      <td>False</td>\n",
       "      <td>False</td>\n",
       "      <td>False</td>\n",
       "      <td>False</td>\n",
       "      <td>False</td>\n",
       "      <td>Finally Endorsed</td>\n",
       "      <td>4000000</td>\n",
       "    </tr>\n",
       "    <tr>\n",
       "      <th>4</th>\n",
       "      <td>7135779</td>\n",
       "      <td>Evergreen Terrace I</td>\n",
       "      <td>Joliet</td>\n",
       "      <td>IL</td>\n",
       "      <td>Basic FHA</td>\n",
       "      <td>223a7 Refi Apts</td>\n",
       "      <td>Refinance</td>\n",
       "      <td>Refi/ Pchse</td>\n",
       "      <td>Apts</td>\n",
       "      <td>a7/221d4</td>\n",
       "      <td>Firm Issued</td>\n",
       "      <td>REILLY MORTGAGE GRP</td>\n",
       "      <td>5129000</td>\n",
       "      <td>241</td>\n",
       "      <td>2005-10-04</td>\n",
       "      <td>2006</td>\n",
       "      <td>5129000</td>\n",
       "      <td>2005-10-04</td>\n",
       "      <td>2006</td>\n",
       "      <td>TAP</td>\n",
       "      <td>False</td>\n",
       "      <td>False</td>\n",
       "      <td>False</td>\n",
       "      <td>False</td>\n",
       "      <td>False</td>\n",
       "      <td>False</td>\n",
       "      <td>False</td>\n",
       "      <td>Firm Expired</td>\n",
       "      <td>5247700</td>\n",
       "    </tr>\n",
       "  </tbody>\n",
       "</table>\n",
       "</div>"
      ],
      "text/plain": [
       "  fha_number                project_name  project_city project_state  \\\n",
       "0   11345004  Western Heights Apartments         Olney            TX   \n",
       "1   11345005      Woodlands Village Apts  Breckenridge            TX   \n",
       "2    4235583     Harbor Court Apartments   Rocky River            OH   \n",
       "3    3297260    Compton Towne Apartments    Wilmington            DE   \n",
       "4    7135779         Evergreen Terrace I        Joliet            IL   \n",
       "\n",
       "  basic_fha,_risk_share_or_other  program_category activity_description  \\\n",
       "0                      Basic FHA   223a7 Refi Apts            Refinance   \n",
       "1                      Basic FHA   223a7 Refi Apts            Refinance   \n",
       "2                      Basic FHA   223a7 Refi Apts            Refinance   \n",
       "3                   Risk Sharing  QPE Risk Sharing            Refinance   \n",
       "4                      Basic FHA   223a7 Refi Apts            Refinance   \n",
       "\n",
       "  activity_group                 facility_type    program_designation  \\\n",
       "0    Refi/ Pchse                          Apts                 a7/236   \n",
       "1    Refi/ Pchse                          Apts                 a7/236   \n",
       "2    Refi/ Pchse                          Apts               a7/221d4   \n",
       "3    Refi/ Pchse  Coop/Apts/Mobile Home Pk/ALF  QPE Risk Shg Existing   \n",
       "4    Refi/ Pchse                          Apts               a7/221d4   \n",
       "\n",
       "  firm_commitment_activity lender_at_firm_commitment_activity  \\\n",
       "0              Firm Issued    GREYSTONE SERVICING COMPANY LLC   \n",
       "1              Firm Issued    GREYSTONE SERVICING COMPANY LLC   \n",
       "2              Firm Issued    GREYSTONE SERVICING COMPANY LLC   \n",
       "3              Firm Issued          FEDERAL NATIONAL MORTGAGE   \n",
       "4              Firm Issued                REILLY MORTGAGE GRP   \n",
       "\n",
       "   mortgage_at_time_of_firm_commitment_issuance,_amendment_or_reissuance  \\\n",
       "0                                             277600                       \n",
       "1                                             173000                       \n",
       "2                                            3886800                       \n",
       "3                                            4000000                       \n",
       "4                                            5129000                       \n",
       "\n",
       "   unit_or_bed_count date_of_firm_commitment_activity  \\\n",
       "0                 48                       2005-10-01   \n",
       "1                 88                       2005-10-01   \n",
       "2                120                       2005-10-03   \n",
       "3                 76                       2005-10-03   \n",
       "4                241                       2005-10-04   \n",
       "\n",
       "   fiscal_year_of_firm_commitment_activity  \\\n",
       "0                                     2006   \n",
       "1                                     2006   \n",
       "2                                     2006   \n",
       "3                                     2006   \n",
       "4                                     2006   \n",
       "\n",
       "   mortgage_at_firm_commitment_issuance date_of_firm_issue  \\\n",
       "0                                277600         2005-10-01   \n",
       "1                                173000         2005-10-01   \n",
       "2                               3886800         2005-10-03   \n",
       "3                               4000000         2005-10-03   \n",
       "4                               5129000         2005-10-04   \n",
       "\n",
       "   fiscal_year_of_firm_commitment map_or_tap  lihtc_designation  \\\n",
       "0                            2006        TAP              False   \n",
       "1                            2006        TAP              False   \n",
       "2                            2006        TAP              False   \n",
       "3                            2006        TAP               True   \n",
       "4                            2006        TAP              False   \n",
       "\n",
       "   tax_exempt_bond_designation  home_designation  cdbg_designation  \\\n",
       "0                        False             False             False   \n",
       "1                        False             False             False   \n",
       "2                        False             False             False   \n",
       "3                        False             False             False   \n",
       "4                        False             False             False   \n",
       "\n",
       "   section_202_refi_designation  irp_decoupling_designation  \\\n",
       "0                         False                       False   \n",
       "1                         False                       False   \n",
       "2                         False                       False   \n",
       "3                         False                       False   \n",
       "4                         False                       False   \n",
       "\n",
       "   hope_vi_designation                  current_status  final_mortgage_amount  \n",
       "0                False  Firm Comit then Owner Withdrew                 271700  \n",
       "1                False                Finally Endorsed                 168300  \n",
       "2                False                Finally Endorsed                3886800  \n",
       "3                False                Finally Endorsed                4000000  \n",
       "4                False                    Firm Expired                5247700  "
      ]
     },
     "execution_count": 4,
     "metadata": {},
     "output_type": "execute_result"
    }
   ],
   "source": [
    "print(df.shape)\n",
    "df.head()"
   ]
  },
  {
   "cell_type": "code",
   "execution_count": 5,
   "metadata": {},
   "outputs": [
    {
     "ename": "AttributeError",
     "evalue": "'DataFrame' object has no attribute 'mortgage_at_time_of_firm_commitment_issuance'",
     "output_type": "error",
     "traceback": [
      "\u001b[0;31m---------------------------------------------------------------------------\u001b[0m",
      "\u001b[0;31mAttributeError\u001b[0m                            Traceback (most recent call last)",
      "\u001b[0;32m<ipython-input-5-47c623012d73>\u001b[0m in \u001b[0;36m<module>\u001b[0;34m\u001b[0m\n\u001b[0;32m----> 1\u001b[0;31m \u001b[0mdf\u001b[0m\u001b[0;34m.\u001b[0m\u001b[0mmortgage_at_time_of_firm_commitment_issuance\u001b[0m\u001b[0;34m,\u001b[0m\u001b[0m_amendment_or_reissuance\u001b[0m\u001b[0;34m.\u001b[0m\u001b[0mstr\u001b[0m\u001b[0;34m.\u001b[0m\u001b[0mstrip\u001b[0m\u001b[0;34m(\u001b[0m\u001b[0;34m\",\"\u001b[0m\u001b[0;34m)\u001b[0m\u001b[0;34m\u001b[0m\u001b[0;34m\u001b[0m\u001b[0m\n\u001b[0m",
      "\u001b[0;32m/usr/local/anaconda3/lib/python3.7/site-packages/pandas/core/generic.py\u001b[0m in \u001b[0;36m__getattr__\u001b[0;34m(self, name)\u001b[0m\n\u001b[1;32m   5177\u001b[0m             \u001b[0;32mif\u001b[0m \u001b[0mself\u001b[0m\u001b[0;34m.\u001b[0m\u001b[0m_info_axis\u001b[0m\u001b[0;34m.\u001b[0m\u001b[0m_can_hold_identifiers_and_holds_name\u001b[0m\u001b[0;34m(\u001b[0m\u001b[0mname\u001b[0m\u001b[0;34m)\u001b[0m\u001b[0;34m:\u001b[0m\u001b[0;34m\u001b[0m\u001b[0;34m\u001b[0m\u001b[0m\n\u001b[1;32m   5178\u001b[0m                 \u001b[0;32mreturn\u001b[0m \u001b[0mself\u001b[0m\u001b[0;34m[\u001b[0m\u001b[0mname\u001b[0m\u001b[0;34m]\u001b[0m\u001b[0;34m\u001b[0m\u001b[0;34m\u001b[0m\u001b[0m\n\u001b[0;32m-> 5179\u001b[0;31m             \u001b[0;32mreturn\u001b[0m \u001b[0mobject\u001b[0m\u001b[0;34m.\u001b[0m\u001b[0m__getattribute__\u001b[0m\u001b[0;34m(\u001b[0m\u001b[0mself\u001b[0m\u001b[0;34m,\u001b[0m \u001b[0mname\u001b[0m\u001b[0;34m)\u001b[0m\u001b[0;34m\u001b[0m\u001b[0;34m\u001b[0m\u001b[0m\n\u001b[0m\u001b[1;32m   5180\u001b[0m \u001b[0;34m\u001b[0m\u001b[0m\n\u001b[1;32m   5181\u001b[0m     \u001b[0;32mdef\u001b[0m \u001b[0m__setattr__\u001b[0m\u001b[0;34m(\u001b[0m\u001b[0mself\u001b[0m\u001b[0;34m,\u001b[0m \u001b[0mname\u001b[0m\u001b[0;34m,\u001b[0m \u001b[0mvalue\u001b[0m\u001b[0;34m)\u001b[0m\u001b[0;34m:\u001b[0m\u001b[0;34m\u001b[0m\u001b[0;34m\u001b[0m\u001b[0m\n",
      "\u001b[0;31mAttributeError\u001b[0m: 'DataFrame' object has no attribute 'mortgage_at_time_of_firm_commitment_issuance'"
     ]
    }
   ],
   "source": []
  },
  {
   "cell_type": "code",
   "execution_count": null,
   "metadata": {},
   "outputs": [],
   "source": []
  },
  {
   "cell_type": "code",
   "execution_count": null,
   "metadata": {},
   "outputs": [],
   "source": [
    "# commitments\n",
    "def acquire_fha_data():\n",
    "    \"\"\"take fha data downloaded into csv and turn it into pandas df\"\"\"\n",
    "    url = 'https://www.hud.gov/sites/dfiles/Housing/documents/Initi_Endores_Firm%20Comm_DB_FY06_FY20_Q2.xlsx'\n",
    "    xlsx = \"Initi_Endores_Firm Comm_DB_FY06_FY20_Q2.xlsx\"\n",
    "    sheet_name = \"Firm Cmtmts, Iss'd and Reiss'd\"\n",
    "    df  = pd.read_excel(url, sheet_name=sheet_name, header=6)\n",
    "    return df\n"
   ]
  },
  {
   "cell_type": "code",
   "execution_count": null,
   "metadata": {},
   "outputs": [],
   "source": [
    "df = acquire_fha_data()"
   ]
  },
  {
   "cell_type": "code",
   "execution_count": null,
   "metadata": {},
   "outputs": [],
   "source": [
    "df.shape"
   ]
  },
  {
   "cell_type": "code",
   "execution_count": null,
   "metadata": {},
   "outputs": [],
   "source": [
    "df.to_csv(\"clean_data.csv\")"
   ]
  },
  {
   "cell_type": "code",
   "execution_count": null,
   "metadata": {},
   "outputs": [],
   "source": [
    "def snake_case_column_names(df):\n",
    "    \"\"\"takes in a data frame, lower cases column name, replaces space with underscore and strips commas\"\"\"\n",
    "    new_column_names = []\n",
    "    \n",
    "    for col in df.columns:\n",
    "        new_column_names.append(col.lower().strip(',').replace(\" \", \"_\"))\n",
    "    \n",
    "    df.columns = new_column_names\n",
    "    return df"
   ]
  },
  {
   "cell_type": "code",
   "execution_count": null,
   "metadata": {},
   "outputs": [],
   "source": [
    "df = snake_case_column_names(df)"
   ]
  },
  {
   "cell_type": "code",
   "execution_count": null,
   "metadata": {},
   "outputs": [],
   "source": [
    "def change_to_bool(df):\n",
    "    \"\"\"takes in columns with only 2 options and turns them into booleans\"\"\"\n",
    "    for col in df.columns:\n",
    "        if (df[col][0] == 0) & (df[col].unique()[1] == 'Y'):\n",
    "            df[col] = df[col] == \"Y\"\n",
    "    return df"
   ]
  },
  {
   "cell_type": "code",
   "execution_count": null,
   "metadata": {},
   "outputs": [],
   "source": [
    "df = change_to_bool(df)"
   ]
  },
  {
   "cell_type": "code",
   "execution_count": null,
   "metadata": {},
   "outputs": [],
   "source": [
    "df.info()"
   ]
  },
  {
   "cell_type": "code",
   "execution_count": null,
   "metadata": {},
   "outputs": [],
   "source": [
    "# change fha number to object\n",
    "# change fiscal year of firm commitment activity to datetime year only\n",
    "# change fiscal year of firm commitment to datetime year only\n",
    "def changing_data_types(df):\n",
    "    \"\"\"change fha number to an object\n",
    "    change year only columns to datetime\"\"\"\n",
    "\n",
    "    df.fiscal_year_of_firm_commitment = pd.to_datetime(df.fiscal_year_of_firm_commitment, format=\"%Y\")\n",
    "    df.fiscal_year_of_firm_commitment = df.fiscal_year_of_firm_commitment.apply(lambda x: x.year)\n",
    "\n",
    "    df.fiscal_year_of_firm_commitment_activity = pd.to_datetime(df.fiscal_year_of_firm_commitment_activity, format=\"%Y\")\n",
    "    df.fiscal_year_of_firm_commitment_activity = df.fiscal_year_of_firm_commitment_activity.apply(lambda x: x.year)\n",
    "\n",
    "    df.fha_number = df.fha_number.astype('object')\n",
    "    return df"
   ]
  },
  {
   "cell_type": "code",
   "execution_count": null,
   "metadata": {},
   "outputs": [],
   "source": [
    "milestone = pd.to_datetime(\"Feb 4 2019\")\n",
    "milestone.year"
   ]
  },
  {
   "cell_type": "code",
   "execution_count": null,
   "metadata": {},
   "outputs": [],
   "source": []
  },
  {
   "cell_type": "code",
   "execution_count": null,
   "metadata": {},
   "outputs": [],
   "source": []
  },
  {
   "cell_type": "code",
   "execution_count": null,
   "metadata": {},
   "outputs": [],
   "source": [
    "# activity_groups\n",
    "# df = df[(df.activity_group == \"NC/SR\") | (df.activity_group == \"Imp/Adds\")]"
   ]
  },
  {
   "cell_type": "code",
   "execution_count": null,
   "metadata": {},
   "outputs": [],
   "source": [
    "# df = df[df[\"Final Mortgage Amount\"] >= 1000000]\n",
    "# df.head()"
   ]
  },
  {
   "cell_type": "code",
   "execution_count": null,
   "metadata": {},
   "outputs": [],
   "source": [
    "df.info()"
   ]
  },
  {
   "cell_type": "code",
   "execution_count": null,
   "metadata": {},
   "outputs": [],
   "source": [
    "df[\"Activity Description\"].value_counts()"
   ]
  },
  {
   "cell_type": "code",
   "execution_count": null,
   "metadata": {},
   "outputs": [],
   "source": [
    "df[\"activity_group\"].value_counts()"
   ]
  },
  {
   "cell_type": "code",
   "execution_count": null,
   "metadata": {},
   "outputs": [],
   "source": [
    "df.rename(columns={\"Facility Type\": \"facility_type\"}, inplace=True)"
   ]
  },
  {
   "cell_type": "code",
   "execution_count": null,
   "metadata": {},
   "outputs": [],
   "source": [
    "df.facility_type.value_counts()"
   ]
  },
  {
   "cell_type": "code",
   "execution_count": null,
   "metadata": {},
   "outputs": [],
   "source": [
    "df.rename(columns={\"FHA Number\": \"fha_number\"}, inplace=True)"
   ]
  },
  {
   "cell_type": "code",
   "execution_count": null,
   "metadata": {},
   "outputs": [],
   "source": [
    "df.groupby([\"Project State\"]).fha_number.count().sort_values().plot.barh()\n",
    "plt.show()"
   ]
  },
  {
   "cell_type": "code",
   "execution_count": null,
   "metadata": {},
   "outputs": [],
   "source": [
    "df[df[\"Final Mortgage Amount\"] >= 1000000].shape"
   ]
  },
  {
   "cell_type": "code",
   "execution_count": null,
   "metadata": {},
   "outputs": [],
   "source": [
    "df.rename(columns={\"Final Mortgage Amount\": \"final_mortgage\"}, inplace=True)"
   ]
  },
  {
   "cell_type": "code",
   "execution_count": null,
   "metadata": {},
   "outputs": [],
   "source": [
    "df.groupby([\"Project State\"]).final_mortgage.sum().sort_values().plot.barh()"
   ]
  },
  {
   "cell_type": "code",
   "execution_count": null,
   "metadata": {},
   "outputs": [],
   "source": [
    "df[\"Project City\"].value_counts().head(20)"
   ]
  },
  {
   "cell_type": "code",
   "execution_count": null,
   "metadata": {},
   "outputs": [],
   "source": [
    "df.groupby([\"Project City\", \"Fiscal Year of Firm Commitment\"]).size().sort_values()"
   ]
  },
  {
   "cell_type": "code",
   "execution_count": null,
   "metadata": {},
   "outputs": [],
   "source": [
    "df.groupby([\"Project City\", \"Fiscal Year of Firm Commitment\"])[\"final_mortgage\"].sum().sort_values()"
   ]
  },
  {
   "cell_type": "code",
   "execution_count": null,
   "metadata": {},
   "outputs": [],
   "source": [
    "df[df[\"Project City\"] == \"Austin\"].groupby(\"Fiscal Year of Firm Commitment\")[\"final_mortgage\"].sum()"
   ]
  },
  {
   "cell_type": "code",
   "execution_count": null,
   "metadata": {},
   "outputs": [],
   "source": [
    "df[df[\"Project City\"] == \"Minneapolis\"].groupby(\"Fiscal Year of Firm Commitment\")[\"final_mortgage\"].sum()"
   ]
  },
  {
   "cell_type": "code",
   "execution_count": null,
   "metadata": {},
   "outputs": [],
   "source": [
    "# csv works and can be read\n",
    "pd.read_csv(\"hud_commitments.csv\", index_col=0)"
   ]
  },
  {
   "cell_type": "code",
   "execution_count": null,
   "metadata": {},
   "outputs": [],
   "source": []
  },
  {
   "cell_type": "code",
   "execution_count": null,
   "metadata": {},
   "outputs": [],
   "source": [
    "df.activity_group.value_counts()"
   ]
  },
  {
   "cell_type": "code",
   "execution_count": null,
   "metadata": {},
   "outputs": [],
   "source": [
    "san_antonio = df[df['Project City'] == \"San Antonio\"]"
   ]
  },
  {
   "cell_type": "code",
   "execution_count": null,
   "metadata": {},
   "outputs": [],
   "source": [
    "san_antonio[san_antonio['Activity Description'] == 'New Construction']"
   ]
  },
  {
   "cell_type": "code",
   "execution_count": null,
   "metadata": {
    "scrolled": false
   },
   "outputs": [],
   "source": [
    "for col in df.columns:\n",
    "    unique = len(df[col].unique())\n",
    "    if unique > 10:\n",
    "        print()\n",
    "        print(f'{col} has {unique} values')\n",
    "    else:\n",
    "        print()\n",
    "        print(f'{col} value count:')\n",
    "        print(df[col].value_counts())\n",
    "        "
   ]
  },
  {
   "cell_type": "code",
   "execution_count": null,
   "metadata": {},
   "outputs": [],
   "source": [
    "df.head()"
   ]
  },
  {
   "cell_type": "code",
   "execution_count": null,
   "metadata": {},
   "outputs": [],
   "source": []
  },
  {
   "cell_type": "code",
   "execution_count": null,
   "metadata": {},
   "outputs": [],
   "source": []
  },
  {
   "cell_type": "code",
   "execution_count": null,
   "metadata": {},
   "outputs": [],
   "source": [
    "df"
   ]
  },
  {
   "cell_type": "code",
   "execution_count": null,
   "metadata": {},
   "outputs": [],
   "source": []
  }
 ],
 "metadata": {
  "kernelspec": {
   "display_name": "Python 3",
   "language": "python",
   "name": "python3"
  },
  "language_info": {
   "codemirror_mode": {
    "name": "ipython",
    "version": 3
   },
   "file_extension": ".py",
   "mimetype": "text/x-python",
   "name": "python",
   "nbconvert_exporter": "python",
   "pygments_lexer": "ipython3",
   "version": "3.7.4"
  }
 },
 "nbformat": 4,
 "nbformat_minor": 2
}
