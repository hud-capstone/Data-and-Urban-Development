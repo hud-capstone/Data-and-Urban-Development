{
 "cells": [
  {
   "cell_type": "markdown",
   "metadata": {},
   "source": [
    "# MVP Notebook Daniel"
   ]
  },
  {
   "cell_type": "code",
   "execution_count": 107,
   "metadata": {},
   "outputs": [],
   "source": [
    "import preprocessing\n",
    "import wrangle\n",
    "import model\n",
    "\n",
    "import pandas as pd\n",
    "import numpy as np\n",
    "\n",
    "import seaborn as sns\n",
    "import matplotlib.pyplot as plt\n",
    "\n",
    "from sklearn.preprocessing import MinMaxScaler\n",
    "from sklearn.metrics import confusion_matrix\n",
    "from sklearn.metrics import recall_score\n",
    "\n",
    "\n",
    "# ignore warnings\n",
    "import warnings\n",
    "warnings.simplefilter(action='ignore')"
   ]
  },
  {
   "cell_type": "code",
   "execution_count": 108,
   "metadata": {},
   "outputs": [],
   "source": [
    "df = preprocessing.get_model_df()"
   ]
  },
  {
   "cell_type": "code",
   "execution_count": 109,
   "metadata": {},
   "outputs": [],
   "source": [
    "df = preprocessing.add_new_features(df)"
   ]
  },
  {
   "cell_type": "code",
   "execution_count": 110,
   "metadata": {},
   "outputs": [],
   "source": [
    "def filter_top_cities(df):\n",
    "\n",
    "    df[\"city_state\"] = df[\"city\"] + \"_\" + df[\"state\"]\n",
    "\n",
    "    city_mask = df.groupby(\"city_state\").year.count()\n",
    "\n",
    "    city_mask = city_mask[city_mask == 15]\n",
    "\n",
    "    # apply city mask to shrink the df\n",
    "    def in_city_mask(x):\n",
    "        return x in city_mask\n",
    "    df = df[df.city_state.apply(in_city_mask)]\n",
    "\n",
    "    df = df.sort_values([\"city\", \"state\", \"year\"])\n",
    "    \n",
    "    return df"
   ]
  },
  {
   "cell_type": "code",
   "execution_count": 111,
   "metadata": {},
   "outputs": [],
   "source": [
    "df = filter_top_cities(df)"
   ]
  },
  {
   "cell_type": "markdown",
   "metadata": {},
   "source": [
    "## <span style='background :yellow' > Adding the labeling </span>"
   ]
  },
  {
   "cell_type": "code",
   "execution_count": 112,
   "metadata": {},
   "outputs": [],
   "source": [
    "# # Using the Evolution Index as a label:\n",
    "# # For values that are higher than 100% in evolution index.\n",
    "\n",
    "# df[\"ei_label\"] = np.where(df.ei > 1, 1, 0)"
   ]
  },
  {
   "cell_type": "code",
   "execution_count": 113,
   "metadata": {},
   "outputs": [],
   "source": [
    "# using future data to create the labels\n",
    "\n",
    "def labeling_future_data(df):\n",
    "    \"\"\"this function takes in a data frame and returns a boolean column that identifies\n",
    "    if a city_state_year is a market that should be entered\"\"\"\n",
    "    df[\"label_quantity_of_mortgages_pop_2y\"] = (df.sort_values([\"year\"])\n",
    "                                  .groupby([\"city\", \"state\"])[[\"quantity_of_mortgages_pop\"]]\n",
    "                                  .pct_change(2)\n",
    "                                  .shift(-2))\n",
    "    df[\"label_total_mortgage_volume_pop_2y\"] = (df.sort_values([\"year\"])\n",
    "                                  .groupby([\"city\", \"state\"])[[\"total_mortgage_volume_pop\"]]\n",
    "                                  .pct_change(2)\n",
    "                                  .shift(-2))\n",
    "    Q3 = df.label_quantity_of_mortgages_pop_2y.quantile(.75)\n",
    "    Q1 = df.label_quantity_of_mortgages_pop_2y.quantile(.25)\n",
    "    upper_fence_quantity = Q3 + ((Q3-Q1)*1.5)\n",
    "    upper_fence_quantity\n",
    "    Q3 = df.label_total_mortgage_volume_pop_2y.quantile(.75)\n",
    "    Q1 = df.label_total_mortgage_volume_pop_2y.quantile(.25)\n",
    "    upper_fence_volume = Q3 + ((Q3-Q1)*1.5)\n",
    "    upper_fence_volume\n",
    "    df['should_enter'] = (df.label_total_mortgage_volume_pop_2y > upper_fence_volume) | (df.label_quantity_of_mortgages_pop_2y > upper_fence_quantity)\n",
    "    return df"
   ]
  },
  {
   "cell_type": "code",
   "execution_count": 114,
   "metadata": {},
   "outputs": [],
   "source": [
    "df = labeling_future_data(df)"
   ]
  },
  {
   "cell_type": "code",
   "execution_count": 115,
   "metadata": {},
   "outputs": [
    {
     "data": {
      "text/plain": [
       "False    338\n",
       "True      52\n",
       "Name: should_enter, dtype: int64"
      ]
     },
     "execution_count": 115,
     "metadata": {},
     "output_type": "execute_result"
    }
   ],
   "source": [
    "df.should_enter.value_counts()"
   ]
  },
  {
   "cell_type": "code",
   "execution_count": 116,
   "metadata": {},
   "outputs": [
    {
     "name": "stdout",
     "output_type": "stream",
     "text": [
      "<class 'pandas.core.frame.DataFrame'>\n",
      "Int64Index: 390 entries, 1513 to 156\n",
      "Data columns (total 23 columns):\n",
      "city                                  390 non-null object\n",
      "state                                 390 non-null object\n",
      "year                                  390 non-null int64\n",
      "quantity_of_mortgages_pop             390 non-null int64\n",
      "total_mortgage_volume_pop             390 non-null int64\n",
      "average_mortgage_volume_pop           390 non-null float64\n",
      "median_mortgage_amount_pop            390 non-null float64\n",
      "quantity_of_mortgages_nc              180 non-null float64\n",
      "total_mortgage_volume_nc              180 non-null float64\n",
      "average_mortgage_volume_nc            180 non-null float64\n",
      "median_mortgage_amount_nc             180 non-null float64\n",
      "label                                 390 non-null bool\n",
      "city_state_vol_delta_pop              364 non-null float64\n",
      "city_state_vol_delta_nc               310 non-null float64\n",
      "city_state_qty_delta_pop              364 non-null float64\n",
      "city_state_qty_delta_nc               310 non-null float64\n",
      "market_volume                         390 non-null int64\n",
      "market_volume_delta                   364 non-null float64\n",
      "ei                                    364 non-null float64\n",
      "city_state                            390 non-null object\n",
      "label_quantity_of_mortgages_pop_2y    338 non-null float64\n",
      "label_total_mortgage_volume_pop_2y    338 non-null float64\n",
      "should_enter                          390 non-null bool\n",
      "dtypes: bool(2), float64(14), int64(4), object(3)\n",
      "memory usage: 67.8+ KB\n"
     ]
    }
   ],
   "source": [
    "df.info()"
   ]
  },
  {
   "cell_type": "code",
   "execution_count": 117,
   "metadata": {},
   "outputs": [],
   "source": [
    "from sklearn.model_selection import cross_val_score, train_test_split, GridSearchCV"
   ]
  },
  {
   "cell_type": "code",
   "execution_count": 118,
   "metadata": {},
   "outputs": [],
   "source": [
    "def train_test_data(df):\n",
    "    train, test = train_test_split(df, train_size=.75, random_state=123, stratify = df[\"should_enter\"])\n",
    "    return train, test\n",
    "\n",
    "#__Main Pre-modeling function__#\n",
    "def prep_data_for_modeling(df, features_for_modeling, label_feature):\n",
    "\n",
    "    # To avoid Nan's, I have removed all data from 2006 (because all the var's would be nan)\n",
    "    df_model = df[df.year > 2007]\n",
    "\n",
    "    # Create an observation id to reduce the chance of mistake's\n",
    "    df_model[\"observation_id\"] = df_model.city + \"_\" + df_model.state + \"_\"  + df_model.year.astype(str)\n",
    "\n",
    "    # select that features that we want to model, and use our observation id as the row id\n",
    "    features_for_modeling += [\"observation_id\"]\n",
    "    features_for_modeling += [label_feature]\n",
    "    data = df_model[features_for_modeling].set_index(\"observation_id\")\n",
    "\n",
    "    train, test = train_test_data(data)\n",
    "    train = train.sort_values(\"observation_id\")\n",
    "    test = test.sort_values(\"observation_id\")\n",
    "\n",
    "    X_train = train.drop(columns=label_feature)\n",
    "    y_train = train[label_feature]\n",
    "    X_test = test.drop(columns=label_feature)\n",
    "    y_test = test[label_feature]\n",
    "\n",
    "    return X_train, y_train, X_test, y_test"
   ]
  },
  {
   "cell_type": "code",
   "execution_count": 119,
   "metadata": {
    "scrolled": true
   },
   "outputs": [],
   "source": [
    "features_for_modeling = [\"quantity_of_mortgages_pop\", \"city_state_qty_delta_pop\", \"ei\", \"median_mortgage_amount_pop\"]\n",
    "label_feature = \"should_enter\"\n",
    "X_train, y_train, X_test, y_test = prep_data_for_modeling(df, features_for_modeling, label_feature)"
   ]
  },
  {
   "cell_type": "code",
   "execution_count": 120,
   "metadata": {},
   "outputs": [],
   "source": [
    "# Helper function used to updated the scaled arrays and transform them into usable dataframes\n",
    "def return_values(scaler, train, test):\n",
    "    train_scaled = pd.DataFrame(scaler.transform(train), columns=train.columns.values).set_index([train.index.values])\n",
    "    test_scaled = pd.DataFrame(scaler.transform(test), columns=test.columns.values).set_index([test.index.values])\n",
    "    return scaler, train_scaled, test_scaled\n",
    "\n",
    "# Linear scaler\n",
    "def min_max_scaler(train, test):\n",
    "    scaler = MinMaxScaler().fit(train)\n",
    "    scaler, train_scaled, test_scaled = return_values(scaler, train , test)\n",
    "    return scaler, train_scaled, test_scaled"
   ]
  },
  {
   "cell_type": "code",
   "execution_count": 121,
   "metadata": {},
   "outputs": [],
   "source": [
    "# Scaler is ready - in case we need it\n",
    "\n",
    "scaler, train_scaled, test_scaled = min_max_scaler(X_train, X_test)"
   ]
  },
  {
   "cell_type": "code",
   "execution_count": 122,
   "metadata": {
    "scrolled": true
   },
   "outputs": [],
   "source": [
    "assert(train_scaled.shape[1] == test_scaled.shape[1])"
   ]
  },
  {
   "cell_type": "code",
   "execution_count": 123,
   "metadata": {
    "scrolled": true
   },
   "outputs": [
    {
     "data": {
      "text/html": [
       "<div>\n",
       "<style scoped>\n",
       "    .dataframe tbody tr th:only-of-type {\n",
       "        vertical-align: middle;\n",
       "    }\n",
       "\n",
       "    .dataframe tbody tr th {\n",
       "        vertical-align: top;\n",
       "    }\n",
       "\n",
       "    .dataframe thead th {\n",
       "        text-align: right;\n",
       "    }\n",
       "</style>\n",
       "<table border=\"1\" class=\"dataframe\">\n",
       "  <thead>\n",
       "    <tr style=\"text-align: right;\">\n",
       "      <th></th>\n",
       "      <th>quantity_of_mortgages_pop</th>\n",
       "      <th>city_state_qty_delta_pop</th>\n",
       "      <th>ei</th>\n",
       "      <th>median_mortgage_amount_pop</th>\n",
       "    </tr>\n",
       "  </thead>\n",
       "  <tbody>\n",
       "    <tr>\n",
       "      <th>Atlanta_GA_2008</th>\n",
       "      <td>0.021739</td>\n",
       "      <td>0.010172</td>\n",
       "      <td>0.008122</td>\n",
       "      <td>0.033455</td>\n",
       "    </tr>\n",
       "    <tr>\n",
       "      <th>Atlanta_GA_2010</th>\n",
       "      <td>0.217391</td>\n",
       "      <td>0.087637</td>\n",
       "      <td>0.022332</td>\n",
       "      <td>0.056728</td>\n",
       "    </tr>\n",
       "    <tr>\n",
       "      <th>Atlanta_GA_2011</th>\n",
       "      <td>0.195652</td>\n",
       "      <td>0.063380</td>\n",
       "      <td>0.025009</td>\n",
       "      <td>0.045856</td>\n",
       "    </tr>\n",
       "    <tr>\n",
       "      <th>Atlanta_GA_2012</th>\n",
       "      <td>0.239130</td>\n",
       "      <td>0.085915</td>\n",
       "      <td>0.026302</td>\n",
       "      <td>0.031960</td>\n",
       "    </tr>\n",
       "    <tr>\n",
       "      <th>Atlanta_GA_2014</th>\n",
       "      <td>0.217391</td>\n",
       "      <td>0.037806</td>\n",
       "      <td>0.039231</td>\n",
       "      <td>0.053211</td>\n",
       "    </tr>\n",
       "  </tbody>\n",
       "</table>\n",
       "</div>"
      ],
      "text/plain": [
       "                 quantity_of_mortgages_pop  city_state_qty_delta_pop  \\\n",
       "Atlanta_GA_2008                   0.021739                  0.010172   \n",
       "Atlanta_GA_2010                   0.217391                  0.087637   \n",
       "Atlanta_GA_2011                   0.195652                  0.063380   \n",
       "Atlanta_GA_2012                   0.239130                  0.085915   \n",
       "Atlanta_GA_2014                   0.217391                  0.037806   \n",
       "\n",
       "                       ei  median_mortgage_amount_pop  \n",
       "Atlanta_GA_2008  0.008122                    0.033455  \n",
       "Atlanta_GA_2010  0.022332                    0.056728  \n",
       "Atlanta_GA_2011  0.025009                    0.045856  \n",
       "Atlanta_GA_2012  0.026302                    0.031960  \n",
       "Atlanta_GA_2014  0.039231                    0.053211  "
      ]
     },
     "execution_count": 123,
     "metadata": {},
     "output_type": "execute_result"
    }
   ],
   "source": [
    "train_scaled.head()"
   ]
  },
  {
   "cell_type": "code",
   "execution_count": 124,
   "metadata": {},
   "outputs": [
    {
     "data": {
      "text/plain": [
       "quantity_of_mortgages_pop     0\n",
       "city_state_qty_delta_pop      0\n",
       "ei                            0\n",
       "median_mortgage_amount_pop    0\n",
       "dtype: int64"
      ]
     },
     "execution_count": 124,
     "metadata": {},
     "output_type": "execute_result"
    }
   ],
   "source": [
    "train_scaled.isnull().sum()"
   ]
  },
  {
   "cell_type": "code",
   "execution_count": 125,
   "metadata": {
    "scrolled": true
   },
   "outputs": [
    {
     "name": "stdout",
     "output_type": "stream",
     "text": [
      "{'criterion': 'entropy', 'max_depth': 10, 'score': 0.2333333333333333}\n"
     ]
    }
   ],
   "source": [
    "grid, df_result, best_model = model.run_decision_tree(train_scaled, y_train)"
   ]
  },
  {
   "cell_type": "code",
   "execution_count": 47,
   "metadata": {},
   "outputs": [
    {
     "name": "stdout",
     "output_type": "stream",
     "text": [
      "{'max_depth': 9, 'min_samples_leaf': 1, 'score': 0.1}\n"
     ]
    }
   ],
   "source": [
    "grid, df_result, best_model = model.run_random_forest(train_scaled, y_train)"
   ]
  },
  {
   "cell_type": "code",
   "execution_count": 126,
   "metadata": {
    "scrolled": false
   },
   "outputs": [
    {
     "name": "stdout",
     "output_type": "stream",
     "text": [
      "{'n_neighbors': 1, 'weights': 'uniform', 'score': 0.175}\n"
     ]
    }
   ],
   "source": [
    "grid, df_result, best_model = model.run_knn(train_scaled, y_train)"
   ]
  },
  {
   "cell_type": "markdown",
   "metadata": {},
   "source": [
    "----\n",
    "\n",
    "# Evaluation"
   ]
  },
  {
   "cell_type": "code",
   "execution_count": 127,
   "metadata": {
    "scrolled": false
   },
   "outputs": [
    {
     "name": "stdout",
     "output_type": "stream",
     "text": [
      "{'criterion': 'entropy', 'max_depth': 9, 'score': 0.25}\n"
     ]
    }
   ],
   "source": [
    "grid, df_result, best_model = model.run_decision_tree(train_scaled, y_train)"
   ]
  },
  {
   "cell_type": "code",
   "execution_count": 128,
   "metadata": {},
   "outputs": [],
   "source": [
    "y_pred = best_model.predict(train_scaled)"
   ]
  },
  {
   "cell_type": "code",
   "execution_count": 129,
   "metadata": {},
   "outputs": [],
   "source": [
    "labels = sorted(y_train.unique())\n",
    "matrix = pd.DataFrame(confusion_matrix(y_train, y_pred), index = labels, columns = labels)"
   ]
  },
  {
   "cell_type": "code",
   "execution_count": 131,
   "metadata": {
    "scrolled": true
   },
   "outputs": [
    {
     "data": {
      "text/plain": [
       "0.8461538461538461"
      ]
     },
     "execution_count": 131,
     "metadata": {},
     "output_type": "execute_result"
    }
   ],
   "source": [
    "recall_score(y_train, y_pred)"
   ]
  },
  {
   "cell_type": "code",
   "execution_count": 132,
   "metadata": {
    "scrolled": true
   },
   "outputs": [
    {
     "name": "stdout",
     "output_type": "stream",
     "text": [
      "       False  True \n",
      "False    214      0\n",
      "True       6     33\n"
     ]
    }
   ],
   "source": [
    "print(matrix)"
   ]
  },
  {
   "cell_type": "code",
   "execution_count": 133,
   "metadata": {
    "scrolled": false
   },
   "outputs": [
    {
     "data": {
      "text/plain": [
       "0.7411764705882353"
      ]
     },
     "execution_count": 133,
     "metadata": {},
     "output_type": "execute_result"
    }
   ],
   "source": [
    "best_model.score(test_scaled, y_test)"
   ]
  },
  {
   "cell_type": "code",
   "execution_count": 134,
   "metadata": {},
   "outputs": [],
   "source": [
    "y_pred = best_model.predict(test_scaled)"
   ]
  },
  {
   "cell_type": "code",
   "execution_count": 135,
   "metadata": {},
   "outputs": [],
   "source": [
    "labels = sorted(y_train.unique())\n",
    "matrix = pd.DataFrame(confusion_matrix(y_test, y_pred), index = labels, columns = labels)"
   ]
  },
  {
   "cell_type": "code",
   "execution_count": 136,
   "metadata": {},
   "outputs": [
    {
     "data": {
      "text/plain": [
       "0.23076923076923078"
      ]
     },
     "execution_count": 136,
     "metadata": {},
     "output_type": "execute_result"
    }
   ],
   "source": [
    "recall_score(y_test, y_pred)"
   ]
  },
  {
   "cell_type": "code",
   "execution_count": 137,
   "metadata": {},
   "outputs": [
    {
     "name": "stdout",
     "output_type": "stream",
     "text": [
      "       False  True \n",
      "False     60     12\n",
      "True      10      3\n"
     ]
    }
   ],
   "source": [
    "print(matrix)"
   ]
  },
  {
   "cell_type": "markdown",
   "metadata": {},
   "source": [
    "----\n",
    "\n",
    "# Prediction"
   ]
  },
  {
   "cell_type": "code",
   "execution_count": 60,
   "metadata": {},
   "outputs": [],
   "source": [
    "model_df = preprocessing.get_model_df()\n",
    "\n",
    "df[\"city_state\"] = df[\"city\"] + \"_\" + df[\"state\"]\n",
    "\n",
    "city_mask = df.groupby(\"city_state\").year.count()\n",
    "\n",
    "city_mask = city_mask[city_mask == 15]\n",
    "\n",
    "# apply city mask to shrink the df\n",
    "def in_city_mask(x):\n",
    "    return x in city_mask\n",
    "df = df[df.city_state.apply(in_city_mask)]\n",
    "\n",
    "df = preprocessing.add_new_features(df)\n",
    "\n",
    "df = df.sort_values([\"city\", \"state\", \"year\"])"
   ]
  },
  {
   "cell_type": "code",
   "execution_count": 61,
   "metadata": {},
   "outputs": [
    {
     "data": {
      "text/html": [
       "<div>\n",
       "<style scoped>\n",
       "    .dataframe tbody tr th:only-of-type {\n",
       "        vertical-align: middle;\n",
       "    }\n",
       "\n",
       "    .dataframe tbody tr th {\n",
       "        vertical-align: top;\n",
       "    }\n",
       "\n",
       "    .dataframe thead th {\n",
       "        text-align: right;\n",
       "    }\n",
       "</style>\n",
       "<table border=\"1\" class=\"dataframe\">\n",
       "  <thead>\n",
       "    <tr style=\"text-align: right;\">\n",
       "      <th></th>\n",
       "      <th>city</th>\n",
       "      <th>state</th>\n",
       "      <th>year</th>\n",
       "      <th>quantity_of_mortgages_pop</th>\n",
       "      <th>total_mortgage_volume_pop</th>\n",
       "      <th>average_mortgage_volume_pop</th>\n",
       "      <th>median_mortgage_amount_pop</th>\n",
       "      <th>quantity_of_mortgages_nc</th>\n",
       "      <th>total_mortgage_volume_nc</th>\n",
       "      <th>average_mortgage_volume_nc</th>\n",
       "      <th>...</th>\n",
       "      <th>city_state_vol_delta_nc</th>\n",
       "      <th>city_state_qty_delta_pop</th>\n",
       "      <th>city_state_qty_delta_nc</th>\n",
       "      <th>market_volume</th>\n",
       "      <th>market_volume_delta</th>\n",
       "      <th>ei</th>\n",
       "      <th>city_state</th>\n",
       "      <th>label_quantity_of_mortgages_pop_2y</th>\n",
       "      <th>label_total_mortgage_volume_pop_2y</th>\n",
       "      <th>should_enter</th>\n",
       "    </tr>\n",
       "  </thead>\n",
       "  <tbody>\n",
       "    <tr>\n",
       "      <th>1513</th>\n",
       "      <td>Atlanta</td>\n",
       "      <td>GA</td>\n",
       "      <td>2006</td>\n",
       "      <td>6</td>\n",
       "      <td>33186800</td>\n",
       "      <td>5.531133e+06</td>\n",
       "      <td>4457100.0</td>\n",
       "      <td>2.0</td>\n",
       "      <td>9181100.0</td>\n",
       "      <td>4590550.0</td>\n",
       "      <td>...</td>\n",
       "      <td>NaN</td>\n",
       "      <td>NaN</td>\n",
       "      <td>NaN</td>\n",
       "      <td>985749936</td>\n",
       "      <td>NaN</td>\n",
       "      <td>NaN</td>\n",
       "      <td>Atlanta_GA</td>\n",
       "      <td>NaN</td>\n",
       "      <td>NaN</td>\n",
       "      <td>False</td>\n",
       "    </tr>\n",
       "    <tr>\n",
       "      <th>1815</th>\n",
       "      <td>Atlanta</td>\n",
       "      <td>GA</td>\n",
       "      <td>2007</td>\n",
       "      <td>9</td>\n",
       "      <td>29105800</td>\n",
       "      <td>3.233978e+06</td>\n",
       "      <td>2990200.0</td>\n",
       "      <td>2.0</td>\n",
       "      <td>4541700.0</td>\n",
       "      <td>2270850.0</td>\n",
       "      <td>...</td>\n",
       "      <td>-0.505321</td>\n",
       "      <td>0.500000</td>\n",
       "      <td>0.0</td>\n",
       "      <td>952578100</td>\n",
       "      <td>-0.033651</td>\n",
       "      <td>0.907570</td>\n",
       "      <td>Atlanta_GA</td>\n",
       "      <td>NaN</td>\n",
       "      <td>NaN</td>\n",
       "      <td>False</td>\n",
       "    </tr>\n",
       "    <tr>\n",
       "      <th>7673</th>\n",
       "      <td>Atlanta</td>\n",
       "      <td>GA</td>\n",
       "      <td>2008</td>\n",
       "      <td>2</td>\n",
       "      <td>6735000</td>\n",
       "      <td>3.367500e+06</td>\n",
       "      <td>3367500.0</td>\n",
       "      <td>1.0</td>\n",
       "      <td>4950000.0</td>\n",
       "      <td>4950000.0</td>\n",
       "      <td>...</td>\n",
       "      <td>0.089900</td>\n",
       "      <td>-0.777778</td>\n",
       "      <td>-0.5</td>\n",
       "      <td>432971200</td>\n",
       "      <td>-0.545474</td>\n",
       "      <td>0.509096</td>\n",
       "      <td>Atlanta_GA</td>\n",
       "      <td>0.0</td>\n",
       "      <td>-0.812906</td>\n",
       "      <td>False</td>\n",
       "    </tr>\n",
       "    <tr>\n",
       "      <th>773</th>\n",
       "      <td>Atlanta</td>\n",
       "      <td>GA</td>\n",
       "      <td>2009</td>\n",
       "      <td>9</td>\n",
       "      <td>49972900</td>\n",
       "      <td>5.552544e+06</td>\n",
       "      <td>4400000.0</td>\n",
       "      <td>1.0</td>\n",
       "      <td>3750000.0</td>\n",
       "      <td>3750000.0</td>\n",
       "      <td>...</td>\n",
       "      <td>-0.242424</td>\n",
       "      <td>3.500000</td>\n",
       "      <td>0.0</td>\n",
       "      <td>1116634600</td>\n",
       "      <td>1.579004</td>\n",
       "      <td>2.877033</td>\n",
       "      <td>Atlanta_GA</td>\n",
       "      <td>4.5</td>\n",
       "      <td>9.213569</td>\n",
       "      <td>True</td>\n",
       "    </tr>\n",
       "    <tr>\n",
       "      <th>469</th>\n",
       "      <td>Atlanta</td>\n",
       "      <td>GA</td>\n",
       "      <td>2010</td>\n",
       "      <td>11</td>\n",
       "      <td>68788385</td>\n",
       "      <td>6.253490e+06</td>\n",
       "      <td>5196100.0</td>\n",
       "      <td>2.0</td>\n",
       "      <td>7203500.0</td>\n",
       "      <td>3601750.0</td>\n",
       "      <td>...</td>\n",
       "      <td>0.920933</td>\n",
       "      <td>0.222222</td>\n",
       "      <td>1.0</td>\n",
       "      <td>2568950085</td>\n",
       "      <td>1.300618</td>\n",
       "      <td>0.598323</td>\n",
       "      <td>Atlanta_GA</td>\n",
       "      <td>4.5</td>\n",
       "      <td>14.076042</td>\n",
       "      <td>True</td>\n",
       "    </tr>\n",
       "  </tbody>\n",
       "</table>\n",
       "<p>5 rows × 23 columns</p>\n",
       "</div>"
      ],
      "text/plain": [
       "         city state  year  quantity_of_mortgages_pop  \\\n",
       "1513  Atlanta    GA  2006                          6   \n",
       "1815  Atlanta    GA  2007                          9   \n",
       "7673  Atlanta    GA  2008                          2   \n",
       "773   Atlanta    GA  2009                          9   \n",
       "469   Atlanta    GA  2010                         11   \n",
       "\n",
       "      total_mortgage_volume_pop  average_mortgage_volume_pop  \\\n",
       "1513                   33186800                 5.531133e+06   \n",
       "1815                   29105800                 3.233978e+06   \n",
       "7673                    6735000                 3.367500e+06   \n",
       "773                    49972900                 5.552544e+06   \n",
       "469                    68788385                 6.253490e+06   \n",
       "\n",
       "      median_mortgage_amount_pop  quantity_of_mortgages_nc  \\\n",
       "1513                   4457100.0                       2.0   \n",
       "1815                   2990200.0                       2.0   \n",
       "7673                   3367500.0                       1.0   \n",
       "773                    4400000.0                       1.0   \n",
       "469                    5196100.0                       2.0   \n",
       "\n",
       "      total_mortgage_volume_nc  average_mortgage_volume_nc  ...  \\\n",
       "1513                 9181100.0                   4590550.0  ...   \n",
       "1815                 4541700.0                   2270850.0  ...   \n",
       "7673                 4950000.0                   4950000.0  ...   \n",
       "773                  3750000.0                   3750000.0  ...   \n",
       "469                  7203500.0                   3601750.0  ...   \n",
       "\n",
       "      city_state_vol_delta_nc  city_state_qty_delta_pop  \\\n",
       "1513                      NaN                       NaN   \n",
       "1815                -0.505321                  0.500000   \n",
       "7673                 0.089900                 -0.777778   \n",
       "773                 -0.242424                  3.500000   \n",
       "469                  0.920933                  0.222222   \n",
       "\n",
       "      city_state_qty_delta_nc  market_volume  market_volume_delta        ei  \\\n",
       "1513                      NaN      985749936                  NaN       NaN   \n",
       "1815                      0.0      952578100            -0.033651  0.907570   \n",
       "7673                     -0.5      432971200            -0.545474  0.509096   \n",
       "773                       0.0     1116634600             1.579004  2.877033   \n",
       "469                       1.0     2568950085             1.300618  0.598323   \n",
       "\n",
       "      city_state  label_quantity_of_mortgages_pop_2y  \\\n",
       "1513  Atlanta_GA                                 NaN   \n",
       "1815  Atlanta_GA                                 NaN   \n",
       "7673  Atlanta_GA                                 0.0   \n",
       "773   Atlanta_GA                                 4.5   \n",
       "469   Atlanta_GA                                 4.5   \n",
       "\n",
       "      label_total_mortgage_volume_pop_2y should_enter  \n",
       "1513                                 NaN        False  \n",
       "1815                                 NaN        False  \n",
       "7673                           -0.812906        False  \n",
       "773                             9.213569         True  \n",
       "469                            14.076042         True  \n",
       "\n",
       "[5 rows x 23 columns]"
      ]
     },
     "execution_count": 61,
     "metadata": {},
     "output_type": "execute_result"
    }
   ],
   "source": [
    "df.head()"
   ]
  },
  {
   "cell_type": "code",
   "execution_count": 67,
   "metadata": {},
   "outputs": [],
   "source": [
    "features_for_predicting = [\"ei\"]"
   ]
  },
  {
   "cell_type": "code",
   "execution_count": 68,
   "metadata": {
    "scrolled": false
   },
   "outputs": [
    {
     "data": {
      "text/html": [
       "<div>\n",
       "<style scoped>\n",
       "    .dataframe tbody tr th:only-of-type {\n",
       "        vertical-align: middle;\n",
       "    }\n",
       "\n",
       "    .dataframe tbody tr th {\n",
       "        vertical-align: top;\n",
       "    }\n",
       "\n",
       "    .dataframe thead th {\n",
       "        text-align: right;\n",
       "    }\n",
       "</style>\n",
       "<table border=\"1\" class=\"dataframe\">\n",
       "  <thead>\n",
       "    <tr style=\"text-align: right;\">\n",
       "      <th></th>\n",
       "      <th>ei</th>\n",
       "    </tr>\n",
       "    <tr>\n",
       "      <th>city_state</th>\n",
       "      <th></th>\n",
       "    </tr>\n",
       "  </thead>\n",
       "  <tbody>\n",
       "    <tr>\n",
       "      <th>Atlanta_GA</th>\n",
       "      <td>0.854755</td>\n",
       "    </tr>\n",
       "    <tr>\n",
       "      <th>Austin_TX</th>\n",
       "      <td>1.443730</td>\n",
       "    </tr>\n",
       "    <tr>\n",
       "      <th>Baltimore_MD</th>\n",
       "      <td>0.829841</td>\n",
       "    </tr>\n",
       "    <tr>\n",
       "      <th>Boston_MA</th>\n",
       "      <td>1.139998</td>\n",
       "    </tr>\n",
       "    <tr>\n",
       "      <th>Chicago_IL</th>\n",
       "      <td>1.028100</td>\n",
       "    </tr>\n",
       "    <tr>\n",
       "      <th>Cincinnati_OH</th>\n",
       "      <td>2.437869</td>\n",
       "    </tr>\n",
       "    <tr>\n",
       "      <th>Cleveland_OH</th>\n",
       "      <td>1.131003</td>\n",
       "    </tr>\n",
       "    <tr>\n",
       "      <th>Dallas_TX</th>\n",
       "      <td>1.296162</td>\n",
       "    </tr>\n",
       "    <tr>\n",
       "      <th>Detroit_MI</th>\n",
       "      <td>5.962691</td>\n",
       "    </tr>\n",
       "    <tr>\n",
       "      <th>Houston_TX</th>\n",
       "      <td>0.547147</td>\n",
       "    </tr>\n",
       "    <tr>\n",
       "      <th>Indianapolis_IN</th>\n",
       "      <td>1.597802</td>\n",
       "    </tr>\n",
       "    <tr>\n",
       "      <th>Los Angeles_CA</th>\n",
       "      <td>3.514212</td>\n",
       "    </tr>\n",
       "    <tr>\n",
       "      <th>Louisville_KY</th>\n",
       "      <td>1.546014</td>\n",
       "    </tr>\n",
       "    <tr>\n",
       "      <th>Memphis_TN</th>\n",
       "      <td>1.641824</td>\n",
       "    </tr>\n",
       "    <tr>\n",
       "      <th>Minneapolis_MN</th>\n",
       "      <td>0.702808</td>\n",
       "    </tr>\n",
       "    <tr>\n",
       "      <th>Mobile_AL</th>\n",
       "      <td>1.533839</td>\n",
       "    </tr>\n",
       "    <tr>\n",
       "      <th>Nashville_TN</th>\n",
       "      <td>0.869509</td>\n",
       "    </tr>\n",
       "    <tr>\n",
       "      <th>New York_NY</th>\n",
       "      <td>1.180300</td>\n",
       "    </tr>\n",
       "    <tr>\n",
       "      <th>Orlando_FL</th>\n",
       "      <td>0.942279</td>\n",
       "    </tr>\n",
       "    <tr>\n",
       "      <th>Phoenix_AZ</th>\n",
       "      <td>1.094154</td>\n",
       "    </tr>\n",
       "    <tr>\n",
       "      <th>Portland_OR</th>\n",
       "      <td>2.631040</td>\n",
       "    </tr>\n",
       "    <tr>\n",
       "      <th>San Francisco_CA</th>\n",
       "      <td>1.312078</td>\n",
       "    </tr>\n",
       "    <tr>\n",
       "      <th>Spokane_WA</th>\n",
       "      <td>1.751151</td>\n",
       "    </tr>\n",
       "    <tr>\n",
       "      <th>St. Louis_MO</th>\n",
       "      <td>0.800468</td>\n",
       "    </tr>\n",
       "    <tr>\n",
       "      <th>Tampa_FL</th>\n",
       "      <td>2.863532</td>\n",
       "    </tr>\n",
       "    <tr>\n",
       "      <th>Washington_DC</th>\n",
       "      <td>1.445901</td>\n",
       "    </tr>\n",
       "  </tbody>\n",
       "</table>\n",
       "</div>"
      ],
      "text/plain": [
       "                        ei\n",
       "city_state                \n",
       "Atlanta_GA        0.854755\n",
       "Austin_TX         1.443730\n",
       "Baltimore_MD      0.829841\n",
       "Boston_MA         1.139998\n",
       "Chicago_IL        1.028100\n",
       "Cincinnati_OH     2.437869\n",
       "Cleveland_OH      1.131003\n",
       "Dallas_TX         1.296162\n",
       "Detroit_MI        5.962691\n",
       "Houston_TX        0.547147\n",
       "Indianapolis_IN   1.597802\n",
       "Los Angeles_CA    3.514212\n",
       "Louisville_KY     1.546014\n",
       "Memphis_TN        1.641824\n",
       "Minneapolis_MN    0.702808\n",
       "Mobile_AL         1.533839\n",
       "Nashville_TN      0.869509\n",
       "New York_NY       1.180300\n",
       "Orlando_FL        0.942279\n",
       "Phoenix_AZ        1.094154\n",
       "Portland_OR       2.631040\n",
       "San Francisco_CA  1.312078\n",
       "Spokane_WA        1.751151\n",
       "St. Louis_MO      0.800468\n",
       "Tampa_FL          2.863532\n",
       "Washington_DC     1.445901"
      ]
     },
     "execution_count": 68,
     "metadata": {},
     "output_type": "execute_result"
    }
   ],
   "source": [
    "predictions = df[(df.year == 2020) | (df.year == 2019)].groupby(\"city_state\")[features_for_predicting].mean()\n",
    "predictions"
   ]
  },
  {
   "cell_type": "code",
   "execution_count": 69,
   "metadata": {},
   "outputs": [],
   "source": [
    "# Helper function used to updated the scaled arrays and transform them into usable dataframes\n",
    "def return_values_prediction(scaler, df):\n",
    "    train_scaled = pd.DataFrame(scaler.transform(df), columns=df.columns.values).set_index([df.index.values])\n",
    "    return scaler, train_scaled\n",
    "\n",
    "# Linear scaler\n",
    "def min_max_scaler_prediction(df):\n",
    "    scaler = MinMaxScaler().fit(df)\n",
    "    scaler, df_scaled = return_values_prediction(scaler, df)\n",
    "    return scaler, df_scaled"
   ]
  },
  {
   "cell_type": "code",
   "execution_count": 70,
   "metadata": {
    "scrolled": true
   },
   "outputs": [],
   "source": [
    "scaler, predictions_scaled = min_max_scaler_prediction(predictions)"
   ]
  },
  {
   "cell_type": "code",
   "execution_count": 71,
   "metadata": {},
   "outputs": [],
   "source": [
    "predictions[\"label\"] = best_model.predict(predictions_scaled)"
   ]
  },
  {
   "cell_type": "code",
   "execution_count": 72,
   "metadata": {},
   "outputs": [
    {
     "data": {
      "text/html": [
       "<div>\n",
       "<style scoped>\n",
       "    .dataframe tbody tr th:only-of-type {\n",
       "        vertical-align: middle;\n",
       "    }\n",
       "\n",
       "    .dataframe tbody tr th {\n",
       "        vertical-align: top;\n",
       "    }\n",
       "\n",
       "    .dataframe thead th {\n",
       "        text-align: right;\n",
       "    }\n",
       "</style>\n",
       "<table border=\"1\" class=\"dataframe\">\n",
       "  <thead>\n",
       "    <tr style=\"text-align: right;\">\n",
       "      <th></th>\n",
       "      <th>ei</th>\n",
       "      <th>label</th>\n",
       "    </tr>\n",
       "    <tr>\n",
       "      <th>city_state</th>\n",
       "      <th></th>\n",
       "      <th></th>\n",
       "    </tr>\n",
       "  </thead>\n",
       "  <tbody>\n",
       "    <tr>\n",
       "      <th>Atlanta_GA</th>\n",
       "      <td>0.854755</td>\n",
       "      <td>False</td>\n",
       "    </tr>\n",
       "    <tr>\n",
       "      <th>Austin_TX</th>\n",
       "      <td>1.443730</td>\n",
       "      <td>False</td>\n",
       "    </tr>\n",
       "    <tr>\n",
       "      <th>Baltimore_MD</th>\n",
       "      <td>0.829841</td>\n",
       "      <td>False</td>\n",
       "    </tr>\n",
       "    <tr>\n",
       "      <th>Boston_MA</th>\n",
       "      <td>1.139998</td>\n",
       "      <td>True</td>\n",
       "    </tr>\n",
       "    <tr>\n",
       "      <th>Chicago_IL</th>\n",
       "      <td>1.028100</td>\n",
       "      <td>False</td>\n",
       "    </tr>\n",
       "    <tr>\n",
       "      <th>Cincinnati_OH</th>\n",
       "      <td>2.437869</td>\n",
       "      <td>True</td>\n",
       "    </tr>\n",
       "    <tr>\n",
       "      <th>Cleveland_OH</th>\n",
       "      <td>1.131003</td>\n",
       "      <td>True</td>\n",
       "    </tr>\n",
       "    <tr>\n",
       "      <th>Dallas_TX</th>\n",
       "      <td>1.296162</td>\n",
       "      <td>False</td>\n",
       "    </tr>\n",
       "    <tr>\n",
       "      <th>Detroit_MI</th>\n",
       "      <td>5.962691</td>\n",
       "      <td>False</td>\n",
       "    </tr>\n",
       "    <tr>\n",
       "      <th>Houston_TX</th>\n",
       "      <td>0.547147</td>\n",
       "      <td>False</td>\n",
       "    </tr>\n",
       "    <tr>\n",
       "      <th>Indianapolis_IN</th>\n",
       "      <td>1.597802</td>\n",
       "      <td>False</td>\n",
       "    </tr>\n",
       "    <tr>\n",
       "      <th>Los Angeles_CA</th>\n",
       "      <td>3.514212</td>\n",
       "      <td>False</td>\n",
       "    </tr>\n",
       "    <tr>\n",
       "      <th>Louisville_KY</th>\n",
       "      <td>1.546014</td>\n",
       "      <td>False</td>\n",
       "    </tr>\n",
       "    <tr>\n",
       "      <th>Memphis_TN</th>\n",
       "      <td>1.641824</td>\n",
       "      <td>False</td>\n",
       "    </tr>\n",
       "    <tr>\n",
       "      <th>Minneapolis_MN</th>\n",
       "      <td>0.702808</td>\n",
       "      <td>False</td>\n",
       "    </tr>\n",
       "    <tr>\n",
       "      <th>Mobile_AL</th>\n",
       "      <td>1.533839</td>\n",
       "      <td>False</td>\n",
       "    </tr>\n",
       "    <tr>\n",
       "      <th>Nashville_TN</th>\n",
       "      <td>0.869509</td>\n",
       "      <td>False</td>\n",
       "    </tr>\n",
       "    <tr>\n",
       "      <th>New York_NY</th>\n",
       "      <td>1.180300</td>\n",
       "      <td>True</td>\n",
       "    </tr>\n",
       "    <tr>\n",
       "      <th>Orlando_FL</th>\n",
       "      <td>0.942279</td>\n",
       "      <td>False</td>\n",
       "    </tr>\n",
       "    <tr>\n",
       "      <th>Phoenix_AZ</th>\n",
       "      <td>1.094154</td>\n",
       "      <td>False</td>\n",
       "    </tr>\n",
       "    <tr>\n",
       "      <th>Portland_OR</th>\n",
       "      <td>2.631040</td>\n",
       "      <td>True</td>\n",
       "    </tr>\n",
       "    <tr>\n",
       "      <th>San Francisco_CA</th>\n",
       "      <td>1.312078</td>\n",
       "      <td>False</td>\n",
       "    </tr>\n",
       "    <tr>\n",
       "      <th>Spokane_WA</th>\n",
       "      <td>1.751151</td>\n",
       "      <td>False</td>\n",
       "    </tr>\n",
       "    <tr>\n",
       "      <th>St. Louis_MO</th>\n",
       "      <td>0.800468</td>\n",
       "      <td>False</td>\n",
       "    </tr>\n",
       "    <tr>\n",
       "      <th>Tampa_FL</th>\n",
       "      <td>2.863532</td>\n",
       "      <td>True</td>\n",
       "    </tr>\n",
       "    <tr>\n",
       "      <th>Washington_DC</th>\n",
       "      <td>1.445901</td>\n",
       "      <td>False</td>\n",
       "    </tr>\n",
       "  </tbody>\n",
       "</table>\n",
       "</div>"
      ],
      "text/plain": [
       "                        ei  label\n",
       "city_state                       \n",
       "Atlanta_GA        0.854755  False\n",
       "Austin_TX         1.443730  False\n",
       "Baltimore_MD      0.829841  False\n",
       "Boston_MA         1.139998   True\n",
       "Chicago_IL        1.028100  False\n",
       "Cincinnati_OH     2.437869   True\n",
       "Cleveland_OH      1.131003   True\n",
       "Dallas_TX         1.296162  False\n",
       "Detroit_MI        5.962691  False\n",
       "Houston_TX        0.547147  False\n",
       "Indianapolis_IN   1.597802  False\n",
       "Los Angeles_CA    3.514212  False\n",
       "Louisville_KY     1.546014  False\n",
       "Memphis_TN        1.641824  False\n",
       "Minneapolis_MN    0.702808  False\n",
       "Mobile_AL         1.533839  False\n",
       "Nashville_TN      0.869509  False\n",
       "New York_NY       1.180300   True\n",
       "Orlando_FL        0.942279  False\n",
       "Phoenix_AZ        1.094154  False\n",
       "Portland_OR       2.631040   True\n",
       "San Francisco_CA  1.312078  False\n",
       "Spokane_WA        1.751151  False\n",
       "St. Louis_MO      0.800468  False\n",
       "Tampa_FL          2.863532   True\n",
       "Washington_DC     1.445901  False"
      ]
     },
     "execution_count": 72,
     "metadata": {},
     "output_type": "execute_result"
    }
   ],
   "source": [
    "predictions"
   ]
  },
  {
   "cell_type": "code",
   "execution_count": 73,
   "metadata": {},
   "outputs": [],
   "source": [
    "city = predictions.reset_index().city_state.str.split(\"_\", n=1, expand=True)[0]\n",
    "\n",
    "state = predictions.reset_index().city_state.str.split(\"_\", n=1, expand=True)[1]"
   ]
  },
  {
   "cell_type": "code",
   "execution_count": 74,
   "metadata": {},
   "outputs": [],
   "source": [
    "predictions = predictions.reset_index()"
   ]
  },
  {
   "cell_type": "code",
   "execution_count": 75,
   "metadata": {},
   "outputs": [],
   "source": [
    "predictions[\"city\"] = city\n",
    "\n",
    "predictions[\"state\"] = state"
   ]
  },
  {
   "cell_type": "code",
   "execution_count": 76,
   "metadata": {},
   "outputs": [
    {
     "data": {
      "text/html": [
       "<div>\n",
       "<style scoped>\n",
       "    .dataframe tbody tr th:only-of-type {\n",
       "        vertical-align: middle;\n",
       "    }\n",
       "\n",
       "    .dataframe tbody tr th {\n",
       "        vertical-align: top;\n",
       "    }\n",
       "\n",
       "    .dataframe thead th {\n",
       "        text-align: right;\n",
       "    }\n",
       "</style>\n",
       "<table border=\"1\" class=\"dataframe\">\n",
       "  <thead>\n",
       "    <tr style=\"text-align: right;\">\n",
       "      <th></th>\n",
       "      <th>city_state</th>\n",
       "      <th>ei</th>\n",
       "      <th>label</th>\n",
       "      <th>city</th>\n",
       "      <th>state</th>\n",
       "    </tr>\n",
       "  </thead>\n",
       "  <tbody>\n",
       "    <tr>\n",
       "      <th>0</th>\n",
       "      <td>Atlanta_GA</td>\n",
       "      <td>0.854755</td>\n",
       "      <td>False</td>\n",
       "      <td>Atlanta</td>\n",
       "      <td>GA</td>\n",
       "    </tr>\n",
       "    <tr>\n",
       "      <th>1</th>\n",
       "      <td>Austin_TX</td>\n",
       "      <td>1.443730</td>\n",
       "      <td>False</td>\n",
       "      <td>Austin</td>\n",
       "      <td>TX</td>\n",
       "    </tr>\n",
       "    <tr>\n",
       "      <th>2</th>\n",
       "      <td>Baltimore_MD</td>\n",
       "      <td>0.829841</td>\n",
       "      <td>False</td>\n",
       "      <td>Baltimore</td>\n",
       "      <td>MD</td>\n",
       "    </tr>\n",
       "    <tr>\n",
       "      <th>3</th>\n",
       "      <td>Boston_MA</td>\n",
       "      <td>1.139998</td>\n",
       "      <td>True</td>\n",
       "      <td>Boston</td>\n",
       "      <td>MA</td>\n",
       "    </tr>\n",
       "    <tr>\n",
       "      <th>4</th>\n",
       "      <td>Chicago_IL</td>\n",
       "      <td>1.028100</td>\n",
       "      <td>False</td>\n",
       "      <td>Chicago</td>\n",
       "      <td>IL</td>\n",
       "    </tr>\n",
       "    <tr>\n",
       "      <th>5</th>\n",
       "      <td>Cincinnati_OH</td>\n",
       "      <td>2.437869</td>\n",
       "      <td>True</td>\n",
       "      <td>Cincinnati</td>\n",
       "      <td>OH</td>\n",
       "    </tr>\n",
       "    <tr>\n",
       "      <th>6</th>\n",
       "      <td>Cleveland_OH</td>\n",
       "      <td>1.131003</td>\n",
       "      <td>True</td>\n",
       "      <td>Cleveland</td>\n",
       "      <td>OH</td>\n",
       "    </tr>\n",
       "    <tr>\n",
       "      <th>7</th>\n",
       "      <td>Dallas_TX</td>\n",
       "      <td>1.296162</td>\n",
       "      <td>False</td>\n",
       "      <td>Dallas</td>\n",
       "      <td>TX</td>\n",
       "    </tr>\n",
       "    <tr>\n",
       "      <th>8</th>\n",
       "      <td>Detroit_MI</td>\n",
       "      <td>5.962691</td>\n",
       "      <td>False</td>\n",
       "      <td>Detroit</td>\n",
       "      <td>MI</td>\n",
       "    </tr>\n",
       "    <tr>\n",
       "      <th>9</th>\n",
       "      <td>Houston_TX</td>\n",
       "      <td>0.547147</td>\n",
       "      <td>False</td>\n",
       "      <td>Houston</td>\n",
       "      <td>TX</td>\n",
       "    </tr>\n",
       "    <tr>\n",
       "      <th>10</th>\n",
       "      <td>Indianapolis_IN</td>\n",
       "      <td>1.597802</td>\n",
       "      <td>False</td>\n",
       "      <td>Indianapolis</td>\n",
       "      <td>IN</td>\n",
       "    </tr>\n",
       "    <tr>\n",
       "      <th>11</th>\n",
       "      <td>Los Angeles_CA</td>\n",
       "      <td>3.514212</td>\n",
       "      <td>False</td>\n",
       "      <td>Los Angeles</td>\n",
       "      <td>CA</td>\n",
       "    </tr>\n",
       "    <tr>\n",
       "      <th>12</th>\n",
       "      <td>Louisville_KY</td>\n",
       "      <td>1.546014</td>\n",
       "      <td>False</td>\n",
       "      <td>Louisville</td>\n",
       "      <td>KY</td>\n",
       "    </tr>\n",
       "    <tr>\n",
       "      <th>13</th>\n",
       "      <td>Memphis_TN</td>\n",
       "      <td>1.641824</td>\n",
       "      <td>False</td>\n",
       "      <td>Memphis</td>\n",
       "      <td>TN</td>\n",
       "    </tr>\n",
       "    <tr>\n",
       "      <th>14</th>\n",
       "      <td>Minneapolis_MN</td>\n",
       "      <td>0.702808</td>\n",
       "      <td>False</td>\n",
       "      <td>Minneapolis</td>\n",
       "      <td>MN</td>\n",
       "    </tr>\n",
       "    <tr>\n",
       "      <th>15</th>\n",
       "      <td>Mobile_AL</td>\n",
       "      <td>1.533839</td>\n",
       "      <td>False</td>\n",
       "      <td>Mobile</td>\n",
       "      <td>AL</td>\n",
       "    </tr>\n",
       "    <tr>\n",
       "      <th>16</th>\n",
       "      <td>Nashville_TN</td>\n",
       "      <td>0.869509</td>\n",
       "      <td>False</td>\n",
       "      <td>Nashville</td>\n",
       "      <td>TN</td>\n",
       "    </tr>\n",
       "    <tr>\n",
       "      <th>17</th>\n",
       "      <td>New York_NY</td>\n",
       "      <td>1.180300</td>\n",
       "      <td>True</td>\n",
       "      <td>New York</td>\n",
       "      <td>NY</td>\n",
       "    </tr>\n",
       "    <tr>\n",
       "      <th>18</th>\n",
       "      <td>Orlando_FL</td>\n",
       "      <td>0.942279</td>\n",
       "      <td>False</td>\n",
       "      <td>Orlando</td>\n",
       "      <td>FL</td>\n",
       "    </tr>\n",
       "    <tr>\n",
       "      <th>19</th>\n",
       "      <td>Phoenix_AZ</td>\n",
       "      <td>1.094154</td>\n",
       "      <td>False</td>\n",
       "      <td>Phoenix</td>\n",
       "      <td>AZ</td>\n",
       "    </tr>\n",
       "    <tr>\n",
       "      <th>20</th>\n",
       "      <td>Portland_OR</td>\n",
       "      <td>2.631040</td>\n",
       "      <td>True</td>\n",
       "      <td>Portland</td>\n",
       "      <td>OR</td>\n",
       "    </tr>\n",
       "    <tr>\n",
       "      <th>21</th>\n",
       "      <td>San Francisco_CA</td>\n",
       "      <td>1.312078</td>\n",
       "      <td>False</td>\n",
       "      <td>San Francisco</td>\n",
       "      <td>CA</td>\n",
       "    </tr>\n",
       "    <tr>\n",
       "      <th>22</th>\n",
       "      <td>Spokane_WA</td>\n",
       "      <td>1.751151</td>\n",
       "      <td>False</td>\n",
       "      <td>Spokane</td>\n",
       "      <td>WA</td>\n",
       "    </tr>\n",
       "    <tr>\n",
       "      <th>23</th>\n",
       "      <td>St. Louis_MO</td>\n",
       "      <td>0.800468</td>\n",
       "      <td>False</td>\n",
       "      <td>St. Louis</td>\n",
       "      <td>MO</td>\n",
       "    </tr>\n",
       "    <tr>\n",
       "      <th>24</th>\n",
       "      <td>Tampa_FL</td>\n",
       "      <td>2.863532</td>\n",
       "      <td>True</td>\n",
       "      <td>Tampa</td>\n",
       "      <td>FL</td>\n",
       "    </tr>\n",
       "    <tr>\n",
       "      <th>25</th>\n",
       "      <td>Washington_DC</td>\n",
       "      <td>1.445901</td>\n",
       "      <td>False</td>\n",
       "      <td>Washington</td>\n",
       "      <td>DC</td>\n",
       "    </tr>\n",
       "  </tbody>\n",
       "</table>\n",
       "</div>"
      ],
      "text/plain": [
       "          city_state        ei  label           city state\n",
       "0         Atlanta_GA  0.854755  False        Atlanta    GA\n",
       "1          Austin_TX  1.443730  False         Austin    TX\n",
       "2       Baltimore_MD  0.829841  False      Baltimore    MD\n",
       "3          Boston_MA  1.139998   True         Boston    MA\n",
       "4         Chicago_IL  1.028100  False        Chicago    IL\n",
       "5      Cincinnati_OH  2.437869   True     Cincinnati    OH\n",
       "6       Cleveland_OH  1.131003   True      Cleveland    OH\n",
       "7          Dallas_TX  1.296162  False         Dallas    TX\n",
       "8         Detroit_MI  5.962691  False        Detroit    MI\n",
       "9         Houston_TX  0.547147  False        Houston    TX\n",
       "10   Indianapolis_IN  1.597802  False   Indianapolis    IN\n",
       "11    Los Angeles_CA  3.514212  False    Los Angeles    CA\n",
       "12     Louisville_KY  1.546014  False     Louisville    KY\n",
       "13        Memphis_TN  1.641824  False        Memphis    TN\n",
       "14    Minneapolis_MN  0.702808  False    Minneapolis    MN\n",
       "15         Mobile_AL  1.533839  False         Mobile    AL\n",
       "16      Nashville_TN  0.869509  False      Nashville    TN\n",
       "17       New York_NY  1.180300   True       New York    NY\n",
       "18        Orlando_FL  0.942279  False        Orlando    FL\n",
       "19        Phoenix_AZ  1.094154  False        Phoenix    AZ\n",
       "20       Portland_OR  2.631040   True       Portland    OR\n",
       "21  San Francisco_CA  1.312078  False  San Francisco    CA\n",
       "22        Spokane_WA  1.751151  False        Spokane    WA\n",
       "23      St. Louis_MO  0.800468  False      St. Louis    MO\n",
       "24          Tampa_FL  2.863532   True          Tampa    FL\n",
       "25     Washington_DC  1.445901  False     Washington    DC"
      ]
     },
     "execution_count": 76,
     "metadata": {},
     "output_type": "execute_result"
    }
   ],
   "source": [
    "predictions"
   ]
  },
  {
   "cell_type": "code",
   "execution_count": 77,
   "metadata": {
    "scrolled": false
   },
   "outputs": [
    {
     "data": {
      "image/png": "[encoded data removed]",
      "text/plain": [
       "<Figure size 1080x360 with 1 Axes>"
      ]
     },
     "metadata": {
      "needs_background": "light"
     },
     "output_type": "display_data"
    }
   ],
   "source": [
    "plt.figure(figsize=(15,5))\n",
    "ax = sns.barplot(data=predictions, x=\"city\", y=\"ei\", hue=\"label\")\n",
    "plt.title(\"What markets will look like in 2021, based on evolution index\")\n",
    "plt.xticks(rotation=45, ha=\"right\")\n",
    "plt.xlabel(\"City\")\n",
    "plt.ylabel(\"Evolution Index (%)\")\n",
    "new_labels = ['Markets to not enter', 'Markets to enter']\n",
    "h, l = ax.get_legend_handles_labels()\n",
    "ax.legend(h, new_labels)\n",
    "plt.show()"
   ]
  }
 ],
 "metadata": {
  "kernelspec": {
   "display_name": "Python 3",
   "language": "python",
   "name": "python3"
  },
  "language_info": {
   "codemirror_mode": {
    "name": "ipython",
    "version": 3
   },
   "file_extension": ".py",
   "mimetype": "text/x-python",
   "name": "python",
   "nbconvert_exporter": "python",
   "pygments_lexer": "ipython3",
   "version": "3.7.4"
  }
 },
 "nbformat": 4,
 "nbformat_minor": 2
}
