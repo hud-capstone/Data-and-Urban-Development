{
 "cells": [
  {
   "cell_type": "markdown",
   "metadata": {},
   "source": [
    "# MVP Notebook Daniel"
   ]
  },
  {
   "cell_type": "code",
   "execution_count": 1,
   "metadata": {},
   "outputs": [],
   "source": [
    "import preprocessing\n",
    "import wrangle\n",
    "import model\n",
    "\n",
    "import pandas as pd\n",
    "import numpy as np\n",
    "\n",
    "import seaborn as sns\n",
    "import matplotlib.pyplot as plt\n",
    "\n",
    "from sklearn.preprocessing import MinMaxScaler\n",
    "from sklearn.metrics import confusion_matrix\n",
    "\n",
    "# ignore warnings\n",
    "import warnings\n",
    "warnings.simplefilter(action='ignore')"
   ]
  },
  {
   "cell_type": "code",
   "execution_count": 2,
   "metadata": {},
   "outputs": [],
   "source": [
    "df = preprocessing.get_model_df()"
   ]
  },
  {
   "cell_type": "code",
   "execution_count": 3,
   "metadata": {},
   "outputs": [],
   "source": [
    "df = preprocessing.add_new_features(df)"
   ]
  },
  {
   "cell_type": "code",
   "execution_count": 4,
   "metadata": {},
   "outputs": [],
   "source": [
    "def filter_top_cities(df):\n",
    "\n",
    "    df[\"city_state\"] = df[\"city\"] + \"_\" + df[\"state\"]\n",
    "\n",
    "    city_mask = df.groupby(\"city_state\").year.count()\n",
    "\n",
    "    city_mask = city_mask[city_mask == 15]\n",
    "\n",
    "    # apply city mask to shrink the df\n",
    "    def in_city_mask(x):\n",
    "        return x in city_mask\n",
    "    df = df[df.city_state.apply(in_city_mask)]\n",
    "\n",
    "    df = df.sort_values([\"city\", \"state\", \"year\"])\n",
    "    \n",
    "    return df"
   ]
  },
  {
   "cell_type": "code",
   "execution_count": 5,
   "metadata": {},
   "outputs": [],
   "source": [
    "df = filter_top_cities(df)"
   ]
  },
  {
   "cell_type": "markdown",
   "metadata": {},
   "source": [
    "## <span style='background :yellow' > Adding the labeling </span>"
   ]
  },
  {
   "cell_type": "code",
   "execution_count": 6,
   "metadata": {},
   "outputs": [],
   "source": [
    "# # Using the Evolution Index as a label:\n",
    "# # For values that are higher than 100% in evolution index.\n",
    "\n",
    "# df[\"ei_label\"] = np.where(df.ei > 1, 1, 0)"
   ]
  },
  {
   "cell_type": "code",
   "execution_count": 7,
   "metadata": {},
   "outputs": [],
   "source": [
    "# using future data to create the labels\n",
    "\n",
    "def labeling_future_data(df):\n",
    "    \"\"\"this function takes in a data frame and returns a boolean column that identifies\n",
    "    if a city_state_year is a market that should be entered\"\"\"\n",
    "    df[\"label_quantity_of_mortgages_pop_2y\"] = (df.sort_values([\"year\"])\n",
    "                                  .groupby([\"city\", \"state\"])[[\"quantity_of_mortgages_pop\"]]\n",
    "                                  .pct_change(2)\n",
    "                                  .shift(-2))\n",
    "    df[\"label_total_mortgage_volume_pop_2y\"] = (df.sort_values([\"year\"])\n",
    "                                  .groupby([\"city\", \"state\"])[[\"total_mortgage_volume_pop\"]]\n",
    "                                  .pct_change(2)\n",
    "                                  .shift(-2))\n",
    "    Q3 = df.label_quantity_of_mortgages_pop_2y.quantile(.75)\n",
    "    Q1 = df.label_quantity_of_mortgages_pop_2y.quantile(.25)\n",
    "    upper_fence_quantity = Q3 + ((Q3-Q1)*1.5)\n",
    "    upper_fence_quantity\n",
    "    Q3 = df.label_total_mortgage_volume_pop_2y.quantile(.75)\n",
    "    Q1 = df.label_total_mortgage_volume_pop_2y.quantile(.25)\n",
    "    upper_fence_volume = Q3 + ((Q3-Q1)*1.5)\n",
    "    upper_fence_volume\n",
    "    df['should_enter'] = (df.label_total_mortgage_volume_pop_2y > upper_fence_volume) | (df.label_quantity_of_mortgages_pop_2y > upper_fence_quantity)\n",
    "    return df"
   ]
  },
  {
   "cell_type": "code",
   "execution_count": 8,
   "metadata": {},
   "outputs": [],
   "source": [
    "df = labeling_future_data(df)"
   ]
  },
  {
   "cell_type": "code",
   "execution_count": 9,
   "metadata": {},
   "outputs": [
    {
     "data": {
      "text/plain": [
       "False    338\n",
       "True      52\n",
       "Name: should_enter, dtype: int64"
      ]
     },
     "execution_count": 9,
     "metadata": {},
     "output_type": "execute_result"
    }
   ],
   "source": [
    "df.should_enter.value_counts()"
   ]
  },
  {
   "cell_type": "code",
   "execution_count": 10,
   "metadata": {},
   "outputs": [
    {
     "name": "stdout",
     "output_type": "stream",
     "text": [
      "<class 'pandas.core.frame.DataFrame'>\n",
      "Int64Index: 390 entries, 1513 to 156\n",
      "Data columns (total 23 columns):\n",
      "city                                  390 non-null object\n",
      "state                                 390 non-null object\n",
      "year                                  390 non-null int64\n",
      "quantity_of_mortgages_pop             390 non-null int64\n",
      "total_mortgage_volume_pop             390 non-null int64\n",
      "average_mortgage_volume_pop           390 non-null float64\n",
      "median_mortgage_amount_pop            390 non-null float64\n",
      "quantity_of_mortgages_nc              180 non-null float64\n",
      "total_mortgage_volume_nc              180 non-null float64\n",
      "average_mortgage_volume_nc            180 non-null float64\n",
      "median_mortgage_amount_nc             180 non-null float64\n",
      "label                                 390 non-null bool\n",
      "city_state_vol_delta_pop              364 non-null float64\n",
      "city_state_vol_delta_nc               310 non-null float64\n",
      "city_state_qty_delta_pop              364 non-null float64\n",
      "city_state_qty_delta_nc               310 non-null float64\n",
      "market_volume                         390 non-null int64\n",
      "market_volume_delta                   364 non-null float64\n",
      "ei                                    364 non-null float64\n",
      "city_state                            390 non-null object\n",
      "label_quantity_of_mortgages_pop_2y    338 non-null float64\n",
      "label_total_mortgage_volume_pop_2y    338 non-null float64\n",
      "should_enter                          390 non-null bool\n",
      "dtypes: bool(2), float64(14), int64(4), object(3)\n",
      "memory usage: 67.8+ KB\n"
     ]
    }
   ],
   "source": [
    "df.info()"
   ]
  },
  {
   "cell_type": "code",
   "execution_count": 11,
   "metadata": {},
   "outputs": [],
   "source": [
    "from sklearn.model_selection import cross_val_score, train_test_split, GridSearchCV"
   ]
  },
  {
   "cell_type": "code",
   "execution_count": 12,
   "metadata": {},
   "outputs": [],
   "source": [
    "def train_test_data(df):\n",
    "    train, test = train_test_split(df, train_size=.75, random_state=123)\n",
    "    return train, test\n",
    "\n",
    "#__Main Pre-modeling function__#\n",
    "def prep_data_for_modeling(df, features_for_modeling, label_feature):\n",
    "\n",
    "    # To avoid Nan's, I have removed all data from 2006 (because all the var's would be nan)\n",
    "    df_model = df[df.year > 2007]\n",
    "\n",
    "    # Create an observation id to reduce the chance of mistake's\n",
    "    df_model[\"observation_id\"] = df_model.city + \"_\" + df_model.state + \"_\"  + df_model.year.astype(str)\n",
    "\n",
    "    # select that features that we want to model, and use our observation id as the row id\n",
    "    features_for_modeling += [\"observation_id\"]\n",
    "    features_for_modeling += [label_feature]\n",
    "    data = df_model[features_for_modeling].set_index(\"observation_id\")\n",
    "\n",
    "    train, test = train_test_data(data)\n",
    "    train = train.sort_values(\"observation_id\")\n",
    "    test = test.sort_values(\"observation_id\")\n",
    "\n",
    "    X_train = train.drop(columns=label_feature)\n",
    "    y_train = train[label_feature]\n",
    "    X_test = test.drop(columns=label_feature)\n",
    "    y_test = test[label_feature]\n",
    "\n",
    "    return X_train, y_train, X_test, y_test"
   ]
  },
  {
   "cell_type": "code",
   "execution_count": 20,
   "metadata": {
    "scrolled": true
   },
   "outputs": [],
   "source": [
    "features_for_modeling = [\"quantity_of_mortgages_pop\", \"city_state_qty_delta_pop\", \"ei\", \"median_mortgage_amount_pop\"]\n",
    "label_feature = \"should_enter\"\n",
    "X_train, y_train, X_test, y_test = prep_data_for_modeling(df, features_for_modeling, label_feature)"
   ]
  },
  {
   "cell_type": "code",
   "execution_count": 21,
   "metadata": {},
   "outputs": [],
   "source": [
    "# Helper function used to updated the scaled arrays and transform them into usable dataframes\n",
    "def return_values(scaler, train, test):\n",
    "    train_scaled = pd.DataFrame(scaler.transform(train), columns=train.columns.values).set_index([train.index.values])\n",
    "    test_scaled = pd.DataFrame(scaler.transform(test), columns=test.columns.values).set_index([test.index.values])\n",
    "    return scaler, train_scaled, test_scaled\n",
    "\n",
    "# Linear scaler\n",
    "def min_max_scaler(train, test):\n",
    "    scaler = MinMaxScaler().fit(train)\n",
    "    scaler, train_scaled, test_scaled = return_values(scaler, train , test)\n",
    "    return scaler, train_scaled, test_scaled"
   ]
  },
  {
   "cell_type": "code",
   "execution_count": 22,
   "metadata": {},
   "outputs": [],
   "source": [
    "# Scaler is ready - in case we need it\n",
    "\n",
    "scaler, train_scaled, test_scaled = min_max_scaler(X_train, X_test)"
   ]
  },
  {
   "cell_type": "code",
   "execution_count": 23,
   "metadata": {
    "scrolled": true
   },
   "outputs": [],
   "source": [
    "assert(train_scaled.shape[1] == test_scaled.shape[1])"
   ]
  },
  {
   "cell_type": "code",
   "execution_count": 24,
   "metadata": {
    "scrolled": true
   },
   "outputs": [
    {
     "data": {
      "text/html": [
       "<div>\n",
       "<style scoped>\n",
       "    .dataframe tbody tr th:only-of-type {\n",
       "        vertical-align: middle;\n",
       "    }\n",
       "\n",
       "    .dataframe tbody tr th {\n",
       "        vertical-align: top;\n",
       "    }\n",
       "\n",
       "    .dataframe thead th {\n",
       "        text-align: right;\n",
       "    }\n",
       "</style>\n",
       "<table border=\"1\" class=\"dataframe\">\n",
       "  <thead>\n",
       "    <tr style=\"text-align: right;\">\n",
       "      <th></th>\n",
       "      <th>quantity_of_mortgages_pop</th>\n",
       "      <th>city_state_qty_delta_pop</th>\n",
       "      <th>ei</th>\n",
       "      <th>median_mortgage_amount_pop</th>\n",
       "    </tr>\n",
       "  </thead>\n",
       "  <tbody>\n",
       "    <tr>\n",
       "      <th>Atlanta_GA_2008</th>\n",
       "      <td>0.021739</td>\n",
       "      <td>0.010172</td>\n",
       "      <td>0.006617</td>\n",
       "      <td>0.033455</td>\n",
       "    </tr>\n",
       "    <tr>\n",
       "      <th>Atlanta_GA_2009</th>\n",
       "      <td>0.173913</td>\n",
       "      <td>0.341549</td>\n",
       "      <td>0.115067</td>\n",
       "      <td>0.046596</td>\n",
       "    </tr>\n",
       "    <tr>\n",
       "      <th>Atlanta_GA_2010</th>\n",
       "      <td>0.217391</td>\n",
       "      <td>0.087637</td>\n",
       "      <td>0.018195</td>\n",
       "      <td>0.056728</td>\n",
       "    </tr>\n",
       "    <tr>\n",
       "      <th>Atlanta_GA_2011</th>\n",
       "      <td>0.195652</td>\n",
       "      <td>0.063380</td>\n",
       "      <td>0.020376</td>\n",
       "      <td>0.045856</td>\n",
       "    </tr>\n",
       "    <tr>\n",
       "      <th>Atlanta_GA_2012</th>\n",
       "      <td>0.239130</td>\n",
       "      <td>0.085915</td>\n",
       "      <td>0.021430</td>\n",
       "      <td>0.031960</td>\n",
       "    </tr>\n",
       "  </tbody>\n",
       "</table>\n",
       "</div>"
      ],
      "text/plain": [
       "                 quantity_of_mortgages_pop  city_state_qty_delta_pop  \\\n",
       "Atlanta_GA_2008                   0.021739                  0.010172   \n",
       "Atlanta_GA_2009                   0.173913                  0.341549   \n",
       "Atlanta_GA_2010                   0.217391                  0.087637   \n",
       "Atlanta_GA_2011                   0.195652                  0.063380   \n",
       "Atlanta_GA_2012                   0.239130                  0.085915   \n",
       "\n",
       "                       ei  median_mortgage_amount_pop  \n",
       "Atlanta_GA_2008  0.006617                    0.033455  \n",
       "Atlanta_GA_2009  0.115067                    0.046596  \n",
       "Atlanta_GA_2010  0.018195                    0.056728  \n",
       "Atlanta_GA_2011  0.020376                    0.045856  \n",
       "Atlanta_GA_2012  0.021430                    0.031960  "
      ]
     },
     "execution_count": 24,
     "metadata": {},
     "output_type": "execute_result"
    }
   ],
   "source": [
    "train_scaled.head()"
   ]
  },
  {
   "cell_type": "code",
   "execution_count": 25,
   "metadata": {},
   "outputs": [
    {
     "data": {
      "text/plain": [
       "quantity_of_mortgages_pop     0\n",
       "city_state_qty_delta_pop      0\n",
       "ei                            0\n",
       "median_mortgage_amount_pop    0\n",
       "dtype: int64"
      ]
     },
     "execution_count": 25,
     "metadata": {},
     "output_type": "execute_result"
    }
   ],
   "source": [
    "train_scaled.isnull().sum()"
   ]
  },
  {
   "cell_type": "code",
   "execution_count": 26,
   "metadata": {
    "scrolled": false
   },
   "outputs": [
    {
     "name": "stdout",
     "output_type": "stream",
     "text": [
      "{'criterion': 'gini', 'max_depth': 4, 'score': 0.3333333333333333}\n"
     ]
    }
   ],
   "source": [
    "grid, df_result, best_model = model.run_decision_tree(train_scaled, y_train)"
   ]
  },
  {
   "cell_type": "code",
   "execution_count": 27,
   "metadata": {},
   "outputs": [
    {
     "name": "stdout",
     "output_type": "stream",
     "text": [
      "{'max_depth': 9, 'min_samples_leaf': 1, 'score': 0.075}\n"
     ]
    }
   ],
   "source": [
    "grid, df_result, best_model = model.run_random_forest(train_scaled, y_train)"
   ]
  },
  {
   "cell_type": "code",
   "execution_count": 28,
   "metadata": {
    "scrolled": false
   },
   "outputs": [
    {
     "name": "stdout",
     "output_type": "stream",
     "text": [
      "{'n_neighbors': 1, 'weights': 'uniform', 'score': 0.2}\n"
     ]
    }
   ],
   "source": [
    "grid, df_result, best_model = model.run_knn(train_scaled, y_train)"
   ]
  },
  {
   "cell_type": "markdown",
   "metadata": {},
   "source": [
    "----\n",
    "\n",
    "# Evaluation"
   ]
  },
  {
   "cell_type": "code",
   "execution_count": 29,
   "metadata": {
    "scrolled": false
   },
   "outputs": [
    {
     "name": "stdout",
     "output_type": "stream",
     "text": [
      "{'criterion': 'gini', 'max_depth': 7, 'score': 0.3333333333333333}\n"
     ]
    }
   ],
   "source": [
    "grid, df_result, best_model = model.run_decision_tree(train_scaled, y_train)"
   ]
  },
  {
   "cell_type": "code",
   "execution_count": 30,
   "metadata": {},
   "outputs": [],
   "source": [
    "y_pred = best_model.predict(train_scaled)"
   ]
  },
  {
   "cell_type": "code",
   "execution_count": 31,
   "metadata": {},
   "outputs": [],
   "source": [
    "labels = sorted(y_train.unique())\n",
    "matrix = pd.DataFrame(confusion_matrix(y_train, y_pred), index = labels, columns = labels)"
   ]
  },
  {
   "cell_type": "code",
   "execution_count": 32,
   "metadata": {},
   "outputs": [],
   "source": [
    "from sklearn.metrics import recall_score"
   ]
  },
  {
   "cell_type": "code",
   "execution_count": 33,
   "metadata": {
    "scrolled": true
   },
   "outputs": [
    {
     "data": {
      "text/plain": [
       "0.717948717948718"
      ]
     },
     "execution_count": 33,
     "metadata": {},
     "output_type": "execute_result"
    }
   ],
   "source": [
    "recall_score(y_train, y_pred)"
   ]
  },
  {
   "cell_type": "code",
   "execution_count": 34,
   "metadata": {
    "scrolled": false
   },
   "outputs": [
    {
     "name": "stdout",
     "output_type": "stream",
     "text": [
      "       False  True \n",
      "False    214      0\n",
      "True      11     28\n"
     ]
    }
   ],
   "source": [
    "print(matrix)"
   ]
  },
  {
   "cell_type": "code",
   "execution_count": 35,
   "metadata": {},
   "outputs": [
    {
     "data": {
      "text/plain": [
       "0.8235294117647058"
      ]
     },
     "execution_count": 35,
     "metadata": {},
     "output_type": "execute_result"
    }
   ],
   "source": [
    "best_model.score(test_scaled, y_test)"
   ]
  },
  {
   "cell_type": "code",
   "execution_count": 36,
   "metadata": {},
   "outputs": [],
   "source": [
    "y_pred = best_model.predict(test_scaled)"
   ]
  },
  {
   "cell_type": "code",
   "execution_count": 37,
   "metadata": {},
   "outputs": [],
   "source": [
    "labels = sorted(y_train.unique())\n",
    "matrix = pd.DataFrame(confusion_matrix(y_test, y_pred), index = labels, columns = labels)"
   ]
  },
  {
   "cell_type": "code",
   "execution_count": 38,
   "metadata": {},
   "outputs": [
    {
     "data": {
      "text/plain": [
       "0.3076923076923077"
      ]
     },
     "execution_count": 38,
     "metadata": {},
     "output_type": "execute_result"
    }
   ],
   "source": [
    "recall_score(y_test, y_pred)"
   ]
  },
  {
   "cell_type": "code",
   "execution_count": 39,
   "metadata": {},
   "outputs": [
    {
     "name": "stdout",
     "output_type": "stream",
     "text": [
      "       False  True \n",
      "False     66      6\n",
      "True       9      4\n"
     ]
    }
   ],
   "source": [
    "print(matrix)"
   ]
  },
  {
   "cell_type": "markdown",
   "metadata": {},
   "source": [
    "----\n",
    "\n",
    "# Prediction"
   ]
  },
  {
   "cell_type": "code",
   "execution_count": null,
   "metadata": {},
   "outputs": [],
   "source": [
    "model_df = preprocessing.get_model_df()\n",
    "\n",
    "df[\"city_state\"] = df[\"city\"] + \"_\" + df[\"state\"]\n",
    "\n",
    "city_mask = df.groupby(\"city_state\").year.count()\n",
    "\n",
    "city_mask = city_mask[city_mask == 15]\n",
    "\n",
    "# apply city mask to shrink the df\n",
    "def in_city_mask(x):\n",
    "    return x in city_mask\n",
    "df = df[df.city_state.apply(in_city_mask)]\n",
    "\n",
    "df = preprocessing.add_new_features(df)\n",
    "\n",
    "df = df.sort_values([\"city\", \"state\", \"year\"])"
   ]
  },
  {
   "cell_type": "code",
   "execution_count": null,
   "metadata": {},
   "outputs": [],
   "source": [
    "df.head()"
   ]
  },
  {
   "cell_type": "code",
   "execution_count": null,
   "metadata": {},
   "outputs": [],
   "source": [
    "features_for_predicting = [\"city_state_qty_delta_pop\",\"total_mortgage_volume_pop\", \"ei\", \"median_mortgage_amount_pop\"]"
   ]
  },
  {
   "cell_type": "code",
   "execution_count": null,
   "metadata": {
    "scrolled": false
   },
   "outputs": [],
   "source": [
    "predictions = df[(df.year == 2020) | (df.year == 2019)].groupby(\"city_state\")[features_for_predicting].mean()\n",
    "predictions"
   ]
  },
  {
   "cell_type": "code",
   "execution_count": null,
   "metadata": {},
   "outputs": [],
   "source": [
    "# Helper function used to updated the scaled arrays and transform them into usable dataframes\n",
    "def return_values_prediction(scaler, df):\n",
    "    train_scaled = pd.DataFrame(scaler.transform(df), columns=df.columns.values).set_index([df.index.values])\n",
    "    return scaler, train_scaled\n",
    "\n",
    "# Linear scaler\n",
    "def min_max_scaler_prediction(df):\n",
    "    scaler = MinMaxScaler().fit(df)\n",
    "    scaler, df_scaled = return_values_prediction(scaler, df)\n",
    "    return scaler, df_scaled"
   ]
  },
  {
   "cell_type": "code",
   "execution_count": null,
   "metadata": {
    "scrolled": true
   },
   "outputs": [],
   "source": [
    "scaler, predictions_scaled = min_max_scaler_prediction(predictions)"
   ]
  },
  {
   "cell_type": "code",
   "execution_count": null,
   "metadata": {},
   "outputs": [],
   "source": [
    "predictions[\"label\"] = best_model.predict(predictions_scaled)"
   ]
  },
  {
   "cell_type": "code",
   "execution_count": null,
   "metadata": {},
   "outputs": [],
   "source": [
    "predictions"
   ]
  },
  {
   "cell_type": "code",
   "execution_count": null,
   "metadata": {},
   "outputs": [],
   "source": [
    "city = predictions.reset_index().city_state.str.split(\"_\", n=1, expand=True)[0]\n",
    "\n",
    "state = predictions.reset_index().city_state.str.split(\"_\", n=1, expand=True)[1]"
   ]
  },
  {
   "cell_type": "code",
   "execution_count": null,
   "metadata": {},
   "outputs": [],
   "source": [
    "predictions = predictions.reset_index()"
   ]
  },
  {
   "cell_type": "code",
   "execution_count": null,
   "metadata": {},
   "outputs": [],
   "source": [
    "predictions[\"city\"] = city\n",
    "\n",
    "predictions[\"state\"] = state"
   ]
  },
  {
   "cell_type": "code",
   "execution_count": null,
   "metadata": {},
   "outputs": [],
   "source": [
    "predictions"
   ]
  },
  {
   "cell_type": "code",
   "execution_count": null,
   "metadata": {
    "scrolled": false
   },
   "outputs": [],
   "source": [
    "plt.figure(figsize=(15,5))\n",
    "ax = sns.barplot(data=predictions, x=\"city\", y=\"ei\", hue=\"label\")\n",
    "plt.title(\"What markets will look like in 2021, based on evolution index\")\n",
    "plt.xticks(rotation=45, ha=\"right\")\n",
    "plt.xlabel(\"City\")\n",
    "plt.ylabel(\"Evolution Index (%)\")\n",
    "new_labels = ['Markets to not enter', 'Markets to enter']\n",
    "h, l = ax.get_legend_handles_labels()\n",
    "ax.legend(h, new_labels)\n",
    "plt.show()"
   ]
  }
 ],
 "metadata": {
  "kernelspec": {
   "display_name": "Python 3",
   "language": "python",
   "name": "python3"
  },
  "language_info": {
   "codemirror_mode": {
    "name": "ipython",
    "version": 3
   },
   "file_extension": ".py",
   "mimetype": "text/x-python",
   "name": "python",
   "nbconvert_exporter": "python",
   "pygments_lexer": "ipython3",
   "version": "3.7.4"
  }
 },
 "nbformat": 4,
 "nbformat_minor": 2
}
